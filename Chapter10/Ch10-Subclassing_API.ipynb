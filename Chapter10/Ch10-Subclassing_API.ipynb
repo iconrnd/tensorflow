{
 "cells": [
  {
   "cell_type": "markdown",
   "id": "e36988f2",
   "metadata": {},
   "source": [
    "## Regression using the subclassing API\n",
    "* ### Model saving and restoring\n",
    "* ### Using Callbacks"
   ]
  },
  {
   "cell_type": "code",
   "execution_count": 1,
   "id": "f06b5e16",
   "metadata": {},
   "outputs": [],
   "source": [
    "import warnings\n",
    "warnings.filterwarnings('ignore')"
   ]
  },
  {
   "cell_type": "code",
   "execution_count": null,
   "id": "5473693b-f025-4951-8e9b-4225aa505a0d",
   "metadata": {
    "scrolled": true
   },
   "outputs": [],
   "source": [
    "import tensorflow as tf\n",
    "import tensorflow.keras as K\n",
    "import numpy as np\n",
    "import pandas as pd\n",
    "import matplotlib.pyplot as plt\n",
    "\n",
    "tf.config.list_physical_devices('GPU')"
   ]
  },
  {
   "cell_type": "markdown",
   "id": "1c559dc6-b3d9-4a52-81a7-860c8f5597fc",
   "metadata": {},
   "source": [
    "## Boston Housing regression dataset"
   ]
  },
  {
   "cell_type": "code",
   "execution_count": 4,
   "id": "3ae486bf",
   "metadata": {},
   "outputs": [],
   "source": [
    "boston_housing=tf.keras.datasets.boston_housing.load_data(\n",
    "    path=\"boston_housing.npz\", test_split=0.2, seed=113\n",
    ")"
   ]
  },
  {
   "cell_type": "code",
   "execution_count": 5,
   "id": "d425c8d7",
   "metadata": {},
   "outputs": [],
   "source": [
    "(X_train_full, y_train_full), (X_test, y_test) = boston_housing"
   ]
  },
  {
   "cell_type": "code",
   "execution_count": 6,
   "id": "b8974121",
   "metadata": {},
   "outputs": [
    {
     "data": {
      "text/plain": [
       "(404, 13)"
      ]
     },
     "execution_count": 6,
     "metadata": {},
     "output_type": "execute_result"
    }
   ],
   "source": [
    "X_train_full.shape"
   ]
  },
  {
   "cell_type": "code",
   "execution_count": 7,
   "id": "3ecb2acb",
   "metadata": {},
   "outputs": [],
   "source": [
    "X_train, y_train = X_train_full[:-50], y_train_full[:-50]\n",
    "X_valid, y_valid = X_train_full[-50:], y_train_full[-50:]\n",
    "\n",
    "X_new=X_test[:3]\n",
    "y_new=y_test[:3]"
   ]
  },
  {
   "cell_type": "code",
   "execution_count": 8,
   "id": "2e9619e4",
   "metadata": {},
   "outputs": [],
   "source": [
    "tf.random.set_seed(42)"
   ]
  },
  {
   "cell_type": "markdown",
   "id": "1622215b",
   "metadata": {},
   "source": [
    "# Model definition with subclass API "
   ]
  },
  {
   "cell_type": "code",
   "execution_count": 9,
   "id": "f42ab495",
   "metadata": {},
   "outputs": [],
   "source": [
    "class WideAndDeepModel(K.Model):\n",
    "    def __init__(self, units=30, activation='relu', **kwargs):\n",
    "        super().__init__(**kwargs)\n",
    "        self.norm_layer_wide=K.layers.Normalization()\n",
    "        self.norm_layer_deep=K.layers.Normalization()\n",
    "        self.hidden_layer1=K.layers.Dense(units, activation=activation)\n",
    "        self.hidden_layer2=K.layers.Dense(units, activation=activation)\n",
    "        self.main_output=K.layers.Dense(1, name='main_output')\n",
    "        self.aux_output=K.layers.Dense(1, name='aux_output')\n",
    "        \n",
    "    def call(self, inputs):\n",
    "        input_wide=inputs[0]\n",
    "        input_deep=inputs[1]\n",
    "        norm_wide=self.norm_layer_wide(input_wide)\n",
    "        norm_deep=self.norm_layer_deep(input_deep)\n",
    "        hidden1=self.hidden_layer1(norm_deep)\n",
    "        hidden2=self.hidden_layer2(hidden1)\n",
    "        concat=K.layers.concatenate([norm_wide, hidden2])\n",
    "        \n",
    "        return {'main_output':self.main_output(concat), 'aux_output':self.aux_output(hidden2)}\n",
    "        "
   ]
  },
  {
   "cell_type": "markdown",
   "id": "7c275a91",
   "metadata": {},
   "source": [
    "## Model instance"
   ]
  },
  {
   "cell_type": "code",
   "execution_count": null,
   "id": "abfc62b6",
   "metadata": {},
   "outputs": [],
   "source": [
    "model=WideAndDeepModel(30, activation='relu', name='my_cool_model')"
   ]
  },
  {
   "cell_type": "code",
   "execution_count": 11,
   "id": "bfb87ea5",
   "metadata": {},
   "outputs": [
    {
     "data": {
      "text/plain": [
       "[<keras.layers.preprocessing.normalization.Normalization at 0x7f84339b8190>,\n",
       " <keras.layers.preprocessing.normalization.Normalization at 0x7f84339b8df0>,\n",
       " <keras.layers.core.dense.Dense at 0x7f843391f100>,\n",
       " <keras.layers.core.dense.Dense at 0x7f843391f2b0>,\n",
       " <keras.layers.core.dense.Dense at 0x7f843391f610>,\n",
       " <keras.layers.core.dense.Dense at 0x7f843391f9d0>]"
      ]
     },
     "execution_count": 11,
     "metadata": {},
     "output_type": "execute_result"
    }
   ],
   "source": [
    "model.layers"
   ]
  },
  {
   "cell_type": "markdown",
   "id": "dec68123",
   "metadata": {},
   "source": [
    "# Model training"
   ]
  },
  {
   "cell_type": "code",
   "execution_count": 12,
   "id": "7b83682c",
   "metadata": {},
   "outputs": [],
   "source": [
    "optimizer=K.optimizers.Adam(lr=1e-3)"
   ]
  },
  {
   "cell_type": "code",
   "execution_count": 13,
   "id": "548e3958",
   "metadata": {},
   "outputs": [],
   "source": [
    "loss_dict={'main_output':'mse',\n",
    "            'aux_output':'mse'}\n",
    "\n",
    "loss_weights_dict={'main_output':0.9,\n",
    "                   'aux_output':0.1}"
   ]
  },
  {
   "cell_type": "code",
   "execution_count": 14,
   "id": "13f97161",
   "metadata": {},
   "outputs": [],
   "source": [
    "model.compile(loss=loss_dict,\n",
    "              loss_weights=loss_weights_dict,\n",
    "              optimizer=optimizer,\n",
    "              metrics=[\"RootMeanSquaredError\"])"
   ]
  },
  {
   "cell_type": "markdown",
   "id": "9bda62fc",
   "metadata": {},
   "source": [
    "## Multiple inputs and targets data split and passing as dicts for named model inputs"
   ]
  },
  {
   "cell_type": "code",
   "execution_count": 15,
   "id": "cb326ad1",
   "metadata": {},
   "outputs": [],
   "source": [
    "X_train_wide, X_train_deep=X_train[:, :5], X_train[:, 5:]\n",
    "X_valid_wide, X_valid_deep=X_valid[:, :5], X_valid[:, 5:]\n",
    "X_test_wide, X_test_deep=X_test[:, :5], X_test[:, 5:]\n",
    "\n",
    "X_new_wide, X_new_deep=X_test_wide[:3], X_test_deep[:3]\n",
    "y_new=y_test[:3]\n",
    "\n",
    "#input_dict={'input_wide':X_train_wide, 'input_deep':X_train_deep}\n",
    "#input_valid_dict={'input_wide':X_valid_wide, 'input_deep':X_valid_deep}\n",
    "\n",
    "target_dict={'main_output':y_train, 'aux_output':y_train}\n",
    "target_valid_dict={'main_output':y_valid, 'aux_output':y_valid}\n",
    "\n",
    "#input_test_dict={'input_wide':X_test_wide, 'input_deep':X_test_deep}\n",
    "target_test_dict={'main_output':y_test, 'aux_output':y_test}\n",
    "\n",
    "#X_new_dict={'input_wide':X_new_wide, 'input_deep':X_new_deep}"
   ]
  },
  {
   "cell_type": "markdown",
   "id": "be23ac8e-8d44-44da-bc0a-cfe668754870",
   "metadata": {},
   "source": [
    "## Normalization() layers adaptation"
   ]
  },
  {
   "cell_type": "code",
   "execution_count": 16,
   "id": "e9abd894",
   "metadata": {},
   "outputs": [],
   "source": [
    "model.norm_layer_wide.adapt(X_train_wide)\n",
    "model.norm_layer_deep.adapt(X_train_deep)"
   ]
  },
  {
   "cell_type": "markdown",
   "id": "612fd3ab-ad30-4580-b075-312cd16c20b0",
   "metadata": {},
   "source": [
    "## Training"
   ]
  },
  {
   "cell_type": "code",
   "execution_count": 17,
   "id": "8ffe9346",
   "metadata": {},
   "outputs": [
    {
     "name": "stdout",
     "output_type": "stream",
     "text": [
      "Epoch 1/3\n",
      " 1/12 [=>............................] - ETA: 14s - loss: 499.6737 - aux_output_loss: 541.9780 - main_output_loss: 494.9732 - aux_output_root_mean_squared_error: 23.2804 - main_output_root_mean_squared_error: 22.2480"
     ]
    },
    {
     "name": "stderr",
     "output_type": "stream",
     "text": [
      "2023-06-12 18:53:16.699643: I tensorflow/stream_executor/cuda/cuda_blas.cc:1614] TensorFloat-32 will be used for the matrix multiplication. This will only be logged once.\n"
     ]
    },
    {
     "name": "stdout",
     "output_type": "stream",
     "text": [
      "12/12 [==============================] - 2s 18ms/step - loss: 562.7211 - aux_output_loss: 609.8820 - main_output_loss: 557.4811 - aux_output_root_mean_squared_error: 24.6958 - main_output_root_mean_squared_error: 23.6110 - val_loss: 521.6600 - val_aux_output_loss: 581.9895 - val_main_output_loss: 514.9567 - val_aux_output_root_mean_squared_error: 24.1245 - val_main_output_root_mean_squared_error: 22.6927\n",
      "Epoch 2/3\n",
      "12/12 [==============================] - 0s 4ms/step - loss: 541.5157 - aux_output_loss: 610.8641 - main_output_loss: 533.8104 - aux_output_root_mean_squared_error: 24.7157 - main_output_root_mean_squared_error: 23.1043 - val_loss: 499.6144 - val_aux_output_loss: 582.4955 - val_main_output_loss: 490.4054 - val_aux_output_root_mean_squared_error: 24.1349 - val_main_output_root_mean_squared_error: 22.1451\n",
      "Epoch 3/3\n",
      "12/12 [==============================] - 0s 4ms/step - loss: 516.4127 - aux_output_loss: 611.3945 - main_output_loss: 505.8593 - aux_output_root_mean_squared_error: 24.7264 - main_output_root_mean_squared_error: 22.4913 - val_loss: 473.4845 - val_aux_output_loss: 582.1164 - val_main_output_loss: 461.4142 - val_aux_output_root_mean_squared_error: 24.1271 - val_main_output_root_mean_squared_error: 21.4806\n"
     ]
    }
   ],
   "source": [
    "history = model.fit((X_train_wide, X_train_deep),\n",
    "                    target_dict,\n",
    "                    epochs=3,\n",
    "                    validation_data=((X_valid_wide, X_valid_deep), target_valid_dict))"
   ]
  },
  {
   "cell_type": "markdown",
   "id": "dbb072e4",
   "metadata": {},
   "source": [
    "## Model evaluation"
   ]
  },
  {
   "cell_type": "code",
   "execution_count": 18,
   "id": "cbf90d3d",
   "metadata": {},
   "outputs": [
    {
     "data": {
      "text/plain": [
       "{'verbose': 1, 'epochs': 3, 'steps': 12}"
      ]
     },
     "execution_count": 18,
     "metadata": {},
     "output_type": "execute_result"
    }
   ],
   "source": [
    "history.params"
   ]
  },
  {
   "cell_type": "code",
   "execution_count": 19,
   "id": "ffccef76",
   "metadata": {
    "scrolled": true
   },
   "outputs": [
    {
     "data": {
      "text/plain": [
       "<Axes: >"
      ]
     },
     "execution_count": 19,
     "metadata": {},
     "output_type": "execute_result"
    },
    {
     "data": {
      "image/png": "[encoded data removed]",
      "text/plain": [
       "<Figure size 640x480 with 1 Axes>"
      ]
     },
     "metadata": {},
     "output_type": "display_data"
    }
   ],
   "source": [
    "pd.DataFrame(history.history).plot()"
   ]
  },
  {
   "cell_type": "code",
   "execution_count": 20,
   "id": "09c1c8cd",
   "metadata": {},
   "outputs": [],
   "source": [
    "# Nice fotmatting example\n",
    "\n",
    "#pd.DataFrame(history.history).plot(figsize=(8, 5),\n",
    "#                                  xlim=[0, history.params['epochs']],\n",
    "#                                  #ylim=[0, 1],\n",
    "#                                  grid=True,\n",
    "#                                  xlabel='Epoch',\n",
    "#                                  style=[\"r--\", \"r--.\", \"b-\", \"b-*\"])\n",
    "#plt.show()"
   ]
  },
  {
   "cell_type": "code",
   "execution_count": 21,
   "id": "c95e898c",
   "metadata": {},
   "outputs": [
    {
     "name": "stdout",
     "output_type": "stream",
     "text": [
      "4/4 [==============================] - 0s 2ms/step - loss: 521.8596 - aux_output_loss: 635.6313 - main_output_loss: 509.2183 - aux_output_root_mean_squared_error: 25.2117 - main_output_root_mean_squared_error: 22.5659\n"
     ]
    }
   ],
   "source": [
    "eval_results=model.evaluate((X_test_wide, X_test_deep),\n",
    "                           target_test_dict,\n",
    "                           return_dict=True)"
   ]
  },
  {
   "cell_type": "code",
   "execution_count": 22,
   "id": "3e94de55",
   "metadata": {},
   "outputs": [
    {
     "data": {
      "text/plain": [
       "dict_keys(['loss', 'aux_output_loss', 'main_output_loss', 'aux_output_root_mean_squared_error', 'main_output_root_mean_squared_error'])"
      ]
     },
     "execution_count": 22,
     "metadata": {},
     "output_type": "execute_result"
    }
   ],
   "source": [
    "eval_results.keys()"
   ]
  },
  {
   "cell_type": "code",
   "execution_count": 23,
   "id": "28607b52",
   "metadata": {},
   "outputs": [
    {
     "data": {
      "text/plain": [
       "{'loss': 521.859619140625,\n",
       " 'aux_output_loss': 635.63134765625,\n",
       " 'main_output_loss': 509.21832275390625,\n",
       " 'aux_output_root_mean_squared_error': 25.21173095703125,\n",
       " 'main_output_root_mean_squared_error': 22.565866470336914}"
      ]
     },
     "execution_count": 23,
     "metadata": {},
     "output_type": "execute_result"
    }
   ],
   "source": [
    "eval_results"
   ]
  },
  {
   "cell_type": "code",
   "execution_count": 24,
   "id": "a0a5223d",
   "metadata": {},
   "outputs": [
    {
     "name": "stdout",
     "output_type": "stream",
     "text": [
      "1/1 [==============================] - 0s 81ms/step\n"
     ]
    }
   ],
   "source": [
    "y_pred_tuple=model.predict((X_new_wide, X_new_deep))"
   ]
  },
  {
   "cell_type": "code",
   "execution_count": 25,
   "id": "d88d185c",
   "metadata": {},
   "outputs": [
    {
     "data": {
      "text/plain": [
       "{'main_output': array([[5.2322674],\n",
       "        [1.5901372],\n",
       "        [2.1565557]], dtype=float32),\n",
       " 'aux_output': array([[-1.0290345 ],\n",
       "        [-0.28648648],\n",
       "        [-0.2742954 ]], dtype=float32)}"
      ]
     },
     "execution_count": 25,
     "metadata": {},
     "output_type": "execute_result"
    }
   ],
   "source": [
    "y_pred_tuple"
   ]
  },
  {
   "cell_type": "code",
   "execution_count": 26,
   "id": "c6192ee1",
   "metadata": {
    "scrolled": true
   },
   "outputs": [
    {
     "data": {
      "text/plain": [
       "array([ 7.2, 18.8, 19. ])"
      ]
     },
     "execution_count": 26,
     "metadata": {},
     "output_type": "execute_result"
    }
   ],
   "source": [
    "y_new"
   ]
  },
  {
   "cell_type": "code",
   "execution_count": 27,
   "id": "69044ad8",
   "metadata": {},
   "outputs": [
    {
     "data": {
      "text/plain": [
       "{'main_output': 'mse', 'aux_output': 'mse'}"
      ]
     },
     "execution_count": 27,
     "metadata": {},
     "output_type": "execute_result"
    }
   ],
   "source": [
    "# Model loss outputs\n",
    "model.loss"
   ]
  },
  {
   "cell_type": "markdown",
   "id": "2bf92aee",
   "metadata": {},
   "source": [
    "## Saving and restoring the model"
   ]
  },
  {
   "cell_type": "code",
   "execution_count": 28,
   "id": "e510dfde",
   "metadata": {},
   "outputs": [
    {
     "name": "stdout",
     "output_type": "stream",
     "text": [
      "INFO:tensorflow:Assets written to: WideAndDeepModel/assets\n"
     ]
    }
   ],
   "source": [
    "model.save('WideAndDeepModel', save_format='tf')"
   ]
  },
  {
   "cell_type": "code",
   "execution_count": 29,
   "id": "d279b9f3",
   "metadata": {},
   "outputs": [],
   "source": [
    "model=K.models.load_model('WideAndDeepModel')"
   ]
  },
  {
   "cell_type": "code",
   "execution_count": 30,
   "id": "100a7eba",
   "metadata": {},
   "outputs": [
    {
     "name": "stdout",
     "output_type": "stream",
     "text": [
      "1/1 [==============================] - 0s 56ms/step\n"
     ]
    },
    {
     "data": {
      "text/plain": [
       "{'aux_output': array([[ 0.77326554],\n",
       "        [ 0.23248304],\n",
       "        [-0.1603841 ]], dtype=float32),\n",
       " 'main_output': array([[0.83145565],\n",
       "        [1.1357802 ],\n",
       "        [2.3012276 ]], dtype=float32)}"
      ]
     },
     "execution_count": 30,
     "metadata": {},
     "output_type": "execute_result"
    }
   ],
   "source": [
    "model.predict((X_new_wide, X_new_deep))"
   ]
  },
  {
   "cell_type": "markdown",
   "id": "8b665899",
   "metadata": {},
   "source": [
    "## Loading using low level TF method"
   ]
  },
  {
   "cell_type": "code",
   "execution_count": null,
   "id": "fc87bf76",
   "metadata": {},
   "outputs": [],
   "source": [
    "model2=tf.saved_model.load('WideAndDeepModel')"
   ]
  },
  {
   "cell_type": "code",
   "execution_count": null,
   "id": "7f030345",
   "metadata": {},
   "outputs": [],
   "source": [
    "[v.name for v in model2.trainable_variables]"
   ]
  },
  {
   "cell_type": "code",
   "execution_count": null,
   "id": "21f4320a",
   "metadata": {},
   "outputs": [],
   "source": [
    "with tf.GradientTape() as tape:\n",
    "    pred=model2( tf.constant(X_train[:1], dtype=tf.float32, name='input'))['output']\n",
    "    loss = (10-pred)**2\n",
    "    "
   ]
  },
  {
   "cell_type": "code",
   "execution_count": null,
   "id": "426ae1f8",
   "metadata": {},
   "outputs": [],
   "source": [
    "[v.name for v in tape.watched_variables()]"
   ]
  },
  {
   "cell_type": "markdown",
   "id": "7941a5c3",
   "metadata": {},
   "source": [
    "## Loaded model can be fine tuned \n",
    "API details:\n",
    "\n",
    "https://www.tensorflow.org/guide/saved_model\n",
    "\n",
    "\n",
    "\n",
    "optimizer = tf.keras.optimizers.SGD(0.05)\n",
    "\n",
    "def train_step():\n",
    "  with tf.GradientTape() as tape:\n",
    "    loss = (10. - imported(tf.constant(2.))) ** 2\n",
    "  variables = tape.watched_variables()\n",
    "  grads = tape.gradient(loss, variables)\n",
    "  optimizer.apply_gradients(zip(grads, variables))\n",
    "  return loss"
   ]
  },
  {
   "cell_type": "markdown",
   "id": "b6b9e413",
   "metadata": {},
   "source": [
    "## TF Callbacks"
   ]
  },
  {
   "cell_type": "code",
   "execution_count": 28,
   "id": "e7558f8d",
   "metadata": {},
   "outputs": [],
   "source": [
    "class PrintValTrainRatioCallback(K.callbacks.Callback):\n",
    "    def on_epoch_end(self, epoch, logs):\n",
    "        loss_ratio=logs['val_loss']/(logs['loss'])\n",
    "        acc_ratio=logs['val_main_output_root_mean_squared_error']/(logs['main_output_root_mean_squared_error'])\n",
    "        print(f'\\n Epoch={epoch}, ACC_RATIO={acc_ratio:.2f}, LOSS RATIO={loss_ratio:.2f} \\n')\n",
    "      "
   ]
  },
  {
   "cell_type": "code",
   "execution_count": 29,
   "id": "e1f4510f",
   "metadata": {},
   "outputs": [],
   "source": [
    "checkpoint_cb=K.callbacks.ModelCheckpoint('my_checkpoints',\n",
    "                                         save_weights_only=True)\n",
    "\n",
    "early_stopping_cb=K.callbacks.EarlyStopping(patience=10,\n",
    "                                           restore_best_weights=True)\n",
    "\n",
    "of_cb=PrintValTrainRatioCallback()"
   ]
  },
  {
   "cell_type": "code",
   "execution_count": 30,
   "id": "c78f4f1d",
   "metadata": {},
   "outputs": [
    {
     "name": "stdout",
     "output_type": "stream",
     "text": [
      "Epoch 1/3\n",
      " 1/12 [=>............................] - ETA: 0s - loss: 440.2383 - aux_output_loss: 542.1879 - main_output_loss: 428.9106 - aux_output_root_mean_squared_error: 23.2849 - main_output_root_mean_squared_error: 20.7102\n",
      " Epoch=0, ACC_RATIO=0.95, LOSS RATIO=0.91 \n",
      "\n",
      "12/12 [==============================] - 0s 19ms/step - loss: 486.0919 - aux_output_loss: 610.1104 - main_output_loss: 472.3121 - aux_output_root_mean_squared_error: 24.7004 - main_output_root_mean_squared_error: 21.7327 - val_loss: 440.2412 - val_aux_output_loss: 579.0338 - val_main_output_loss: 424.8199 - val_aux_output_root_mean_squared_error: 24.0631 - val_main_output_root_mean_squared_error: 20.6112\n",
      "Epoch 2/3\n",
      " 1/12 [=>............................] - ETA: 0s - loss: 496.8179 - aux_output_loss: 649.4570 - main_output_loss: 479.8580 - aux_output_root_mean_squared_error: 25.4844 - main_output_root_mean_squared_error: 21.9057\n",
      " Epoch=1, ACC_RATIO=0.94, LOSS RATIO=0.89 \n",
      "\n",
      "12/12 [==============================] - 0s 6ms/step - loss: 448.3914 - aux_output_loss: 605.0440 - main_output_loss: 430.9856 - aux_output_root_mean_squared_error: 24.5976 - main_output_root_mean_squared_error: 20.7602 - val_loss: 398.5209 - val_aux_output_loss: 571.0032 - val_main_output_loss: 379.3563 - val_aux_output_root_mean_squared_error: 23.8957 - val_main_output_root_mean_squared_error: 19.4771\n",
      "Epoch 3/3\n",
      " 1/12 [=>............................] - ETA: 0s - loss: 386.4816 - aux_output_loss: 563.2284 - main_output_loss: 366.8431 - aux_output_root_mean_squared_error: 23.7324 - main_output_root_mean_squared_error: 19.1531\n",
      " Epoch=2, ACC_RATIO=0.93, LOSS RATIO=0.87 \n",
      "\n",
      "12/12 [==============================] - 0s 6ms/step - loss: 400.3344 - aux_output_loss: 593.9242 - main_output_loss: 378.8245 - aux_output_root_mean_squared_error: 24.3706 - main_output_root_mean_squared_error: 19.4634 - val_loss: 349.4117 - val_aux_output_loss: 556.0511 - val_main_output_loss: 326.4517 - val_aux_output_root_mean_squared_error: 23.5807 - val_main_output_root_mean_squared_error: 18.0680\n"
     ]
    }
   ],
   "source": [
    "history=model.fit((X_train_wide, X_train_deep),\n",
    "                    target_dict,\n",
    "                    epochs=3,\n",
    "                    validation_data=((X_valid_wide, X_valid_deep), target_valid_dict),\n",
    "                    callbacks=[checkpoint_cb, early_stopping_cb, of_cb])\n",
    "\n"
   ]
  },
  {
   "cell_type": "markdown",
   "id": "dc05cc45",
   "metadata": {},
   "source": [
    "# Tensorboard callback"
   ]
  },
  {
   "cell_type": "code",
   "execution_count": 31,
   "id": "43400855",
   "metadata": {},
   "outputs": [],
   "source": [
    "from pathlib import Path\n",
    "from time import strftime"
   ]
  },
  {
   "cell_type": "code",
   "execution_count": 32,
   "id": "be04fae1",
   "metadata": {},
   "outputs": [
    {
     "data": {
      "text/plain": [
       "'run_2023_06_12_18_53_31'"
      ]
     },
     "execution_count": 32,
     "metadata": {},
     "output_type": "execute_result"
    }
   ],
   "source": [
    "strftime('run_%Y_%m_%d_%H_%M_%S')"
   ]
  },
  {
   "cell_type": "code",
   "execution_count": 33,
   "id": "5f8ffa56",
   "metadata": {},
   "outputs": [],
   "source": [
    "def get_run_logdir(root_logdir='my_logs'):\n",
    "    return Path(root_logdir) / strftime('run_%Y_%m_%d_%H_%M_%S')"
   ]
  },
  {
   "cell_type": "code",
   "execution_count": 34,
   "id": "5c084a92",
   "metadata": {},
   "outputs": [],
   "source": [
    "run_logdir=get_run_logdir()"
   ]
  },
  {
   "cell_type": "code",
   "execution_count": 35,
   "id": "15126133",
   "metadata": {},
   "outputs": [
    {
     "data": {
      "text/plain": [
       "PosixPath('my_logs/run_2023_06_12_18_53_32')"
      ]
     },
     "execution_count": 35,
     "metadata": {},
     "output_type": "execute_result"
    }
   ],
   "source": [
    "run_logdir"
   ]
  },
  {
   "cell_type": "code",
   "execution_count": null,
   "id": "9b8eb1a1",
   "metadata": {
    "scrolled": true
   },
   "outputs": [],
   "source": [
    "tensorboard_cb=K.callbacks.TensorBoard(run_logdir,\n",
    "                                      profile_batch=(100, 200))"
   ]
  },
  {
   "cell_type": "code",
   "execution_count": 38,
   "id": "cfe5f976",
   "metadata": {},
   "outputs": [
    {
     "name": "stdout",
     "output_type": "stream",
     "text": [
      "Epoch 1/3\n",
      "12/12 [==============================] - 0s 6ms/step - loss: 11.5623 - aux_output_loss: 13.0831 - main_output_loss: 11.3933 - aux_output_root_mean_squared_error: 3.6171 - main_output_root_mean_squared_error: 3.3754 - val_loss: 9.9337 - val_aux_output_loss: 12.3934 - val_main_output_loss: 9.6604 - val_aux_output_root_mean_squared_error: 3.5204 - val_main_output_root_mean_squared_error: 3.1081\n",
      "Epoch 2/3\n",
      "12/12 [==============================] - 0s 5ms/step - loss: 11.5081 - aux_output_loss: 13.0588 - main_output_loss: 11.3358 - aux_output_root_mean_squared_error: 3.6137 - main_output_root_mean_squared_error: 3.3669 - val_loss: 9.8015 - val_aux_output_loss: 12.3518 - val_main_output_loss: 9.5182 - val_aux_output_root_mean_squared_error: 3.5145 - val_main_output_root_mean_squared_error: 3.0852\n",
      "Epoch 3/3\n",
      "12/12 [==============================] - 0s 5ms/step - loss: 11.6798 - aux_output_loss: 13.2720 - main_output_loss: 11.5029 - aux_output_root_mean_squared_error: 3.6431 - main_output_root_mean_squared_error: 3.3916 - val_loss: 9.8611 - val_aux_output_loss: 12.5044 - val_main_output_loss: 9.5675 - val_aux_output_root_mean_squared_error: 3.5362 - val_main_output_root_mean_squared_error: 3.0931\n"
     ]
    }
   ],
   "source": [
    "history=model.fit((X_train_wide, X_train_deep),\n",
    "                    target_dict,\n",
    "                    epochs=3,\n",
    "                    validation_data=((X_valid_wide, X_valid_deep), target_valid_dict),\n",
    "                     callbacks=[tensorboard_cb])"
   ]
  },
  {
   "cell_type": "code",
   "execution_count": 39,
   "id": "14465f30",
   "metadata": {},
   "outputs": [],
   "source": [
    "%load_ext tensorboard"
   ]
  },
  {
   "cell_type": "code",
   "execution_count": 40,
   "id": "c70b1cdb",
   "metadata": {},
   "outputs": [
    {
     "data": {
      "text/html": [
       "\n",
       "      <iframe id=\"tensorboard-frame-3af3fbb84f3d2edc\" width=\"100%\" height=\"800\" frameborder=\"0\">\n",
       "      </iframe>\n",
       "      <script>\n",
       "        (function() {\n",
       "          const frame = document.getElementById(\"tensorboard-frame-3af3fbb84f3d2edc\");\n",
       "          const url = new URL(\"/\", window.location);\n",
       "          const port = 6006;\n",
       "          if (port) {\n",
       "            url.port = port;\n",
       "          }\n",
       "          frame.src = url;\n",
       "        })();\n",
       "      </script>\n",
       "    "
      ],
      "text/plain": [
       "<IPython.core.display.HTML object>"
      ]
     },
     "metadata": {},
     "output_type": "display_data"
    }
   ],
   "source": [
    "%tensorboard --logdir=./my_logs"
   ]
  }
 ],
 "metadata": {
  "kernelspec": {
   "display_name": "tf39",
   "language": "python",
   "name": "tf39"
  },
  "language_info": {
   "codemirror_mode": {
    "name": "ipython",
    "version": 3
   },
   "file_extension": ".py",
   "mimetype": "text/x-python",
   "name": "python",
   "nbconvert_exporter": "python",
   "pygments_lexer": "ipython3",
   "version": "3.9.18"
  }
 },
 "nbformat": 4,
 "nbformat_minor": 5
}
