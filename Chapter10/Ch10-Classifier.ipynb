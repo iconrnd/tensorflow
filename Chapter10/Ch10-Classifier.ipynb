{
 "cells": [
  {
   "cell_type": "markdown",
   "id": "2788f6f2-458a-47d4-ac8a-57a9a1f5fecd",
   "metadata": {},
   "source": [
    "## Simple Fashion-MNIST Classifier"
   ]
  },
  {
   "cell_type": "code",
   "execution_count": 35,
   "id": "f8a94024",
   "metadata": {
    "scrolled": true
   },
   "outputs": [],
   "source": [
    "import tensorflow as tf\n",
    "import tensorflow.keras as K\n",
    "import numpy as np\n",
    "import pandas as pd\n",
    "import matplotlib.pyplot as plt"
   ]
  },
  {
   "cell_type": "markdown",
   "id": "2d2a6737-af68-4a1a-b1ee-20b348fa6065",
   "metadata": {},
   "source": [
    "## Listing available GPUs"
   ]
  },
  {
   "cell_type": "code",
   "execution_count": 2,
   "id": "3843e079",
   "metadata": {
    "scrolled": true
   },
   "outputs": [
    {
     "name": "stderr",
     "output_type": "stream",
     "text": [
      "2022-11-27 00:41:59.491583: E tensorflow/stream_executor/cuda/cuda_driver.cc:265] failed call to cuInit: CUDA_ERROR_UNKNOWN: unknown error\n",
      "2022-11-27 00:41:59.491620: I tensorflow/stream_executor/cuda/cuda_diagnostics.cc:169] retrieving CUDA diagnostic information for host: HELL\n",
      "2022-11-27 00:41:59.491626: I tensorflow/stream_executor/cuda/cuda_diagnostics.cc:176] hostname: HELL\n",
      "2022-11-27 00:41:59.491744: I tensorflow/stream_executor/cuda/cuda_diagnostics.cc:200] libcuda reported version is: 520.56.6\n",
      "2022-11-27 00:41:59.491760: I tensorflow/stream_executor/cuda/cuda_diagnostics.cc:204] kernel reported version is: 520.56.6\n",
      "2022-11-27 00:41:59.491764: I tensorflow/stream_executor/cuda/cuda_diagnostics.cc:310] kernel version seems to match DSO: 520.56.6\n"
     ]
    },
    {
     "data": {
      "text/plain": [
       "[]"
      ]
     },
     "execution_count": 2,
     "metadata": {},
     "output_type": "execute_result"
    }
   ],
   "source": [
    "tf.config.list_physical_devices('GPU')"
   ]
  },
  {
   "cell_type": "markdown",
   "id": "319e9000-422f-47e4-adda-6e3cbd2b3e26",
   "metadata": {},
   "source": [
    "## Loading dataset"
   ]
  },
  {
   "cell_type": "code",
   "execution_count": 3,
   "id": "3ae486bf",
   "metadata": {},
   "outputs": [],
   "source": [
    "fashion_mnist = tf.keras.datasets.fashion_mnist.load_data()"
   ]
  },
  {
   "cell_type": "code",
   "execution_count": 4,
   "id": "d425c8d7",
   "metadata": {},
   "outputs": [],
   "source": [
    "(X_train_full, y_train_full), (X_test, y_test) = fashion_mnist"
   ]
  },
  {
   "cell_type": "code",
   "execution_count": 5,
   "id": "3ecb2acb",
   "metadata": {},
   "outputs": [],
   "source": [
    "X_train, y_train = X_train_full[:-5000], y_train_full[:-5000]\n",
    "X_valid, y_valid = X_train_full[-5000:], y_train_full[-5000:]"
   ]
  },
  {
   "cell_type": "code",
   "execution_count": 6,
   "id": "f4c3c5eb",
   "metadata": {},
   "outputs": [
    {
     "data": {
      "text/plain": [
       "(55000, 28, 28)"
      ]
     },
     "execution_count": 6,
     "metadata": {},
     "output_type": "execute_result"
    }
   ],
   "source": [
    "X_train.shape"
   ]
  },
  {
   "cell_type": "code",
   "execution_count": 7,
   "id": "9206592e",
   "metadata": {},
   "outputs": [
    {
     "data": {
      "text/plain": [
       "dtype('uint8')"
      ]
     },
     "execution_count": 7,
     "metadata": {},
     "output_type": "execute_result"
    }
   ],
   "source": [
    "X_train.dtype"
   ]
  },
  {
   "cell_type": "code",
   "execution_count": 8,
   "id": "f74a577f",
   "metadata": {},
   "outputs": [],
   "source": [
    "# Data normalization\n",
    "X_train, X_valid, X_test = X_train/255., X_valid/255., X_test/255. "
   ]
  },
  {
   "cell_type": "code",
   "execution_count": 9,
   "id": "ead95c13",
   "metadata": {},
   "outputs": [
    {
     "data": {
      "text/plain": [
       "dtype('float64')"
      ]
     },
     "execution_count": 9,
     "metadata": {},
     "output_type": "execute_result"
    }
   ],
   "source": [
    "X_train.dtype"
   ]
  },
  {
   "cell_type": "code",
   "execution_count": 10,
   "id": "bfd5aa15",
   "metadata": {},
   "outputs": [],
   "source": [
    "class_names = [\"T-shirt/top\", \"Trouser\", \"Pullover\", \"Dress\", \"Coat\", \"Sandal\", \"Shirt\", \"Sneaker\", \"Bag\", \"Ankle boot\"]"
   ]
  },
  {
   "cell_type": "code",
   "execution_count": 11,
   "id": "c1a2b63b",
   "metadata": {},
   "outputs": [
    {
     "data": {
      "text/plain": [
       "<matplotlib.image.AxesImage at 0x7fb4814f5ba0>"
      ]
     },
     "execution_count": 11,
     "metadata": {},
     "output_type": "execute_result"
    },
    {
     "data": {
      "image/png": "[encoded data removed]",
      "text/plain": [
       "<Figure size 480x480 with 1 Axes>"
      ]
     },
     "metadata": {},
     "output_type": "display_data"
    }
   ],
   "source": [
    "plt.matshow(X_train[0])"
   ]
  },
  {
   "cell_type": "code",
   "execution_count": 12,
   "id": "2e9619e4",
   "metadata": {},
   "outputs": [],
   "source": [
    "tf.random.set_seed(42)"
   ]
  },
  {
   "cell_type": "markdown",
   "id": "3d3ca9d9-67e6-449c-881a-800c40fdaa92",
   "metadata": {},
   "source": [
    "## Building a model using sequential API"
   ]
  },
  {
   "cell_type": "code",
   "execution_count": 13,
   "id": "c67a5486",
   "metadata": {},
   "outputs": [
    {
     "name": "stderr",
     "output_type": "stream",
     "text": [
      "2022-11-27 00:42:00.131427: I tensorflow/core/platform/cpu_feature_guard.cc:193] This TensorFlow binary is optimized with oneAPI Deep Neural Network Library (oneDNN) to use the following CPU instructions in performance-critical operations:  AVX2 AVX512F AVX512_VNNI FMA\n",
      "To enable them in other operations, rebuild TensorFlow with the appropriate compiler flags.\n"
     ]
    }
   ],
   "source": [
    "model = K.Sequential()"
   ]
  },
  {
   "cell_type": "code",
   "execution_count": 14,
   "id": "bb012589",
   "metadata": {},
   "outputs": [
    {
     "data": {
      "text/plain": [
       "<keras.engine.sequential.Sequential at 0x7fb48153d2d0>"
      ]
     },
     "execution_count": 14,
     "metadata": {},
     "output_type": "execute_result"
    }
   ],
   "source": [
    "model"
   ]
  },
  {
   "cell_type": "code",
   "execution_count": 15,
   "id": "84e627f7",
   "metadata": {},
   "outputs": [],
   "source": [
    "model.add(K.layers.Input(shape=[28, 28]))\n",
    "model.add(K.layers.Flatten())\n",
    "model.add(K.layers.Dense(300, activation='relu'))\n",
    "model.add(K.layers.Dense(100, activation='relu'))\n",
    "model.add(K.layers.Dense(10, activation='softmax'))"
   ]
  },
  {
   "cell_type": "code",
   "execution_count": 16,
   "id": "808454d0",
   "metadata": {},
   "outputs": [],
   "source": [
    "# Equivalently\n",
    "#model=K.Sequential([K.layers.Flatten(input_shape=[28, 28]),\n",
    "#                   K.layers.Dense(300, activation='relu'),\n",
    "#                   K.layers.Dense(100, activation='relu'),\n",
    "#                   K.layers.Dense(10, activation='softmax')\n",
    "#                   ])"
   ]
  },
  {
   "cell_type": "code",
   "execution_count": 17,
   "id": "0712b8e8",
   "metadata": {},
   "outputs": [
    {
     "name": "stdout",
     "output_type": "stream",
     "text": [
      "Model: \"sequential\"\n",
      "_________________________________________________________________\n",
      " Layer (type)                Output Shape              Param #   \n",
      "=================================================================\n",
      " flatten (Flatten)           (None, 784)               0         \n",
      "                                                                 \n",
      " dense (Dense)               (None, 300)               235500    \n",
      "                                                                 \n",
      " dense_1 (Dense)             (None, 100)               30100     \n",
      "                                                                 \n",
      " dense_2 (Dense)             (None, 10)                1010      \n",
      "                                                                 \n",
      "=================================================================\n",
      "Total params: 266,610\n",
      "Trainable params: 266,610\n",
      "Non-trainable params: 0\n",
      "_________________________________________________________________\n"
     ]
    }
   ],
   "source": [
    "model.summary()"
   ]
  },
  {
   "cell_type": "code",
   "execution_count": 18,
   "id": "17ec0fc5",
   "metadata": {},
   "outputs": [
    {
     "data": {
      "text/plain": [
       "<function keras.activations.relu(x, alpha=0.0, max_value=None, threshold=0.0)>"
      ]
     },
     "execution_count": 18,
     "metadata": {},
     "output_type": "execute_result"
    }
   ],
   "source": [
    "K.activations.relu"
   ]
  },
  {
   "cell_type": "code",
   "execution_count": 19,
   "id": "bfb87ea5",
   "metadata": {},
   "outputs": [
    {
     "data": {
      "text/plain": [
       "[<keras.layers.reshaping.flatten.Flatten at 0x7fb4814f5e70>,\n",
       " <keras.layers.core.dense.Dense at 0x7fb4815790c0>,\n",
       " <keras.layers.core.dense.Dense at 0x7fb481579270>,\n",
       " <keras.layers.core.dense.Dense at 0x7fb4793738b0>]"
      ]
     },
     "execution_count": 19,
     "metadata": {},
     "output_type": "execute_result"
    }
   ],
   "source": [
    "model.layers"
   ]
  },
  {
   "cell_type": "markdown",
   "id": "047febd4-016a-4473-8f08-010661b0154b",
   "metadata": {},
   "source": [
    "## Accessing model layers"
   ]
  },
  {
   "cell_type": "code",
   "execution_count": 20,
   "id": "42719233",
   "metadata": {},
   "outputs": [],
   "source": [
    "hidden = model.layers[1]"
   ]
  },
  {
   "cell_type": "code",
   "execution_count": 21,
   "id": "f2730853",
   "metadata": {},
   "outputs": [
    {
     "data": {
      "text/plain": [
       "'dense'"
      ]
     },
     "execution_count": 21,
     "metadata": {},
     "output_type": "execute_result"
    }
   ],
   "source": [
    "hidden.name"
   ]
  },
  {
   "cell_type": "markdown",
   "id": "571ddb2a-f8bd-4469-ad74-5b5f04d8f5d6",
   "metadata": {},
   "source": [
    "## Comparison on model layers objects"
   ]
  },
  {
   "cell_type": "code",
   "execution_count": 22,
   "id": "56b3b8fa",
   "metadata": {},
   "outputs": [
    {
     "data": {
      "text/plain": [
       "True"
      ]
     },
     "execution_count": 22,
     "metadata": {},
     "output_type": "execute_result"
    }
   ],
   "source": [
    "model.get_layer('dense') == hidden"
   ]
  },
  {
   "cell_type": "markdown",
   "id": "06606dd9-998c-4407-80b4-33a2408b0e84",
   "metadata": {},
   "source": [
    "## Model parameters"
   ]
  },
  {
   "cell_type": "code",
   "execution_count": 23,
   "id": "c123a7ac",
   "metadata": {},
   "outputs": [],
   "source": [
    "weights, biases = hidden.get_weights()"
   ]
  },
  {
   "cell_type": "code",
   "execution_count": 24,
   "id": "ef07ded4",
   "metadata": {},
   "outputs": [
    {
     "data": {
      "text/plain": [
       "array([[ 0.02877878,  0.00972056, -0.05493736, ..., -0.03437289,\n",
       "         0.0054151 , -0.04854435],\n",
       "       [-0.01693369, -0.06329893,  0.02553378, ..., -0.01302826,\n",
       "         0.0496726 ,  0.00664008],\n",
       "       [-0.03680067, -0.03627734,  0.04211094, ..., -0.05599319,\n",
       "        -0.03346603, -0.00545574],\n",
       "       ...,\n",
       "       [ 0.03736064,  0.0299435 , -0.05729245, ..., -0.00106885,\n",
       "         0.03777389, -0.05375556],\n",
       "       [-0.05251581,  0.06660017,  0.05951533, ..., -0.0425899 ,\n",
       "         0.0193231 , -0.04133527],\n",
       "       [ 0.05027477,  0.01981256, -0.05060957, ...,  0.00889314,\n",
       "        -0.06602696, -0.01014229]], dtype=float32)"
      ]
     },
     "execution_count": 24,
     "metadata": {},
     "output_type": "execute_result"
    }
   ],
   "source": [
    "weights"
   ]
  },
  {
   "cell_type": "code",
   "execution_count": 25,
   "id": "7e980879",
   "metadata": {},
   "outputs": [
    {
     "data": {
      "text/plain": [
       "(784, 300)"
      ]
     },
     "execution_count": 25,
     "metadata": {},
     "output_type": "execute_result"
    }
   ],
   "source": [
    "weights.shape"
   ]
  },
  {
   "cell_type": "code",
   "execution_count": 26,
   "id": "a734c7e1",
   "metadata": {},
   "outputs": [
    {
     "data": {
      "text/plain": [
       "(300,)"
      ]
     },
     "execution_count": 26,
     "metadata": {},
     "output_type": "execute_result"
    }
   ],
   "source": [
    "biases.shape"
   ]
  },
  {
   "cell_type": "markdown",
   "id": "d6040a65-9a41-45d9-b593-bcdd4e6badaf",
   "metadata": {},
   "source": [
    "## Model compilation binding loss, optimized and metrics"
   ]
  },
  {
   "cell_type": "code",
   "execution_count": 27,
   "id": "da43e78a",
   "metadata": {},
   "outputs": [],
   "source": [
    "model.compile(loss=K.losses.sparse_categorical_crossentropy,\n",
    "             optimizer=K.optimizers.SGD(),\n",
    "             metrics=[K.metrics.sparse_categorical_accuracy])"
   ]
  },
  {
   "cell_type": "markdown",
   "id": "a51aa6fa-509e-4e55-bc16-014919e5261c",
   "metadata": {},
   "source": [
    "## One-hot encoding"
   ]
  },
  {
   "cell_type": "code",
   "execution_count": 28,
   "id": "8c3b5b62",
   "metadata": {},
   "outputs": [
    {
     "data": {
      "text/plain": [
       "array([[0., 0., 0., 0., 0., 0., 1., 0., 0., 0., 0.],\n",
       "       [0., 0., 0., 0., 0., 0., 0., 1., 0., 0., 0.]], dtype=float32)"
      ]
     },
     "execution_count": 28,
     "metadata": {},
     "output_type": "execute_result"
    }
   ],
   "source": [
    "K.utils.to_categorical([[6],[7]], 11)"
   ]
  },
  {
   "cell_type": "code",
   "execution_count": 29,
   "id": "f3ffdedb",
   "metadata": {},
   "outputs": [
    {
     "data": {
      "text/plain": [
       "array([[0., 0., 0., 0., 0., 0., 1., 0., 0., 0., 0.],\n",
       "       [0., 0., 0., 0., 0., 0., 0., 1., 0., 0., 0.]], dtype=float32)"
      ]
     },
     "execution_count": 29,
     "metadata": {},
     "output_type": "execute_result"
    }
   ],
   "source": [
    "K.utils.to_categorical([6, 7], 11)"
   ]
  },
  {
   "cell_type": "code",
   "execution_count": 30,
   "id": "09f39ebf",
   "metadata": {},
   "outputs": [
    {
     "data": {
      "text/plain": [
       "array([6, 7])"
      ]
     },
     "execution_count": 30,
     "metadata": {},
     "output_type": "execute_result"
    }
   ],
   "source": [
    "np.argmax(K.utils.to_categorical([6,7], 11), axis=1)"
   ]
  },
  {
   "cell_type": "markdown",
   "id": "e06adebe-9557-4624-ac3c-ffa0567238cf",
   "metadata": {},
   "source": [
    "## Training"
   ]
  },
  {
   "cell_type": "code",
   "execution_count": 38,
   "id": "6c4f4ec9",
   "metadata": {
    "scrolled": true
   },
   "outputs": [
    {
     "name": "stdout",
     "output_type": "stream",
     "text": [
      "Epoch 1/30\n",
      "1719/1719 [==============================] - 2s 1ms/step - loss: 0.3790 - sparse_categorical_accuracy: 0.8666 - val_loss: 0.3990 - val_sparse_categorical_accuracy: 0.8562\n",
      "Epoch 2/30\n",
      "1719/1719 [==============================] - 2s 1ms/step - loss: 0.3664 - sparse_categorical_accuracy: 0.8714 - val_loss: 0.3918 - val_sparse_categorical_accuracy: 0.8632\n",
      "Epoch 3/30\n",
      "1719/1719 [==============================] - 2s 1ms/step - loss: 0.3529 - sparse_categorical_accuracy: 0.8754 - val_loss: 0.3739 - val_sparse_categorical_accuracy: 0.8684\n",
      "Epoch 4/30\n",
      "1719/1719 [==============================] - 2s 1ms/step - loss: 0.3441 - sparse_categorical_accuracy: 0.8786 - val_loss: 0.3573 - val_sparse_categorical_accuracy: 0.8686\n",
      "Epoch 5/30\n",
      "1719/1719 [==============================] - 2s 1ms/step - loss: 0.3337 - sparse_categorical_accuracy: 0.8812 - val_loss: 0.3594 - val_sparse_categorical_accuracy: 0.8716\n",
      "Epoch 6/30\n",
      "1719/1719 [==============================] - 2s 1ms/step - loss: 0.3248 - sparse_categorical_accuracy: 0.8836 - val_loss: 0.3752 - val_sparse_categorical_accuracy: 0.8702\n",
      "Epoch 7/30\n",
      "1719/1719 [==============================] - 2s 1ms/step - loss: 0.3177 - sparse_categorical_accuracy: 0.8853 - val_loss: 0.3527 - val_sparse_categorical_accuracy: 0.8742\n",
      "Epoch 8/30\n",
      "1719/1719 [==============================] - 2s 1ms/step - loss: 0.3103 - sparse_categorical_accuracy: 0.8890 - val_loss: 0.3578 - val_sparse_categorical_accuracy: 0.8686\n",
      "Epoch 9/30\n",
      "1719/1719 [==============================] - 2s 1ms/step - loss: 0.3034 - sparse_categorical_accuracy: 0.8915 - val_loss: 0.3347 - val_sparse_categorical_accuracy: 0.8796\n",
      "Epoch 10/30\n",
      "1719/1719 [==============================] - 2s 1ms/step - loss: 0.2962 - sparse_categorical_accuracy: 0.8941 - val_loss: 0.3408 - val_sparse_categorical_accuracy: 0.8798\n",
      "Epoch 11/30\n",
      "1719/1719 [==============================] - 2s 1ms/step - loss: 0.2897 - sparse_categorical_accuracy: 0.8968 - val_loss: 0.3574 - val_sparse_categorical_accuracy: 0.8708\n",
      "Epoch 12/30\n",
      "1719/1719 [==============================] - 2s 1ms/step - loss: 0.2844 - sparse_categorical_accuracy: 0.8977 - val_loss: 0.3440 - val_sparse_categorical_accuracy: 0.8752\n",
      "Epoch 13/30\n",
      "1719/1719 [==============================] - 2s 1ms/step - loss: 0.2788 - sparse_categorical_accuracy: 0.9011 - val_loss: 0.3222 - val_sparse_categorical_accuracy: 0.8808\n",
      "Epoch 14/30\n",
      "1719/1719 [==============================] - 2s 1ms/step - loss: 0.2730 - sparse_categorical_accuracy: 0.9019 - val_loss: 0.3350 - val_sparse_categorical_accuracy: 0.8790\n",
      "Epoch 15/30\n",
      "1719/1719 [==============================] - 2s 1ms/step - loss: 0.2684 - sparse_categorical_accuracy: 0.9038 - val_loss: 0.3318 - val_sparse_categorical_accuracy: 0.8814\n",
      "Epoch 16/30\n",
      "1719/1719 [==============================] - 2s 1ms/step - loss: 0.2625 - sparse_categorical_accuracy: 0.9056 - val_loss: 0.3268 - val_sparse_categorical_accuracy: 0.8790\n",
      "Epoch 17/30\n",
      "1719/1719 [==============================] - 2s 1ms/step - loss: 0.2583 - sparse_categorical_accuracy: 0.9062 - val_loss: 0.3283 - val_sparse_categorical_accuracy: 0.8804\n",
      "Epoch 18/30\n",
      "1719/1719 [==============================] - 2s 1ms/step - loss: 0.2539 - sparse_categorical_accuracy: 0.9091 - val_loss: 0.3286 - val_sparse_categorical_accuracy: 0.8798\n",
      "Epoch 19/30\n",
      "1719/1719 [==============================] - 2s 1ms/step - loss: 0.2495 - sparse_categorical_accuracy: 0.9103 - val_loss: 0.3478 - val_sparse_categorical_accuracy: 0.8746\n",
      "Epoch 20/30\n",
      "1719/1719 [==============================] - 2s 1ms/step - loss: 0.2453 - sparse_categorical_accuracy: 0.9120 - val_loss: 0.3241 - val_sparse_categorical_accuracy: 0.8806\n",
      "Epoch 21/30\n",
      "1719/1719 [==============================] - 2s 1ms/step - loss: 0.2410 - sparse_categorical_accuracy: 0.9125 - val_loss: 0.3155 - val_sparse_categorical_accuracy: 0.8822\n",
      "Epoch 22/30\n",
      "1719/1719 [==============================] - 2s 1ms/step - loss: 0.2368 - sparse_categorical_accuracy: 0.9142 - val_loss: 0.3180 - val_sparse_categorical_accuracy: 0.8846\n",
      "Epoch 23/30\n",
      "1719/1719 [==============================] - 2s 1ms/step - loss: 0.2331 - sparse_categorical_accuracy: 0.9166 - val_loss: 0.3524 - val_sparse_categorical_accuracy: 0.8738\n",
      "Epoch 24/30\n",
      "1719/1719 [==============================] - 2s 1ms/step - loss: 0.2283 - sparse_categorical_accuracy: 0.9190 - val_loss: 0.3261 - val_sparse_categorical_accuracy: 0.8820\n",
      "Epoch 25/30\n",
      "1719/1719 [==============================] - 2s 1ms/step - loss: 0.2246 - sparse_categorical_accuracy: 0.9188 - val_loss: 0.3247 - val_sparse_categorical_accuracy: 0.8812\n",
      "Epoch 26/30\n",
      "1719/1719 [==============================] - 2s 1ms/step - loss: 0.2222 - sparse_categorical_accuracy: 0.9208 - val_loss: 0.3171 - val_sparse_categorical_accuracy: 0.8826\n",
      "Epoch 27/30\n",
      "1719/1719 [==============================] - 2s 1ms/step - loss: 0.2169 - sparse_categorical_accuracy: 0.9215 - val_loss: 0.3218 - val_sparse_categorical_accuracy: 0.8852\n",
      "Epoch 28/30\n",
      "1719/1719 [==============================] - 2s 1ms/step - loss: 0.2150 - sparse_categorical_accuracy: 0.9228 - val_loss: 0.3158 - val_sparse_categorical_accuracy: 0.8874\n",
      "Epoch 29/30\n",
      "1719/1719 [==============================] - 2s 1ms/step - loss: 0.2111 - sparse_categorical_accuracy: 0.9235 - val_loss: 0.3279 - val_sparse_categorical_accuracy: 0.8816\n",
      "Epoch 30/30\n",
      "1719/1719 [==============================] - 2s 1ms/step - loss: 0.2087 - sparse_categorical_accuracy: 0.9255 - val_loss: 0.3135 - val_sparse_categorical_accuracy: 0.8830\n"
     ]
    }
   ],
   "source": [
    "history = model.fit(X_train, y_train, \n",
    "         epochs=30,\n",
    "         validation_data=[X_valid, y_valid])"
   ]
  },
  {
   "cell_type": "code",
   "execution_count": 44,
   "id": "cbf90d3d",
   "metadata": {},
   "outputs": [
    {
     "data": {
      "text/plain": [
       "30"
      ]
     },
     "execution_count": 44,
     "metadata": {},
     "output_type": "execute_result"
    }
   ],
   "source": [
    "history.params['epochs']\n"
   ]
  },
  {
   "cell_type": "code",
   "execution_count": 45,
   "id": "09c1c8cd",
   "metadata": {},
   "outputs": [
    {
     "data": {
      "image/png": "[encoded data removed]",
      "text/plain": [
       "<Figure size 800x500 with 1 Axes>"
      ]
     },
     "metadata": {},
     "output_type": "display_data"
    }
   ],
   "source": [
    "pd.DataFrame(history.history).plot(figsize=(8, 5),\n",
    "                                  xlim=[0, history.params['epochs']],\n",
    "                                  ylim=[0, 1],\n",
    "                                  grid=True,\n",
    "                                  xlabel='Epoch',\n",
    "                                  style=[\"r--\", \"r--.\", \"b-\", \"b-*\"])\n",
    "plt.show()"
   ]
  },
  {
   "cell_type": "markdown",
   "id": "9ba2ef05-e659-4b39-a0f4-572067938edc",
   "metadata": {},
   "source": [
    "## Model evaluation"
   ]
  },
  {
   "cell_type": "code",
   "execution_count": 46,
   "id": "c95e898c",
   "metadata": {},
   "outputs": [
    {
     "name": "stdout",
     "output_type": "stream",
     "text": [
      "313/313 [==============================] - 0s 847us/step - loss: 0.3209 - sparse_categorical_accuracy: 0.8879\n"
     ]
    },
    {
     "data": {
      "text/plain": [
       "[0.32093656063079834, 0.8878999948501587]"
      ]
     },
     "execution_count": 46,
     "metadata": {},
     "output_type": "execute_result"
    }
   ],
   "source": [
    "model.evaluate(X_test, y_test)"
   ]
  },
  {
   "cell_type": "code",
   "execution_count": 47,
   "id": "5d3e877f",
   "metadata": {},
   "outputs": [],
   "source": [
    "X_new=X_test[:3]"
   ]
  },
  {
   "cell_type": "code",
   "execution_count": 50,
   "id": "fd84fe63",
   "metadata": {},
   "outputs": [
    {
     "name": "stdout",
     "output_type": "stream",
     "text": [
      "1/1 [==============================] - 0s 59ms/step\n"
     ]
    }
   ],
   "source": [
    "y_proba=model.predict(X_new)"
   ]
  },
  {
   "cell_type": "code",
   "execution_count": 51,
   "id": "34bd5f8b",
   "metadata": {},
   "outputs": [
    {
     "data": {
      "text/plain": [
       "array([[0.  , 0.  , 0.  , 0.  , 0.  , 0.  , 0.  , 0.01, 0.  , 0.98],\n",
       "       [0.  , 0.  , 1.  , 0.  , 0.  , 0.  , 0.  , 0.  , 0.  , 0.  ],\n",
       "       [0.  , 1.  , 0.  , 0.  , 0.  , 0.  , 0.  , 0.  , 0.  , 0.  ]],\n",
       "      dtype=float32)"
      ]
     },
     "execution_count": 51,
     "metadata": {},
     "output_type": "execute_result"
    }
   ],
   "source": [
    "y_proba.round(2)"
   ]
  },
  {
   "cell_type": "code",
   "execution_count": 52,
   "id": "90f0b7b1",
   "metadata": {},
   "outputs": [],
   "source": [
    "y_pred=y_proba.argmax(axis=1)"
   ]
  },
  {
   "cell_type": "code",
   "execution_count": 53,
   "id": "119481ef",
   "metadata": {},
   "outputs": [
    {
     "data": {
      "text/plain": [
       "array(['Ankle boot', 'Pullover', 'Trouser'], dtype='<U11')"
      ]
     },
     "execution_count": 53,
     "metadata": {},
     "output_type": "execute_result"
    }
   ],
   "source": [
    "np.array(class_names)[y_pred]"
   ]
  },
  {
   "cell_type": "code",
   "execution_count": null,
   "id": "c6192ee1",
   "metadata": {},
   "outputs": [],
   "source": []
  }
 ],
 "metadata": {
  "kernelspec": {
   "display_name": "tf39",
   "language": "python",
   "name": "tf39"
  },
  "language_info": {
   "codemirror_mode": {
    "name": "ipython",
    "version": 3
   },
   "file_extension": ".py",
   "mimetype": "text/x-python",
   "name": "python",
   "nbconvert_exporter": "python",
   "pygments_lexer": "ipython3",
   "version": "3.9.18"
  }
 },
 "nbformat": 4,
 "nbformat_minor": 5
}
