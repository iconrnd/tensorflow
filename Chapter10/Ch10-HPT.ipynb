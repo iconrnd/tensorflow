{
 "cells": [
  {
   "cell_type": "markdown",
   "id": "e36988f2",
   "metadata": {},
   "source": [
    "## Hyper-Parameter Tuning with Keras Tuner"
   ]
  },
  {
   "cell_type": "code",
   "execution_count": 1,
   "id": "f06b5e16",
   "metadata": {},
   "outputs": [],
   "source": [
    "import warnings\n",
    "warnings.filterwarnings('ignore')"
   ]
  },
  {
   "cell_type": "code",
   "execution_count": null,
   "id": "f8a94024",
   "metadata": {
    "scrolled": true
   },
   "outputs": [],
   "source": [
    "import tensorflow as tf\n",
    "import tensorflow.keras as K\n",
    "import keras_tuner as kt\n",
    "\n",
    "import numpy as np\n",
    "import pandas as pd\n",
    "import matplotlib.pyplot as plt\n",
    "\n",
    "from pathlib import Path\n",
    "from time import strftime"
   ]
  },
  {
   "cell_type": "code",
   "execution_count": null,
   "id": "3843e079",
   "metadata": {
    "scrolled": true
   },
   "outputs": [],
   "source": [
    "tf.config.list_physical_devices('GPU')"
   ]
  },
  {
   "cell_type": "markdown",
   "id": "dada3663",
   "metadata": {},
   "source": [
    "# Dataset setup"
   ]
  },
  {
   "cell_type": "code",
   "execution_count": 4,
   "id": "d425c8d7",
   "metadata": {},
   "outputs": [],
   "source": [
    "fashion_mnist = tf.keras.datasets.fashion_mnist.load_data()"
   ]
  },
  {
   "cell_type": "code",
   "execution_count": 5,
   "id": "b8974121",
   "metadata": {},
   "outputs": [],
   "source": [
    "(X_train_full, y_train_full), (X_test, y_test) = fashion_mnist"
   ]
  },
  {
   "cell_type": "code",
   "execution_count": 6,
   "id": "3ecb2acb",
   "metadata": {},
   "outputs": [],
   "source": [
    "X_train, y_train = X_train_full[:-5000], y_train_full[:-5000]\n",
    "X_valid, y_valid = X_train_full[-5000:], y_train_full[-5000:]"
   ]
  },
  {
   "cell_type": "code",
   "execution_count": 7,
   "id": "2e9619e4",
   "metadata": {},
   "outputs": [],
   "source": [
    "tf.random.set_seed(42)"
   ]
  },
  {
   "cell_type": "markdown",
   "id": "fbb382e0",
   "metadata": {},
   "source": [
    "# Define model builder"
   ]
  },
  {
   "cell_type": "code",
   "execution_count": 10,
   "id": "58a86ead",
   "metadata": {},
   "outputs": [],
   "source": [
    "# This accepts Hyperparameters object\n",
    "\n",
    "def build_model(hp):\n",
    "    n_hidden = hp.Int(\"n_hidden\", min_value=0, max_value=8, default=2)\n",
    "    n_neurons = hp.Int(\"n_neurons\", min_value=16, max_value=256)\n",
    "    learning_rate = hp.Float(\"learning_rate\", min_value=1e-4, max_value=1e-2, sampling=\"log\")\n",
    "    optimizer = hp.Choice(\"optimizer\", values=[\"sgd\", \"adam\"])\n",
    "    \n",
    "    if optimizer =='sgd':\n",
    "        optimizer = K.optimizers.SGD(learning_rate=learning_rate)\n",
    "    else:\n",
    "        optimizer = K.optimizers.Adam(learning_rate=learning_rate)\n",
    "        \n",
    "    model = K.models.Sequential()\n",
    "    model.add(K.layers.Flatten())\n",
    "    for _ in range(n_hidden):\n",
    "        model.add(K.layers.Dense(n_neurons, activation='relu'))\n",
    "    model.add(K.layers.Dense(10, activation='softmax'))\n",
    "    \n",
    "    model.compile(optimizer=optimizer,\n",
    "                 loss='sparse_categorical_crossentropy',\n",
    "                 metrics=['accuracy'])\n",
    "\n",
    "    return model\n",
    "    "
   ]
  },
  {
   "cell_type": "code",
   "execution_count": null,
   "id": "63fe4053",
   "metadata": {},
   "outputs": [],
   "source": [
    "random_search_tuner=kt.RandomSearch(build_model,\n",
    "                                  objective='val_accuracy',\n",
    "                                  max_trials=5,\n",
    "                                  overwrite=True,\n",
    "                                  directory='my_fashion_mnist',\n",
    "                                  project_name='my_rnd_search',\n",
    "                                  seed=42)\n"
   ]
  },
  {
   "cell_type": "code",
   "execution_count": 10,
   "id": "d8b5d6f8",
   "metadata": {},
   "outputs": [
    {
     "name": "stdout",
     "output_type": "stream",
     "text": [
      "Trial 5 Complete [00h 00m 19s]\n",
      "val_accuracy: 0.8385999798774719\n",
      "\n",
      "Best val_accuracy So Far: 0.8632000088691711\n",
      "Total elapsed time: 00h 01m 39s\n",
      "INFO:tensorflow:Oracle triggered exit\n"
     ]
    }
   ],
   "source": [
    "random_search_tuner.search(X_train, y_train, epochs=10,\n",
    "                          validation_data=(X_valid, y_valid))"
   ]
  },
  {
   "cell_type": "code",
   "execution_count": 11,
   "id": "1219595c",
   "metadata": {},
   "outputs": [],
   "source": [
    "top3_models = random_search_tuner.get_best_models(num_models=3)"
   ]
  },
  {
   "cell_type": "code",
   "execution_count": 12,
   "id": "df4205ab",
   "metadata": {},
   "outputs": [],
   "source": [
    "best_model = top3_models[0]"
   ]
  },
  {
   "cell_type": "code",
   "execution_count": 13,
   "id": "5e8bff2f",
   "metadata": {},
   "outputs": [],
   "source": [
    "top3_params = random_search_tuner.get_best_hyperparameters(num_trials=3)"
   ]
  },
  {
   "cell_type": "code",
   "execution_count": 15,
   "id": "83217cc0",
   "metadata": {},
   "outputs": [
    {
     "data": {
      "text/plain": [
       "{'n_hidden': 7,\n",
       " 'n_neurons': 100,\n",
       " 'learning_rate': 0.0012482904754698163,\n",
       " 'optimizer': 'sgd'}"
      ]
     },
     "execution_count": 15,
     "metadata": {},
     "output_type": "execute_result"
    }
   ],
   "source": [
    "top3_params[0].values"
   ]
  },
  {
   "cell_type": "code",
   "execution_count": 16,
   "id": "37129b3c",
   "metadata": {},
   "outputs": [],
   "source": [
    "best_trial = random_search_tuner.oracle.get_best_trials(num_trials=1)[0]"
   ]
  },
  {
   "cell_type": "code",
   "execution_count": 17,
   "id": "9c6f318d",
   "metadata": {},
   "outputs": [
    {
     "name": "stdout",
     "output_type": "stream",
     "text": [
      "Trial 1 summary\n",
      "Hyperparameters:\n",
      "n_hidden: 7\n",
      "n_neurons: 100\n",
      "learning_rate: 0.0012482904754698163\n",
      "optimizer: sgd\n",
      "Score: 0.8632000088691711\n"
     ]
    }
   ],
   "source": [
    "best_trial.summary()"
   ]
  },
  {
   "cell_type": "code",
   "execution_count": 20,
   "id": "3eff70dd",
   "metadata": {},
   "outputs": [
    {
     "data": {
      "text/plain": [
       "0.8632000088691711"
      ]
     },
     "execution_count": 20,
     "metadata": {},
     "output_type": "execute_result"
    }
   ],
   "source": [
    "best_trial.metrics.get_last_value('val_accuracy')"
   ]
  },
  {
   "cell_type": "markdown",
   "id": "d66a7c50",
   "metadata": {},
   "source": [
    "# Best model can be trained on the full dataset (train+val) and later evaluated on the test set"
   ]
  },
  {
   "cell_type": "code",
   "execution_count": 21,
   "id": "ba5e1940",
   "metadata": {},
   "outputs": [
    {
     "name": "stdout",
     "output_type": "stream",
     "text": [
      "Epoch 1/10\n",
      "1875/1875 [==============================] - 2s 981us/step - loss: 0.3284 - accuracy: 0.8783\n",
      "Epoch 2/10\n",
      "1875/1875 [==============================] - 2s 956us/step - loss: 0.3203 - accuracy: 0.8814\n",
      "Epoch 3/10\n",
      "1875/1875 [==============================] - 2s 956us/step - loss: 0.3111 - accuracy: 0.8856\n",
      "Epoch 4/10\n",
      "1875/1875 [==============================] - 2s 950us/step - loss: 0.3050 - accuracy: 0.8870\n",
      "Epoch 5/10\n",
      "1875/1875 [==============================] - 2s 954us/step - loss: 0.2987 - accuracy: 0.8895\n",
      "Epoch 6/10\n",
      "1875/1875 [==============================] - 2s 970us/step - loss: 0.2917 - accuracy: 0.8903\n",
      "Epoch 7/10\n",
      "1875/1875 [==============================] - 2s 981us/step - loss: 0.2864 - accuracy: 0.8933\n",
      "Epoch 8/10\n",
      "1875/1875 [==============================] - 2s 967us/step - loss: 0.2815 - accuracy: 0.8954\n",
      "Epoch 9/10\n",
      "1875/1875 [==============================] - 2s 970us/step - loss: 0.2750 - accuracy: 0.8981\n",
      "Epoch 10/10\n",
      "1875/1875 [==============================] - 2s 976us/step - loss: 0.2709 - accuracy: 0.8988\n"
     ]
    },
    {
     "data": {
      "text/plain": [
       "<keras.callbacks.History at 0x7f53cbe87850>"
      ]
     },
     "execution_count": 21,
     "metadata": {},
     "output_type": "execute_result"
    }
   ],
   "source": [
    "best_model.fit(X_train_full, y_train_full, epochs=10)"
   ]
  },
  {
   "cell_type": "code",
   "execution_count": 22,
   "id": "8eeb4f71",
   "metadata": {},
   "outputs": [
    {
     "name": "stdout",
     "output_type": "stream",
     "text": [
      "313/313 [==============================] - 0s 811us/step - loss: 0.4108 - accuracy: 0.8536\n"
     ]
    }
   ],
   "source": [
    "test_loss, test_accuracy = best_model.evaluate(X_test, y_test)"
   ]
  },
  {
   "cell_type": "markdown",
   "id": "d95c9484",
   "metadata": {},
   "source": [
    "# Tuning of the model.fit() arguments instead of  architecture parameters, like the batch size, requires subclassing kt.HyperModel class and implementing a wrapper of the .fit() method"
   ]
  },
  {
   "cell_type": "code",
   "execution_count": 11,
   "id": "54760695",
   "metadata": {},
   "outputs": [],
   "source": [
    "class MyClassificationHyperModel(kt.HyperModel):\n",
    "    def build(self, hp):\n",
    "        return build_model(hp)\n",
    "    \n",
    "    def fit(self, hp, model, X, y, **kwargs):\n",
    "        if hp.Boolean('normalize'):\n",
    "            norm_layer = K.layers.Normalization()\n",
    "            X = norm_layer(X)\n",
    "        return model.fit(X, y, **kwargs)"
   ]
  },
  {
   "cell_type": "code",
   "execution_count": null,
   "id": "4f6f5eab",
   "metadata": {},
   "outputs": [],
   "source": [
    "hyperband_tuner = kt.Hyperband(MyClassificationHyperModel(),\n",
    "                              objective='val_accuracy',\n",
    "                              seed=42,\n",
    "                              max_epochs=8,\n",
    "                              factor=3,\n",
    "                              hyperband_iterations=2,\n",
    "                              overwrite=True,\n",
    "                              directory='my_fashion_mnist',\n",
    "                              project_name='hyperband')"
   ]
  },
  {
   "cell_type": "code",
   "execution_count": 13,
   "id": "5ee4ed85",
   "metadata": {},
   "outputs": [
    {
     "name": "stdout",
     "output_type": "stream",
     "text": [
      "Trial 20 Complete [00h 00m 23s]\n",
      "val_accuracy: 0.8460000157356262\n",
      "\n",
      "Best val_accuracy So Far: 0.8600000143051147\n",
      "Total elapsed time: 00h 04m 14s\n",
      "INFO:tensorflow:Oracle triggered exit\n"
     ]
    }
   ],
   "source": [
    "root_logdir = Path(hyperband_tuner.project_dir) / 'tensorboard'\n",
    "tensorboard_cb = K.callbacks.TensorBoard(root_logdir)\n",
    "earlystopping_cb = K.callbacks.EarlyStopping(patience=2)\n",
    "hyperband_tuner.search(X_train, y_train,\n",
    "                      epochs=10,\n",
    "                      validation_data=(X_valid, y_valid),\n",
    "                      callbacks=[earlystopping_cb, tensorboard_cb])"
   ]
  },
  {
   "cell_type": "code",
   "execution_count": 14,
   "id": "f4a20dd6",
   "metadata": {},
   "outputs": [],
   "source": [
    "%load_ext tensorboard"
   ]
  },
  {
   "cell_type": "code",
   "execution_count": 15,
   "id": "8ef7aea6",
   "metadata": {},
   "outputs": [
    {
     "data": {
      "text/plain": [
       "PosixPath('my_fashion_mnist/hyperband/tensorboard')"
      ]
     },
     "execution_count": 15,
     "metadata": {},
     "output_type": "execute_result"
    }
   ],
   "source": [
    "root_logdir"
   ]
  },
  {
   "cell_type": "markdown",
   "id": "85b3f10e-ae2e-4121-9967-38ae398feb42",
   "metadata": {},
   "source": [
    "## Observing HPT with TensorBoard"
   ]
  },
  {
   "cell_type": "code",
   "execution_count": 16,
   "id": "2ee6865a",
   "metadata": {},
   "outputs": [
    {
     "data": {
      "text/html": [
       "\n",
       "      <iframe id=\"tensorboard-frame-fbf151a4deaa8472\" width=\"100%\" height=\"800\" frameborder=\"0\">\n",
       "      </iframe>\n",
       "      <script>\n",
       "        (function() {\n",
       "          const frame = document.getElementById(\"tensorboard-frame-fbf151a4deaa8472\");\n",
       "          const url = new URL(\"/\", window.location);\n",
       "          const port = 6006;\n",
       "          if (port) {\n",
       "            url.port = port;\n",
       "          }\n",
       "          frame.src = url;\n",
       "        })();\n",
       "      </script>\n",
       "    "
      ],
      "text/plain": [
       "<IPython.core.display.HTML object>"
      ]
     },
     "metadata": {},
     "output_type": "display_data"
    }
   ],
   "source": [
    "%tensorboard --logdir='my_fashion_mnist/hyperband/tensorboard'"
   ]
  },
  {
   "cell_type": "markdown",
   "id": "f6aa4262",
   "metadata": {},
   "source": [
    "# Bayesian HP search"
   ]
  },
  {
   "cell_type": "code",
   "execution_count": 17,
   "id": "ffccacf6",
   "metadata": {},
   "outputs": [],
   "source": [
    "bayesian_opt_tuner = kt.BayesianOptimization(\n",
    "    MyClassificationHyperModel(),\n",
    "    objective=\"val_accuracy\",\n",
    "    seed=42,\n",
    "    max_trials=10,\n",
    "    alpha=1e-4,\n",
    "    beta=2.6,\n",
    "    overwrite=True,\n",
    "    directory=\"my_fashion_mnist\",\n",
    "    project_name=\"bayesian_opt\")"
   ]
  },
  {
   "cell_type": "code",
   "execution_count": 18,
   "id": "99362cd8",
   "metadata": {},
   "outputs": [
    {
     "name": "stdout",
     "output_type": "stream",
     "text": [
      "Trial 10 Complete [00h 00m 34s]\n",
      "val_accuracy: 0.8464000225067139\n",
      "\n",
      "Best val_accuracy So Far: 0.8604000210762024\n",
      "Total elapsed time: 00h 04m 26s\n",
      "INFO:tensorflow:Oracle triggered exit\n"
     ]
    }
   ],
   "source": [
    "bayesian_opt_tuner.search(X_train, y_train,\n",
    "                      epochs=10,\n",
    "                      validation_data=(X_valid, y_valid),\n",
    "                      callbacks=[earlystopping_cb, tensorboard_cb])"
   ]
  },
  {
   "cell_type": "code",
   "execution_count": null,
   "id": "ae07fb01",
   "metadata": {},
   "outputs": [],
   "source": []
  }
 ],
 "metadata": {
  "kernelspec": {
   "display_name": "tf39",
   "language": "python",
   "name": "tf39"
  },
  "language_info": {
   "codemirror_mode": {
    "name": "ipython",
    "version": 3
   },
   "file_extension": ".py",
   "mimetype": "text/x-python",
   "name": "python",
   "nbconvert_exporter": "python",
   "pygments_lexer": "ipython3",
   "version": "3.9.18"
  }
 },
 "nbformat": 4,
 "nbformat_minor": 5
}
