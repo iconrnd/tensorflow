{
 "cells": [
  {
   "cell_type": "markdown",
   "id": "b138234f-d5b0-433e-ba7d-0965d79dd76b",
   "metadata": {},
   "source": [
    "## Regression model using Functional API and heterogeneous model architecture"
   ]
  },
  {
   "cell_type": "code",
   "execution_count": null,
   "id": "f8a94024",
   "metadata": {
    "scrolled": true
   },
   "outputs": [],
   "source": [
    "import warnings\n",
    "warnings.filterwarnings('ignore')\n",
    "\n",
    "import tensorflow as tf\n",
    "import tensorflow.keras as K\n",
    "import numpy as np\n",
    "import pandas as pd\n",
    "import matplotlib.pyplot as plt"
   ]
  },
  {
   "cell_type": "code",
   "execution_count": null,
   "id": "3843e079",
   "metadata": {
    "scrolled": true
   },
   "outputs": [],
   "source": [
    "tf.config.list_physical_devices('GPU')"
   ]
  },
  {
   "cell_type": "markdown",
   "id": "92aee23e-355d-4f54-8841-20fe8c42a597",
   "metadata": {},
   "source": [
    "## Boston housing regression dataset"
   ]
  },
  {
   "cell_type": "code",
   "execution_count": 3,
   "id": "3ae486bf",
   "metadata": {},
   "outputs": [],
   "source": [
    "boston_housing=tf.keras.datasets.boston_housing.load_data(\n",
    "    path=\"boston_housing.npz\", test_split=0.2, seed=113\n",
    ")"
   ]
  },
  {
   "cell_type": "code",
   "execution_count": 4,
   "id": "d425c8d7",
   "metadata": {},
   "outputs": [],
   "source": [
    "(X_train_full, y_train_full), (X_test, y_test) = boston_housing"
   ]
  },
  {
   "cell_type": "code",
   "execution_count": 5,
   "id": "b8974121",
   "metadata": {},
   "outputs": [
    {
     "data": {
      "text/plain": [
       "(404, 13)"
      ]
     },
     "execution_count": 5,
     "metadata": {},
     "output_type": "execute_result"
    }
   ],
   "source": [
    "X_train_full.shape"
   ]
  },
  {
   "cell_type": "code",
   "execution_count": 6,
   "id": "3ecb2acb",
   "metadata": {},
   "outputs": [],
   "source": [
    "X_train, y_train = X_train_full[:-50], y_train_full[:-50]\n",
    "X_valid, y_valid = X_train_full[-50:], y_train_full[-50:]\n",
    "\n",
    "X_new=X_test[:3]\n",
    "y_new=y_test[:3]"
   ]
  },
  {
   "cell_type": "code",
   "execution_count": 7,
   "id": "f4c3c5eb",
   "metadata": {},
   "outputs": [
    {
     "data": {
      "text/plain": [
       "(354, 13)"
      ]
     },
     "execution_count": 7,
     "metadata": {},
     "output_type": "execute_result"
    }
   ],
   "source": [
    "X_train.shape"
   ]
  },
  {
   "cell_type": "code",
   "execution_count": 8,
   "id": "9206592e",
   "metadata": {},
   "outputs": [
    {
     "data": {
      "text/plain": [
       "dtype('float64')"
      ]
     },
     "execution_count": 8,
     "metadata": {},
     "output_type": "execute_result"
    }
   ],
   "source": [
    "X_train.dtype"
   ]
  },
  {
   "cell_type": "code",
   "execution_count": 9,
   "id": "2e9619e4",
   "metadata": {},
   "outputs": [],
   "source": [
    "tf.random.set_seed(42)"
   ]
  },
  {
   "cell_type": "code",
   "execution_count": 10,
   "id": "a92340f9",
   "metadata": {},
   "outputs": [],
   "source": [
    "#normalization_layer=K.layers.Normalization()\n",
    "#hidden_layer1=K.layers.Dense(30, activation='relu')\n",
    "#hidden_layer2=K.layers.Dense(30, activation='relu')\n",
    "#concat_layer=K.layers.Concatenate()\n",
    "#output_layer=K.layers.Dense(1)"
   ]
  },
  {
   "cell_type": "code",
   "execution_count": null,
   "id": "ad681916",
   "metadata": {},
   "outputs": [],
   "source": [
    "# Sigle input model\n",
    "#input_=K.layers.Input(shape=X_train.shape[1:])\n",
    "#normalized=normalization_layer(input_)\n",
    "#hidden1=hidden_layer1(normalized)\n",
    "#hidden2=hidden_layer2(hidden1)\n",
    "#concat=concat_layer([normalized, hidden2])\n",
    "#output=output_layer(concat)"
   ]
  },
  {
   "cell_type": "markdown",
   "id": "a77e25db-cc0a-4757-b224-ac7c506576af",
   "metadata": {},
   "source": [
    "## Wide and Deep Model: multiple inputs different paths model"
   ]
  },
  {
   "cell_type": "code",
   "execution_count": 11,
   "id": "30fbf9db",
   "metadata": {},
   "outputs": [],
   "source": [
    "input_wide=K.layers.Input(shape=[5], name='input_wide')\n",
    "input_deep=K.layers.Input(shape=[8], name='input_deep')\n",
    "\n",
    "norm_layer_wide=K.layers.Normalization()\n",
    "norm_layer_deep=K.layers.Normalization()\n",
    "\n",
    "norm_wide=norm_layer_wide(input_wide)\n",
    "norm_deep=norm_layer_deep(input_deep)\n",
    "\n",
    "hidden1=K.layers.Dense(30, activation='relu')(norm_deep)\n",
    "hidden2=K.layers.Dense(30, activation='relu')(hidden1)\n",
    "\n",
    "concat=K.layers.Concatenate()([norm_wide, hidden2])\n",
    "\n",
    "output=K.layers.Dense(1, name='output')(concat)\n",
    "aux_output=K.layers.Dense(1, name='aux_output')(hidden2)"
   ]
  },
  {
   "cell_type": "code",
   "execution_count": null,
   "id": "69070ddd",
   "metadata": {},
   "outputs": [],
   "source": [
    "#model=K.Model(inputs=input_, outputs=output)"
   ]
  },
  {
   "cell_type": "code",
   "execution_count": 12,
   "id": "03b6404f",
   "metadata": {},
   "outputs": [],
   "source": [
    "model=K.Model(inputs=[input_wide, input_deep], \n",
    "              outputs=[output, aux_output])"
   ]
  },
  {
   "cell_type": "code",
   "execution_count": 13,
   "id": "0712b8e8",
   "metadata": {},
   "outputs": [
    {
     "name": "stdout",
     "output_type": "stream",
     "text": [
      "Model: \"model\"\n",
      "__________________________________________________________________________________________________\n",
      " Layer (type)                   Output Shape         Param #     Connected to                     \n",
      "==================================================================================================\n",
      " input_deep (InputLayer)        [(None, 8)]          0           []                               \n",
      "                                                                                                  \n",
      " normalization_3 (Normalization  (None, 8)           17          ['input_deep[0][0]']             \n",
      " )                                                                                                \n",
      "                                                                                                  \n",
      " input_wide (InputLayer)        [(None, 5)]          0           []                               \n",
      "                                                                                                  \n",
      " dense_3 (Dense)                (None, 30)           270         ['normalization_3[0][0]']        \n",
      "                                                                                                  \n",
      " normalization_2 (Normalization  (None, 5)           11          ['input_wide[0][0]']             \n",
      " )                                                                                                \n",
      "                                                                                                  \n",
      " dense_4 (Dense)                (None, 30)           930         ['dense_3[0][0]']                \n",
      "                                                                                                  \n",
      " concatenate_1 (Concatenate)    (None, 35)           0           ['normalization_2[0][0]',        \n",
      "                                                                  'dense_4[0][0]']                \n",
      "                                                                                                  \n",
      " output (Dense)                 (None, 1)            36          ['concatenate_1[0][0]']          \n",
      "                                                                                                  \n",
      " aux_output (Dense)             (None, 1)            31          ['dense_4[0][0]']                \n",
      "                                                                                                  \n",
      "==================================================================================================\n",
      "Total params: 1,295\n",
      "Trainable params: 1,267\n",
      "Non-trainable params: 28\n",
      "__________________________________________________________________________________________________\n"
     ]
    }
   ],
   "source": [
    "model.summary()"
   ]
  },
  {
   "cell_type": "code",
   "execution_count": 14,
   "id": "bfb87ea5",
   "metadata": {},
   "outputs": [
    {
     "data": {
      "text/plain": [
       "[<keras.engine.input_layer.InputLayer at 0x7efec0500d30>,\n",
       " <keras.layers.preprocessing.normalization.Normalization at 0x7efec0500910>,\n",
       " <keras.engine.input_layer.InputLayer at 0x7efec03080d0>,\n",
       " <keras.layers.core.dense.Dense at 0x7effc0359150>,\n",
       " <keras.layers.preprocessing.normalization.Normalization at 0x7efec05006a0>,\n",
       " <keras.layers.core.dense.Dense at 0x7effc0398940>,\n",
       " <keras.layers.merging.concatenate.Concatenate at 0x7efecef6ebf0>,\n",
       " <keras.layers.core.dense.Dense at 0x7efecef6f100>,\n",
       " <keras.layers.core.dense.Dense at 0x7efec13d0730>]"
      ]
     },
     "execution_count": 14,
     "metadata": {},
     "output_type": "execute_result"
    }
   ],
   "source": [
    "model.layers"
   ]
  },
  {
   "cell_type": "code",
   "execution_count": 15,
   "id": "7b83682c",
   "metadata": {},
   "outputs": [],
   "source": [
    "optimizer=K.optimizers.Adam(lr=1e-3)"
   ]
  },
  {
   "cell_type": "markdown",
   "id": "8be00938-ce2f-4e07-9bf1-5291a22f7715",
   "metadata": {},
   "source": [
    "## Passing loss and loss weighting dicts based on named model outputs"
   ]
  },
  {
   "cell_type": "code",
   "execution_count": 16,
   "id": "548e3958",
   "metadata": {},
   "outputs": [],
   "source": [
    "loss_dict={'output':'mse',\n",
    "            'aux_output':'mse'}\n",
    "\n",
    "loss_weights_dict={'output':0.9,\n",
    "                   'aux_output':0.1}"
   ]
  },
  {
   "cell_type": "code",
   "execution_count": 17,
   "id": "da43e78a",
   "metadata": {},
   "outputs": [],
   "source": [
    "model.compile(loss=loss_dict,\n",
    "              loss_weights=loss_weights_dict,\n",
    "              optimizer=optimizer,\n",
    "              metrics=[\"RootMeanSquaredError\"])"
   ]
  },
  {
   "cell_type": "code",
   "execution_count": 19,
   "id": "cb326ad1",
   "metadata": {},
   "outputs": [],
   "source": [
    "X_train_wide, X_train_deep=X_train[:, :5], X_train[:, 5:]\n",
    "X_valid_wide, X_valid_deep=X_valid[:, :5], X_valid[:, 5:]\n",
    "X_test_wide, X_test_deep=X_test[:, :5], X_test[:, 5:]\n",
    "\n",
    "X_new_wide, X_new_deep=X_test_wide[:3], X_test_deep[:3]\n",
    "y_new=y_test[:3]"
   ]
  },
  {
   "cell_type": "code",
   "execution_count": 20,
   "id": "e9abd894",
   "metadata": {},
   "outputs": [],
   "source": [
    "norm_layer_wide.adapt(X_train_wide)\n",
    "norm_layer_deep.adapt(X_train_deep)"
   ]
  },
  {
   "cell_type": "markdown",
   "id": "90038046-04b7-4b92-a2ff-f4fafb1874b3",
   "metadata": {},
   "source": [
    "## Passing input data as dicts based on named model inputs"
   ]
  },
  {
   "cell_type": "code",
   "execution_count": 35,
   "id": "d00b2146",
   "metadata": {},
   "outputs": [],
   "source": [
    "input_dict={'input_wide':X_train_wide, 'input_deep':X_train_deep}\n",
    "input_valid_dict={'input_wide':X_valid_wide, 'input_deep':X_valid_deep}\n",
    "target_dict={'output':y_train, 'aux_output':y_train}\n",
    "target_valid_dict={'output':y_valid, 'aux_output':y_valid}\n",
    "\n",
    "input_test_dict={'input_wide':X_test_wide, 'input_deep':X_test_deep}\n",
    "target_test_dict={'output':y_test, 'aux_output':y_test}\n",
    "\n",
    "X_new_dict={'input_wide':X_new_wide, 'input_deep':X_new_deep}"
   ]
  },
  {
   "cell_type": "markdown",
   "id": "72b998cd-0ec3-4940-b93d-ed45fb8ef0f1",
   "metadata": {},
   "source": [
    "## Training and retrieving history object"
   ]
  },
  {
   "cell_type": "code",
   "execution_count": 23,
   "id": "6c4f4ec9",
   "metadata": {
    "scrolled": true
   },
   "outputs": [
    {
     "name": "stdout",
     "output_type": "stream",
     "text": [
      "Epoch 1/30\n",
      " 1/12 [=>............................] - ETA: 15s - loss: 516.7260 - output_loss: 517.3488 - aux_output_loss: 511.1210 - output_root_mean_squared_error: 22.7453 - aux_output_root_mean_squared_error: 22.6080"
     ]
    },
    {
     "name": "stderr",
     "output_type": "stream",
     "text": [
      "2022-11-28 23:46:39.634162: I tensorflow/stream_executor/cuda/cuda_blas.cc:1614] TensorFloat-32 will be used for the matrix multiplication. This will only be logged once.\n"
     ]
    },
    {
     "name": "stdout",
     "output_type": "stream",
     "text": [
      "12/12 [==============================] - 2s 22ms/step - loss: 576.1303 - output_loss: 576.7944 - aux_output_loss: 570.1533 - output_root_mean_squared_error: 24.0165 - aux_output_root_mean_squared_error: 23.8779 - val_loss: 538.0357 - val_output_loss: 537.9349 - val_aux_output_loss: 538.9426 - val_output_root_mean_squared_error: 23.1934 - val_aux_output_root_mean_squared_error: 23.2151\n",
      "Epoch 2/30\n",
      "12/12 [==============================] - 0s 5ms/step - loss: 557.3365 - output_loss: 556.8776 - aux_output_loss: 561.4667 - output_root_mean_squared_error: 23.5983 - aux_output_root_mean_squared_error: 23.6953 - val_loss: 519.8203 - val_output_loss: 518.6968 - val_aux_output_loss: 529.9319 - val_output_root_mean_squared_error: 22.7749 - val_aux_output_root_mean_squared_error: 23.0202\n",
      "Epoch 3/30\n",
      "12/12 [==============================] - 0s 6ms/step - loss: 535.6300 - output_loss: 534.0551 - aux_output_loss: 549.8047 - output_root_mean_squared_error: 23.1096 - aux_output_root_mean_squared_error: 23.4479 - val_loss: 498.2287 - val_output_loss: 496.0472 - val_aux_output_loss: 517.8628 - val_output_root_mean_squared_error: 22.2721 - val_aux_output_root_mean_squared_error: 22.7566\n",
      "Epoch 4/30\n",
      "12/12 [==============================] - 0s 4ms/step - loss: 509.3542 - output_loss: 506.6025 - aux_output_loss: 534.1204 - output_root_mean_squared_error: 22.5078 - aux_output_root_mean_squared_error: 23.1110 - val_loss: 471.4727 - val_output_loss: 468.1592 - val_aux_output_loss: 501.2939 - val_output_root_mean_squared_error: 21.6370 - val_aux_output_root_mean_squared_error: 22.3896\n",
      "Epoch 5/30\n",
      "12/12 [==============================] - 0s 4ms/step - loss: 477.8096 - output_loss: 473.8130 - aux_output_loss: 513.7797 - output_root_mean_squared_error: 21.7672 - aux_output_root_mean_squared_error: 22.6667 - val_loss: 439.1499 - val_output_loss: 434.6445 - val_aux_output_loss: 479.6991 - val_output_root_mean_squared_error: 20.8481 - val_aux_output_root_mean_squared_error: 21.9020\n",
      "Epoch 6/30\n",
      "12/12 [==============================] - 0s 4ms/step - loss: 438.7619 - output_loss: 433.3715 - aux_output_loss: 487.2755 - output_root_mean_squared_error: 20.8176 - aux_output_root_mean_squared_error: 22.0743 - val_loss: 399.6299 - val_output_loss: 393.8071 - val_aux_output_loss: 452.0359 - val_output_root_mean_squared_error: 19.8446 - val_aux_output_root_mean_squared_error: 21.2611\n",
      "Epoch 7/30\n",
      "12/12 [==============================] - 0s 6ms/step - loss: 392.9058 - output_loss: 386.0950 - aux_output_loss: 454.2026 - output_root_mean_squared_error: 19.6493 - aux_output_root_mean_squared_error: 21.3120 - val_loss: 352.4507 - val_output_loss: 345.2964 - val_aux_output_loss: 416.8394 - val_output_root_mean_squared_error: 18.5822 - val_aux_output_root_mean_squared_error: 20.4166\n",
      "Epoch 8/30\n",
      "12/12 [==============================] - 0s 5ms/step - loss: 339.4339 - output_loss: 331.2250 - aux_output_loss: 413.3137 - output_root_mean_squared_error: 18.1996 - aux_output_root_mean_squared_error: 20.3301 - val_loss: 299.6760 - val_output_loss: 291.3168 - val_aux_output_loss: 374.9084 - val_output_root_mean_squared_error: 17.0680 - val_aux_output_root_mean_squared_error: 19.3626\n",
      "Epoch 9/30\n",
      "12/12 [==============================] - 0s 5ms/step - loss: 280.3339 - output_loss: 270.9140 - aux_output_loss: 365.1134 - output_root_mean_squared_error: 16.4595 - aux_output_root_mean_squared_error: 19.1079 - val_loss: 244.7249 - val_output_loss: 235.4855 - val_aux_output_loss: 327.8796 - val_output_root_mean_squared_error: 15.3455 - val_aux_output_root_mean_squared_error: 18.1074\n",
      "Epoch 10/30\n",
      "12/12 [==============================] - 0s 4ms/step - loss: 220.6306 - output_loss: 210.4651 - aux_output_loss: 312.1198 - output_root_mean_squared_error: 14.5074 - aux_output_root_mean_squared_error: 17.6669 - val_loss: 188.7837 - val_output_loss: 179.1451 - val_aux_output_loss: 275.5304 - val_output_root_mean_squared_error: 13.3845 - val_aux_output_root_mean_squared_error: 16.5991\n",
      "Epoch 11/30\n",
      "12/12 [==============================] - 0s 5ms/step - loss: 162.6776 - output_loss: 152.3990 - aux_output_loss: 255.1851 - output_root_mean_squared_error: 12.3450 - aux_output_root_mean_squared_error: 15.9745 - val_loss: 140.2058 - val_output_loss: 130.9493 - val_aux_output_loss: 223.5147 - val_output_root_mean_squared_error: 11.4433 - val_aux_output_root_mean_squared_error: 14.9504\n",
      "Epoch 12/30\n",
      "12/12 [==============================] - 0s 5ms/step - loss: 116.3951 - output_loss: 106.8671 - aux_output_loss: 202.1470 - output_root_mean_squared_error: 10.3377 - aux_output_root_mean_squared_error: 14.2178 - val_loss: 102.4685 - val_output_loss: 94.3201 - val_aux_output_loss: 175.8043 - val_output_root_mean_squared_error: 9.7119 - val_aux_output_root_mean_squared_error: 13.2591\n",
      "Epoch 13/30\n",
      "12/12 [==============================] - 0s 5ms/step - loss: 81.4019 - output_loss: 73.3720 - aux_output_loss: 153.6713 - output_root_mean_squared_error: 8.5657 - aux_output_root_mean_squared_error: 12.3964 - val_loss: 77.0539 - val_output_loss: 70.6020 - val_aux_output_loss: 135.1214 - val_output_root_mean_squared_error: 8.4025 - val_aux_output_root_mean_squared_error: 11.6242\n",
      "Epoch 14/30\n",
      "12/12 [==============================] - 0s 4ms/step - loss: 61.5254 - output_loss: 55.4228 - aux_output_loss: 116.4491 - output_root_mean_squared_error: 7.4446 - aux_output_root_mean_squared_error: 10.7912 - val_loss: 62.8308 - val_output_loss: 58.1643 - val_aux_output_loss: 104.8287 - val_output_root_mean_squared_error: 7.6266 - val_aux_output_root_mean_squared_error: 10.2386\n",
      "Epoch 15/30\n",
      "12/12 [==============================] - 0s 5ms/step - loss: 50.2658 - output_loss: 45.9572 - aux_output_loss: 89.0434 - output_root_mean_squared_error: 6.7792 - aux_output_root_mean_squared_error: 9.4363 - val_loss: 54.8820 - val_output_loss: 51.5888 - val_aux_output_loss: 84.5202 - val_output_root_mean_squared_error: 7.1825 - val_aux_output_root_mean_squared_error: 9.1935\n",
      "Epoch 16/30\n",
      "12/12 [==============================] - 0s 5ms/step - loss: 43.7469 - output_loss: 40.7327 - aux_output_loss: 70.8743 - output_root_mean_squared_error: 6.3822 - aux_output_root_mean_squared_error: 8.4187 - val_loss: 49.0442 - val_output_loss: 46.6290 - val_aux_output_loss: 70.7818 - val_output_root_mean_squared_error: 6.8285 - val_aux_output_root_mean_squared_error: 8.4132\n",
      "Epoch 17/30\n",
      "12/12 [==============================] - 0s 4ms/step - loss: 39.4809 - output_loss: 37.2732 - aux_output_loss: 59.3503 - output_root_mean_squared_error: 6.1052 - aux_output_root_mean_squared_error: 7.7039 - val_loss: 44.0017 - val_output_loss: 42.1142 - val_aux_output_loss: 60.9895 - val_output_root_mean_squared_error: 6.4895 - val_aux_output_root_mean_squared_error: 7.8096\n",
      "Epoch 18/30\n",
      "12/12 [==============================] - 0s 4ms/step - loss: 35.8869 - output_loss: 34.2542 - aux_output_loss: 50.5809 - output_root_mean_squared_error: 5.8527 - aux_output_root_mean_squared_error: 7.1120 - val_loss: 39.9800 - val_output_loss: 38.5204 - val_aux_output_loss: 53.1165 - val_output_root_mean_squared_error: 6.2065 - val_aux_output_root_mean_squared_error: 7.2881\n",
      "Epoch 19/30\n",
      "12/12 [==============================] - 0s 6ms/step - loss: 33.1327 - output_loss: 31.9132 - aux_output_loss: 44.1075 - output_root_mean_squared_error: 5.6492 - aux_output_root_mean_squared_error: 6.6414 - val_loss: 36.5694 - val_output_loss: 35.4157 - val_aux_output_loss: 46.9530 - val_output_root_mean_squared_error: 5.9511 - val_aux_output_root_mean_squared_error: 6.8522\n",
      "Epoch 20/30\n",
      "12/12 [==============================] - 0s 4ms/step - loss: 30.7551 - output_loss: 29.8510 - aux_output_loss: 38.8917 - output_root_mean_squared_error: 5.4636 - aux_output_root_mean_squared_error: 6.2363 - val_loss: 33.9774 - val_output_loss: 33.0909 - val_aux_output_loss: 41.9560 - val_output_root_mean_squared_error: 5.7525 - val_aux_output_root_mean_squared_error: 6.4773\n",
      "Epoch 21/30\n",
      "12/12 [==============================] - 0s 4ms/step - loss: 29.0881 - output_loss: 28.3984 - aux_output_loss: 35.2955 - output_root_mean_squared_error: 5.3290 - aux_output_root_mean_squared_error: 5.9410 - val_loss: 31.7992 - val_output_loss: 31.0840 - val_aux_output_loss: 38.2360 - val_output_root_mean_squared_error: 5.5753 - val_aux_output_root_mean_squared_error: 6.1835\n"
     ]
    },
    {
     "name": "stdout",
     "output_type": "stream",
     "text": [
      "Epoch 22/30\n",
      "12/12 [==============================] - 0s 4ms/step - loss: 27.7441 - output_loss: 27.2246 - aux_output_loss: 32.4200 - output_root_mean_squared_error: 5.2177 - aux_output_root_mean_squared_error: 5.6939 - val_loss: 30.0058 - val_output_loss: 29.4407 - val_aux_output_loss: 35.0919 - val_output_root_mean_squared_error: 5.4259 - val_aux_output_root_mean_squared_error: 5.9238\n",
      "Epoch 23/30\n",
      "12/12 [==============================] - 0s 8ms/step - loss: 26.5819 - output_loss: 26.1790 - aux_output_loss: 30.2083 - output_root_mean_squared_error: 5.1165 - aux_output_root_mean_squared_error: 5.4962 - val_loss: 28.6540 - val_output_loss: 28.1886 - val_aux_output_loss: 32.8423 - val_output_root_mean_squared_error: 5.3093 - val_aux_output_root_mean_squared_error: 5.7308\n",
      "Epoch 24/30\n",
      "12/12 [==============================] - 0s 5ms/step - loss: 25.7163 - output_loss: 25.3941 - aux_output_loss: 28.6158 - output_root_mean_squared_error: 5.0393 - aux_output_root_mean_squared_error: 5.3494 - val_loss: 27.5332 - val_output_loss: 27.1573 - val_aux_output_loss: 30.9168 - val_output_root_mean_squared_error: 5.2113 - val_aux_output_root_mean_squared_error: 5.5603\n",
      "Epoch 25/30\n",
      "12/12 [==============================] - 0s 4ms/step - loss: 24.9108 - output_loss: 24.6441 - aux_output_loss: 27.3111 - output_root_mean_squared_error: 4.9643 - aux_output_root_mean_squared_error: 5.2260 - val_loss: 26.1265 - val_output_loss: 25.8189 - val_aux_output_loss: 28.8948 - val_output_root_mean_squared_error: 5.0812 - val_aux_output_root_mean_squared_error: 5.3754\n",
      "Epoch 26/30\n",
      "12/12 [==============================] - 0s 7ms/step - loss: 24.1048 - output_loss: 23.8871 - aux_output_loss: 26.0648 - output_root_mean_squared_error: 4.8874 - aux_output_root_mean_squared_error: 5.1054 - val_loss: 25.3320 - val_output_loss: 25.0813 - val_aux_output_loss: 27.5886 - val_output_root_mean_squared_error: 5.0081 - val_aux_output_root_mean_squared_error: 5.2525\n",
      "Epoch 27/30\n",
      "12/12 [==============================] - 0s 5ms/step - loss: 23.5882 - output_loss: 23.4084 - aux_output_loss: 25.2061 - output_root_mean_squared_error: 4.8382 - aux_output_root_mean_squared_error: 5.0206 - val_loss: 24.3858 - val_output_loss: 24.1819 - val_aux_output_loss: 26.2206 - val_output_root_mean_squared_error: 4.9175 - val_aux_output_root_mean_squared_error: 5.1206\n",
      "Epoch 28/30\n",
      "12/12 [==============================] - 0s 4ms/step - loss: 22.9389 - output_loss: 22.7884 - aux_output_loss: 24.2936 - output_root_mean_squared_error: 4.7737 - aux_output_root_mean_squared_error: 4.9289 - val_loss: 23.7594 - val_output_loss: 23.5812 - val_aux_output_loss: 25.3635 - val_output_root_mean_squared_error: 4.8561 - val_aux_output_root_mean_squared_error: 5.0362\n",
      "Epoch 29/30\n",
      "12/12 [==============================] - 0s 4ms/step - loss: 22.5188 - output_loss: 22.3823 - aux_output_loss: 23.7478 - output_root_mean_squared_error: 4.7310 - aux_output_root_mean_squared_error: 4.8732 - val_loss: 23.3631 - val_output_loss: 23.2046 - val_aux_output_loss: 24.7900 - val_output_root_mean_squared_error: 4.8171 - val_aux_output_root_mean_squared_error: 4.9790\n",
      "Epoch 30/30\n",
      "12/12 [==============================] - 0s 5ms/step - loss: 22.0554 - output_loss: 21.9245 - aux_output_loss: 23.2332 - output_root_mean_squared_error: 4.6824 - aux_output_root_mean_squared_error: 4.8201 - val_loss: 22.7737 - val_output_loss: 22.6178 - val_aux_output_loss: 24.1765 - val_output_root_mean_squared_error: 4.7558 - val_aux_output_root_mean_squared_error: 4.9170\n"
     ]
    }
   ],
   "source": [
    "history = model.fit(input_dict,\n",
    "                    target_dict,\n",
    "                    epochs=30,\n",
    "                    validation_data=(input_valid_dict, target_valid_dict))"
   ]
  },
  {
   "cell_type": "code",
   "execution_count": 24,
   "id": "cbf90d3d",
   "metadata": {},
   "outputs": [
    {
     "data": {
      "text/plain": [
       "30"
      ]
     },
     "execution_count": 24,
     "metadata": {},
     "output_type": "execute_result"
    }
   ],
   "source": [
    "history.params['epochs']\n"
   ]
  },
  {
   "cell_type": "code",
   "execution_count": 50,
   "id": "072ea3b6",
   "metadata": {},
   "outputs": [
    {
     "data": {
      "text/plain": [
       "{'loss': [576.1303100585938,\n",
       "  557.3364868164062,\n",
       "  535.6300048828125,\n",
       "  509.354248046875,\n",
       "  477.8096008300781,\n",
       "  438.7619323730469,\n",
       "  392.90582275390625,\n",
       "  339.43389892578125,\n",
       "  280.3338928222656,\n",
       "  220.63055419921875,\n",
       "  162.67764282226562,\n",
       "  116.3951187133789,\n",
       "  81.40191650390625,\n",
       "  61.525390625,\n",
       "  50.26583480834961,\n",
       "  43.74690628051758,\n",
       "  39.48094177246094,\n",
       "  35.88688278198242,\n",
       "  33.1326789855957,\n",
       "  30.755088806152344,\n",
       "  29.088111877441406,\n",
       "  27.744117736816406,\n",
       "  26.581928253173828,\n",
       "  25.7163028717041,\n",
       "  24.9107723236084,\n",
       "  24.104825973510742,\n",
       "  23.588167190551758,\n",
       "  22.938907623291016,\n",
       "  22.51883316040039,\n",
       "  22.055387496948242],\n",
       " 'output_loss': [576.79443359375,\n",
       "  556.8776245117188,\n",
       "  534.0551147460938,\n",
       "  506.60247802734375,\n",
       "  473.81298828125,\n",
       "  433.37152099609375,\n",
       "  386.09503173828125,\n",
       "  331.22503662109375,\n",
       "  270.9139709472656,\n",
       "  210.46510314941406,\n",
       "  152.39903259277344,\n",
       "  106.86714172363281,\n",
       "  73.37198638916016,\n",
       "  55.42275619506836,\n",
       "  45.957218170166016,\n",
       "  40.73274612426758,\n",
       "  37.27323532104492,\n",
       "  34.25421905517578,\n",
       "  31.913246154785156,\n",
       "  29.851024627685547,\n",
       "  28.398399353027344,\n",
       "  27.224578857421875,\n",
       "  26.179006576538086,\n",
       "  25.394140243530273,\n",
       "  24.644075393676758,\n",
       "  23.887054443359375,\n",
       "  23.408395767211914,\n",
       "  22.78838348388672,\n",
       "  22.38227653503418,\n",
       "  21.924518585205078],\n",
       " 'aux_output_loss': [570.1533203125,\n",
       "  561.4666748046875,\n",
       "  549.8046875,\n",
       "  534.1204223632812,\n",
       "  513.7797241210938,\n",
       "  487.2754821777344,\n",
       "  454.2026062011719,\n",
       "  413.31365966796875,\n",
       "  365.1134033203125,\n",
       "  312.1197814941406,\n",
       "  255.1851348876953,\n",
       "  202.14698791503906,\n",
       "  153.67129516601562,\n",
       "  116.44908905029297,\n",
       "  89.0433578491211,\n",
       "  70.87432098388672,\n",
       "  59.35025405883789,\n",
       "  50.58085632324219,\n",
       "  44.1075325012207,\n",
       "  38.8917121887207,\n",
       "  35.2955436706543,\n",
       "  32.41997528076172,\n",
       "  30.208253860473633,\n",
       "  28.615758895874023,\n",
       "  27.311067581176758,\n",
       "  26.06476402282715,\n",
       "  25.206117630004883,\n",
       "  24.29360008239746,\n",
       "  23.74784278869629,\n",
       "  23.23318862915039],\n",
       " 'output_root_mean_squared_error': [24.016544342041016,\n",
       "  23.598255157470703,\n",
       "  23.10963249206543,\n",
       "  22.507831573486328,\n",
       "  21.76724624633789,\n",
       "  20.817577362060547,\n",
       "  19.649301528930664,\n",
       "  18.199588775634766,\n",
       "  16.45946502685547,\n",
       "  14.507415771484375,\n",
       "  12.345000267028809,\n",
       "  10.337656021118164,\n",
       "  8.565744400024414,\n",
       "  7.44464635848999,\n",
       "  6.779175281524658,\n",
       "  6.382221221923828,\n",
       "  6.1051812171936035,\n",
       "  5.852710247039795,\n",
       "  5.649180889129639,\n",
       "  5.463609218597412,\n",
       "  5.329014778137207,\n",
       "  5.21771764755249,\n",
       "  5.116542339324951,\n",
       "  5.039259910583496,\n",
       "  4.964280128479004,\n",
       "  4.8874382972717285,\n",
       "  4.838222503662109,\n",
       "  4.773717880249023,\n",
       "  4.730990886688232,\n",
       "  4.6823625564575195],\n",
       " 'aux_output_root_mean_squared_error': [23.87788200378418,\n",
       "  23.695287704467773,\n",
       "  23.447914123535156,\n",
       "  23.111045837402344,\n",
       "  22.66670799255371,\n",
       "  22.074317932128906,\n",
       "  21.312028884887695,\n",
       "  20.330116271972656,\n",
       "  19.107940673828125,\n",
       "  17.666912078857422,\n",
       "  15.974514961242676,\n",
       "  14.217840194702148,\n",
       "  12.396422386169434,\n",
       "  10.791157722473145,\n",
       "  9.436278343200684,\n",
       "  8.418688774108887,\n",
       "  7.703911304473877,\n",
       "  7.1120219230651855,\n",
       "  6.641350269317627,\n",
       "  6.236321926116943,\n",
       "  5.941005229949951,\n",
       "  5.693854331970215,\n",
       "  5.496203422546387,\n",
       "  5.349370002746582,\n",
       "  5.225998878479004,\n",
       "  5.105366230010986,\n",
       "  5.020569324493408,\n",
       "  4.928853511810303,\n",
       "  4.873176097869873,\n",
       "  4.82008171081543],\n",
       " 'val_loss': [538.0357055664062,\n",
       "  519.8202514648438,\n",
       "  498.22869873046875,\n",
       "  471.47265625,\n",
       "  439.1499328613281,\n",
       "  399.6299133300781,\n",
       "  352.4507141113281,\n",
       "  299.6759948730469,\n",
       "  244.72494506835938,\n",
       "  188.78367614746094,\n",
       "  140.205810546875,\n",
       "  102.468505859375,\n",
       "  77.05394744873047,\n",
       "  62.830753326416016,\n",
       "  54.881954193115234,\n",
       "  49.04423522949219,\n",
       "  44.00172805786133,\n",
       "  39.9799690246582,\n",
       "  36.56940841674805,\n",
       "  33.97743225097656,\n",
       "  31.799205780029297,\n",
       "  30.005800247192383,\n",
       "  28.65399932861328,\n",
       "  27.533220291137695,\n",
       "  26.126482009887695,\n",
       "  25.332006454467773,\n",
       "  24.385778427124023,\n",
       "  23.759445190429688,\n",
       "  23.363109588623047,\n",
       "  22.77368927001953],\n",
       " 'val_output_loss': [537.9349365234375,\n",
       "  518.69677734375,\n",
       "  496.04718017578125,\n",
       "  468.1592102050781,\n",
       "  434.6445007324219,\n",
       "  393.80706787109375,\n",
       "  345.2964172363281,\n",
       "  291.31683349609375,\n",
       "  235.4855499267578,\n",
       "  179.1451416015625,\n",
       "  130.94927978515625,\n",
       "  94.32007598876953,\n",
       "  70.60200500488281,\n",
       "  58.1643180847168,\n",
       "  51.58881378173828,\n",
       "  46.62895584106445,\n",
       "  42.11420822143555,\n",
       "  38.520355224609375,\n",
       "  35.41566848754883,\n",
       "  33.090919494628906,\n",
       "  31.084009170532227,\n",
       "  29.440683364868164,\n",
       "  28.18863296508789,\n",
       "  27.15726089477539,\n",
       "  25.818885803222656,\n",
       "  25.08127212524414,\n",
       "  24.181909561157227,\n",
       "  23.581220626831055,\n",
       "  23.204570770263672,\n",
       "  22.617820739746094],\n",
       " 'val_aux_output_loss': [538.942626953125,\n",
       "  529.931884765625,\n",
       "  517.86279296875,\n",
       "  501.2939147949219,\n",
       "  479.6990661621094,\n",
       "  452.0358581542969,\n",
       "  416.8394470214844,\n",
       "  374.9083557128906,\n",
       "  327.8796081542969,\n",
       "  275.5303955078125,\n",
       "  223.51466369628906,\n",
       "  175.8042755126953,\n",
       "  135.12139892578125,\n",
       "  104.8287124633789,\n",
       "  84.52020263671875,\n",
       "  70.7817611694336,\n",
       "  60.98946762084961,\n",
       "  53.11647415161133,\n",
       "  46.95304870605469,\n",
       "  41.95603561401367,\n",
       "  38.23601150512695,\n",
       "  35.09185028076172,\n",
       "  32.842308044433594,\n",
       "  30.916847229003906,\n",
       "  28.89483642578125,\n",
       "  27.588624954223633,\n",
       "  26.220605850219727,\n",
       "  25.363475799560547,\n",
       "  24.78997802734375,\n",
       "  24.176504135131836],\n",
       " 'val_output_root_mean_squared_error': [23.193424224853516,\n",
       "  22.77491569519043,\n",
       "  22.27211570739746,\n",
       "  21.636985778808594,\n",
       "  20.848129272460938,\n",
       "  19.844572067260742,\n",
       "  18.5821533203125,\n",
       "  17.06800651550293,\n",
       "  15.345538139343262,\n",
       "  13.38451099395752,\n",
       "  11.443306922912598,\n",
       "  9.711852073669434,\n",
       "  8.40250015258789,\n",
       "  7.626553535461426,\n",
       "  7.182535171508789,\n",
       "  6.8285393714904785,\n",
       "  6.489545822143555,\n",
       "  6.20647668838501,\n",
       "  5.951106548309326,\n",
       "  5.75247049331665,\n",
       "  5.575303554534912,\n",
       "  5.425926685333252,\n",
       "  5.309296607971191,\n",
       "  5.2112627029418945,\n",
       "  5.081228733062744,\n",
       "  5.008120536804199,\n",
       "  4.917510509490967,\n",
       "  4.85605001449585,\n",
       "  4.817111968994141,\n",
       "  4.755819320678711],\n",
       " 'val_aux_output_root_mean_squared_error': [23.215137481689453,\n",
       "  23.020248413085938,\n",
       "  22.75659942626953,\n",
       "  22.38959312438965,\n",
       "  21.90203285217285,\n",
       "  21.26113510131836,\n",
       "  20.416645050048828,\n",
       "  19.362550735473633,\n",
       "  18.107446670532227,\n",
       "  16.59910774230957,\n",
       "  14.950407028198242,\n",
       "  13.25912094116211,\n",
       "  11.624173164367676,\n",
       "  10.2385892868042,\n",
       "  9.193487167358398,\n",
       "  8.413189888000488,\n",
       "  7.80957555770874,\n",
       "  7.288105010986328,\n",
       "  6.852229595184326,\n",
       "  6.4773478507995605,\n",
       "  6.18352746963501,\n",
       "  5.923837661743164,\n",
       "  5.730820655822754,\n",
       "  5.560291767120361,\n",
       "  5.375391483306885,\n",
       "  5.2524871826171875,\n",
       "  5.120605945587158,\n",
       "  5.0362162590026855,\n",
       "  4.9789533615112305,\n",
       "  4.916960716247559]}"
      ]
     },
     "execution_count": 50,
     "metadata": {},
     "output_type": "execute_result"
    }
   ],
   "source": [
    "history.history"
   ]
  },
  {
   "cell_type": "code",
   "execution_count": 52,
   "id": "ffccef76",
   "metadata": {},
   "outputs": [
    {
     "data": {
      "text/plain": [
       "<AxesSubplot: >"
      ]
     },
     "execution_count": 52,
     "metadata": {},
     "output_type": "execute_result"
    },
    {
     "data": {
      "image/png": "[encoded data removed]",
      "text/plain": [
       "<Figure size 640x480 with 1 Axes>"
      ]
     },
     "metadata": {},
     "output_type": "display_data"
    }
   ],
   "source": [
    "pd.DataFrame(history.history).plot()"
   ]
  },
  {
   "cell_type": "code",
   "execution_count": 23,
   "id": "09c1c8cd",
   "metadata": {},
   "outputs": [
    {
     "data": {
      "image/png": "[encoded data removed]",
      "text/plain": [
       "<Figure size 800x500 with 1 Axes>"
      ]
     },
     "metadata": {},
     "output_type": "display_data"
    }
   ],
   "source": [
    "pd.DataFrame(history.history).plot(figsize=(8, 5),\n",
    "                                  xlim=[0, history.params['epochs']],\n",
    "                                  #ylim=[0, 1],\n",
    "                                  grid=True,\n",
    "                                  xlabel='Epoch',\n",
    "                                  style=[\"r--\", \"r--.\", \"b-\", \"b-*\"])\n",
    "plt.show()"
   ]
  },
  {
   "cell_type": "markdown",
   "id": "4eeec3df-a532-4621-aa1c-8e3cb137dc22",
   "metadata": {},
   "source": [
    "## Model evaluation"
   ]
  },
  {
   "cell_type": "code",
   "execution_count": 33,
   "id": "c95e898c",
   "metadata": {},
   "outputs": [
    {
     "name": "stdout",
     "output_type": "stream",
     "text": [
      "4/4 [==============================] - 0s 2ms/step - loss: 23.9921 - output_loss: 23.6823 - aux_output_loss: 26.7795 - output_root_mean_squared_error: 4.8665 - aux_output_root_mean_squared_error: 5.1749\n"
     ]
    }
   ],
   "source": [
    "eval_results=model.evaluate(input_test_dict,\n",
    "                           target_test_dict,\n",
    "                           return_dict=True)"
   ]
  },
  {
   "cell_type": "code",
   "execution_count": 34,
   "id": "3e94de55",
   "metadata": {},
   "outputs": [
    {
     "data": {
      "text/plain": [
       "dict_keys(['loss', 'output_loss', 'aux_output_loss', 'output_root_mean_squared_error', 'aux_output_root_mean_squared_error'])"
      ]
     },
     "execution_count": 34,
     "metadata": {},
     "output_type": "execute_result"
    }
   ],
   "source": [
    "eval_results.keys()"
   ]
  },
  {
   "cell_type": "code",
   "execution_count": 31,
   "id": "28607b52",
   "metadata": {},
   "outputs": [
    {
     "data": {
      "text/plain": [
       "[23.992063522338867,\n",
       " 23.682348251342773,\n",
       " 26.77947235107422,\n",
       " 4.866451263427734,\n",
       " 5.174888610839844]"
      ]
     },
     "execution_count": 31,
     "metadata": {},
     "output_type": "execute_result"
    }
   ],
   "source": [
    "eval_results"
   ]
  },
  {
   "cell_type": "code",
   "execution_count": 38,
   "id": "a0a5223d",
   "metadata": {},
   "outputs": [
    {
     "name": "stdout",
     "output_type": "stream",
     "text": [
      "1/1 [==============================] - 0s 24ms/step\n"
     ]
    }
   ],
   "source": [
    "y_pred_tuple=model.predict(X_new_dict)"
   ]
  },
  {
   "cell_type": "code",
   "execution_count": 39,
   "id": "34bd5f8b",
   "metadata": {},
   "outputs": [],
   "source": [
    "y_pred=dict(zip(model.output_names, y_pred_tuple))"
   ]
  },
  {
   "cell_type": "code",
   "execution_count": 40,
   "id": "b81a8887",
   "metadata": {},
   "outputs": [
    {
     "data": {
      "text/plain": [
       "{'output': array([[12.446853],\n",
       "        [15.057083],\n",
       "        [20.82257 ]], dtype=float32),\n",
       " 'aux_output': array([[13.9465685],\n",
       "        [14.308627 ],\n",
       "        [20.058002 ]], dtype=float32)}"
      ]
     },
     "execution_count": 40,
     "metadata": {},
     "output_type": "execute_result"
    }
   ],
   "source": [
    "y_pred"
   ]
  },
  {
   "cell_type": "code",
   "execution_count": 30,
   "id": "c6192ee1",
   "metadata": {},
   "outputs": [
    {
     "data": {
      "text/plain": [
       "array([ 7.2, 18.8, 19. ])"
      ]
     },
     "execution_count": 30,
     "metadata": {},
     "output_type": "execute_result"
    }
   ],
   "source": [
    "y_new"
   ]
  },
  {
   "cell_type": "code",
   "execution_count": 41,
   "id": "12dbd104",
   "metadata": {},
   "outputs": [
    {
     "data": {
      "text/plain": [
       "['output', 'aux_output']"
      ]
     },
     "execution_count": 41,
     "metadata": {},
     "output_type": "execute_result"
    }
   ],
   "source": [
    "model.output_names"
   ]
  },
  {
   "cell_type": "code",
   "execution_count": 42,
   "id": "01a76940",
   "metadata": {},
   "outputs": [
    {
     "data": {
      "text/plain": [
       "[(None, 1), (None, 1)]"
      ]
     },
     "execution_count": 42,
     "metadata": {},
     "output_type": "execute_result"
    }
   ],
   "source": [
    "model.output_shape"
   ]
  },
  {
   "cell_type": "code",
   "execution_count": 43,
   "id": "6fb1c297",
   "metadata": {},
   "outputs": [
    {
     "data": {
      "text/plain": [
       "[<KerasTensor: shape=(None, 1) dtype=float32 (created by layer 'output')>,\n",
       " <KerasTensor: shape=(None, 1) dtype=float32 (created by layer 'aux_output')>]"
      ]
     },
     "execution_count": 43,
     "metadata": {},
     "output_type": "execute_result"
    }
   ],
   "source": [
    "model.outputs"
   ]
  },
  {
   "cell_type": "code",
   "execution_count": 44,
   "id": "95afc4ad",
   "metadata": {},
   "outputs": [
    {
     "data": {
      "text/plain": [
       "[None, None]"
      ]
     },
     "execution_count": 44,
     "metadata": {},
     "output_type": "execute_result"
    }
   ],
   "source": [
    "model.input_mask"
   ]
  },
  {
   "cell_type": "code",
   "execution_count": 45,
   "id": "13d1fef6",
   "metadata": {},
   "outputs": [
    {
     "data": {
      "text/plain": [
       "['input_wide', 'input_deep']"
      ]
     },
     "execution_count": 45,
     "metadata": {},
     "output_type": "execute_result"
    }
   ],
   "source": [
    "model.input_names"
   ]
  },
  {
   "cell_type": "code",
   "execution_count": 49,
   "id": "69044ad8",
   "metadata": {},
   "outputs": [
    {
     "data": {
      "text/plain": [
       "{'output': 'mse', 'aux_output': 'mse'}"
      ]
     },
     "execution_count": 49,
     "metadata": {},
     "output_type": "execute_result"
    }
   ],
   "source": [
    "model.loss"
   ]
  },
  {
   "cell_type": "code",
   "execution_count": null,
   "id": "e510dfde",
   "metadata": {},
   "outputs": [],
   "source": []
  }
 ],
 "metadata": {
  "kernelspec": {
   "display_name": "Python 3 (ipykernel)",
   "language": "python",
   "name": "python3"
  },
  "language_info": {
   "codemirror_mode": {
    "name": "ipython",
    "version": 3
   },
   "file_extension": ".py",
   "mimetype": "text/x-python",
   "name": "python",
   "nbconvert_exporter": "python",
   "pygments_lexer": "ipython3",
   "version": "3.9.18"
  }
 },
 "nbformat": 4,
 "nbformat_minor": 5
}
