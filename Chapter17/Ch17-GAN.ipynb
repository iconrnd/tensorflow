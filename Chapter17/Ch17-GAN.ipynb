{
 "cells": [
  {
   "cell_type": "markdown",
   "id": "e2d78739-a82d-4f02-96b0-849ff757a857",
   "metadata": {},
   "source": [
    "## Generative Adversarial Network"
   ]
  },
  {
   "cell_type": "code",
   "execution_count": null,
   "id": "123dd9c8-f5d2-4287-ae76-47b5649b512b",
   "metadata": {},
   "outputs": [],
   "source": [
    "import tensorflow as tf\n",
    "import matplotlib.pyplot as plt\n",
    "import numpy as np"
   ]
  },
  {
   "cell_type": "markdown",
   "id": "8e9ce7d9-53b3-4eb9-b21f-2c5463be04aa",
   "metadata": {},
   "source": [
    "## Fashon MNIST"
   ]
  },
  {
   "cell_type": "code",
   "execution_count": 2,
   "id": "4915ac5e-10e2-4bf8-9e0f-0065291f3a41",
   "metadata": {},
   "outputs": [],
   "source": [
    "fashion_mnist=tf.keras.datasets.fashion_mnist.load_data()\n",
    "(X_train, y_train), (X_test, y_test) = fashion_mnist\n",
    "X_train, X_test = X_train/255., X_test/255. "
   ]
  },
  {
   "cell_type": "code",
   "execution_count": 3,
   "id": "413a0593-252e-49eb-90ea-237a12292697",
   "metadata": {},
   "outputs": [],
   "source": [
    "X_train = X_train.astype(np.float32)\n",
    "X_test = X_test.astype(np.float32)"
   ]
  },
  {
   "cell_type": "markdown",
   "id": "433c74a4-f52e-4c55-a6fe-f6fe70788d4b",
   "metadata": {},
   "source": [
    "## Vanilla GAN"
   ]
  },
  {
   "cell_type": "code",
   "execution_count": 4,
   "id": "e99b02ad-4446-4087-afca-61512fd9a1e1",
   "metadata": {},
   "outputs": [],
   "source": [
    "coding_size = 30"
   ]
  },
  {
   "cell_type": "code",
   "execution_count": 5,
   "id": "8f6a7d12-0575-4761-ad62-336adb70fb26",
   "metadata": {},
   "outputs": [],
   "source": [
    "Dense = tf.keras.layers.Dense"
   ]
  },
  {
   "cell_type": "code",
   "execution_count": null,
   "id": "870bdfee-a880-4fa3-9e3f-002baac0bb8c",
   "metadata": {
    "scrolled": true
   },
   "outputs": [],
   "source": [
    "generator = tf.keras.Sequential([\n",
    "    Dense(100, activation=\"relu\", kernel_initializer=\"he_normal\"),\n",
    "    Dense(150, activation=\"relu\", kernel_initializer=\"he_normal\"),\n",
    "    Dense(28 * 28, activation=\"sigmoid\"),\n",
    "    tf.keras.layers.Reshape([28, 28])\n",
    "])"
   ]
  },
  {
   "cell_type": "code",
   "execution_count": 7,
   "id": "bd97ad85-de6c-462a-8225-61509082c450",
   "metadata": {},
   "outputs": [],
   "source": [
    "discriminator = tf.keras.Sequential([\n",
    "    tf.keras.layers.Flatten(),\n",
    "    Dense(150, activation=\"relu\", kernel_initializer=\"he_normal\"),\n",
    "    Dense(100, activation=\"relu\", kernel_initializer=\"he_normal\"),\n",
    "    Dense(1, activation=\"sigmoid\")\n",
    "])"
   ]
  },
  {
   "cell_type": "code",
   "execution_count": 8,
   "id": "d34e0b20-f18a-4a7e-9e22-586982ccbed7",
   "metadata": {},
   "outputs": [],
   "source": [
    "gan = tf.keras.Sequential([generator, discriminator])"
   ]
  },
  {
   "cell_type": "markdown",
   "id": "38735137-40f7-4aba-9742-62c4ede2e1ef",
   "metadata": {},
   "source": [
    "## Both Discriminator and GAN are binary classivier models, so BCE loss will be used\n",
    "## Generator is not explicitly visible so no loss is required. Its outputs will be implicitly present on the GAN loss.\n",
    "## In the above Discriminator and GAN are independent models! Discriminator in GAN is not the same as the standalone Discriminator model, which can be trained independently."
   ]
  },
  {
   "cell_type": "code",
   "execution_count": 9,
   "id": "14d64f8c-8c56-4069-8e4f-9494e28533cf",
   "metadata": {},
   "outputs": [],
   "source": [
    "discriminator.compile(loss='binary_crossentropy', optimizer='rmsprop')\n",
    "discriminator.trainable = False # This only plays a role in the compile below\n",
    "gan.compile(loss='binary_crossentropy', optimizer='rmsprop')"
   ]
  },
  {
   "cell_type": "code",
   "execution_count": 10,
   "id": "b96a3e2b-3c7b-4ff3-9549-0571a3f5148f",
   "metadata": {},
   "outputs": [],
   "source": [
    "batch_size = 32\n",
    "dataset = tf.data.Dataset.from_tensor_slices(X_train).shuffle(buffer_size=1000)\n",
    "dataset = dataset.batch(batch_size, drop_remainder=True).prefetch(1)"
   ]
  },
  {
   "cell_type": "code",
   "execution_count": 11,
   "id": "92934297-37a5-4b49-86bb-876c8e9f37a6",
   "metadata": {},
   "outputs": [],
   "source": [
    "def train_gan(gan, dataset, batch_size, coding_size, n_epochs):\n",
    "    generator, discriminator = gan.layers\n",
    "    for epoch in range(n_epochs):\n",
    "        for X_batch in dataset:\n",
    "            # Discriminator training\n",
    "            noise = tf.random.normal(shape=[batch_size, coding_size])\n",
    "            generated_images = generator(noise)\n",
    "            X_fake_and_real = tf.concat([generated_images, X_batch], axis=0)\n",
    "            y1 = tf.constant([[0.]] * batch_size + [[1.]] * batch_size)\n",
    "            discriminator.train_on_batch(X_fake_and_real, y1)\n",
    "            # Generator training\n",
    "            noise = tf.random.normal(shape=[batch_size, coding_size])\n",
    "            y2 = tf.constant([[1.]] * batch_size)\n",
    "            gan.train_on_batch(noise, y2)"
   ]
  },
  {
   "cell_type": "code",
   "execution_count": null,
   "id": "520b1e93-5c2c-4e8f-b122-981d4c0a3931",
   "metadata": {},
   "outputs": [],
   "source": [
    "train_gan(gan, dataset, batch_size, coding_size, n_epochs=10)"
   ]
  },
  {
   "cell_type": "code",
   "execution_count": 14,
   "id": "2bd64278-cade-4947-b180-f9b9c7fc0979",
   "metadata": {},
   "outputs": [
    {
     "name": "stdout",
     "output_type": "stream",
     "text": [
      "1/1 [==============================] - 0s 46ms/step\n"
     ]
    },
    {
     "data": {
      "text/plain": [
       "<function matplotlib.pyplot.show(close=None, block=None)>"
      ]
     },
     "execution_count": 14,
     "metadata": {},
     "output_type": "execute_result"
    },
    {
     "data": {
      "image/png": "[encoded data removed]",
      "text/plain": [
       "<Figure size 750x300 with 5 Axes>"
      ]
     },
     "metadata": {},
     "output_type": "display_data"
    }
   ],
   "source": [
    "def plot_reconstructions(generator, coding_size=30, n_images=5):\n",
    "    codings = tf.random.normal(shape=[n_images, coding_size])\n",
    "    generated_images = np.clip(generator.predict(codings), 0, 255)\n",
    "    fig = plt.figure(figsize=(n_images * 1.5, 3))\n",
    "    for image_index in range(n_images):\n",
    "        plt.subplot(2, n_images, 1 + n_images + image_index)\n",
    "        plt.imshow(generated_images[image_index], cmap=\"binary\")\n",
    "        plt.axis(\"off\")\n",
    "\n",
    "plot_reconstructions(generator)\n",
    "plt.show"
   ]
  },
  {
   "cell_type": "markdown",
   "id": "c185ac45-1922-4ce0-bc27-2873260654c4",
   "metadata": {},
   "source": [
    "## Mode collapse mitigation: experience replay and batch similarity score enforcing generator samples variance"
   ]
  },
  {
   "cell_type": "markdown",
   "id": "f01225ed-bb78-4715-b540-b3bad6045e07",
   "metadata": {},
   "source": [
    "## DCGAN"
   ]
  },
  {
   "cell_type": "code",
   "execution_count": 16,
   "id": "eb3a5f85-2808-4cd9-94cb-d43dc321b167",
   "metadata": {},
   "outputs": [],
   "source": [
    "coding_size = 100"
   ]
  },
  {
   "cell_type": "code",
   "execution_count": 34,
   "id": "a0b6c492-174c-4e5b-a7ae-75d88a62b85c",
   "metadata": {},
   "outputs": [],
   "source": [
    "generator = tf.keras.Sequential([\n",
    "    tf.keras.layers.Dense(7 * 7 * 128),\n",
    "    tf.keras.layers.Reshape([7, 7, 128]),\n",
    "    tf.keras.layers.BatchNormalization(),\n",
    "    tf.keras.layers.Conv2DTranspose(64, kernel_size=5, strides=2, padding=\"same\", activation=\"relu\"),\n",
    "    tf.keras.layers.BatchNormalization(),\n",
    "    tf.keras.layers.Conv2DTranspose(1, kernel_size=5, strides=2, padding=\"same\", activation=\"tanh\")\n",
    "])\n",
    "\n",
    "discriminator =  tf.keras.Sequential([\n",
    "    tf.keras.layers.Conv2D(64, kernel_size=5, strides=2, padding=\"same\", activation=tf.keras.layers.LeakyReLU(0.2)),\n",
    "    tf.keras.layers.Dropout(0.4),\n",
    "    tf.keras.layers.Conv2D(128, kernel_size=5, strides=2, padding=\"same\", activation=tf.keras.layers.LeakyReLU(0.2)),\n",
    "    tf.keras.layers.Dropout(0.4),\n",
    "    tf.keras.layers.Flatten(),\n",
    "    tf.keras.layers.Dense(1, activation=\"sigmoid\")\n",
    "])"
   ]
  },
  {
   "cell_type": "code",
   "execution_count": 35,
   "id": "1aab52be-0147-41e3-b8dd-fb8b9fc3eaf3",
   "metadata": {},
   "outputs": [],
   "source": [
    "gan = tf.keras.Sequential([generator, discriminator])"
   ]
  },
  {
   "cell_type": "code",
   "execution_count": 36,
   "id": "bea2f70b-03ee-4327-b4ff-ef214d2bf7fe",
   "metadata": {},
   "outputs": [],
   "source": [
    "discriminator.compile(loss='binary_crossentropy', optimizer='rmsprop')\n",
    "discriminator.trainable = False # This only plays a role in the compile below\n",
    "gan.compile(loss='binary_crossentropy', optimizer='rmsprop')"
   ]
  },
  {
   "cell_type": "code",
   "execution_count": 37,
   "id": "6c1bb77d-36a7-4943-9c0f-30fd20370484",
   "metadata": {},
   "outputs": [],
   "source": [
    "batch_size = 32\n",
    "X_train_dcg = X_train.reshape(-1, 28 ,28, 1) * 2. - 1. # Normalize to tanh() generator output\n",
    "dataset = tf.data.Dataset.from_tensor_slices(X_train_dcg).shuffle(buffer_size=1000)\n",
    "dataset = dataset.batch(batch_size, drop_remainder=True).prefetch(1)"
   ]
  },
  {
   "cell_type": "code",
   "execution_count": 38,
   "id": "d0499ebf-391d-4c8d-bc27-ac37e7bb6320",
   "metadata": {},
   "outputs": [],
   "source": [
    "def train_gan(gan, dataset, batch_size, coding_size, n_epochs):\n",
    "    generator, discriminator = gan.layers\n",
    "    for epoch in range(n_epochs):\n",
    "        for X_batch in dataset:\n",
    "            # Discriminator training\n",
    "            noise = tf.random.normal(shape=[batch_size, coding_size])\n",
    "            generated_images = generator(noise)\n",
    "            X_fake_and_real = tf.concat([generated_images, X_batch], axis=0)\n",
    "            y1 = tf.constant([[0.]] * batch_size + [[1.]] * batch_size)\n",
    "            discriminator.train_on_batch(X_fake_and_real, y1)\n",
    "            # Generator training\n",
    "            noise = tf.random.normal(shape=[batch_size, coding_size])\n",
    "            y2 = tf.constant([[1.]] * batch_size)\n",
    "            gan.train_on_batch(noise, y2)"
   ]
  },
  {
   "cell_type": "code",
   "execution_count": null,
   "id": "a9254bd4-cef0-4fa1-94ae-0006b46d5ae3",
   "metadata": {},
   "outputs": [],
   "source": [
    "train_gan(gan, dataset, batch_size, coding_size, n_epochs=10)"
   ]
  },
  {
   "cell_type": "code",
   "execution_count": 40,
   "id": "f59a241f-5a1f-4d6e-94fc-1ed036415e3a",
   "metadata": {},
   "outputs": [
    {
     "name": "stdout",
     "output_type": "stream",
     "text": [
      "1/1 [==============================] - 0s 185ms/step\n"
     ]
    },
    {
     "data": {
      "text/plain": [
       "<function matplotlib.pyplot.show(close=None, block=None)>"
      ]
     },
     "execution_count": 40,
     "metadata": {},
     "output_type": "execute_result"
    },
    {
     "data": {
      "image/png": "[encoded data removed]",
      "text/plain": [
       "<Figure size 750x300 with 5 Axes>"
      ]
     },
     "metadata": {},
     "output_type": "display_data"
    }
   ],
   "source": [
    "plot_reconstructions(generator, coding_size=100)\n",
    "plt.show"
   ]
  },
  {
   "cell_type": "markdown",
   "id": "2e9283ec-6d76-43a2-9048-ad052792ba59",
   "metadata": {},
   "source": [
    "## Latent arithmetics on GANs: averagad latents of classes can be used as a liner space and the resulting generations will exhibit semantic arithmetics"
   ]
  },
  {
   "cell_type": "markdown",
   "id": "65610618-9b74-46c0-af4a-469bcf2f17b7",
   "metadata": {},
   "source": [
    "## Conditional GAN can be obtained by providing additional input with class ID to generator and discriminator "
   ]
  },
  {
   "cell_type": "markdown",
   "id": "f622dc79-8683-4f3b-9820-aa5b6badc545",
   "metadata": {},
   "source": [
    "## Scaling images up is possible with progressively growing GAN layers, with upsamplings added gradually during training with larger and larger resulting output feature maps dimensions (2^n for n layers)"
   ]
  },
  {
   "cell_type": "markdown",
   "id": "f8c8541e-b0e5-4972-81f2-93327a395f9c",
   "metadata": {},
   "source": [
    "## Stabilizing techniques:\n",
    " * Equalized learning rate\n",
    " * Pixelwise normalization"
   ]
  },
  {
   "cell_type": "code",
   "execution_count": null,
   "id": "bfe16654-ddad-46b9-9051-d97ddcadec4c",
   "metadata": {},
   "outputs": [],
   "source": []
  }
 ],
 "metadata": {
  "kernelspec": {
   "display_name": "tf39",
   "language": "python",
   "name": "tf39"
  },
  "language_info": {
   "codemirror_mode": {
    "name": "ipython",
    "version": 3
   },
   "file_extension": ".py",
   "mimetype": "text/x-python",
   "name": "python",
   "nbconvert_exporter": "python",
   "pygments_lexer": "ipython3",
   "version": "3.9.18"
  }
 },
 "nbformat": 4,
 "nbformat_minor": 5
}
