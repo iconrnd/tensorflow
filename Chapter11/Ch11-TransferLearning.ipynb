{
 "cells": [
  {
   "cell_type": "markdown",
   "id": "43568a71-fba1-41c6-b187-118f48834c48",
   "metadata": {},
   "source": [
    "## Transfer learning\n",
    "* ### Trainig a model\n",
    "* ### Saving it and restoring\n",
    "* ### Cloning the restored model to a new model\n",
    "* ### Freeing all but top layer and fine tuning it\n",
    "* ### Unfreezeing the whole network and fine tuing it on a reduced LR"
   ]
  },
  {
   "cell_type": "code",
   "execution_count": null,
   "id": "f8a94024",
   "metadata": {
    "scrolled": true
   },
   "outputs": [],
   "source": [
    "import tensorflow as tf\n",
    "import tensorflow.keras as K\n",
    "import numpy as np\n",
    "import pandas as pd\n",
    "import matplotlib.pyplot as plt"
   ]
  },
  {
   "cell_type": "code",
   "execution_count": null,
   "id": "3843e079",
   "metadata": {
    "scrolled": true
   },
   "outputs": [],
   "source": [
    "tf.config.list_physical_devices('GPU')"
   ]
  },
  {
   "cell_type": "code",
   "execution_count": 2,
   "id": "3ae486bf",
   "metadata": {},
   "outputs": [],
   "source": [
    "fashion_mnist=tf.keras.datasets.fashion_mnist.load_data()"
   ]
  },
  {
   "cell_type": "code",
   "execution_count": 3,
   "id": "d425c8d7",
   "metadata": {},
   "outputs": [],
   "source": [
    "(X_train_full, y_train_full), (X_test, y_test) = fashion_mnist"
   ]
  },
  {
   "cell_type": "code",
   "execution_count": 4,
   "id": "3ecb2acb",
   "metadata": {},
   "outputs": [],
   "source": [
    "X_train, y_train = X_train_full[:-5000], y_train_full[:-5000]\n",
    "X_valid, y_valid = X_train_full[-5000:], y_train_full[-5000:]"
   ]
  },
  {
   "cell_type": "code",
   "execution_count": 5,
   "id": "f4c3c5eb",
   "metadata": {},
   "outputs": [
    {
     "data": {
      "text/plain": [
       "(55000, 28, 28)"
      ]
     },
     "execution_count": 5,
     "metadata": {},
     "output_type": "execute_result"
    }
   ],
   "source": [
    "X_train.shape"
   ]
  },
  {
   "cell_type": "code",
   "execution_count": 6,
   "id": "9206592e",
   "metadata": {
    "scrolled": true
   },
   "outputs": [
    {
     "data": {
      "text/plain": [
       "dtype('uint8')"
      ]
     },
     "execution_count": 6,
     "metadata": {},
     "output_type": "execute_result"
    }
   ],
   "source": [
    "X_train.dtype"
   ]
  },
  {
   "cell_type": "code",
   "execution_count": 7,
   "id": "f74a577f",
   "metadata": {},
   "outputs": [],
   "source": [
    "# Data normalization\n",
    "X_train, X_valid, X_test = X_train/255., X_valid/255., X_test/255. "
   ]
  },
  {
   "cell_type": "code",
   "execution_count": 8,
   "id": "bfd5aa15",
   "metadata": {},
   "outputs": [],
   "source": [
    "class_names = [\"T-shirt/top\", \"Trouser\", \"Pullover\", \"Dress\", \"Coat\", \"Sandal\", \"Shirt\", \"Sneaker\", \"Bag\", \"Ankle boot\"]"
   ]
  },
  {
   "cell_type": "code",
   "execution_count": 9,
   "id": "2e9619e4",
   "metadata": {},
   "outputs": [],
   "source": [
    "tf.random.set_seed(42)"
   ]
  },
  {
   "cell_type": "markdown",
   "id": "b31f24d4-782c-41db-bb4d-2f918c4500eb",
   "metadata": {},
   "source": [
    "## Model definition"
   ]
  },
  {
   "cell_type": "code",
   "execution_count": null,
   "id": "c67a5486",
   "metadata": {},
   "outputs": [],
   "source": [
    "model = K.Sequential()"
   ]
  },
  {
   "cell_type": "code",
   "execution_count": 12,
   "id": "bb012589",
   "metadata": {},
   "outputs": [
    {
     "data": {
      "text/plain": [
       "<keras.engine.sequential.Sequential at 0x7f9b3c7492b0>"
      ]
     },
     "execution_count": 12,
     "metadata": {},
     "output_type": "execute_result"
    }
   ],
   "source": [
    "model"
   ]
  },
  {
   "cell_type": "code",
   "execution_count": 13,
   "id": "84e627f7",
   "metadata": {},
   "outputs": [],
   "source": [
    "model.add(K.layers.Input(shape=[28, 28]))\n",
    "model.add(K.layers.Flatten())\n",
    "model.add(K.layers.Dense(300, activation='relu'))\n",
    "model.add(K.layers.Dense(100, activation='relu'))\n",
    "model.add(K.layers.Dense(10, activation='softmax'))"
   ]
  },
  {
   "cell_type": "code",
   "execution_count": 14,
   "id": "0712b8e8",
   "metadata": {},
   "outputs": [
    {
     "name": "stdout",
     "output_type": "stream",
     "text": [
      "Model: \"sequential\"\n",
      "_________________________________________________________________\n",
      " Layer (type)                Output Shape              Param #   \n",
      "=================================================================\n",
      " flatten (Flatten)           (None, 784)               0         \n",
      "                                                                 \n",
      " dense (Dense)               (None, 300)               235500    \n",
      "                                                                 \n",
      " dense_1 (Dense)             (None, 100)               30100     \n",
      "                                                                 \n",
      " dense_2 (Dense)             (None, 10)                1010      \n",
      "                                                                 \n",
      "=================================================================\n",
      "Total params: 266,610\n",
      "Trainable params: 266,610\n",
      "Non-trainable params: 0\n",
      "_________________________________________________________________\n"
     ]
    }
   ],
   "source": [
    "model.summary()"
   ]
  },
  {
   "cell_type": "code",
   "execution_count": 15,
   "id": "da43e78a",
   "metadata": {},
   "outputs": [],
   "source": [
    "model.compile(loss=K.losses.sparse_categorical_crossentropy,\n",
    "             optimizer=K.optimizers.SGD(),\n",
    "             metrics=[K.metrics.sparse_categorical_accuracy])"
   ]
  },
  {
   "cell_type": "markdown",
   "id": "9273e342-c74a-40ae-b315-204f517323a4",
   "metadata": {},
   "source": [
    "## Training"
   ]
  },
  {
   "cell_type": "code",
   "execution_count": 16,
   "id": "6c4f4ec9",
   "metadata": {
    "scrolled": true
   },
   "outputs": [
    {
     "name": "stdout",
     "output_type": "stream",
     "text": [
      "Epoch 1/30\n",
      " 174/1719 [==>...........................] - ETA: 1s - loss: 1.4653 - sparse_categorical_accuracy: 0.5643"
     ]
    },
    {
     "name": "stderr",
     "output_type": "stream",
     "text": [
      "2023-06-28 21:14:43.643183: I tensorflow/stream_executor/cuda/cuda_blas.cc:1614] TensorFloat-32 will be used for the matrix multiplication. This will only be logged once.\n"
     ]
    },
    {
     "name": "stdout",
     "output_type": "stream",
     "text": [
      "1719/1719 [==============================] - 2s 996us/step - loss: 0.7261 - sparse_categorical_accuracy: 0.7591 - val_loss: 0.5122 - val_sparse_categorical_accuracy: 0.8224\n",
      "Epoch 2/30\n",
      "1719/1719 [==============================] - 2s 999us/step - loss: 0.4909 - sparse_categorical_accuracy: 0.8288 - val_loss: 0.4658 - val_sparse_categorical_accuracy: 0.8308\n",
      "Epoch 3/30\n",
      "1719/1719 [==============================] - 2s 959us/step - loss: 0.4445 - sparse_categorical_accuracy: 0.8423 - val_loss: 0.4282 - val_sparse_categorical_accuracy: 0.8490\n",
      "Epoch 4/30\n",
      "1719/1719 [==============================] - 2s 935us/step - loss: 0.4196 - sparse_categorical_accuracy: 0.8534 - val_loss: 0.4004 - val_sparse_categorical_accuracy: 0.8578\n",
      "Epoch 5/30\n",
      "1719/1719 [==============================] - 2s 996us/step - loss: 0.3986 - sparse_categorical_accuracy: 0.8599 - val_loss: 0.3981 - val_sparse_categorical_accuracy: 0.8604\n",
      "Epoch 6/30\n",
      "1719/1719 [==============================] - 2s 985us/step - loss: 0.3819 - sparse_categorical_accuracy: 0.8655 - val_loss: 0.3912 - val_sparse_categorical_accuracy: 0.8636\n",
      "Epoch 7/30\n",
      "1719/1719 [==============================] - 2s 967us/step - loss: 0.3690 - sparse_categorical_accuracy: 0.8694 - val_loss: 0.3730 - val_sparse_categorical_accuracy: 0.8708\n",
      "Epoch 8/30\n",
      "1719/1719 [==============================] - 2s 963us/step - loss: 0.3575 - sparse_categorical_accuracy: 0.8740 - val_loss: 0.3749 - val_sparse_categorical_accuracy: 0.8642\n",
      "Epoch 9/30\n",
      "1719/1719 [==============================] - 2s 974us/step - loss: 0.3465 - sparse_categorical_accuracy: 0.8775 - val_loss: 0.3494 - val_sparse_categorical_accuracy: 0.8760\n",
      "Epoch 10/30\n",
      "1719/1719 [==============================] - 2s 969us/step - loss: 0.3362 - sparse_categorical_accuracy: 0.8804 - val_loss: 0.3539 - val_sparse_categorical_accuracy: 0.8724\n",
      "Epoch 11/30\n",
      "1719/1719 [==============================] - 2s 983us/step - loss: 0.3273 - sparse_categorical_accuracy: 0.8833 - val_loss: 0.3732 - val_sparse_categorical_accuracy: 0.8626\n",
      "Epoch 12/30\n",
      "1719/1719 [==============================] - 2s 1ms/step - loss: 0.3194 - sparse_categorical_accuracy: 0.8865 - val_loss: 0.3466 - val_sparse_categorical_accuracy: 0.8754\n",
      "Epoch 13/30\n",
      "1719/1719 [==============================] - 2s 957us/step - loss: 0.3117 - sparse_categorical_accuracy: 0.8891 - val_loss: 0.3284 - val_sparse_categorical_accuracy: 0.8834\n",
      "Epoch 14/30\n",
      "1719/1719 [==============================] - 2s 989us/step - loss: 0.3045 - sparse_categorical_accuracy: 0.8910 - val_loss: 0.3402 - val_sparse_categorical_accuracy: 0.8792\n",
      "Epoch 15/30\n",
      "1719/1719 [==============================] - 2s 968us/step - loss: 0.2980 - sparse_categorical_accuracy: 0.8935 - val_loss: 0.3378 - val_sparse_categorical_accuracy: 0.8828\n",
      "Epoch 16/30\n",
      "1719/1719 [==============================] - 2s 956us/step - loss: 0.2908 - sparse_categorical_accuracy: 0.8963 - val_loss: 0.3292 - val_sparse_categorical_accuracy: 0.8784\n",
      "Epoch 17/30\n",
      "1719/1719 [==============================] - 2s 979us/step - loss: 0.2853 - sparse_categorical_accuracy: 0.8968 - val_loss: 0.3364 - val_sparse_categorical_accuracy: 0.8768\n",
      "Epoch 18/30\n",
      "1719/1719 [==============================] - 2s 970us/step - loss: 0.2794 - sparse_categorical_accuracy: 0.8993 - val_loss: 0.3229 - val_sparse_categorical_accuracy: 0.8826\n",
      "Epoch 19/30\n",
      "1719/1719 [==============================] - 2s 975us/step - loss: 0.2741 - sparse_categorical_accuracy: 0.9011 - val_loss: 0.3503 - val_sparse_categorical_accuracy: 0.8688\n",
      "Epoch 20/30\n",
      "1719/1719 [==============================] - 2s 963us/step - loss: 0.2693 - sparse_categorical_accuracy: 0.9028 - val_loss: 0.3182 - val_sparse_categorical_accuracy: 0.8826\n",
      "Epoch 21/30\n",
      "1719/1719 [==============================] - 2s 975us/step - loss: 0.2640 - sparse_categorical_accuracy: 0.9047 - val_loss: 0.3127 - val_sparse_categorical_accuracy: 0.8856\n",
      "Epoch 22/30\n",
      "1719/1719 [==============================] - 2s 957us/step - loss: 0.2587 - sparse_categorical_accuracy: 0.9061 - val_loss: 0.3137 - val_sparse_categorical_accuracy: 0.8836\n",
      "Epoch 23/30\n",
      "1719/1719 [==============================] - 2s 961us/step - loss: 0.2552 - sparse_categorical_accuracy: 0.9079 - val_loss: 0.3379 - val_sparse_categorical_accuracy: 0.8744\n",
      "Epoch 24/30\n",
      "1719/1719 [==============================] - 2s 959us/step - loss: 0.2492 - sparse_categorical_accuracy: 0.9100 - val_loss: 0.3176 - val_sparse_categorical_accuracy: 0.8842\n",
      "Epoch 25/30\n",
      "1719/1719 [==============================] - 2s 965us/step - loss: 0.2449 - sparse_categorical_accuracy: 0.9112 - val_loss: 0.3155 - val_sparse_categorical_accuracy: 0.8834\n",
      "Epoch 26/30\n",
      "1719/1719 [==============================] - 2s 961us/step - loss: 0.2412 - sparse_categorical_accuracy: 0.9139 - val_loss: 0.3096 - val_sparse_categorical_accuracy: 0.8858\n",
      "Epoch 27/30\n",
      "1719/1719 [==============================] - 2s 958us/step - loss: 0.2359 - sparse_categorical_accuracy: 0.9140 - val_loss: 0.3210 - val_sparse_categorical_accuracy: 0.8844\n",
      "Epoch 28/30\n",
      "1719/1719 [==============================] - 2s 968us/step - loss: 0.2332 - sparse_categorical_accuracy: 0.9156 - val_loss: 0.3171 - val_sparse_categorical_accuracy: 0.8902\n",
      "Epoch 29/30\n",
      "1719/1719 [==============================] - 2s 953us/step - loss: 0.2290 - sparse_categorical_accuracy: 0.9161 - val_loss: 0.3153 - val_sparse_categorical_accuracy: 0.8864\n",
      "Epoch 30/30\n",
      "1719/1719 [==============================] - 2s 959us/step - loss: 0.2254 - sparse_categorical_accuracy: 0.9186 - val_loss: 0.3108 - val_sparse_categorical_accuracy: 0.8882\n"
     ]
    }
   ],
   "source": [
    "history = model.fit(X_train, y_train, \n",
    "         epochs=30,\n",
    "         validation_data=[X_valid, y_valid])"
   ]
  },
  {
   "cell_type": "code",
   "execution_count": 23,
   "id": "09c1c8cd",
   "metadata": {},
   "outputs": [
    {
     "data": {
      "image/png": "[encoded data removed]",
      "text/plain": [
       "<Figure size 800x500 with 1 Axes>"
      ]
     },
     "metadata": {},
     "output_type": "display_data"
    }
   ],
   "source": [
    "pd.DataFrame(history.history).plot(figsize=(8, 5),\n",
    "                                  xlim=[0, history.params['epochs']],\n",
    "                                  ylim=[0, 1],\n",
    "                                  grid=True,\n",
    "                                  xlabel='Epoch',\n",
    "                                  style=[\"r--\", \"r--.\", \"b-\", \"b-*\"])\n",
    "plt.show()"
   ]
  },
  {
   "cell_type": "markdown",
   "id": "f2b7a8da-9aa0-4d24-9503-be26a2277ac9",
   "metadata": {},
   "source": [
    "## Transfer learning"
   ]
  },
  {
   "cell_type": "markdown",
   "id": "a894df0d-6564-4c8f-9d55-c007a8e6cc8d",
   "metadata": {},
   "source": [
    "## Saving the trained model"
   ]
  },
  {
   "cell_type": "code",
   "execution_count": 17,
   "id": "c6192ee1",
   "metadata": {},
   "outputs": [
    {
     "name": "stdout",
     "output_type": "stream",
     "text": [
      "INFO:tensorflow:Assets written to: my_model_A/assets\n"
     ]
    }
   ],
   "source": [
    "model.save('my_model_A', save_format='tf')"
   ]
  },
  {
   "cell_type": "markdown",
   "id": "cfa901c8-b2d6-42a3-a8c4-476a79175625",
   "metadata": {},
   "source": [
    "## Restoring the model"
   ]
  },
  {
   "cell_type": "code",
   "execution_count": 26,
   "id": "6c3b8a4c",
   "metadata": {},
   "outputs": [],
   "source": [
    "model_A = tf.keras.models.load_model(\"my_model_A\")"
   ]
  },
  {
   "cell_type": "markdown",
   "id": "962a6680-6d20-40cc-bb8b-998697aa8eba",
   "metadata": {},
   "source": [
    "## Copying the model \n",
    "## In this case training model B will affect model A"
   ]
  },
  {
   "cell_type": "code",
   "execution_count": 27,
   "id": "dd1e7a92",
   "metadata": {},
   "outputs": [],
   "source": [
    "model_B_on_A = tf.keras.models.Sequential(model_A.layers[:-1])"
   ]
  },
  {
   "cell_type": "code",
   "execution_count": 28,
   "id": "62e32afa",
   "metadata": {},
   "outputs": [],
   "source": [
    "model_B_on_A.add(tf.keras.layers.Dense(1, name='yolo', activation=\"sigmoid\"))"
   ]
  },
  {
   "cell_type": "markdown",
   "id": "3b3ab8a4-494a-433d-b283-8a618035c9c1",
   "metadata": {},
   "source": [
    "## To avoid overwriting model A one needs to clone it and then build B on it"
   ]
  },
  {
   "cell_type": "code",
   "execution_count": 21,
   "id": "0de8acef",
   "metadata": {},
   "outputs": [],
   "source": [
    "# This copies the architecture:\n",
    "model_A_clone = tf.keras.models.clone_model(model_A)\n",
    "\n",
    "# And this sets weight to the trained once\n",
    "model_A_clone.set_weights(model_A.get_weights())"
   ]
  },
  {
   "cell_type": "markdown",
   "id": "5f233405-fe02-484a-bcbd-9342975b2ae9",
   "metadata": {},
   "source": [
    "## Freezing layers up to the last one to train just the top new layer"
   ]
  },
  {
   "cell_type": "code",
   "execution_count": 29,
   "id": "35bee7a1",
   "metadata": {},
   "outputs": [],
   "source": [
    "for layer in model_B_on_A.layers[:-1]:\n",
    "    layer.trainable=False"
   ]
  },
  {
   "cell_type": "markdown",
   "id": "62cea053-ae6c-48d7-805d-02295f1d8fc8",
   "metadata": {},
   "source": [
    "## Listing trainable layers"
   ]
  },
  {
   "cell_type": "code",
   "execution_count": 30,
   "id": "ca185936",
   "metadata": {},
   "outputs": [
    {
     "data": {
      "text/plain": [
       "[False, False, False, True]"
      ]
     },
     "execution_count": 30,
     "metadata": {},
     "output_type": "execute_result"
    }
   ],
   "source": [
    "[layer.trainable for layer in model_B_on_A.layers]"
   ]
  },
  {
   "cell_type": "code",
   "execution_count": null,
   "id": "5cda7790-892f-463d-89e2-514ee0227b7a",
   "metadata": {},
   "outputs": [],
   "source": [
    "optimizer = tf.keras.optimizers.SGD(learning_rate=0.001)"
   ]
  },
  {
   "cell_type": "markdown",
   "id": "0dc6f599-cacd-4348-ba4e-729cfb0185f2",
   "metadata": {},
   "source": [
    "## Freezing or unfreezing model requires recompile"
   ]
  },
  {
   "cell_type": "code",
   "execution_count": 31,
   "id": "50cd26b0",
   "metadata": {},
   "outputs": [],
   "source": [
    "model_B_on_A.compile(loss=\"binary_crossentropy\",\n",
    "                     optimizer=optimizer,\n",
    "                    metrics=['accuracy'])"
   ]
  },
  {
   "cell_type": "markdown",
   "id": "0199f964-e1eb-4ced-a8ce-d69cbe04c157",
   "metadata": {},
   "source": [
    "## Preparing artificial data for fine tuning example"
   ]
  },
  {
   "cell_type": "code",
   "execution_count": 32,
   "id": "7718052b",
   "metadata": {},
   "outputs": [],
   "source": [
    "data_idx = (y_train == 9) | (y_train == 8)"
   ]
  },
  {
   "cell_type": "code",
   "execution_count": 33,
   "id": "b8c9e16b",
   "metadata": {},
   "outputs": [],
   "source": [
    "valdata_idx = (y_valid == 9) | (y_valid == 8) "
   ]
  },
  {
   "cell_type": "code",
   "execution_count": 34,
   "id": "39cbbe05",
   "metadata": {},
   "outputs": [],
   "source": [
    "reduced_X = X_train[data_idx]\n",
    "reduced_y = y_train[data_idx]"
   ]
  },
  {
   "cell_type": "code",
   "execution_count": 35,
   "id": "443add35",
   "metadata": {},
   "outputs": [],
   "source": [
    "reduced_y[reduced_y == 8] = 0\n",
    "reduced_y[reduced_y == 9] = 1"
   ]
  },
  {
   "cell_type": "code",
   "execution_count": 36,
   "id": "999e8f2c",
   "metadata": {},
   "outputs": [],
   "source": [
    "reduced_valid_X = X_valid[valdata_idx]\n",
    "reduced_valid_y = y_valid[valdata_idx]"
   ]
  },
  {
   "cell_type": "code",
   "execution_count": 37,
   "id": "89de7fb3",
   "metadata": {},
   "outputs": [],
   "source": [
    "reduced_valid_y[reduced_valid_y == 8] = 0\n",
    "reduced_valid_y[reduced_valid_y == 9] = 1"
   ]
  },
  {
   "cell_type": "code",
   "execution_count": 38,
   "id": "a03b3077",
   "metadata": {},
   "outputs": [
    {
     "data": {
      "text/plain": [
       "1037"
      ]
     },
     "execution_count": 38,
     "metadata": {},
     "output_type": "execute_result"
    }
   ],
   "source": [
    "reduced_valid_y.size"
   ]
  },
  {
   "cell_type": "markdown",
   "id": "c4a4a270-43e9-4f7a-9202-0cdf3afa898e",
   "metadata": {},
   "source": [
    "## Fine tuning the new model"
   ]
  },
  {
   "cell_type": "code",
   "execution_count": 38,
   "id": "7e0dfe4d",
   "metadata": {},
   "outputs": [
    {
     "name": "stdout",
     "output_type": "stream",
     "text": [
      "Epoch 1/4\n",
      "343/343 [==============================] - 1s 1ms/step - loss: 0.2184 - accuracy: 0.9597 - val_loss: 0.1113 - val_accuracy: 0.9942\n",
      "Epoch 2/4\n",
      "343/343 [==============================] - 0s 1ms/step - loss: 0.0878 - accuracy: 0.9965 - val_loss: 0.0674 - val_accuracy: 0.9961\n",
      "Epoch 3/4\n",
      "343/343 [==============================] - 0s 1ms/step - loss: 0.0592 - accuracy: 0.9974 - val_loss: 0.0504 - val_accuracy: 0.9961\n",
      "Epoch 4/4\n",
      "343/343 [==============================] - 0s 1ms/step - loss: 0.0460 - accuracy: 0.9975 - val_loss: 0.0412 - val_accuracy: 0.9961\n"
     ]
    }
   ],
   "source": [
    "history = model_B_on_A.fit(reduced_X, reduced_y, epochs=4,\n",
    "                          validation_data=(reduced_valid_X, reduced_valid_y))"
   ]
  },
  {
   "cell_type": "markdown",
   "id": "96482fef-0a35-4cd3-82a3-c1f8acbd685d",
   "metadata": {},
   "source": [
    "## Unfreezing the reused layers"
   ]
  },
  {
   "cell_type": "code",
   "execution_count": 39,
   "id": "a1a695a4",
   "metadata": {},
   "outputs": [],
   "source": [
    "for layer in model_B_on_A.layers:\n",
    "    layer.trainable=True"
   ]
  },
  {
   "cell_type": "markdown",
   "id": "bf115eac-0c70-40ee-8029-cd9bccf6f94b",
   "metadata": {},
   "source": [
    "## Reducing the lr to protect reused layers"
   ]
  },
  {
   "cell_type": "code",
   "execution_count": null,
   "id": "e87addcc-d516-4e66-b32e-fe38c357a6d1",
   "metadata": {},
   "outputs": [],
   "source": [
    "optimizer = tf.keras.optimizers.SGD(learning_rate=0.001)"
   ]
  },
  {
   "cell_type": "markdown",
   "id": "788f3ec4-9d32-40a3-9f19-9a811db14528",
   "metadata": {},
   "source": [
    "## Recompiling the model"
   ]
  },
  {
   "cell_type": "code",
   "execution_count": 40,
   "id": "0868c1cf",
   "metadata": {},
   "outputs": [],
   "source": [
    "model_B_on_A.compile(loss=\"binary_crossentropy\",\n",
    "                     optimizer=optimizer,\n",
    "                    metrics=['accuracy'])"
   ]
  },
  {
   "cell_type": "code",
   "execution_count": 41,
   "id": "ad8fb27c",
   "metadata": {},
   "outputs": [
    {
     "name": "stdout",
     "output_type": "stream",
     "text": [
      "Epoch 1/4\n",
      "343/343 [==============================] - 1s 1ms/step - loss: 0.0333 - accuracy: 0.9977 - val_loss: 0.0281 - val_accuracy: 0.9961\n",
      "Epoch 2/4\n",
      "343/343 [==============================] - 0s 1ms/step - loss: 0.0237 - accuracy: 0.9981 - val_loss: 0.0223 - val_accuracy: 0.9961\n",
      "Epoch 3/4\n",
      "343/343 [==============================] - 0s 1ms/step - loss: 0.0189 - accuracy: 0.9981 - val_loss: 0.0191 - val_accuracy: 0.9961\n",
      "Epoch 4/4\n",
      "343/343 [==============================] - 0s 1ms/step - loss: 0.0160 - accuracy: 0.9984 - val_loss: 0.0169 - val_accuracy: 0.9961\n"
     ]
    }
   ],
   "source": [
    "history = model_B_on_A.fit(reduced_X, reduced_y, epochs=4,\n",
    "                          validation_data=(reduced_valid_X, reduced_valid_y))"
   ]
  },
  {
   "cell_type": "code",
   "execution_count": null,
   "id": "7055c2c3",
   "metadata": {},
   "outputs": [],
   "source": []
  }
 ],
 "metadata": {
  "kernelspec": {
   "display_name": "tf39",
   "language": "python",
   "name": "tf39"
  },
  "language_info": {
   "codemirror_mode": {
    "name": "ipython",
    "version": 3
   },
   "file_extension": ".py",
   "mimetype": "text/x-python",
   "name": "python",
   "nbconvert_exporter": "python",
   "pygments_lexer": "ipython3",
   "version": "3.9.18"
  }
 },
 "nbformat": 4,
 "nbformat_minor": 5
}
