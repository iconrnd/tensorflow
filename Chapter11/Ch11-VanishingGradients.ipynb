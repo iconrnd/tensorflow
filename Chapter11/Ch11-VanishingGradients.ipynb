{
 "cells": [
  {
   "cell_type": "markdown",
   "id": "bdc3e3b2-bb4d-4747-9e04-7888686d882a",
   "metadata": {},
   "source": [
    "## Mitigating vanishing/exploding gradient problem in FF networks\n",
    "* ### BatchNorm\n",
    "* ### Proper initialization"
   ]
  },
  {
   "cell_type": "code",
   "execution_count": null,
   "id": "f8a94024",
   "metadata": {
    "scrolled": true
   },
   "outputs": [],
   "source": [
    "import tensorflow as tf\n",
    "import tensorflow.keras as K\n",
    "import numpy as np\n",
    "import pandas as pd\n",
    "import matplotlib.pyplot as plt"
   ]
  },
  {
   "cell_type": "code",
   "execution_count": null,
   "id": "3843e079",
   "metadata": {
    "scrolled": true
   },
   "outputs": [],
   "source": [
    "tf.config.list_physical_devices('GPU')"
   ]
  },
  {
   "cell_type": "markdown",
   "id": "222573da-9504-45aa-87a5-b3d0a5854493",
   "metadata": {},
   "source": [
    "## Fashon MNIST classification dataset"
   ]
  },
  {
   "cell_type": "code",
   "execution_count": 2,
   "id": "3ae486bf",
   "metadata": {},
   "outputs": [],
   "source": [
    "fashion_mnist=tf.keras.datasets.fashion_mnist.load_data()"
   ]
  },
  {
   "cell_type": "code",
   "execution_count": 3,
   "id": "d425c8d7",
   "metadata": {},
   "outputs": [],
   "source": [
    "(X_train_full, y_train_full), (X_test, y_test) = fashion_mnist"
   ]
  },
  {
   "cell_type": "code",
   "execution_count": 4,
   "id": "3ecb2acb",
   "metadata": {},
   "outputs": [],
   "source": [
    "X_train, y_train = X_train_full[:-5000], y_train_full[:-5000]\n",
    "X_valid, y_valid = X_train_full[-5000:], y_train_full[-5000:]"
   ]
  },
  {
   "cell_type": "code",
   "execution_count": 5,
   "id": "f4c3c5eb",
   "metadata": {},
   "outputs": [
    {
     "data": {
      "text/plain": [
       "(55000, 28, 28)"
      ]
     },
     "execution_count": 5,
     "metadata": {},
     "output_type": "execute_result"
    }
   ],
   "source": [
    "X_train.shape"
   ]
  },
  {
   "cell_type": "code",
   "execution_count": 6,
   "id": "9206592e",
   "metadata": {},
   "outputs": [
    {
     "data": {
      "text/plain": [
       "dtype('uint8')"
      ]
     },
     "execution_count": 6,
     "metadata": {},
     "output_type": "execute_result"
    }
   ],
   "source": [
    "X_train.dtype"
   ]
  },
  {
   "cell_type": "code",
   "execution_count": 7,
   "id": "f74a577f",
   "metadata": {},
   "outputs": [],
   "source": [
    "# Data normalization\n",
    "X_train, X_valid, X_test = X_train/255., X_valid/255., X_test/255. "
   ]
  },
  {
   "cell_type": "code",
   "execution_count": 8,
   "id": "ead95c13",
   "metadata": {},
   "outputs": [
    {
     "data": {
      "text/plain": [
       "dtype('float64')"
      ]
     },
     "execution_count": 8,
     "metadata": {},
     "output_type": "execute_result"
    }
   ],
   "source": [
    "X_train.dtype"
   ]
  },
  {
   "cell_type": "code",
   "execution_count": 9,
   "id": "bfd5aa15",
   "metadata": {},
   "outputs": [],
   "source": [
    "class_names = [\"T-shirt/top\", \"Trouser\", \"Pullover\", \"Dress\", \"Coat\", \"Sandal\", \"Shirt\", \"Sneaker\", \"Bag\", \"Ankle boot\"]"
   ]
  },
  {
   "cell_type": "code",
   "execution_count": 10,
   "id": "2e9619e4",
   "metadata": {},
   "outputs": [],
   "source": [
    "tf.random.set_seed(42)"
   ]
  },
  {
   "cell_type": "markdown",
   "id": "086d5274-e908-4503-8d8d-460c6a80afd6",
   "metadata": {},
   "source": [
    "## Model definition"
   ]
  },
  {
   "cell_type": "code",
   "execution_count": null,
   "id": "a22e7f76",
   "metadata": {},
   "outputs": [],
   "source": [
    "model = tf.keras.models.Sequential([\n",
    "    tf.keras.layers.Flatten(input_shape=[28, 28]),\n",
    "    tf.keras.layers.BatchNormalization(),\n",
    "    tf.keras.layers.Dense(300, activation='relu', kernel_initializer='he_normal'),\n",
    "    tf.keras.layers.BatchNormalization(),\n",
    "    tf.keras.layers.Dense(100, activation='relu', kernel_initializer='he_normal'),\n",
    "    tf.keras.layers.BatchNormalization(),\n",
    "    tf.keras.layers.Dense(10, activation='softmax')\n",
    "])"
   ]
  },
  {
   "cell_type": "markdown",
   "id": "95a3cc06-df17-47cd-a4b3-6108feaa3a03",
   "metadata": {},
   "source": [
    "### Below we see that BN leayer has parmeters corresponding to four times the input vector size\n",
    "### e.g. 3136 == 4 * 784"
   ]
  },
  {
   "cell_type": "code",
   "execution_count": 14,
   "id": "0712b8e8",
   "metadata": {},
   "outputs": [
    {
     "name": "stdout",
     "output_type": "stream",
     "text": [
      "Model: \"sequential\"\n",
      "_________________________________________________________________\n",
      " Layer (type)                Output Shape              Param #   \n",
      "=================================================================\n",
      " flatten (Flatten)           (None, 784)               0         \n",
      "                                                                 \n",
      " batch_normalization (BatchN  (None, 784)              3136      \n",
      " ormalization)                                                   \n",
      "                                                                 \n",
      " dense (Dense)               (None, 300)               235500    \n",
      "                                                                 \n",
      " batch_normalization_1 (Batc  (None, 300)              1200      \n",
      " hNormalization)                                                 \n",
      "                                                                 \n",
      " dense_1 (Dense)             (None, 100)               30100     \n",
      "                                                                 \n",
      " batch_normalization_2 (Batc  (None, 100)              400       \n",
      " hNormalization)                                                 \n",
      "                                                                 \n",
      " dense_2 (Dense)             (None, 10)                1010      \n",
      "                                                                 \n",
      "=================================================================\n",
      "Total params: 271,346\n",
      "Trainable params: 268,978\n",
      "Non-trainable params: 2,368\n",
      "_________________________________________________________________\n"
     ]
    }
   ],
   "source": [
    "model.summary()"
   ]
  },
  {
   "cell_type": "markdown",
   "id": "3877b56d-453f-4cbf-af27-636e2c81c3c2",
   "metadata": {},
   "source": [
    "### Not all variables in BN are trainable by SGD - \n",
    "### moving averages for the final $\\mu$, $\\sigma$ are not trainable"
   ]
  },
  {
   "cell_type": "code",
   "execution_count": 15,
   "id": "fe2057b1",
   "metadata": {},
   "outputs": [
    {
     "data": {
      "text/plain": [
       "[('batch_normalization/gamma:0', True),\n",
       " ('batch_normalization/beta:0', True),\n",
       " ('batch_normalization/moving_mean:0', False),\n",
       " ('batch_normalization/moving_variance:0', False)]"
      ]
     },
     "execution_count": 15,
     "metadata": {},
     "output_type": "execute_result"
    }
   ],
   "source": [
    "[(var.name, var.trainable) for var in model.layers[1].variables]"
   ]
  },
  {
   "cell_type": "markdown",
   "id": "7edce8c8-c4d3-47d1-8a22-04d8e00f5645",
   "metadata": {},
   "source": [
    "## Model definition"
   ]
  },
  {
   "cell_type": "markdown",
   "id": "0b57b77f-b3b9-4d82-8a18-ed17fa576f33",
   "metadata": {},
   "source": [
    "### In order to place BN before activations we need to introduce an explicit activaiton layers into the model\n",
    "\n",
    "### We also remove bias, because BN contains a free term, which in this case will serve as a trainable bias"
   ]
  },
  {
   "cell_type": "code",
   "execution_count": null,
   "id": "0c620dd5",
   "metadata": {},
   "outputs": [],
   "source": [
    "model = tf.keras.models.Sequential([\n",
    "    tf.keras.layers.Flatten(input_shape=[28, 28]),\n",
    "    tf.keras.layers.Dense(300, kernel_initializer='he_normal', use_bias=False),\n",
    "    tf.keras.layers.BatchNormalization(),\n",
    "    tf.keras.layers.Activation('relu'),\n",
    "    tf.keras.layers.Dense(100, kernel_initializer='he_normal', use_bias=False),\n",
    "    tf.keras.layers.BatchNormalization(),\n",
    "    tf.keras.layers.Activation('relu'),\n",
    "    tf.keras.layers.Dense(10, activation='softmax')\n",
    "])"
   ]
  },
  {
   "cell_type": "code",
   "execution_count": 14,
   "id": "da43e78a",
   "metadata": {},
   "outputs": [],
   "source": [
    "model.compile(loss=K.losses.sparse_categorical_crossentropy,\n",
    "             optimizer=K.optimizers.SGD(),\n",
    "             metrics=[K.metrics.sparse_categorical_accuracy])"
   ]
  },
  {
   "cell_type": "markdown",
   "id": "c464ce52-1b66-4a67-bd0e-5a1cd2c46f8e",
   "metadata": {},
   "source": [
    "## Training"
   ]
  },
  {
   "cell_type": "code",
   "execution_count": 15,
   "id": "6c4f4ec9",
   "metadata": {
    "scrolled": true
   },
   "outputs": [
    {
     "name": "stdout",
     "output_type": "stream",
     "text": [
      "Epoch 1/30\n"
     ]
    },
    {
     "name": "stderr",
     "output_type": "stream",
     "text": [
      "2023-06-28 19:19:37.230138: I tensorflow/stream_executor/cuda/cuda_blas.cc:1614] TensorFloat-32 will be used for the matrix multiplication. This will only be logged once.\n"
     ]
    },
    {
     "name": "stdout",
     "output_type": "stream",
     "text": [
      "1719/1719 [==============================] - 4s 2ms/step - loss: 0.6098 - sparse_categorical_accuracy: 0.7971 - val_loss: 0.4333 - val_sparse_categorical_accuracy: 0.8474\n",
      "Epoch 2/30\n",
      "1719/1719 [==============================] - 3s 2ms/step - loss: 0.4253 - sparse_categorical_accuracy: 0.8514 - val_loss: 0.3755 - val_sparse_categorical_accuracy: 0.8606\n",
      "Epoch 3/30\n",
      "1719/1719 [==============================] - 3s 2ms/step - loss: 0.3799 - sparse_categorical_accuracy: 0.8652 - val_loss: 0.3544 - val_sparse_categorical_accuracy: 0.8764\n",
      "Epoch 4/30\n",
      "1719/1719 [==============================] - 3s 2ms/step - loss: 0.3491 - sparse_categorical_accuracy: 0.8763 - val_loss: 0.3435 - val_sparse_categorical_accuracy: 0.8770\n",
      "Epoch 5/30\n",
      "1719/1719 [==============================] - 3s 2ms/step - loss: 0.3282 - sparse_categorical_accuracy: 0.8837 - val_loss: 0.3341 - val_sparse_categorical_accuracy: 0.8722\n",
      "Epoch 6/30\n",
      "1719/1719 [==============================] - 3s 2ms/step - loss: 0.3085 - sparse_categorical_accuracy: 0.8902 - val_loss: 0.3422 - val_sparse_categorical_accuracy: 0.8780\n",
      "Epoch 7/30\n",
      "1719/1719 [==============================] - 3s 2ms/step - loss: 0.2943 - sparse_categorical_accuracy: 0.8943 - val_loss: 0.3326 - val_sparse_categorical_accuracy: 0.8766\n",
      "Epoch 8/30\n",
      "1719/1719 [==============================] - 3s 2ms/step - loss: 0.2795 - sparse_categorical_accuracy: 0.8990 - val_loss: 0.3236 - val_sparse_categorical_accuracy: 0.8830\n",
      "Epoch 9/30\n",
      "1719/1719 [==============================] - 3s 2ms/step - loss: 0.2698 - sparse_categorical_accuracy: 0.9040 - val_loss: 0.3589 - val_sparse_categorical_accuracy: 0.8670\n",
      "Epoch 10/30\n",
      "1719/1719 [==============================] - 3s 2ms/step - loss: 0.2577 - sparse_categorical_accuracy: 0.9071 - val_loss: 0.3232 - val_sparse_categorical_accuracy: 0.8848\n",
      "Epoch 11/30\n",
      "1719/1719 [==============================] - 3s 2ms/step - loss: 0.2492 - sparse_categorical_accuracy: 0.9100 - val_loss: 0.3173 - val_sparse_categorical_accuracy: 0.8878\n",
      "Epoch 12/30\n",
      "1719/1719 [==============================] - 3s 2ms/step - loss: 0.2365 - sparse_categorical_accuracy: 0.9146 - val_loss: 0.3323 - val_sparse_categorical_accuracy: 0.8764\n",
      "Epoch 13/30\n",
      "1719/1719 [==============================] - 3s 2ms/step - loss: 0.2280 - sparse_categorical_accuracy: 0.9189 - val_loss: 0.3247 - val_sparse_categorical_accuracy: 0.8880\n",
      "Epoch 14/30\n",
      "1719/1719 [==============================] - 3s 2ms/step - loss: 0.2185 - sparse_categorical_accuracy: 0.9215 - val_loss: 0.3289 - val_sparse_categorical_accuracy: 0.8838\n",
      "Epoch 15/30\n",
      "1719/1719 [==============================] - 3s 2ms/step - loss: 0.2123 - sparse_categorical_accuracy: 0.9241 - val_loss: 0.3318 - val_sparse_categorical_accuracy: 0.8858\n",
      "Epoch 16/30\n",
      "1719/1719 [==============================] - 3s 2ms/step - loss: 0.2038 - sparse_categorical_accuracy: 0.9281 - val_loss: 0.3268 - val_sparse_categorical_accuracy: 0.8854\n",
      "Epoch 17/30\n",
      "1719/1719 [==============================] - 3s 2ms/step - loss: 0.1979 - sparse_categorical_accuracy: 0.9279 - val_loss: 0.3321 - val_sparse_categorical_accuracy: 0.8838\n",
      "Epoch 18/30\n",
      "1719/1719 [==============================] - 3s 2ms/step - loss: 0.1912 - sparse_categorical_accuracy: 0.9310 - val_loss: 0.3374 - val_sparse_categorical_accuracy: 0.8844\n",
      "Epoch 19/30\n",
      "1719/1719 [==============================] - 3s 2ms/step - loss: 0.1842 - sparse_categorical_accuracy: 0.9338 - val_loss: 0.4169 - val_sparse_categorical_accuracy: 0.8582\n",
      "Epoch 20/30\n",
      "1719/1719 [==============================] - 3s 2ms/step - loss: 0.1792 - sparse_categorical_accuracy: 0.9355 - val_loss: 0.3458 - val_sparse_categorical_accuracy: 0.8844\n",
      "Epoch 21/30\n",
      "1719/1719 [==============================] - 3s 2ms/step - loss: 0.1714 - sparse_categorical_accuracy: 0.9389 - val_loss: 0.3561 - val_sparse_categorical_accuracy: 0.8762\n",
      "Epoch 22/30\n",
      "1719/1719 [==============================] - 4s 2ms/step - loss: 0.1664 - sparse_categorical_accuracy: 0.9408 - val_loss: 0.3498 - val_sparse_categorical_accuracy: 0.8784\n",
      "Epoch 23/30\n",
      "1719/1719 [==============================] - 3s 2ms/step - loss: 0.1595 - sparse_categorical_accuracy: 0.9427 - val_loss: 0.3470 - val_sparse_categorical_accuracy: 0.8800\n",
      "Epoch 24/30\n",
      "1719/1719 [==============================] - 3s 2ms/step - loss: 0.1545 - sparse_categorical_accuracy: 0.9440 - val_loss: 0.3368 - val_sparse_categorical_accuracy: 0.8884\n",
      "Epoch 25/30\n",
      "1719/1719 [==============================] - 3s 2ms/step - loss: 0.1504 - sparse_categorical_accuracy: 0.9467 - val_loss: 0.3338 - val_sparse_categorical_accuracy: 0.8902\n",
      "Epoch 26/30\n",
      "1719/1719 [==============================] - 3s 2ms/step - loss: 0.1450 - sparse_categorical_accuracy: 0.9479 - val_loss: 0.3773 - val_sparse_categorical_accuracy: 0.8808\n",
      "Epoch 27/30\n",
      "1719/1719 [==============================] - 3s 2ms/step - loss: 0.1418 - sparse_categorical_accuracy: 0.9493 - val_loss: 0.3533 - val_sparse_categorical_accuracy: 0.8894\n",
      "Epoch 28/30\n",
      "1719/1719 [==============================] - 3s 2ms/step - loss: 0.1361 - sparse_categorical_accuracy: 0.9518 - val_loss: 0.3566 - val_sparse_categorical_accuracy: 0.8832\n",
      "Epoch 29/30\n",
      "1719/1719 [==============================] - 4s 2ms/step - loss: 0.1336 - sparse_categorical_accuracy: 0.9523 - val_loss: 0.3665 - val_sparse_categorical_accuracy: 0.8824\n",
      "Epoch 30/30\n",
      "1719/1719 [==============================] - 3s 2ms/step - loss: 0.1296 - sparse_categorical_accuracy: 0.9543 - val_loss: 0.3730 - val_sparse_categorical_accuracy: 0.8800\n"
     ]
    }
   ],
   "source": [
    "history = model.fit(X_train, y_train, \n",
    "         epochs=30,\n",
    "         validation_data=[X_valid, y_valid])"
   ]
  },
  {
   "cell_type": "code",
   "execution_count": 44,
   "id": "cbf90d3d",
   "metadata": {},
   "outputs": [
    {
     "data": {
      "text/plain": [
       "30"
      ]
     },
     "execution_count": 44,
     "metadata": {},
     "output_type": "execute_result"
    }
   ],
   "source": [
    "history.params['epochs']\n"
   ]
  },
  {
   "cell_type": "code",
   "execution_count": 16,
   "id": "09c1c8cd",
   "metadata": {},
   "outputs": [
    {
     "data": {
      "image/png": "[encoded data removed]",
      "text/plain": [
       "<Figure size 800x500 with 1 Axes>"
      ]
     },
     "metadata": {},
     "output_type": "display_data"
    }
   ],
   "source": [
    "pd.DataFrame(history.history).plot(figsize=(8, 5),\n",
    "                                  xlim=[0, history.params['epochs']],\n",
    "                                  ylim=[0, 1],\n",
    "                                  grid=True,\n",
    "                                  xlabel='Epoch',\n",
    "                                  style=[\"r--\", \"r--.\", \"b-\", \"b-*\"])\n",
    "plt.show()"
   ]
  },
  {
   "cell_type": "markdown",
   "id": "8918d406-583e-4105-b8b5-213193c2e081",
   "metadata": {},
   "source": [
    "## Model evaluation"
   ]
  },
  {
   "cell_type": "code",
   "execution_count": 17,
   "id": "2b6e4d55",
   "metadata": {},
   "outputs": [
    {
     "name": "stdout",
     "output_type": "stream",
     "text": [
      "313/313 [==============================] - 0s 1ms/step - loss: 0.3797 - sparse_categorical_accuracy: 0.8811\n"
     ]
    },
    {
     "data": {
      "text/plain": [
       "[0.37972182035446167, 0.8810999989509583]"
      ]
     },
     "execution_count": 17,
     "metadata": {},
     "output_type": "execute_result"
    }
   ],
   "source": [
    "model.evaluate(X_test, y_test)"
   ]
  },
  {
   "cell_type": "code",
   "execution_count": 46,
   "id": "c95e898c",
   "metadata": {},
   "outputs": [
    {
     "name": "stdout",
     "output_type": "stream",
     "text": [
      "313/313 [==============================] - 0s 847us/step - loss: 0.3209 - sparse_categorical_accuracy: 0.8879\n"
     ]
    },
    {
     "data": {
      "text/plain": [
       "[0.32093656063079834, 0.8878999948501587]"
      ]
     },
     "execution_count": 46,
     "metadata": {},
     "output_type": "execute_result"
    }
   ],
   "source": [
    "model.evaluate(X_test, y_test)"
   ]
  },
  {
   "cell_type": "code",
   "execution_count": 47,
   "id": "5d3e877f",
   "metadata": {},
   "outputs": [],
   "source": [
    "X_new=X_test[:3]"
   ]
  },
  {
   "cell_type": "code",
   "execution_count": 50,
   "id": "fd84fe63",
   "metadata": {},
   "outputs": [
    {
     "name": "stdout",
     "output_type": "stream",
     "text": [
      "1/1 [==============================] - 0s 59ms/step\n"
     ]
    }
   ],
   "source": [
    "y_proba=model.predict(X_new)"
   ]
  },
  {
   "cell_type": "code",
   "execution_count": null,
   "id": "c6192ee1",
   "metadata": {},
   "outputs": [],
   "source": []
  }
 ],
 "metadata": {
  "kernelspec": {
   "display_name": "tf39",
   "language": "python",
   "name": "tf39"
  },
  "language_info": {
   "codemirror_mode": {
    "name": "ipython",
    "version": 3
   },
   "file_extension": ".py",
   "mimetype": "text/x-python",
   "name": "python",
   "nbconvert_exporter": "python",
   "pygments_lexer": "ipython3",
   "version": "3.9.18"
  }
 },
 "nbformat": 4,
 "nbformat_minor": 5
}
