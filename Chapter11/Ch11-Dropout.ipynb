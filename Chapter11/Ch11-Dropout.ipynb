{
 "cells": [
  {
   "cell_type": "markdown",
   "id": "3afd8f58-cd52-49b2-ae0e-81c3ec4f5ec6",
   "metadata": {},
   "source": [
    "## Dropout regularization\n",
    "* ### LR Scheduler Callback"
   ]
  },
  {
   "cell_type": "code",
   "execution_count": null,
   "id": "f8a94024",
   "metadata": {
    "scrolled": true
   },
   "outputs": [],
   "source": [
    "import tensorflow as tf\n",
    "import tensorflow.keras as K\n",
    "import numpy as np\n",
    "import pandas as pd\n",
    "import matplotlib.pyplot as plt\n",
    "from functools import partial"
   ]
  },
  {
   "cell_type": "code",
   "execution_count": null,
   "id": "3843e079",
   "metadata": {
    "scrolled": true
   },
   "outputs": [],
   "source": [
    "tf.config.list_physical_devices('GPU')"
   ]
  },
  {
   "cell_type": "markdown",
   "id": "430bd631-c9e7-42eb-a390-c863e43d2b14",
   "metadata": {},
   "source": [
    "## Fashion MNIST classification dataset"
   ]
  },
  {
   "cell_type": "code",
   "execution_count": 3,
   "id": "3ae486bf",
   "metadata": {},
   "outputs": [],
   "source": [
    "fashion_mnist=tf.keras.datasets.fashion_mnist.load_data()"
   ]
  },
  {
   "cell_type": "code",
   "execution_count": 4,
   "id": "d425c8d7",
   "metadata": {},
   "outputs": [],
   "source": [
    "(X_train_full, y_train_full), (X_test, y_test) = fashion_mnist"
   ]
  },
  {
   "cell_type": "code",
   "execution_count": 5,
   "id": "3ecb2acb",
   "metadata": {},
   "outputs": [],
   "source": [
    "X_train, y_train = X_train_full[:-5000], y_train_full[:-5000]\n",
    "X_valid, y_valid = X_train_full[-5000:], y_train_full[-5000:]"
   ]
  },
  {
   "cell_type": "code",
   "execution_count": 6,
   "id": "f4c3c5eb",
   "metadata": {},
   "outputs": [
    {
     "data": {
      "text/plain": [
       "(55000, 28, 28)"
      ]
     },
     "execution_count": 6,
     "metadata": {},
     "output_type": "execute_result"
    }
   ],
   "source": [
    "X_train.shape"
   ]
  },
  {
   "cell_type": "code",
   "execution_count": 7,
   "id": "9206592e",
   "metadata": {
    "scrolled": true
   },
   "outputs": [
    {
     "data": {
      "text/plain": [
       "dtype('uint8')"
      ]
     },
     "execution_count": 7,
     "metadata": {},
     "output_type": "execute_result"
    }
   ],
   "source": [
    "X_train.dtype"
   ]
  },
  {
   "cell_type": "markdown",
   "id": "2a0f77cb-565d-470d-99b5-1e9753b66ea6",
   "metadata": {},
   "source": [
    "## Data normalization"
   ]
  },
  {
   "cell_type": "code",
   "execution_count": 8,
   "id": "f74a577f",
   "metadata": {},
   "outputs": [],
   "source": [
    "X_train, X_valid, X_test = X_train/255., X_valid/255., X_test/255. "
   ]
  },
  {
   "cell_type": "code",
   "execution_count": 9,
   "id": "bfd5aa15",
   "metadata": {},
   "outputs": [],
   "source": [
    "class_names = [\"T-shirt/top\", \"Trouser\", \"Pullover\", \"Dress\", \"Coat\", \"Sandal\", \"Shirt\", \"Sneaker\", \"Bag\", \"Ankle boot\"]"
   ]
  },
  {
   "cell_type": "code",
   "execution_count": 10,
   "id": "2e9619e4",
   "metadata": {},
   "outputs": [],
   "source": [
    "tf.random.set_seed(42)"
   ]
  },
  {
   "cell_type": "markdown",
   "id": "fedb396c-548e-4965-a3e4-01ad9bde0979",
   "metadata": {},
   "source": [
    "## Model definition"
   ]
  },
  {
   "cell_type": "code",
   "execution_count": null,
   "id": "c67a5486",
   "metadata": {},
   "outputs": [],
   "source": [
    "model = K.Sequential()"
   ]
  },
  {
   "cell_type": "code",
   "execution_count": 12,
   "id": "bb012589",
   "metadata": {},
   "outputs": [
    {
     "data": {
      "text/plain": [
       "<keras.engine.sequential.Sequential at 0x7faba1bb42b0>"
      ]
     },
     "execution_count": 12,
     "metadata": {},
     "output_type": "execute_result"
    }
   ],
   "source": [
    "model"
   ]
  },
  {
   "cell_type": "code",
   "execution_count": 13,
   "id": "6bdd4be1",
   "metadata": {},
   "outputs": [],
   "source": [
    "RegularizedDense = partial(K.layers.Dense,\n",
    "                          activation='relu',\n",
    "                          kernel_initializer='he_normal',\n",
    "                          kernel_regularizer=K.regularizers.l2(0.01))"
   ]
  },
  {
   "cell_type": "code",
   "execution_count": 14,
   "id": "84e627f7",
   "metadata": {},
   "outputs": [],
   "source": [
    "model.add(K.layers.Input(shape=[28, 28]))\n",
    "model.add(K.layers.Flatten())\n",
    "model.add(K.layers.Dropout(rate=0.2))\n",
    "model.add(RegularizedDense(300))\n",
    "model.add(K.layers.Dropout(rate=0.2))\n",
    "model.add(RegularizedDense(100))\n",
    "model.add(K.layers.Dropout(rate=0.2))\n",
    "model.add(K.layers.Dense(10, activation='softmax'))"
   ]
  },
  {
   "cell_type": "code",
   "execution_count": 15,
   "id": "0712b8e8",
   "metadata": {},
   "outputs": [
    {
     "name": "stdout",
     "output_type": "stream",
     "text": [
      "Model: \"sequential\"\n",
      "_________________________________________________________________\n",
      " Layer (type)                Output Shape              Param #   \n",
      "=================================================================\n",
      " flatten (Flatten)           (None, 784)               0         \n",
      "                                                                 \n",
      " dropout (Dropout)           (None, 784)               0         \n",
      "                                                                 \n",
      " dense (Dense)               (None, 300)               235500    \n",
      "                                                                 \n",
      " dropout_1 (Dropout)         (None, 300)               0         \n",
      "                                                                 \n",
      " dense_1 (Dense)             (None, 100)               30100     \n",
      "                                                                 \n",
      " dropout_2 (Dropout)         (None, 100)               0         \n",
      "                                                                 \n",
      " dense_2 (Dense)             (None, 10)                1010      \n",
      "                                                                 \n",
      "=================================================================\n",
      "Total params: 266,610\n",
      "Trainable params: 266,610\n",
      "Non-trainable params: 0\n",
      "_________________________________________________________________\n"
     ]
    }
   ],
   "source": [
    "model.summary()"
   ]
  },
  {
   "cell_type": "code",
   "execution_count": 16,
   "id": "da43e78a",
   "metadata": {},
   "outputs": [],
   "source": [
    "model.compile(loss=K.losses.sparse_categorical_crossentropy,\n",
    "             optimizer=K.optimizers.SGD(),\n",
    "             metrics=[K.metrics.sparse_categorical_accuracy])"
   ]
  },
  {
   "cell_type": "markdown",
   "id": "336a8bc2-8b7f-47da-8ed9-776219dc3764",
   "metadata": {},
   "source": [
    "## Learning rate scheduler using exponential decay over epochs"
   ]
  },
  {
   "cell_type": "code",
   "execution_count": 17,
   "id": "6bcb4e77",
   "metadata": {},
   "outputs": [],
   "source": [
    "def exponential_decay(lr0, s):\n",
    "    def exponential_decay_fn(epoch):\n",
    "        assert s>0, 's shoud be positive'\n",
    "        return lr0 * 0.01 ** (epoch/s)\n",
    "    return exponential_decay_fn"
   ]
  },
  {
   "cell_type": "code",
   "execution_count": 18,
   "id": "cdc98586",
   "metadata": {},
   "outputs": [],
   "source": [
    "exponential_decay_fn = exponential_decay(lr0=0.1, s=20)"
   ]
  },
  {
   "cell_type": "markdown",
   "id": "3507c3ee-233f-440a-9bfb-c31530f1599c",
   "metadata": {},
   "source": [
    "## LR Scheduler Callback"
   ]
  },
  {
   "cell_type": "code",
   "execution_count": 19,
   "id": "91c74a99",
   "metadata": {},
   "outputs": [],
   "source": [
    "lr_scheduler = K.callbacks.LearningRateScheduler(exponential_decay_fn)"
   ]
  },
  {
   "cell_type": "markdown",
   "id": "1a949a9b-d201-4bb8-8e03-0c98f3684548",
   "metadata": {},
   "source": [
    "## Training"
   ]
  },
  {
   "cell_type": "code",
   "execution_count": 20,
   "id": "6c4f4ec9",
   "metadata": {
    "scrolled": true
   },
   "outputs": [
    {
     "name": "stdout",
     "output_type": "stream",
     "text": [
      "Epoch 1/30\n",
      "  59/1719 [>.............................] - ETA: 2s - loss: 8.5855 - sparse_categorical_accuracy: 0.4979  "
     ]
    },
    {
     "name": "stderr",
     "output_type": "stream",
     "text": [
      "2023-07-07 15:27:11.817940: I tensorflow/stream_executor/cuda/cuda_blas.cc:1614] TensorFloat-32 will be used for the matrix multiplication. This will only be logged once.\n"
     ]
    },
    {
     "name": "stdout",
     "output_type": "stream",
     "text": [
      "1719/1719 [==============================] - 3s 1ms/step - loss: 2.0454 - sparse_categorical_accuracy: 0.7428 - val_loss: 0.7701 - val_sparse_categorical_accuracy: 0.7954 - lr: 0.1000\n",
      "Epoch 2/30\n",
      "1719/1719 [==============================] - 2s 1ms/step - loss: 0.7857 - sparse_categorical_accuracy: 0.7811 - val_loss: 0.6918 - val_sparse_categorical_accuracy: 0.8126 - lr: 0.0794\n",
      "Epoch 3/30\n",
      "1719/1719 [==============================] - 2s 1ms/step - loss: 0.7366 - sparse_categorical_accuracy: 0.7944 - val_loss: 0.7099 - val_sparse_categorical_accuracy: 0.8100 - lr: 0.0631\n",
      "Epoch 4/30\n",
      "1719/1719 [==============================] - 2s 1ms/step - loss: 0.7093 - sparse_categorical_accuracy: 0.8007 - val_loss: 0.6403 - val_sparse_categorical_accuracy: 0.8300 - lr: 0.0501\n",
      "Epoch 5/30\n",
      "1719/1719 [==============================] - 2s 1ms/step - loss: 0.6864 - sparse_categorical_accuracy: 0.8065 - val_loss: 0.6103 - val_sparse_categorical_accuracy: 0.8358 - lr: 0.0398\n",
      "Epoch 6/30\n",
      "1719/1719 [==============================] - 2s 1ms/step - loss: 0.6647 - sparse_categorical_accuracy: 0.8140 - val_loss: 0.6469 - val_sparse_categorical_accuracy: 0.8138 - lr: 0.0316\n",
      "Epoch 7/30\n",
      "1719/1719 [==============================] - 2s 1ms/step - loss: 0.6474 - sparse_categorical_accuracy: 0.8180 - val_loss: 0.5839 - val_sparse_categorical_accuracy: 0.8418 - lr: 0.0251\n",
      "Epoch 8/30\n",
      "1719/1719 [==============================] - 2s 1ms/step - loss: 0.6360 - sparse_categorical_accuracy: 0.8205 - val_loss: 0.5737 - val_sparse_categorical_accuracy: 0.8390 - lr: 0.0200\n",
      "Epoch 9/30\n",
      "1719/1719 [==============================] - 2s 1ms/step - loss: 0.6218 - sparse_categorical_accuracy: 0.8267 - val_loss: 0.5683 - val_sparse_categorical_accuracy: 0.8454 - lr: 0.0158\n",
      "Epoch 10/30\n",
      "1719/1719 [==============================] - 2s 1ms/step - loss: 0.6123 - sparse_categorical_accuracy: 0.8271 - val_loss: 0.5603 - val_sparse_categorical_accuracy: 0.8468 - lr: 0.0126\n",
      "Epoch 11/30\n",
      "1719/1719 [==============================] - 2s 1ms/step - loss: 0.6056 - sparse_categorical_accuracy: 0.8305 - val_loss: 0.5465 - val_sparse_categorical_accuracy: 0.8460 - lr: 0.0100\n",
      "Epoch 12/30\n",
      "1719/1719 [==============================] - 2s 1ms/step - loss: 0.6001 - sparse_categorical_accuracy: 0.8316 - val_loss: 0.5459 - val_sparse_categorical_accuracy: 0.8540 - lr: 0.0079\n",
      "Epoch 13/30\n",
      "1719/1719 [==============================] - 2s 1ms/step - loss: 0.5908 - sparse_categorical_accuracy: 0.8351 - val_loss: 0.5385 - val_sparse_categorical_accuracy: 0.8496 - lr: 0.0063\n",
      "Epoch 14/30\n",
      "1719/1719 [==============================] - 2s 1ms/step - loss: 0.5870 - sparse_categorical_accuracy: 0.8370 - val_loss: 0.5405 - val_sparse_categorical_accuracy: 0.8528 - lr: 0.0050\n",
      "Epoch 15/30\n",
      "1719/1719 [==============================] - 2s 1ms/step - loss: 0.5844 - sparse_categorical_accuracy: 0.8379 - val_loss: 0.5362 - val_sparse_categorical_accuracy: 0.8530 - lr: 0.0040\n",
      "Epoch 16/30\n",
      "1719/1719 [==============================] - 2s 1ms/step - loss: 0.5798 - sparse_categorical_accuracy: 0.8389 - val_loss: 0.5325 - val_sparse_categorical_accuracy: 0.8510 - lr: 0.0032\n",
      "Epoch 17/30\n",
      "1719/1719 [==============================] - 2s 1ms/step - loss: 0.5762 - sparse_categorical_accuracy: 0.8400 - val_loss: 0.5278 - val_sparse_categorical_accuracy: 0.8534 - lr: 0.0025\n",
      "Epoch 18/30\n",
      "1719/1719 [==============================] - 2s 1ms/step - loss: 0.5736 - sparse_categorical_accuracy: 0.8412 - val_loss: 0.5301 - val_sparse_categorical_accuracy: 0.8554 - lr: 0.0020\n",
      "Epoch 19/30\n",
      "1719/1719 [==============================] - 2s 1ms/step - loss: 0.5753 - sparse_categorical_accuracy: 0.8399 - val_loss: 0.5268 - val_sparse_categorical_accuracy: 0.8550 - lr: 0.0016\n",
      "Epoch 20/30\n",
      "1719/1719 [==============================] - 2s 1ms/step - loss: 0.5727 - sparse_categorical_accuracy: 0.8433 - val_loss: 0.5258 - val_sparse_categorical_accuracy: 0.8538 - lr: 0.0013\n",
      "Epoch 21/30\n",
      "1719/1719 [==============================] - 2s 1ms/step - loss: 0.5729 - sparse_categorical_accuracy: 0.8424 - val_loss: 0.5265 - val_sparse_categorical_accuracy: 0.8542 - lr: 0.0010\n",
      "Epoch 22/30\n",
      "1719/1719 [==============================] - 2s 1ms/step - loss: 0.5707 - sparse_categorical_accuracy: 0.8408 - val_loss: 0.5267 - val_sparse_categorical_accuracy: 0.8548 - lr: 7.9433e-04\n",
      "Epoch 23/30\n",
      "1719/1719 [==============================] - 2s 1ms/step - loss: 0.5723 - sparse_categorical_accuracy: 0.8420 - val_loss: 0.5269 - val_sparse_categorical_accuracy: 0.8570 - lr: 6.3096e-04\n",
      "Epoch 24/30\n",
      "1719/1719 [==============================] - 2s 1ms/step - loss: 0.5697 - sparse_categorical_accuracy: 0.8431 - val_loss: 0.5261 - val_sparse_categorical_accuracy: 0.8530 - lr: 5.0119e-04\n",
      "Epoch 25/30\n",
      "1719/1719 [==============================] - 2s 1ms/step - loss: 0.5715 - sparse_categorical_accuracy: 0.8423 - val_loss: 0.5247 - val_sparse_categorical_accuracy: 0.8558 - lr: 3.9811e-04\n",
      "Epoch 26/30\n",
      "1719/1719 [==============================] - 2s 1ms/step - loss: 0.5683 - sparse_categorical_accuracy: 0.8435 - val_loss: 0.5250 - val_sparse_categorical_accuracy: 0.8552 - lr: 3.1623e-04\n",
      "Epoch 27/30\n",
      "1719/1719 [==============================] - 2s 1ms/step - loss: 0.5680 - sparse_categorical_accuracy: 0.8436 - val_loss: 0.5245 - val_sparse_categorical_accuracy: 0.8560 - lr: 2.5119e-04\n",
      "Epoch 28/30\n",
      "1719/1719 [==============================] - 2s 1ms/step - loss: 0.5693 - sparse_categorical_accuracy: 0.8430 - val_loss: 0.5248 - val_sparse_categorical_accuracy: 0.8554 - lr: 1.9953e-04\n",
      "Epoch 29/30\n",
      "1719/1719 [==============================] - 2s 1ms/step - loss: 0.5692 - sparse_categorical_accuracy: 0.8430 - val_loss: 0.5252 - val_sparse_categorical_accuracy: 0.8564 - lr: 1.5849e-04\n",
      "Epoch 30/30\n",
      "1719/1719 [==============================] - 2s 1ms/step - loss: 0.5678 - sparse_categorical_accuracy: 0.8435 - val_loss: 0.5245 - val_sparse_categorical_accuracy: 0.8540 - lr: 1.2589e-04\n"
     ]
    }
   ],
   "source": [
    "history = model.fit(X_train, y_train, \n",
    "         epochs=30,\n",
    "         validation_data=[X_valid, y_valid],\n",
    "         callbacks=[lr_scheduler])"
   ]
  },
  {
   "cell_type": "code",
   "execution_count": 21,
   "id": "09c1c8cd",
   "metadata": {},
   "outputs": [
    {
     "data": {
      "image/png": "[encoded data removed]",
      "text/plain": [
       "<Figure size 800x500 with 1 Axes>"
      ]
     },
     "metadata": {},
     "output_type": "display_data"
    }
   ],
   "source": [
    "pd.DataFrame(history.history).plot(figsize=(8, 5),\n",
    "                                  xlim=[0, history.params['epochs']],\n",
    "                                  ylim=[0, 1],\n",
    "                                  grid=True,\n",
    "                                  xlabel='Epoch',\n",
    "                                  style=[\"r--\", \"r--.\", \"b-\", \"b-*\"])\n",
    "plt.show()"
   ]
  },
  {
   "cell_type": "code",
   "execution_count": 22,
   "id": "7055c2c3",
   "metadata": {},
   "outputs": [],
   "source": [
    "y_probas = np.stack([model(X_test, training=True) for sample in range(100)])"
   ]
  },
  {
   "cell_type": "code",
   "execution_count": 23,
   "id": "7582516f",
   "metadata": {},
   "outputs": [],
   "source": [
    "y_proba = y_probas.mean(axis=0)"
   ]
  },
  {
   "cell_type": "code",
   "execution_count": 24,
   "id": "18d5e32d",
   "metadata": {},
   "outputs": [
    {
     "name": "stdout",
     "output_type": "stream",
     "text": [
      "1/1 [==============================] - 0s 60ms/step\n"
     ]
    },
    {
     "data": {
      "text/plain": [
       "array([[0.   , 0.001, 0.   , 0.001, 0.   , 0.148, 0.   , 0.314, 0.007,\n",
       "        0.528]], dtype=float32)"
      ]
     },
     "execution_count": 24,
     "metadata": {},
     "output_type": "execute_result"
    }
   ],
   "source": [
    "model.predict(X_test[:1]).round(3)"
   ]
  },
  {
   "cell_type": "code",
   "execution_count": 25,
   "id": "c8f08ad0",
   "metadata": {},
   "outputs": [
    {
     "data": {
      "text/plain": [
       "array([0.001, 0.001, 0.001, 0.001, 0.001, 0.176, 0.001, 0.288, 0.01 ,\n",
       "       0.521], dtype=float32)"
      ]
     },
     "execution_count": 25,
     "metadata": {},
     "output_type": "execute_result"
    }
   ],
   "source": [
    "y_proba[0].round(3)"
   ]
  },
  {
   "cell_type": "code",
   "execution_count": 26,
   "id": "3f8844e5",
   "metadata": {},
   "outputs": [
    {
     "data": {
      "text/plain": [
       "9"
      ]
     },
     "execution_count": 26,
     "metadata": {},
     "output_type": "execute_result"
    }
   ],
   "source": [
    "y_test[0]"
   ]
  },
  {
   "cell_type": "code",
   "execution_count": 27,
   "id": "3e403f31",
   "metadata": {},
   "outputs": [],
   "source": [
    "y_pred = y_proba.argmax(axis=1)"
   ]
  },
  {
   "cell_type": "code",
   "execution_count": 28,
   "id": "bb07c41e",
   "metadata": {},
   "outputs": [
    {
     "data": {
      "text/plain": [
       "0.8486"
      ]
     },
     "execution_count": 28,
     "metadata": {},
     "output_type": "execute_result"
    }
   ],
   "source": [
    "(y_pred == y_test).sum()/len(y_test)"
   ]
  },
  {
   "cell_type": "code",
   "execution_count": 29,
   "id": "dc05c959",
   "metadata": {},
   "outputs": [
    {
     "name": "stdout",
     "output_type": "stream",
     "text": [
      "313/313 [==============================] - 0s 707us/step\n"
     ]
    }
   ],
   "source": [
    "y_pred_m = model.predict(X_test).argmax(axis=1)"
   ]
  },
  {
   "cell_type": "code",
   "execution_count": 30,
   "id": "d8730395",
   "metadata": {},
   "outputs": [
    {
     "data": {
      "text/plain": [
       "0.8477"
      ]
     },
     "execution_count": 30,
     "metadata": {},
     "output_type": "execute_result"
    }
   ],
   "source": [
    "(y_pred_m == y_test).sum()/len(y_test)"
   ]
  },
  {
   "cell_type": "code",
   "execution_count": 31,
   "id": "8c6a2671",
   "metadata": {},
   "outputs": [
    {
     "name": "stdout",
     "output_type": "stream",
     "text": [
      "157/157 [==============================] - 0s 679us/step\n"
     ]
    }
   ],
   "source": [
    "y_val_m = model.predict(X_valid).argmax(axis=1)"
   ]
  },
  {
   "cell_type": "code",
   "execution_count": 32,
   "id": "d789c137",
   "metadata": {},
   "outputs": [
    {
     "data": {
      "text/plain": [
       "0.854"
      ]
     },
     "execution_count": 32,
     "metadata": {},
     "output_type": "execute_result"
    }
   ],
   "source": [
    "(y_val_m == y_valid).sum()/len(y_valid)"
   ]
  },
  {
   "cell_type": "code",
   "execution_count": null,
   "id": "7a4e4a15",
   "metadata": {},
   "outputs": [],
   "source": []
  }
 ],
 "metadata": {
  "kernelspec": {
   "display_name": "tf39",
   "language": "python",
   "name": "tf39"
  },
  "language_info": {
   "codemirror_mode": {
    "name": "ipython",
    "version": 3
   },
   "file_extension": ".py",
   "mimetype": "text/x-python",
   "name": "python",
   "nbconvert_exporter": "python",
   "pygments_lexer": "ipython3",
   "version": "3.9.18"
  }
 },
 "nbformat": 4,
 "nbformat_minor": 5
}
