{
 "cells": [
  {
   "cell_type": "markdown",
   "id": "c019663b-745b-4f08-a5bc-39185a721c4f",
   "metadata": {},
   "source": [
    "## TFRecord binary TF data format"
   ]
  },
  {
   "cell_type": "code",
   "execution_count": 5,
   "id": "9eb48a81-9a2d-4e3c-93c6-522129b28ec8",
   "metadata": {},
   "outputs": [],
   "source": [
    "import tensorflow as tf\n",
    "import numpy as np\n",
    "import os"
   ]
  },
  {
   "cell_type": "markdown",
   "id": "268202d0-57ea-496c-b4b8-7790aa329e5f",
   "metadata": {},
   "source": [
    "## Binary format containing sequence of binary records of varying sizes with records of the form\n",
    "### [length, CRC of the length, data, CRC of the data]"
   ]
  },
  {
   "cell_type": "markdown",
   "id": "9089aa80-1d12-4b8b-afea-0def4acb1e7b",
   "metadata": {},
   "source": [
    "## Creating a TFRecord file with compression:"
   ]
  },
  {
   "cell_type": "code",
   "execution_count": 7,
   "id": "559a26ae-708c-4eff-8ba4-478a49b4c905",
   "metadata": {},
   "outputs": [],
   "source": [
    "options = tf.io.TFRecordOptions(compression_type='GZIP')\n",
    "\n",
    "with tf.io.TFRecordWriter('my_data.tfrecord', options) as f:\n",
    "    f.write(b'First record')\n",
    "    f.write(b'Second record')"
   ]
  },
  {
   "cell_type": "code",
   "execution_count": 8,
   "id": "4b00f292-0fbd-4f63-93f9-c11e7b476dd7",
   "metadata": {},
   "outputs": [
    {
     "name": "stdout",
     "output_type": "stream",
     "text": [
      "\u001f\u0000\u0000\u0000\u0000\u0000\u0000\u0003�a��/'�q�e\u0016\u0015�(\u0014�&�\u0017������\u000b",
      "��1�a\u0012\f",
      "\u0014�K�J^�z�\u000f\u0000��A\u00199\u0000\u0000\u0000"
     ]
    }
   ],
   "source": [
    "!cat ./my_data.tfrecord"
   ]
  },
  {
   "cell_type": "markdown",
   "id": "f4ca8bd8-f13e-4fc5-a1a3-bf006205fd5e",
   "metadata": {},
   "source": [
    "## Reading compressed TFrecord"
   ]
  },
  {
   "cell_type": "markdown",
   "id": "3b01d6fe-bee1-4b6a-ac04-9549b3b7f7bb",
   "metadata": {},
   "source": [
    "### Speeding up reading multiple files:\n",
    "* ### Pass num_parallel_reads = 2 or more to TFRecordDataset\n",
    "### Or\n",
    "* ### Create dataset of filenames with list_files() and use interleave() to mix them"
   ]
  },
  {
   "cell_type": "code",
   "execution_count": 9,
   "id": "f1018b11-c3b0-4621-9242-bbb64ef87e1f",
   "metadata": {},
   "outputs": [
    {
     "name": "stdout",
     "output_type": "stream",
     "text": [
      "tf.Tensor(b'First record', shape=(), dtype=string)\n",
      "tf.Tensor(b'Second record', shape=(), dtype=string)\n"
     ]
    }
   ],
   "source": [
    "filepaths = ['my_data.tfrecord']\n",
    "\n",
    "dataset = tf.data.TFRecordDataset(filepaths, compression_type='GZIP')\n",
    "\n",
    "for item in dataset:\n",
    "    print(item)"
   ]
  },
  {
   "cell_type": "markdown",
   "id": "51404e1c-5e4a-4a2c-b31c-e72e5b0a62df",
   "metadata": {},
   "source": [
    "## TFRecord uses serialized protobuf format by default"
   ]
  },
  {
   "cell_type": "markdown",
   "id": "06ed215c-ba42-4c56-b704-893855ce3432",
   "metadata": {},
   "source": [
    "### Numbers are field identifiers used in record's binary representation\n",
    "### repeated indicated multiple string occurance in field nr 3"
   ]
  },
  {
   "cell_type": "markdown",
   "id": "a46e833f-3a03-4cd1-bc1f-d174ac3a05b0",
   "metadata": {},
   "source": [
    "## Definition of a particular protobuf is stored in a .proto file and compiled using protoc This gives access classes in Python."
   ]
  },
  {
   "cell_type": "markdown",
   "id": "0cdc1f8a-7d86-4727-800c-84ef0e50685d",
   "metadata": {},
   "source": [
    "## Protobuf objects are meant to be serialized and transmitted, so they are called messages"
   ]
  },
  {
   "cell_type": "code",
   "execution_count": null,
   "id": "be588bab-a5bc-42c8-90df-795bb1d3727f",
   "metadata": {},
   "outputs": [],
   "source": [
    "syntax = 'proto3'\n",
    "message Person {\n",
    "    string name = 1;\n",
    "    int32 id = 2;\n",
    "    reapeted string email = 3;\n",
    "}"
   ]
  },
  {
   "cell_type": "markdown",
   "id": "1f4b6a5e-e503-4599-891d-be2e0a46b12d",
   "metadata": {},
   "source": [
    "## Upon compiling wth protoc module can be loaded"
   ]
  },
  {
   "cell_type": "code",
   "execution_count": 12,
   "id": "1f03bfa8-aee5-4a2e-be2e-4ff576dffa2c",
   "metadata": {},
   "outputs": [],
   "source": [
    "from person_pb2 import Person"
   ]
  },
  {
   "cell_type": "markdown",
   "id": "08e42e1b-48ab-4e3d-ac21-904050ab8dc7",
   "metadata": {},
   "source": [
    "## Basic operations on a defined protobuf object"
   ]
  },
  {
   "cell_type": "code",
   "execution_count": 13,
   "id": "fd823fe6-4840-4d47-b838-60d7406befe5",
   "metadata": {},
   "outputs": [],
   "source": [
    "person = Person(name=\"AI\", id=13, email=['a@b.c'])"
   ]
  },
  {
   "cell_type": "code",
   "execution_count": 14,
   "id": "5ebd9a85-828a-475c-8042-a0f93d676157",
   "metadata": {},
   "outputs": [
    {
     "name": "stdout",
     "output_type": "stream",
     "text": [
      "name: \"AI\"\n",
      "id: 13\n",
      "email: \"a@b.c\"\n",
      "\n"
     ]
    }
   ],
   "source": [
    "print(person)"
   ]
  },
  {
   "cell_type": "code",
   "execution_count": 15,
   "id": "1884cd3f-b544-469b-aea1-c0599d531d63",
   "metadata": {},
   "outputs": [
    {
     "data": {
      "text/plain": [
       "'AI'"
      ]
     },
     "execution_count": 15,
     "metadata": {},
     "output_type": "execute_result"
    }
   ],
   "source": [
    "person.name"
   ]
  },
  {
   "cell_type": "code",
   "execution_count": 17,
   "id": "3b7d8c71-3588-4ad3-90c0-3adf4d6bc7b9",
   "metadata": {},
   "outputs": [
    {
     "data": {
      "text/plain": [
       "'a@b.c'"
      ]
     },
     "execution_count": 17,
     "metadata": {},
     "output_type": "execute_result"
    }
   ],
   "source": [
    "person.email[0]"
   ]
  },
  {
   "cell_type": "code",
   "execution_count": 18,
   "id": "c1cc6bc2-d8db-4a5d-947b-cdfef6b4a08a",
   "metadata": {},
   "outputs": [],
   "source": [
    "person.email.append('c@dd.ll')"
   ]
  },
  {
   "cell_type": "code",
   "execution_count": 19,
   "id": "c77dc6fa-f33d-4c05-8565-596d13bd4cb8",
   "metadata": {},
   "outputs": [
    {
     "data": {
      "text/plain": [
       "['a@b.c', 'c@dd.ll']"
      ]
     },
     "execution_count": 19,
     "metadata": {},
     "output_type": "execute_result"
    }
   ],
   "source": [
    "person.email"
   ]
  },
  {
   "cell_type": "code",
   "execution_count": 20,
   "id": "966e7f5b-f3db-46ca-897d-3de96da3aaf4",
   "metadata": {},
   "outputs": [],
   "source": [
    "serialized = person.SerializeToString()"
   ]
  },
  {
   "cell_type": "code",
   "execution_count": 21,
   "id": "968bf270-a533-48c9-8807-0bb5a1476b68",
   "metadata": {},
   "outputs": [
    {
     "data": {
      "text/plain": [
       "b'\\n\\x02AI\\x10\\r\\x1a\\x05a@b.c\\x1a\\x07c@dd.ll'"
      ]
     },
     "execution_count": 21,
     "metadata": {},
     "output_type": "execute_result"
    }
   ],
   "source": [
    "serialized"
   ]
  },
  {
   "cell_type": "code",
   "execution_count": 22,
   "id": "c6dfc7f3-ada9-465f-abd6-40dcdd14d6cc",
   "metadata": {},
   "outputs": [],
   "source": [
    "person2 = Person()"
   ]
  },
  {
   "cell_type": "code",
   "execution_count": 23,
   "id": "3575cc37-1fc4-418d-8f82-9997f08898dd",
   "metadata": {},
   "outputs": [
    {
     "data": {
      "text/plain": [
       "22"
      ]
     },
     "execution_count": 23,
     "metadata": {},
     "output_type": "execute_result"
    }
   ],
   "source": [
    "person2.ParseFromString(serialized)"
   ]
  },
  {
   "cell_type": "code",
   "execution_count": 24,
   "id": "722ce5c2-39d8-44ee-aa72-0d1c50d7315e",
   "metadata": {},
   "outputs": [
    {
     "data": {
      "text/plain": [
       "True"
      ]
     },
     "execution_count": 24,
     "metadata": {},
     "output_type": "execute_result"
    }
   ],
   "source": [
    "person == person2"
   ]
  },
  {
   "cell_type": "markdown",
   "id": "59c868bc-aa26-46d7-9521-fddbc951b50f",
   "metadata": {},
   "source": [
    "## In most cases TF builtin protobus are used instead or cust types like above\n",
    "\n",
    "## For builtin types there are provided dedicated parsers"
   ]
  },
  {
   "cell_type": "markdown",
   "id": "0f1223bf-94d5-4bcd-a84b-14614bf98c0e",
   "metadata": {},
   "source": [
    "## TF Protobufs\n",
    "\n",
    "## The main protobuf typically used in TFRecord is the Example protobuf\n",
    "\n",
    "## It represents one instance in a dataset"
   ]
  },
  {
   "cell_type": "code",
   "execution_count": null,
   "id": "41038057-e3d9-4681-a7cd-118d2532db32",
   "metadata": {},
   "outputs": [],
   "source": [
    "syntax = 'proto3'\n",
    "message ByteList { repeated bytes value = 1; }\n",
    "message FloatList { repeated float value = 1 [packed = true]; } # Packed - more compact numerical representation\n",
    "message Int64List { repeated int64 value = 1 [packed = true]; }\n",
    "message Feature { \n",
    "    oneof kind {\n",
    "        BytesList bytes_list = 1;\n",
    "        FloatList bytes_list = 1;\n",
    "        ByteList bytes_list = 1;\n",
    "    }\n",
    "};\n",
    "message Features { map<string, Feature> feature = 1; };\n",
    "message Example { Features features  = 1; };"
   ]
  },
  {
   "cell_type": "code",
   "execution_count": 26,
   "id": "a85dbd99-ac8b-4e0d-b593-5d205468fa54",
   "metadata": {},
   "outputs": [],
   "source": [
    "from tensorflow.train import BytesList, FloatList, Int64List\n",
    "from tensorflow.train import Feature, Features, Example"
   ]
  },
  {
   "cell_type": "code",
   "execution_count": 29,
   "id": "1ab9056a-8db1-4413-ae6c-ea41115cb678",
   "metadata": {},
   "outputs": [],
   "source": [
    "person_example = Example(\n",
    "    features=Features(\n",
    "        feature={\n",
    "            \"name\": Feature(bytes_list=BytesList(value=[b'Alice'])),\n",
    "            \"id\": Feature(int64_list=Int64List(value=[123])),\n",
    "            \"emails\": Feature(bytes_list=BytesList(value=[b'a@b.c', b'f@d.p']))\n",
    "        }))"
   ]
  },
  {
   "cell_type": "markdown",
   "id": "64bd47bf-dff2-473a-bc2d-0b8713418a3a",
   "metadata": {},
   "source": [
    "## Such a protobuf can be serialized and stored in TFR file"
   ]
  },
  {
   "cell_type": "code",
   "execution_count": 30,
   "id": "9cc39b9c-94f5-4fff-98f0-9dc1af7d32dc",
   "metadata": {},
   "outputs": [],
   "source": [
    "with tf.io.TFRecordWriter('my_contacts.tfrecord') as f:\n",
    "    # Writing serveral times just for example\n",
    "    for _ in range(5):\n",
    "        f.write(person_example.SerializeToString())"
   ]
  },
  {
   "cell_type": "markdown",
   "id": "ec14c88d-580e-4718-93c7-3ad65dcbac7e",
   "metadata": {},
   "source": [
    "## Serialized protobufs stored in TFRecord files need to be parsed once loaded into a dataset to be used by a model\n",
    "\n",
    "## Parsing happens with tf.io.parse_single_example, which requres a string with serialized data and description of each feature"
   ]
  },
  {
   "cell_type": "code",
   "execution_count": 31,
   "id": "690b8d28-b223-403b-a244-9cefcd67ceff",
   "metadata": {},
   "outputs": [],
   "source": [
    "feature_description = {\n",
    "    \"name\": tf.io.FixedLenFeature([], tf.string, default_value=\"\"),\n",
    "    \"id\": tf.io.FixedLenFeature([], tf.int64, default_value=0),\n",
    "    \"emails\": tf.io.VarLenFeature(tf.string),\n",
    "}"
   ]
  },
  {
   "cell_type": "code",
   "execution_count": 32,
   "id": "d26b48fa-d3d2-4fbc-9ee2-1ee4bcdbe49c",
   "metadata": {},
   "outputs": [],
   "source": [
    "def parse(serialized_example):\n",
    "    return tf.io.parse_single_example(serialized_example, feature_description)"
   ]
  },
  {
   "cell_type": "code",
   "execution_count": 33,
   "id": "e9834901-bd56-4edd-9671-3fcd954926cd",
   "metadata": {},
   "outputs": [],
   "source": [
    "dataset = tf.data.TFRecordDataset(['my_contacts.tfrecord']).map(parse)"
   ]
  },
  {
   "cell_type": "code",
   "execution_count": 34,
   "id": "2e8fc670-69ba-450b-871f-0b79e4968914",
   "metadata": {},
   "outputs": [
    {
     "name": "stdout",
     "output_type": "stream",
     "text": [
      "{'emails': SparseTensor(indices=tf.Tensor(\n",
      "[[0]\n",
      " [1]], shape=(2, 1), dtype=int64), values=tf.Tensor([b'a@b.c' b'f@d.p'], shape=(2,), dtype=string), dense_shape=tf.Tensor([2], shape=(1,), dtype=int64)), 'id': <tf.Tensor: shape=(), dtype=int64, numpy=123>, 'name': <tf.Tensor: shape=(), dtype=string, numpy=b'Alice'>}\n",
      "{'emails': SparseTensor(indices=tf.Tensor(\n",
      "[[0]\n",
      " [1]], shape=(2, 1), dtype=int64), values=tf.Tensor([b'a@b.c' b'f@d.p'], shape=(2,), dtype=string), dense_shape=tf.Tensor([2], shape=(1,), dtype=int64)), 'id': <tf.Tensor: shape=(), dtype=int64, numpy=123>, 'name': <tf.Tensor: shape=(), dtype=string, numpy=b'Alice'>}\n",
      "{'emails': SparseTensor(indices=tf.Tensor(\n",
      "[[0]\n",
      " [1]], shape=(2, 1), dtype=int64), values=tf.Tensor([b'a@b.c' b'f@d.p'], shape=(2,), dtype=string), dense_shape=tf.Tensor([2], shape=(1,), dtype=int64)), 'id': <tf.Tensor: shape=(), dtype=int64, numpy=123>, 'name': <tf.Tensor: shape=(), dtype=string, numpy=b'Alice'>}\n",
      "{'emails': SparseTensor(indices=tf.Tensor(\n",
      "[[0]\n",
      " [1]], shape=(2, 1), dtype=int64), values=tf.Tensor([b'a@b.c' b'f@d.p'], shape=(2,), dtype=string), dense_shape=tf.Tensor([2], shape=(1,), dtype=int64)), 'id': <tf.Tensor: shape=(), dtype=int64, numpy=123>, 'name': <tf.Tensor: shape=(), dtype=string, numpy=b'Alice'>}\n",
      "{'emails': SparseTensor(indices=tf.Tensor(\n",
      "[[0]\n",
      " [1]], shape=(2, 1), dtype=int64), values=tf.Tensor([b'a@b.c' b'f@d.p'], shape=(2,), dtype=string), dense_shape=tf.Tensor([2], shape=(1,), dtype=int64)), 'id': <tf.Tensor: shape=(), dtype=int64, numpy=123>, 'name': <tf.Tensor: shape=(), dtype=string, numpy=b'Alice'>}\n"
     ]
    }
   ],
   "source": [
    "for parsed_example in dataset:\n",
    "    print(parsed_example)"
   ]
  },
  {
   "cell_type": "markdown",
   "id": "230aa293-6d69-4240-8d90-a81df543236b",
   "metadata": {},
   "source": [
    "## Sparse tensor representing variable-length feature can be converted to a dense tensor using tf.sparse.to_dense()"
   ]
  },
  {
   "cell_type": "code",
   "execution_count": 35,
   "id": "36aac3a6-0189-4142-ba0e-76c5f8147a2e",
   "metadata": {},
   "outputs": [
    {
     "data": {
      "text/plain": [
       "<tf.Tensor: shape=(2,), dtype=string, numpy=array([b'a@b.c', b'f@d.p'], dtype=object)>"
      ]
     },
     "execution_count": 35,
     "metadata": {},
     "output_type": "execute_result"
    }
   ],
   "source": [
    "tf.sparse.to_dense(parsed_example['emails'], default_value=b\"\")"
   ]
  },
  {
   "cell_type": "code",
   "execution_count": 36,
   "id": "f92fa988-5a41-4a44-927b-c143629c053f",
   "metadata": {},
   "outputs": [
    {
     "data": {
      "text/plain": [
       "<tf.Tensor: shape=(2,), dtype=string, numpy=array([b'a@b.c', b'f@d.p'], dtype=object)>"
      ]
     },
     "execution_count": 36,
     "metadata": {},
     "output_type": "execute_result"
    }
   ],
   "source": [
    "parsed_example['emails'].values"
   ]
  },
  {
   "cell_type": "markdown",
   "id": "c9adf995-7042-442c-b840-8bed7a88ecb6",
   "metadata": {},
   "source": [
    "## Parsing can be applied to whole batches"
   ]
  },
  {
   "cell_type": "code",
   "execution_count": 37,
   "id": "87534559-0508-46e7-9979-b05566916618",
   "metadata": {},
   "outputs": [],
   "source": [
    "def parse(serialized_examples):\n",
    "    return tf.io.parse_example(serialized_examples, feature_description)"
   ]
  },
  {
   "cell_type": "code",
   "execution_count": 38,
   "id": "63afeba5-0745-40e1-9553-6b14fa1efcba",
   "metadata": {},
   "outputs": [],
   "source": [
    "dataset = tf.data.TFRecordDataset(['my_contacts.tfrecord']).batch(2).map(parse)"
   ]
  },
  {
   "cell_type": "code",
   "execution_count": 43,
   "id": "6b256c58-b48b-4307-b245-c5947b63510f",
   "metadata": {},
   "outputs": [
    {
     "name": "stdout",
     "output_type": "stream",
     "text": [
      "{'emails': SparseTensor(indices=tf.Tensor(\n",
      "[[0 0]\n",
      " [0 1]\n",
      " [1 0]\n",
      " [1 1]], shape=(4, 2), dtype=int64), values=tf.Tensor([b'a@b.c' b'f@d.p' b'a@b.c' b'f@d.p'], shape=(4,), dtype=string), dense_shape=tf.Tensor([2 2], shape=(2,), dtype=int64)), 'id': <tf.Tensor: shape=(2,), dtype=int64, numpy=array([123, 123])>, 'name': <tf.Tensor: shape=(2,), dtype=string, numpy=array([b'Alice', b'Alice'], dtype=object)>}\n",
      "{'emails': SparseTensor(indices=tf.Tensor(\n",
      "[[0 0]\n",
      " [0 1]\n",
      " [1 0]\n",
      " [1 1]], shape=(4, 2), dtype=int64), values=tf.Tensor([b'a@b.c' b'f@d.p' b'a@b.c' b'f@d.p'], shape=(4,), dtype=string), dense_shape=tf.Tensor([2 2], shape=(2,), dtype=int64)), 'id': <tf.Tensor: shape=(2,), dtype=int64, numpy=array([123, 123])>, 'name': <tf.Tensor: shape=(2,), dtype=string, numpy=array([b'Alice', b'Alice'], dtype=object)>}\n",
      "{'emails': SparseTensor(indices=tf.Tensor(\n",
      "[[0 0]\n",
      " [0 1]], shape=(2, 2), dtype=int64), values=tf.Tensor([b'a@b.c' b'f@d.p'], shape=(2,), dtype=string), dense_shape=tf.Tensor([1 2], shape=(2,), dtype=int64)), 'id': <tf.Tensor: shape=(1,), dtype=int64, numpy=array([123])>, 'name': <tf.Tensor: shape=(1,), dtype=string, numpy=array([b'Alice'], dtype=object)>}\n"
     ]
    }
   ],
   "source": [
    "for parsed_examples in dataset:\n",
    "    print(parsed_examples)"
   ]
  },
  {
   "cell_type": "code",
   "execution_count": 44,
   "id": "2f05099f-6073-479c-bd3f-1bc6e62ff572",
   "metadata": {},
   "outputs": [
    {
     "name": "stdout",
     "output_type": "stream",
     "text": [
      "{'emails': SparseTensor(indices=tf.Tensor(\n",
      "[[0 0]\n",
      " [0 1]\n",
      " [1 0]\n",
      " [1 1]], shape=(4, 2), dtype=int64), values=tf.Tensor([b'a@b.c' b'f@d.p' b'a@b.c' b'f@d.p'], shape=(4,), dtype=string), dense_shape=tf.Tensor([2 2], shape=(2,), dtype=int64)), 'id': <tf.Tensor: shape=(2,), dtype=int64, numpy=array([123, 123])>, 'name': <tf.Tensor: shape=(2,), dtype=string, numpy=array([b'Alice', b'Alice'], dtype=object)>}\n"
     ]
    }
   ],
   "source": [
    "for parsed_examples in dataset.take(1):\n",
    "    print(parsed_examples)"
   ]
  },
  {
   "cell_type": "code",
   "execution_count": 45,
   "id": "52ec63bc-8393-4d4a-8482-e6cfa39223f3",
   "metadata": {},
   "outputs": [
    {
     "data": {
      "text/plain": [
       "<tf.Tensor: shape=(4,), dtype=string, numpy=array([b'a@b.c', b'f@d.p', b'a@b.c', b'f@d.p'], dtype=object)>"
      ]
     },
     "execution_count": 45,
     "metadata": {},
     "output_type": "execute_result"
    }
   ],
   "source": [
    "parsed_examples['emails'].values"
   ]
  },
  {
   "cell_type": "code",
   "execution_count": 49,
   "id": "9814e270-a9a4-4e5b-9e68-f0c01c1bddb6",
   "metadata": {},
   "outputs": [
    {
     "data": {
      "text/plain": [
       "<tf.Tensor: shape=(2,), dtype=int64, numpy=array([123, 123])>"
      ]
     },
     "execution_count": 49,
     "metadata": {},
     "output_type": "execute_result"
    }
   ],
   "source": [
    "parsed_examples['id']"
   ]
  },
  {
   "cell_type": "markdown",
   "id": "3bf55480-a453-486f-b828-95657399a77c",
   "metadata": {},
   "source": [
    "## For general data like images or raw numeric data a ByteList can be used.\n",
    "### For images e.g. tf.io.encode_jpeg() can encode jped which can be stored in ByteList.\n",
    "### Later during example parsing a tf.io.decode_jpeg() or tf.io.decode_image() will restore the serialized image\n",
    "### In general any tensor can be serialized with tf.io.serialize_tensor() and then stored in ByteList feature\n",
    "### Later during example parsing such tensor can be restored with tf.io.parse_tensor()\n",
    "### Examples of storing images and tensors https://homl.info/colab3"
   ]
  },
  {
   "cell_type": "markdown",
   "id": "7d79e2e2-9569-43c3-88b4-bae0bee676b9",
   "metadata": {},
   "source": [
    "## For lists of lists a SequenceExample protobuf is used"
   ]
  },
  {
   "cell_type": "markdown",
   "id": "cd975ebb-fedd-415f-b1dd-6d731102ef29",
   "metadata": {},
   "source": [
    "### SequenceExample protobuf"
   ]
  },
  {
   "cell_type": "code",
   "execution_count": null,
   "id": "97d58f43-58d7-4a4a-a24e-7d9c4bfed222",
   "metadata": {},
   "outputs": [],
   "source": [
    "message FeatureList {repeated Feature feature = 1; };\n",
    "message FeatureLists {map<string, FeatureList> feature_list = 1; };\n",
    "message SequenceExample {\n",
    "    Features context = 1;\n",
    "    FeatureLists feature_lists = 2;\n",
    "};"
   ]
  },
  {
   "cell_type": "markdown",
   "id": "5c6e1b65-ec7b-4caf-b4fc-6c40c4023d36",
   "metadata": {},
   "source": [
    "## Parsing SequenceExamples is analogous to ordinary Examples parsing but one must use\n",
    "* ### tf.io.parse_single_sequence_example() or tf.io.parse_sequence_example()\n",
    "\n",
    "## Upon parsing a tuple with context features and features lists is returned"
   ]
  },
  {
   "cell_type": "code",
   "execution_count": null,
   "id": "03a27ed4-dc37-487f-b401-fb8623350521",
   "metadata": {},
   "outputs": [],
   "source": [
    "parsed_context, parsed_feature_lists = tf.io.parse_single_sequence_example(\n",
    "    serialized_sequence_example,\n",
    "    context_feature_descriptions)\n",
    "\n",
    "parsed_content = tf.RaggedTensor.from_sparse(parsed_feature_lists[\"content\"])"
   ]
  },
  {
   "cell_type": "code",
   "execution_count": null,
   "id": "bd172398-a6d7-4ad0-b17e-c531c75e9f3e",
   "metadata": {},
   "outputs": [],
   "source": []
  }
 ],
 "metadata": {
  "kernelspec": {
   "display_name": "Python 3 (ipykernel)",
   "language": "python",
   "name": "python3"
  },
  "language_info": {
   "codemirror_mode": {
    "name": "ipython",
    "version": 3
   },
   "file_extension": ".py",
   "mimetype": "text/x-python",
   "name": "python",
   "nbconvert_exporter": "python",
   "pygments_lexer": "ipython3",
   "version": "3.9.18"
  }
 },
 "nbformat": 4,
 "nbformat_minor": 5
}
