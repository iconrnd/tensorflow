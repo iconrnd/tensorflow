{
 "cells": [
  {
   "cell_type": "markdown",
   "id": "0a7cf343-2958-40d0-92be-050bcd0ebe72",
   "metadata": {},
   "source": [
    "## Custom TF training loop"
   ]
  },
  {
   "cell_type": "code",
   "execution_count": null,
   "id": "f0c92afd",
   "metadata": {},
   "outputs": [],
   "source": [
    "import tensorflow as tf\n",
    "import numpy as np\n",
    "import tensorflow.keras as K\n",
    "import pandas as pd\n",
    "import matplotlib.pyplot as plt"
   ]
  },
  {
   "cell_type": "markdown",
   "id": "14dab609-b66a-4de7-95fe-8098e3dfb52f",
   "metadata": {},
   "source": [
    "## Boston housing dataset"
   ]
  },
  {
   "cell_type": "code",
   "execution_count": 2,
   "id": "037c5ec1",
   "metadata": {},
   "outputs": [],
   "source": [
    "boston_housing=tf.keras.datasets.boston_housing.load_data(\n",
    "    path=\"boston_housing.npz\", test_split=0.2, seed=113\n",
    ")\n",
    "\n",
    "(X_train_full, y_train_full), (X_test, y_test) = boston_housing\n",
    "\n",
    "X_train, y_train = X_train_full[:-50], y_train_full[:-50]\n",
    "X_valid, y_valid = X_train_full[-50:], y_train_full[-50:]"
   ]
  },
  {
   "cell_type": "markdown",
   "id": "e760ca00-785f-455c-b566-e824ca7fb942",
   "metadata": {},
   "source": [
    "## Model definition"
   ]
  },
  {
   "cell_type": "code",
   "execution_count": null,
   "id": "5fe2c18b",
   "metadata": {},
   "outputs": [],
   "source": [
    "l2_reg = tf.keras.regularizers.l2(0.05)\n",
    "\n",
    "model = tf.keras.models.Sequential([\n",
    "tf.keras.layers.Dense(30, activation='relu', \n",
    "                      kernel_initializer='he_normal',\n",
    "                      kernel_regularizer=l2_reg),\n",
    "tf.keras.layers.Dense(1,\n",
    "                      kernel_regularizer=l2_reg)])"
   ]
  },
  {
   "cell_type": "markdown",
   "id": "6881cc33-5afe-4aa1-b34e-6c8a720b91b0",
   "metadata": {},
   "source": [
    "## Manual batching function"
   ]
  },
  {
   "cell_type": "code",
   "execution_count": 4,
   "id": "bf2ec67e",
   "metadata": {},
   "outputs": [],
   "source": [
    "def random_batch(X, y, batch_size=32):\n",
    "    idx = np.random.randint(len(X), size=batch_size)\n",
    "    return X[idx], y[idx]"
   ]
  },
  {
   "cell_type": "markdown",
   "id": "2a194eb2-c579-4156-935a-4005f36a71b6",
   "metadata": {},
   "source": [
    "## Progress bar function"
   ]
  },
  {
   "cell_type": "code",
   "execution_count": 5,
   "id": "6f0dd889",
   "metadata": {},
   "outputs": [],
   "source": [
    "def print_status_bar(step, total, loss, metrics=None):\n",
    "    metrics = \" . \".join(f\"{m.name}: {m.result():.4f}\"\n",
    "                        for m in (metrics or []))\n",
    "    end = \"\" if step < total else \"\\n\"\n",
    "    print(f\"\\r{step}/{total} - \" + metrics, end=end)"
   ]
  },
  {
   "cell_type": "markdown",
   "id": "d28f9189-2cbb-433f-b889-f2d2e7301a83",
   "metadata": {},
   "source": [
    "## Hyperparameters and training component functions"
   ]
  },
  {
   "cell_type": "code",
   "execution_count": 6,
   "id": "668d60d6",
   "metadata": {},
   "outputs": [],
   "source": [
    "n_epochs = 15\n",
    "batch_size = 32\n",
    "n_steps = len(X_train) // batch_size\n",
    "\n",
    "optimizer = tf.keras.optimizers.SGD(learning_rate=0.01)\n",
    "loss_fn = tf.keras.losses.mean_squared_error\n",
    "mean_loss = tf.keras.metrics.Mean(name=\"mean_loss\")\n",
    "metrics = [tf.keras.metrics.MeanAbsoluteError()]"
   ]
  },
  {
   "cell_type": "markdown",
   "id": "86631044-0e55-4c31-931f-79f93a9c4c5f",
   "metadata": {},
   "source": [
    "## Training loop"
   ]
  },
  {
   "cell_type": "code",
   "execution_count": null,
   "id": "7a0bfb6b",
   "metadata": {},
   "outputs": [],
   "source": [
    "# Iterations over epochs, each time over the whole dataset\n",
    "# or at least over as much of the dataset as decided to use,\n",
    "# see steps per execution\n",
    "for epoch in range(1, n_epochs + 1):\n",
    "    print(\"Epoch: {}/{}\".format(epoch, n_epochs))\n",
    "    # Iteration over batches within each epoch\n",
    "    for step in range(1, n_steps + 1):\n",
    "        # With a custom dataset we'd have:\n",
    "        # for X_batch, y_batch in train_set: ...\n",
    "        X_batch, y_batch = random_batch(X_train, y_train)\n",
    "        with tf.GradientTape() as tape:\n",
    "            y_pred = model(X_batch, training=True)\n",
    "            # Here we compute the mean over the batch,\n",
    "            # loss being mse is a batch sized tensor of losses per instance\n",
    "            # so reduce_mean gives a scalar\n",
    "            # aux = loss_fn(y_batch, y_pred)\n",
    "            # print(tf.shape(aux)) # Shows tf.Tensor([32], shape=(1,), dtype=int32)\n",
    "            main_loss = tf.reduce_mean(loss_fn(y_batch, y_pred))\n",
    "            # print(tf.shape(main_loss)) # Shows tf.Tensor([], shape=(0,), dtype=int32) \n",
    "            # model has been defined with regularizing layers\n",
    "            # which adds additional internal losses to the model, one per layer\n",
    "            # print(tf.shape(model.losses)) # Shows tf.Tensor([2], shape=(1,), dtype=int32)\n",
    "            # So two scalars from each layer aggregated losses must be added\n",
    "            # to the total loss: this is a sum of a scalar kept in\n",
    "            # array [main_loss] and rank-1 list of two regularizer losses model.losses\n",
    "            # As a result we get a scalar final loss: loss\n",
    "            # print(tf.shape(loss)) # Shows tf.Tensor([], shape=(0,), dtype=int32)\n",
    "            loss = tf.add_n([main_loss] + model.losses)\n",
    "        gradients = tape.gradient(main_loss, model.trainable_variables)\n",
    "        \n",
    "        # Here is the space to perform optional computations/constraints on gradients\n",
    "        # before calling the apply_gradients\n",
    "        # <...>\n",
    "        \n",
    "        optimizer.apply_gradients(zip(gradients, model.trainable_variables))\n",
    "        \n",
    "        # If layer parameters constraints were introduced then here we apply them\n",
    "        # post gradient application\n",
    "        for variable in model.variables:\n",
    "            if variable.constraint is not None:\n",
    "                variable.assign(variable.constraint(variable))\n",
    "        \n",
    "        mean_loss(loss)\n",
    "        for metric in metrics:\n",
    "            metric(y_batch, y_pred)\n",
    "        \n",
    "        print_status_bar(step, n_steps, mean_loss, metrics)\n",
    "    for metric in [mean_loss] + metrics:\n",
    "        metric.reset_states()"
   ]
  }
 ],
 "metadata": {
  "kernelspec": {
   "display_name": "Python 3 (ipykernel)",
   "language": "python",
   "name": "python3"
  },
  "language_info": {
   "codemirror_mode": {
    "name": "ipython",
    "version": 3
   },
   "file_extension": ".py",
   "mimetype": "text/x-python",
   "name": "python",
   "nbconvert_exporter": "python",
   "pygments_lexer": "ipython3",
   "version": "3.9.18"
  }
 },
 "nbformat": 4,
 "nbformat_minor": 5
}
