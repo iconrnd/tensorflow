{
 "cells": [
  {
   "cell_type": "markdown",
   "id": "10eb74b8-db4b-4a4e-a6e0-124f1302a132",
   "metadata": {},
   "source": [
    "## TF Tensor properties\n",
    "## Custom objects"
   ]
  },
  {
   "cell_type": "code",
   "execution_count": 97,
   "id": "2097be5b",
   "metadata": {},
   "outputs": [],
   "source": [
    "import tensorflow as tf\n",
    "import numpy as np\n",
    "import tensorflow.keras as K\n",
    "import pandas as pd\n",
    "import matplotlib.pyplot as plt"
   ]
  },
  {
   "cell_type": "code",
   "execution_count": null,
   "id": "b17e0626",
   "metadata": {},
   "outputs": [],
   "source": [
    "t = tf.constant([[1., 2, 3], [4, 5, 6]])"
   ]
  },
  {
   "cell_type": "code",
   "execution_count": 3,
   "id": "d668f22c",
   "metadata": {},
   "outputs": [
    {
     "data": {
      "text/plain": [
       "<tf.Tensor: shape=(2, 3), dtype=float32, numpy=\n",
       "array([[1., 2., 3.],\n",
       "       [4., 5., 6.]], dtype=float32)>"
      ]
     },
     "execution_count": 3,
     "metadata": {},
     "output_type": "execute_result"
    }
   ],
   "source": [
    "t"
   ]
  },
  {
   "cell_type": "markdown",
   "id": "6e6ebdd5-abf8-4be1-a562-215d27d1f8cf",
   "metadata": {},
   "source": [
    "## tf.Tensor has similar methods and indexing to ndarray of NumPy"
   ]
  },
  {
   "cell_type": "code",
   "execution_count": 5,
   "id": "f892925f",
   "metadata": {},
   "outputs": [
    {
     "data": {
      "text/plain": [
       "TensorShape([2, 3])"
      ]
     },
     "execution_count": 5,
     "metadata": {},
     "output_type": "execute_result"
    }
   ],
   "source": [
    "t.shape"
   ]
  },
  {
   "cell_type": "code",
   "execution_count": 6,
   "id": "0ff922ec",
   "metadata": {},
   "outputs": [
    {
     "data": {
      "text/plain": [
       "tf.float32"
      ]
     },
     "execution_count": 6,
     "metadata": {},
     "output_type": "execute_result"
    }
   ],
   "source": [
    "t.dtype"
   ]
  },
  {
   "cell_type": "code",
   "execution_count": 7,
   "id": "8fbc670d",
   "metadata": {},
   "outputs": [
    {
     "data": {
      "text/plain": [
       "<tf.Tensor: shape=(2, 2), dtype=float32, numpy=\n",
       "array([[2., 3.],\n",
       "       [5., 6.]], dtype=float32)>"
      ]
     },
     "execution_count": 7,
     "metadata": {},
     "output_type": "execute_result"
    }
   ],
   "source": [
    "t[:, 1:]"
   ]
  },
  {
   "cell_type": "code",
   "execution_count": 8,
   "id": "a2870868",
   "metadata": {},
   "outputs": [
    {
     "data": {
      "text/plain": [
       "<tf.Tensor: shape=(2,), dtype=float32, numpy=array([2., 5.], dtype=float32)>"
      ]
     },
     "execution_count": 8,
     "metadata": {},
     "output_type": "execute_result"
    }
   ],
   "source": [
    "# This gives moddle column for all raws\n",
    "t[..., 1]"
   ]
  },
  {
   "cell_type": "code",
   "execution_count": 9,
   "id": "8a0f1cdf",
   "metadata": {},
   "outputs": [
    {
     "data": {
      "text/plain": [
       "<tf.Tensor: shape=(2, 1), dtype=float32, numpy=\n",
       "array([[2.],\n",
       "       [5.]], dtype=float32)>"
      ]
     },
     "execution_count": 9,
     "metadata": {},
     "output_type": "execute_result"
    }
   ],
   "source": [
    "t[..., 1, tf.newaxis]"
   ]
  },
  {
   "cell_type": "code",
   "execution_count": 10,
   "id": "1072935c",
   "metadata": {
    "scrolled": true
   },
   "outputs": [
    {
     "data": {
      "text/plain": [
       "<tf.Tensor: shape=(2, 1, 1), dtype=float32, numpy=\n",
       "array([[[2.]],\n",
       "\n",
       "       [[5.]]], dtype=float32)>"
      ]
     },
     "execution_count": 10,
     "metadata": {},
     "output_type": "execute_result"
    }
   ],
   "source": [
    "t[..., 1, tf.newaxis, tf.newaxis]"
   ]
  },
  {
   "cell_type": "markdown",
   "id": "3fc31137-c32a-4b62-9844-e4ed45e8ca43",
   "metadata": {},
   "source": [
    "## Tensor math operations"
   ]
  },
  {
   "cell_type": "code",
   "execution_count": 12,
   "id": "b6bb01d3",
   "metadata": {},
   "outputs": [
    {
     "data": {
      "text/plain": [
       "<tf.Tensor: shape=(2, 3), dtype=float32, numpy=\n",
       "array([[11., 12., 13.],\n",
       "       [14., 15., 16.]], dtype=float32)>"
      ]
     },
     "execution_count": 12,
     "metadata": {},
     "output_type": "execute_result"
    }
   ],
   "source": [
    "# Calls magic method t.__add__(10), which calls tf.add(t, 10)\n",
    "t + 10"
   ]
  },
  {
   "cell_type": "code",
   "execution_count": 13,
   "id": "d166e0d6",
   "metadata": {},
   "outputs": [
    {
     "data": {
      "text/plain": [
       "<tf.Tensor: shape=(2, 3), dtype=float32, numpy=\n",
       "array([[ 1.,  4.,  9.],\n",
       "       [16., 25., 36.]], dtype=float32)>"
      ]
     },
     "execution_count": 13,
     "metadata": {},
     "output_type": "execute_result"
    }
   ],
   "source": [
    "tf.square(t)"
   ]
  },
  {
   "cell_type": "code",
   "execution_count": 14,
   "id": "5b3845c6",
   "metadata": {},
   "outputs": [
    {
     "data": {
      "text/plain": [
       "<tf.Tensor: shape=(2, 2), dtype=float32, numpy=\n",
       "array([[14., 32.],\n",
       "       [32., 77.]], dtype=float32)>"
      ]
     },
     "execution_count": 14,
     "metadata": {},
     "output_type": "execute_result"
    }
   ],
   "source": [
    "# This operator is tf.matmul()\n",
    "t @ tf.transpose(t)"
   ]
  },
  {
   "cell_type": "code",
   "execution_count": 15,
   "id": "ee696dec",
   "metadata": {},
   "outputs": [
    {
     "data": {
      "text/plain": [
       "<tf.Tensor: shape=(), dtype=int32, numpy=42>"
      ]
     },
     "execution_count": 15,
     "metadata": {},
     "output_type": "execute_result"
    }
   ],
   "source": [
    "# Scalar valued tensor variable has no shape:\n",
    "tf.constant(42)"
   ]
  },
  {
   "cell_type": "code",
   "execution_count": 16,
   "id": "4ae19962",
   "metadata": {},
   "outputs": [],
   "source": [
    "# np and tf ops are mutually auto casting\n",
    "a = np.array([1., 2., 3.])"
   ]
  },
  {
   "cell_type": "code",
   "execution_count": 17,
   "id": "9aad9d99",
   "metadata": {},
   "outputs": [
    {
     "data": {
      "text/plain": [
       "array([1., 2., 3.])"
      ]
     },
     "execution_count": 17,
     "metadata": {},
     "output_type": "execute_result"
    }
   ],
   "source": [
    "a"
   ]
  },
  {
   "cell_type": "code",
   "execution_count": 18,
   "id": "f0cca3a2",
   "metadata": {},
   "outputs": [
    {
     "data": {
      "text/plain": [
       "dtype('float64')"
      ]
     },
     "execution_count": 18,
     "metadata": {},
     "output_type": "execute_result"
    }
   ],
   "source": [
    "a.dtype"
   ]
  },
  {
   "cell_type": "code",
   "execution_count": 19,
   "id": "6a8a7cde",
   "metadata": {},
   "outputs": [
    {
     "data": {
      "text/plain": [
       "<tf.Tensor: shape=(3,), dtype=float64, numpy=array([1., 2., 3.])>"
      ]
     },
     "execution_count": 19,
     "metadata": {},
     "output_type": "execute_result"
    }
   ],
   "source": [
    "tf.constant(a)"
   ]
  },
  {
   "cell_type": "code",
   "execution_count": 20,
   "id": "50384d21",
   "metadata": {},
   "outputs": [
    {
     "data": {
      "text/plain": [
       "array([[1., 2., 3.],\n",
       "       [4., 5., 6.]], dtype=float32)"
      ]
     },
     "execution_count": 20,
     "metadata": {},
     "output_type": "execute_result"
    }
   ],
   "source": [
    "t.numpy()"
   ]
  },
  {
   "cell_type": "code",
   "execution_count": 21,
   "id": "59016c65",
   "metadata": {},
   "outputs": [
    {
     "data": {
      "text/plain": [
       "<tf.Tensor: shape=(3,), dtype=float64, numpy=array([1., 4., 9.])>"
      ]
     },
     "execution_count": 21,
     "metadata": {},
     "output_type": "execute_result"
    }
   ],
   "source": [
    "tf.square(a)"
   ]
  },
  {
   "cell_type": "code",
   "execution_count": 22,
   "id": "cf95eb6f",
   "metadata": {},
   "outputs": [
    {
     "data": {
      "text/plain": [
       "array([[ 1.,  4.,  9.],\n",
       "       [16., 25., 36.]], dtype=float32)"
      ]
     },
     "execution_count": 22,
     "metadata": {},
     "output_type": "execute_result"
    }
   ],
   "source": [
    "np.square(t)"
   ]
  },
  {
   "cell_type": "code",
   "execution_count": 23,
   "id": "51ea5db6",
   "metadata": {},
   "outputs": [
    {
     "data": {
      "text/plain": [
       "<tf.Tensor: shape=(3,), dtype=float32, numpy=array([1., 2., 3.], dtype=float32)>"
      ]
     },
     "execution_count": 23,
     "metadata": {},
     "output_type": "execute_result"
    }
   ],
   "source": [
    "tf.constant(a, dtype=tf.float32)"
   ]
  },
  {
   "cell_type": "markdown",
   "id": "c07306ed-de20-4c56-ac98-1651cfc14fe2",
   "metadata": {},
   "source": [
    "## TF does NOT automatically cast"
   ]
  },
  {
   "cell_type": "code",
   "execution_count": 24,
   "id": "919ff7c0",
   "metadata": {},
   "outputs": [
    {
     "ename": "InvalidArgumentError",
     "evalue": "cannot compute AddV2 as input #1(zero-based) was expected to be a float tensor but is a int32 tensor [Op:AddV2]",
     "output_type": "error",
     "traceback": [
      "\u001b[0;31m---------------------------------------------------------------------------\u001b[0m",
      "\u001b[0;31mInvalidArgumentError\u001b[0m                      Traceback (most recent call last)",
      "Cell \u001b[0;32mIn[24], line 3\u001b[0m\n\u001b[1;32m      1\u001b[0m \u001b[38;5;66;03m# TF does NOT automatically cast\u001b[39;00m\n\u001b[0;32m----> 3\u001b[0m \u001b[43mtf\u001b[49m\u001b[38;5;241;43m.\u001b[39;49m\u001b[43mconstant\u001b[49m\u001b[43m(\u001b[49m\u001b[38;5;241;43m2.\u001b[39;49m\u001b[43m)\u001b[49m\u001b[43m \u001b[49m\u001b[38;5;241;43m+\u001b[39;49m\u001b[43m \u001b[49m\u001b[43mtf\u001b[49m\u001b[38;5;241;43m.\u001b[39;49m\u001b[43mconstant\u001b[49m\u001b[43m(\u001b[49m\u001b[38;5;241;43m44\u001b[39;49m\u001b[43m)\u001b[49m\n",
      "File \u001b[0;32m~/anaconda3/envs/tf39/lib/python3.9/site-packages/tensorflow/python/util/traceback_utils.py:153\u001b[0m, in \u001b[0;36mfilter_traceback.<locals>.error_handler\u001b[0;34m(*args, **kwargs)\u001b[0m\n\u001b[1;32m    151\u001b[0m \u001b[38;5;28;01mexcept\u001b[39;00m \u001b[38;5;167;01mException\u001b[39;00m \u001b[38;5;28;01mas\u001b[39;00m e:\n\u001b[1;32m    152\u001b[0m   filtered_tb \u001b[38;5;241m=\u001b[39m _process_traceback_frames(e\u001b[38;5;241m.\u001b[39m__traceback__)\n\u001b[0;32m--> 153\u001b[0m   \u001b[38;5;28;01mraise\u001b[39;00m e\u001b[38;5;241m.\u001b[39mwith_traceback(filtered_tb) \u001b[38;5;28;01mfrom\u001b[39;00m \u001b[38;5;28;01mNone\u001b[39;00m\n\u001b[1;32m    154\u001b[0m \u001b[38;5;28;01mfinally\u001b[39;00m:\n\u001b[1;32m    155\u001b[0m   \u001b[38;5;28;01mdel\u001b[39;00m filtered_tb\n",
      "File \u001b[0;32m~/anaconda3/envs/tf39/lib/python3.9/site-packages/tensorflow/python/framework/ops.py:7209\u001b[0m, in \u001b[0;36mraise_from_not_ok_status\u001b[0;34m(e, name)\u001b[0m\n\u001b[1;32m   7207\u001b[0m \u001b[38;5;28;01mdef\u001b[39;00m \u001b[38;5;21mraise_from_not_ok_status\u001b[39m(e, name):\n\u001b[1;32m   7208\u001b[0m   e\u001b[38;5;241m.\u001b[39mmessage \u001b[38;5;241m+\u001b[39m\u001b[38;5;241m=\u001b[39m (\u001b[38;5;124m\"\u001b[39m\u001b[38;5;124m name: \u001b[39m\u001b[38;5;124m\"\u001b[39m \u001b[38;5;241m+\u001b[39m name \u001b[38;5;28;01mif\u001b[39;00m name \u001b[38;5;129;01mis\u001b[39;00m \u001b[38;5;129;01mnot\u001b[39;00m \u001b[38;5;28;01mNone\u001b[39;00m \u001b[38;5;28;01melse\u001b[39;00m \u001b[38;5;124m\"\u001b[39m\u001b[38;5;124m\"\u001b[39m)\n\u001b[0;32m-> 7209\u001b[0m   \u001b[38;5;28;01mraise\u001b[39;00m core\u001b[38;5;241m.\u001b[39m_status_to_exception(e) \u001b[38;5;28;01mfrom\u001b[39;00m \u001b[38;5;28;01mNone\u001b[39;00m\n",
      "\u001b[0;31mInvalidArgumentError\u001b[0m: cannot compute AddV2 as input #1(zero-based) was expected to be a float tensor but is a int32 tensor [Op:AddV2]"
     ]
    }
   ],
   "source": [
    "tf.constant(2.) + tf.constant(44)"
   ]
  },
  {
   "cell_type": "code",
   "execution_count": 25,
   "id": "a24f6262",
   "metadata": {},
   "outputs": [],
   "source": [
    "t2 = tf.constant(40, dtype=tf.float64)"
   ]
  },
  {
   "cell_type": "code",
   "execution_count": 26,
   "id": "3d76c4c4",
   "metadata": {},
   "outputs": [
    {
     "data": {
      "text/plain": [
       "<tf.Tensor: shape=(), dtype=float32, numpy=42.0>"
      ]
     },
     "execution_count": 26,
     "metadata": {},
     "output_type": "execute_result"
    }
   ],
   "source": [
    "tf.constant(2.0) + tf.cast(t2, tf.float32)"
   ]
  },
  {
   "cell_type": "code",
   "execution_count": 27,
   "id": "380ac737",
   "metadata": {},
   "outputs": [],
   "source": [
    "# Variables"
   ]
  },
  {
   "cell_type": "code",
   "execution_count": 28,
   "id": "5d04a208",
   "metadata": {},
   "outputs": [],
   "source": [
    "v = tf.Variable([[1, 2, 3], [4., 5, 6]])"
   ]
  },
  {
   "cell_type": "code",
   "execution_count": 29,
   "id": "cdcde5da",
   "metadata": {},
   "outputs": [
    {
     "data": {
      "text/plain": [
       "<tf.Variable 'Variable:0' shape=(2, 3) dtype=float32, numpy=\n",
       "array([[1., 2., 3.],\n",
       "       [4., 5., 6.]], dtype=float32)>"
      ]
     },
     "execution_count": 29,
     "metadata": {},
     "output_type": "execute_result"
    }
   ],
   "source": [
    "v"
   ]
  },
  {
   "cell_type": "code",
   "execution_count": 30,
   "id": "142a32a4",
   "metadata": {},
   "outputs": [
    {
     "data": {
      "text/plain": [
       "'Variable:0'"
      ]
     },
     "execution_count": 30,
     "metadata": {},
     "output_type": "execute_result"
    }
   ],
   "source": [
    "v.name"
   ]
  },
  {
   "cell_type": "code",
   "execution_count": 31,
   "id": "2b8c907a",
   "metadata": {},
   "outputs": [
    {
     "data": {
      "text/plain": [
       "<tf.Variable 'UnreadVariable' shape=(2, 3) dtype=float32, numpy=\n",
       "array([[ 2.,  4.,  6.],\n",
       "       [ 8., 10., 12.]], dtype=float32)>"
      ]
     },
     "execution_count": 31,
     "metadata": {},
     "output_type": "execute_result"
    }
   ],
   "source": [
    "# Value assignment works inplace\n",
    "v.assign(2 * v)"
   ]
  },
  {
   "cell_type": "code",
   "execution_count": 32,
   "id": "47dd9d48",
   "metadata": {},
   "outputs": [
    {
     "data": {
      "text/plain": [
       "<tf.Variable 'Variable:0' shape=(2, 3) dtype=float32, numpy=\n",
       "array([[ 2.,  4.,  6.],\n",
       "       [ 8., 10., 12.]], dtype=float32)>"
      ]
     },
     "execution_count": 32,
     "metadata": {},
     "output_type": "execute_result"
    }
   ],
   "source": [
    "v"
   ]
  },
  {
   "cell_type": "code",
   "execution_count": 33,
   "id": "f9e5baba",
   "metadata": {},
   "outputs": [
    {
     "data": {
      "text/plain": [
       "<tf.Variable 'UnreadVariable' shape=(2, 3) dtype=float32, numpy=\n",
       "array([[ 2., 42.,  6.],\n",
       "       [ 8., 10., 12.]], dtype=float32)>"
      ]
     },
     "execution_count": 33,
     "metadata": {},
     "output_type": "execute_result"
    }
   ],
   "source": [
    "v[0, 1].assign(42)"
   ]
  },
  {
   "cell_type": "code",
   "execution_count": 35,
   "id": "6d13c7e8",
   "metadata": {},
   "outputs": [
    {
     "data": {
      "text/plain": [
       "<tf.Variable 'UnreadVariable' shape=(2, 3) dtype=float32, numpy=\n",
       "array([[ 2., 42.,  0.],\n",
       "       [ 8., 10.,  1.]], dtype=float32)>"
      ]
     },
     "execution_count": 35,
     "metadata": {},
     "output_type": "execute_result"
    }
   ],
   "source": [
    "v[:, 2].assign([0., 1.])"
   ]
  },
  {
   "cell_type": "code",
   "execution_count": 36,
   "id": "0e234383",
   "metadata": {},
   "outputs": [
    {
     "data": {
      "text/plain": [
       "<tf.Variable 'UnreadVariable' shape=(2, 3) dtype=float32, numpy=\n",
       "array([[100.,  42.,   0.],\n",
       "       [  8.,  10., 200.]], dtype=float32)>"
      ]
     },
     "execution_count": 36,
     "metadata": {},
     "output_type": "execute_result"
    }
   ],
   "source": [
    "v.scatter_nd_update(indices=[[0, 0], [1, 2]], updates=[100, 200])"
   ]
  },
  {
   "cell_type": "markdown",
   "id": "6af0c4cc-1fb2-4c0a-a0c7-5fa63c8c9528",
   "metadata": {},
   "source": [
    "## No direct assignment:"
   ]
  },
  {
   "cell_type": "code",
   "execution_count": 37,
   "id": "76553fee",
   "metadata": {},
   "outputs": [
    {
     "ename": "TypeError",
     "evalue": "'ResourceVariable' object does not support item assignment",
     "output_type": "error",
     "traceback": [
      "\u001b[0;31m---------------------------------------------------------------------------\u001b[0m",
      "\u001b[0;31mTypeError\u001b[0m                                 Traceback (most recent call last)",
      "Cell \u001b[0;32mIn[37], line 2\u001b[0m\n\u001b[1;32m      1\u001b[0m \u001b[38;5;66;03m# No direct assignment:\u001b[39;00m\n\u001b[0;32m----> 2\u001b[0m v[\u001b[38;5;241m1\u001b[39m] \u001b[38;5;241m=\u001b[39m [\u001b[38;5;241m7.\u001b[39m, \u001b[38;5;241m8.\u001b[39m, \u001b[38;5;241m9.\u001b[39m]\n",
      "\u001b[0;31mTypeError\u001b[0m: 'ResourceVariable' object does not support item assignment"
     ]
    }
   ],
   "source": [
    "v[1] = [7., 8., 9.]"
   ]
  },
  {
   "cell_type": "code",
   "execution_count": 74,
   "id": "3f7a1e30",
   "metadata": {},
   "outputs": [],
   "source": [
    "vv = tf.Variable([[2]], name='yolo', dtype=tf.float64)"
   ]
  },
  {
   "cell_type": "code",
   "execution_count": 75,
   "id": "ba744385",
   "metadata": {},
   "outputs": [
    {
     "data": {
      "text/plain": [
       "<tf.Variable 'yolo:0' shape=(1, 1) dtype=float64, numpy=array([[2.]])>"
      ]
     },
     "execution_count": 75,
     "metadata": {},
     "output_type": "execute_result"
    }
   ],
   "source": [
    "vv"
   ]
  },
  {
   "cell_type": "markdown",
   "id": "e4ef4e0b",
   "metadata": {},
   "source": [
    "# Custom loss object with serialization to saved_model"
   ]
  },
  {
   "cell_type": "markdown",
   "id": "351961af-5944-48cf-b843-a8105f2810ac",
   "metadata": {},
   "source": [
    "## Functions work fastest if based only on TF ops\n",
    "\n",
    "## Here we have vectorization and TF can optimize the computational graph"
   ]
  },
  {
   "cell_type": "markdown",
   "id": "e842243e-b49e-4dea-b2f3-b2bb1bcd0ebd",
   "metadata": {},
   "source": [
    "## Decorator adds method to registered model model parameters, which helps tracking and model serialzation"
   ]
  },
  {
   "cell_type": "code",
   "execution_count": 57,
   "id": "519b461a",
   "metadata": {},
   "outputs": [],
   "source": [
    "@tf.keras.utils.register_keras_serializable()\n",
    "\n",
    "def huber_fn(y_true, y_pred):\n",
    "    error = y_true - y_pred\n",
    "    is_small_error = tf.abs(error) < 1\n",
    "    squared_loss = tf.square(error) / 2\n",
    "    linear_loss = tf.abs(error) - 0.5\n",
    "    return tf.where(is_small_error, squared_loss, linear_loss)"
   ]
  },
  {
   "cell_type": "code",
   "execution_count": 58,
   "id": "b1449cc8",
   "metadata": {},
   "outputs": [
    {
     "data": {
      "text/plain": [
       "<tf.Tensor: shape=(), dtype=float32, numpy=0.5>"
      ]
     },
     "execution_count": 58,
     "metadata": {},
     "output_type": "execute_result"
    }
   ],
   "source": [
    "huber_fn(tf.constant(3.), tf.constant(4.))"
   ]
  },
  {
   "cell_type": "code",
   "execution_count": 59,
   "id": "8a7d00ed",
   "metadata": {},
   "outputs": [
    {
     "data": {
      "text/plain": [
       "<tf.Tensor: shape=(2,), dtype=float32, numpy=array([5.00000e-01, 9.99955e+04], dtype=float32)>"
      ]
     },
     "execution_count": 59,
     "metadata": {},
     "output_type": "execute_result"
    }
   ],
   "source": [
    "huber_fn(tf.constant([3., 4.]), tf.constant([4., 100000.]))"
   ]
  },
  {
   "cell_type": "code",
   "execution_count": 60,
   "id": "b1b4d32d",
   "metadata": {},
   "outputs": [],
   "source": [
    "boston_housing=tf.keras.datasets.boston_housing.load_data(\n",
    "    path=\"boston_housing.npz\", test_split=0.2, seed=113\n",
    ")\n",
    "\n",
    "(X_train_full, y_train_full), (X_test, y_test) = boston_housing\n",
    "\n",
    "X_train, y_train = X_train_full[:-50], y_train_full[:-50]\n",
    "X_valid, y_valid = X_train_full[-50:], y_train_full[-50:]"
   ]
  },
  {
   "cell_type": "code",
   "execution_count": 61,
   "id": "b464e433",
   "metadata": {},
   "outputs": [],
   "source": [
    "tf.random.set_seed(42)"
   ]
  },
  {
   "cell_type": "code",
   "execution_count": 62,
   "id": "9c7968d2",
   "metadata": {},
   "outputs": [],
   "source": [
    "norm_layer=K.layers.Normalization(input_shape=X_train.shape[1:])"
   ]
  },
  {
   "cell_type": "code",
   "execution_count": 63,
   "id": "d5c767dd",
   "metadata": {},
   "outputs": [],
   "source": [
    "model=K.Sequential([\n",
    "                    norm_layer,\n",
    "                    K.layers.Dense(50, activation='relu'),\n",
    "                    K.layers.Dense(50, activation='relu'),\n",
    "                    K.layers.Dense(50, activation='relu'),\n",
    "                    K.layers.Dense(1)\n",
    "                   ])"
   ]
  },
  {
   "cell_type": "code",
   "execution_count": 64,
   "id": "19665026",
   "metadata": {},
   "outputs": [],
   "source": [
    "model.compile(loss=huber_fn,\n",
    "             optimizer=K.optimizers.Nadam(learning_rate=1e-3),\n",
    "             metrics=[\"RootMeanSquaredError\"])"
   ]
  },
  {
   "cell_type": "code",
   "execution_count": 65,
   "id": "4ed397dc",
   "metadata": {},
   "outputs": [],
   "source": [
    "norm_layer.adapt(X_train)"
   ]
  },
  {
   "cell_type": "code",
   "execution_count": 66,
   "id": "de0c93c2",
   "metadata": {},
   "outputs": [
    {
     "name": "stdout",
     "output_type": "stream",
     "text": [
      "Epoch 1/10\n",
      "12/12 [==============================] - 1s 12ms/step - loss: 21.9608 - root_mean_squared_error: 24.3233 - val_loss: 21.5530 - val_root_mean_squared_error: 23.4218\n",
      "Epoch 2/10\n",
      "12/12 [==============================] - 0s 3ms/step - loss: 21.2303 - root_mean_squared_error: 23.6935 - val_loss: 20.5871 - val_root_mean_squared_error: 22.5501\n",
      "Epoch 3/10\n",
      "12/12 [==============================] - 0s 3ms/step - loss: 19.7666 - root_mean_squared_error: 22.3857 - val_loss: 18.2696 - val_root_mean_squared_error: 20.4934\n",
      "Epoch 4/10\n",
      "12/12 [==============================] - 0s 3ms/step - loss: 16.3826 - root_mean_squared_error: 19.3934 - val_loss: 13.8244 - val_root_mean_squared_error: 16.3667\n",
      "Epoch 5/10\n",
      "12/12 [==============================] - 0s 3ms/step - loss: 11.0053 - root_mean_squared_error: 14.4299 - val_loss: 7.3254 - val_root_mean_squared_error: 10.2113\n",
      "Epoch 6/10\n",
      "12/12 [==============================] - 0s 3ms/step - loss: 6.5169 - root_mean_squared_error: 9.6705 - val_loss: 5.4520 - val_root_mean_squared_error: 7.9028\n",
      "Epoch 7/10\n",
      "12/12 [==============================] - 0s 3ms/step - loss: 5.5472 - root_mean_squared_error: 8.3271 - val_loss: 4.6538 - val_root_mean_squared_error: 7.0531\n",
      "Epoch 8/10\n",
      "12/12 [==============================] - 0s 3ms/step - loss: 4.6649 - root_mean_squared_error: 7.3325 - val_loss: 3.9161 - val_root_mean_squared_error: 6.2599\n",
      "Epoch 9/10\n",
      "12/12 [==============================] - 0s 3ms/step - loss: 3.8748 - root_mean_squared_error: 6.2319 - val_loss: 3.3424 - val_root_mean_squared_error: 5.6788\n",
      "Epoch 10/10\n",
      "12/12 [==============================] - 0s 2ms/step - loss: 3.2275 - root_mean_squared_error: 5.5546 - val_loss: 2.8847 - val_root_mean_squared_error: 4.9738\n"
     ]
    }
   ],
   "source": [
    "history = model.fit(X_train, y_train, \n",
    "         epochs=10,\n",
    "         validation_data=[X_valid, y_valid])"
   ]
  },
  {
   "cell_type": "code",
   "execution_count": 68,
   "id": "dbd10283",
   "metadata": {},
   "outputs": [
    {
     "data": {
      "text/plain": [
       "<Axes: >"
      ]
     },
     "execution_count": 68,
     "metadata": {},
     "output_type": "execute_result"
    },
    {
     "data": {
      "image/png": "[encoded data removed]",
      "text/plain": [
       "<Figure size 640x480 with 1 Axes>"
      ]
     },
     "metadata": {},
     "output_type": "display_data"
    }
   ],
   "source": [
    "pd.DataFrame(history.history).plot()"
   ]
  },
  {
   "cell_type": "markdown",
   "id": "4f290061-b746-4fe1-84ff-bb7e3e934b5d",
   "metadata": {},
   "source": [
    "## Saving and loading the model"
   ]
  },
  {
   "cell_type": "code",
   "execution_count": 69,
   "id": "9cc6ee62",
   "metadata": {},
   "outputs": [
    {
     "name": "stdout",
     "output_type": "stream",
     "text": [
      "INFO:tensorflow:Assets written to: custom_loss_model/assets\n"
     ]
    }
   ],
   "source": [
    "model.save('custom_loss_model', save_format='tf')"
   ]
  },
  {
   "cell_type": "code",
   "execution_count": 70,
   "id": "8e4a806c",
   "metadata": {},
   "outputs": [],
   "source": [
    "loaded_model=K.models.load_model('custom_loss_model')"
   ]
  },
  {
   "cell_type": "code",
   "execution_count": 73,
   "id": "13e8cbf6",
   "metadata": {},
   "outputs": [
    {
     "data": {
      "text/plain": [
       "<function __main__.huber_fn(y_true, y_pred)>"
      ]
     },
     "execution_count": 73,
     "metadata": {},
     "output_type": "execute_result"
    }
   ],
   "source": [
    "loaded_model.loss"
   ]
  },
  {
   "cell_type": "code",
   "execution_count": 79,
   "id": "df5be5ca",
   "metadata": {},
   "outputs": [],
   "source": [
    "# @tf.keras.utils.register_keras_serializable()\n",
    "# Here we use smooth function gluing up to 1-st derivative \n",
    "# at threshold point\n",
    "\n",
    "def create_huber(threshold=1.0):\n",
    "    def huber_fn2(y_true, y_pred):\n",
    "        error = y_true - y_pred\n",
    "        is_small_error = tf.abs(error) < threshold\n",
    "        squared_loss = tf.square(error) / 2\n",
    "        linear_loss = threshold * tf.abs(error) - threshold**2 / 0.5\n",
    "        return tf.where(is_small_error, squared_loss, linear_loss)\n",
    "    \n",
    "    return huber_fn"
   ]
  },
  {
   "cell_type": "markdown",
   "id": "4c47c270-92e9-4b88-b410-7011f42ab94c",
   "metadata": {},
   "source": [
    "### If this model was saved as above but with parametrized huber loss then we would need to explicitly specify custom loss parameter upon model load, like below"
   ]
  },
  {
   "cell_type": "code",
   "execution_count": 80,
   "id": "423cc575",
   "metadata": {},
   "outputs": [],
   "source": [
    "loaded_model2=K.models.load_model('custom_loss_model', \n",
    "                                 custom_objects={\"huber_fn\":create_huber(2.0)}) # Passing the parameter value"
   ]
  },
  {
   "cell_type": "markdown",
   "id": "8931d782-ae71-48a4-9457-1518967131e5",
   "metadata": {},
   "source": [
    "### This would show huber_fn2 if saved with it "
   ]
  },
  {
   "cell_type": "code",
   "execution_count": 81,
   "id": "48e64354",
   "metadata": {},
   "outputs": [
    {
     "data": {
      "text/plain": [
       "<function __main__.huber_fn(y_true, y_pred)>"
      ]
     },
     "execution_count": 81,
     "metadata": {},
     "output_type": "execute_result"
    }
   ],
   "source": [
    "loaded_model2.loss"
   ]
  },
  {
   "cell_type": "markdown",
   "id": "a2660b5b-5f58-4361-a409-efa1b9f57112",
   "metadata": {},
   "source": [
    "### Solution to this is to create a full class instance for the custom loss, not just pass the funtion to model compile\n",
    "### By implementing get_config() method API gets access to loss parameters"
   ]
  },
  {
   "cell_type": "code",
   "execution_count": 83,
   "id": "e3fa6c72",
   "metadata": {},
   "outputs": [],
   "source": [
    "class HuberLoss(tf.keras.losses.Loss):\n",
    "    def __init__(self, threshold=1.0, **kwargs):\n",
    "        self.threshold = threshold\n",
    "        super().__init__(**kwargs)\n",
    "        \n",
    "    def call(y_true, y_pred):\n",
    "        error = y_true - y_pred\n",
    "        is_small_error = tf.abs(error) < self.threshold\n",
    "        squared_loss = tf.square(error) / 2\n",
    "        linear_loss = self.threshold * tf.abs(error) - self.threshold ** 2 / 0.5\n",
    "        return tf.where(is_small_error, squared_loss, linear_loss)\n",
    "\n",
    "    def get_config(self):\n",
    "        base_config = super().get_config()\n",
    "        return {**base_config, 'threshold':self.threshold}"
   ]
  },
  {
   "cell_type": "code",
   "execution_count": 84,
   "id": "27d8a877",
   "metadata": {},
   "outputs": [],
   "source": [
    "hloss = HuberLoss(2.0)"
   ]
  },
  {
   "cell_type": "code",
   "execution_count": 85,
   "id": "e6de9963",
   "metadata": {},
   "outputs": [
    {
     "data": {
      "text/plain": [
       "<__main__.HuberLoss at 0x7f8d519c3910>"
      ]
     },
     "execution_count": 85,
     "metadata": {},
     "output_type": "execute_result"
    }
   ],
   "source": [
    "hloss"
   ]
  },
  {
   "cell_type": "code",
   "execution_count": 86,
   "id": "435c3423",
   "metadata": {},
   "outputs": [
    {
     "data": {
      "text/plain": [
       "2.0"
      ]
     },
     "execution_count": 86,
     "metadata": {},
     "output_type": "execute_result"
    }
   ],
   "source": [
    "hloss.threshold"
   ]
  },
  {
   "cell_type": "code",
   "execution_count": 89,
   "id": "204f7aad",
   "metadata": {},
   "outputs": [
    {
     "data": {
      "text/plain": [
       "'auto'"
      ]
     },
     "execution_count": 89,
     "metadata": {},
     "output_type": "execute_result"
    }
   ],
   "source": [
    "hloss.reduction"
   ]
  },
  {
   "cell_type": "code",
   "execution_count": 88,
   "id": "f5e9a03e",
   "metadata": {},
   "outputs": [
    {
     "data": {
      "text/plain": [
       "{'reduction': 'auto', 'name': None, 'threshold': 2.0}"
      ]
     },
     "execution_count": 88,
     "metadata": {},
     "output_type": "execute_result"
    }
   ],
   "source": [
    "hloss.get_config()"
   ]
  },
  {
   "cell_type": "markdown",
   "id": "28c78057-61f4-4bdc-8eb5-601c84eacb47",
   "metadata": {},
   "source": [
    "### Now this custom loss is to be compiled in:"
   ]
  },
  {
   "cell_type": "code",
   "execution_count": 91,
   "id": "1f7b31da",
   "metadata": {},
   "outputs": [],
   "source": [
    "# model.compile(loss=HuberLoss(2.), \n",
    "#             optimizer=\"nadam\")"
   ]
  },
  {
   "cell_type": "markdown",
   "id": "a61a120d-ce4d-4d0d-aaff-39c9197b848f",
   "metadata": {},
   "source": [
    "### While saving the model Keras calls the get_config() methods and stores config parameters in SavedModel format"
   ]
  },
  {
   "cell_type": "markdown",
   "id": "59afd459-3b24-4c6c-bfda-6e56e2639e8d",
   "metadata": {},
   "source": [
    "### Upon restoring it from saved_model it suffices to just map custom object name to the HuberLoss class while the parameter is in the saved model"
   ]
  },
  {
   "cell_type": "code",
   "execution_count": 92,
   "id": "562984df",
   "metadata": {},
   "outputs": [],
   "source": [
    "# model = tf.keras.models.load_model(\"saved_model_name\",\n",
    "#                                  custom_objects={\"HuberLoss\": HuberLoss})\n"
   ]
  },
  {
   "cell_type": "code",
   "execution_count": 93,
   "id": "abe94246",
   "metadata": {},
   "outputs": [],
   "source": [
    "cfg = hloss.get_config()"
   ]
  },
  {
   "cell_type": "code",
   "execution_count": 94,
   "id": "6e1a013d",
   "metadata": {},
   "outputs": [],
   "source": [
    "hloss2 = HuberLoss.from_config(cfg)"
   ]
  },
  {
   "cell_type": "code",
   "execution_count": 95,
   "id": "55281508",
   "metadata": {},
   "outputs": [
    {
     "data": {
      "text/plain": [
       "{'reduction': 'auto', 'name': None, 'threshold': 2.0}"
      ]
     },
     "execution_count": 95,
     "metadata": {},
     "output_type": "execute_result"
    }
   ],
   "source": [
    "hloss2.get_config()"
   ]
  },
  {
   "cell_type": "markdown",
   "id": "baef2e69",
   "metadata": {},
   "source": [
    "# Custom: \n",
    "* Activation\n",
    "* Initialization \n",
    "* Regularization\n",
    "* Constraint"
   ]
  },
  {
   "cell_type": "code",
   "execution_count": 96,
   "id": "eafd70d7",
   "metadata": {},
   "outputs": [],
   "source": [
    "def my_softplus(z):\n",
    "    return tf.math.log(1.0 + tf.exp(z))"
   ]
  },
  {
   "cell_type": "code",
   "execution_count": 104,
   "id": "0b902175",
   "metadata": {},
   "outputs": [
    {
     "data": {
      "text/plain": [
       "[<matplotlib.lines.Line2D at 0x7f8d20cce580>]"
      ]
     },
     "execution_count": 104,
     "metadata": {},
     "output_type": "execute_result"
    },
    {
     "data": {
      "image/png": "[encoded data removed]",
      "text/plain": [
       "<Figure size 300x200 with 1 Axes>"
      ]
     },
     "metadata": {},
     "output_type": "display_data"
    }
   ],
   "source": [
    "plt.figure(figsize=(3,2))\n",
    "plt.plot(my_softplus([z/100 for z in range(-500, 500)]), \n",
    "         )"
   ]
  },
  {
   "cell_type": "code",
   "execution_count": 125,
   "id": "a92fed1e",
   "metadata": {},
   "outputs": [],
   "source": [
    "def my_glorot_initializer(shape, dtype=tf.float32):\n",
    "    stddev = tf.sqrt(2.0 / (shape[0] + shape[1]))\n",
    "    return tf.random.normal(shape, stddev, dtype=dtype)"
   ]
  },
  {
   "cell_type": "code",
   "execution_count": 129,
   "id": "aeaeac27",
   "metadata": {},
   "outputs": [
    {
     "data": {
      "text/plain": [
       "<tf.Tensor: shape=(3, 4), dtype=float32, numpy=\n",
       "array([[-1.0538235 ,  1.3410828 ,  0.23454776, -0.02660382],\n",
       "       [ 0.4807642 ,  1.3381073 ,  1.0154651 , -0.8559572 ],\n",
       "       [ 2.1010845 ,  1.1060486 ,  1.4183047 ,  1.055048  ]],\n",
       "      dtype=float32)>"
      ]
     },
     "execution_count": 129,
     "metadata": {},
     "output_type": "execute_result"
    }
   ],
   "source": [
    "my_glorot_initializer((3, 4))"
   ]
  },
  {
   "cell_type": "code",
   "execution_count": 127,
   "id": "919a5e72",
   "metadata": {},
   "outputs": [],
   "source": [
    "def my_l1_regularizer(weights):\n",
    "    return tf.reduce_sum(tf.abs(0.01 * weights))"
   ]
  },
  {
   "cell_type": "code",
   "execution_count": 130,
   "id": "33f67c56",
   "metadata": {},
   "outputs": [],
   "source": [
    "W = my_glorot_initializer((3, 4))"
   ]
  },
  {
   "cell_type": "code",
   "execution_count": 131,
   "id": "5b4b946f",
   "metadata": {},
   "outputs": [
    {
     "data": {
      "text/plain": [
       "<tf.Tensor: shape=(), dtype=float32, numpy=0.12783192>"
      ]
     },
     "execution_count": 131,
     "metadata": {},
     "output_type": "execute_result"
    }
   ],
   "source": [
    "my_l1_regularizer(W)"
   ]
  },
  {
   "cell_type": "code",
   "execution_count": 132,
   "id": "e2127b58",
   "metadata": {},
   "outputs": [],
   "source": [
    "def my_positive_weights(weigths):\n",
    "    return tf.where(weigths < 0, \n",
    "                   tf.zeros_like(weigths),\n",
    "                   weigths)"
   ]
  },
  {
   "cell_type": "code",
   "execution_count": 133,
   "id": "71a4718a",
   "metadata": {},
   "outputs": [
    {
     "data": {
      "text/plain": [
       "<tf.Tensor: shape=(3, 4), dtype=float32, numpy=\n",
       "array([[-1.0095532 ,  1.8499558 ,  1.31533   ,  1.6051507 ],\n",
       "       [-0.43115664,  0.78584415, -1.319988  ,  2.0059035 ],\n",
       "       [-0.19896871,  0.1896115 , -0.23177671,  1.8399525 ]],\n",
       "      dtype=float32)>"
      ]
     },
     "execution_count": 133,
     "metadata": {},
     "output_type": "execute_result"
    }
   ],
   "source": [
    "W"
   ]
  },
  {
   "cell_type": "code",
   "execution_count": 134,
   "id": "858589f5",
   "metadata": {},
   "outputs": [
    {
     "data": {
      "text/plain": [
       "<tf.Tensor: shape=(3, 4), dtype=float32, numpy=\n",
       "array([[0.        , 1.8499558 , 1.31533   , 1.6051507 ],\n",
       "       [0.        , 0.78584415, 0.        , 2.0059035 ],\n",
       "       [0.        , 0.1896115 , 0.        , 1.8399525 ]], dtype=float32)>"
      ]
     },
     "execution_count": 134,
     "metadata": {},
     "output_type": "execute_result"
    }
   ],
   "source": [
    "my_positive_weights(W)"
   ]
  },
  {
   "cell_type": "markdown",
   "id": "0d38a5b4",
   "metadata": {},
   "source": [
    "# Using these custom elements:"
   ]
  },
  {
   "cell_type": "code",
   "execution_count": 135,
   "id": "2d151eaf",
   "metadata": {},
   "outputs": [],
   "source": [
    "layer = tf.keras.layers.Dense(1,\n",
    "                             activation=my_softplus,\n",
    "                             kernel_initializer=my_glorot_initializer,\n",
    "                             kernel_constraint=my_positive_weights,\n",
    "                             kernel_regularizer=my_l1_regularizer)"
   ]
  },
  {
   "cell_type": "code",
   "execution_count": 136,
   "id": "9f51445f",
   "metadata": {},
   "outputs": [
    {
     "data": {
      "text/plain": [
       "{'name': 'dense_9',\n",
       " 'trainable': True,\n",
       " 'dtype': 'float32',\n",
       " 'units': 1,\n",
       " 'activation': 'my_softplus',\n",
       " 'use_bias': True,\n",
       " 'kernel_initializer': 'my_glorot_initializer',\n",
       " 'bias_initializer': {'class_name': 'Zeros', 'config': {}},\n",
       " 'kernel_regularizer': 'my_l1_regularizer',\n",
       " 'bias_regularizer': None,\n",
       " 'activity_regularizer': None,\n",
       " 'kernel_constraint': 'my_positive_weights',\n",
       " 'bias_constraint': None}"
      ]
     },
     "execution_count": 136,
     "metadata": {},
     "output_type": "execute_result"
    }
   ],
   "source": [
    "layer.get_config()"
   ]
  },
  {
   "cell_type": "code",
   "execution_count": 137,
   "id": "8b13d084",
   "metadata": {},
   "outputs": [],
   "source": [
    "class MyL1Regularizer(tf.keras.regularizers.Regularizer):\n",
    "    def __init__(self, factor):\n",
    "        self.factor = factor\n",
    "    \n",
    "    def __call__(self, weights):\n",
    "        return tf.reduce_sum(tf.abs(self.factor * weights))\n",
    "    \n",
    "    def get_config(self):\n",
    "        return {'factor': self.factor}\n",
    "    "
   ]
  },
  {
   "cell_type": "markdown",
   "id": "8b18d197",
   "metadata": {},
   "source": [
    "## Custom metrics"
   ]
  },
  {
   "cell_type": "markdown",
   "id": "4630f861-e258-45e7-9e7f-ccc2340c3f5c",
   "metadata": {},
   "source": [
    "### Stateful object, streaming metric"
   ]
  },
  {
   "cell_type": "code",
   "execution_count": 138,
   "id": "49a7b993",
   "metadata": {},
   "outputs": [],
   "source": [
    "precision = tf.keras.metrics.Precision()"
   ]
  },
  {
   "cell_type": "code",
   "execution_count": 139,
   "id": "28eee015",
   "metadata": {},
   "outputs": [
    {
     "data": {
      "text/plain": [
       "<tf.Tensor: shape=(), dtype=float32, numpy=0.8>"
      ]
     },
     "execution_count": 139,
     "metadata": {},
     "output_type": "execute_result"
    }
   ],
   "source": [
    "precision([0, 1, 1, 1, 0, 1, 0, 1], [1, 1, 0, 1, 0, 1, 0, 1])"
   ]
  },
  {
   "cell_type": "code",
   "execution_count": 140,
   "id": "562f2080",
   "metadata": {},
   "outputs": [
    {
     "data": {
      "text/plain": [
       "<tf.Tensor: shape=(), dtype=float32, numpy=0.5>"
      ]
     },
     "execution_count": 140,
     "metadata": {},
     "output_type": "execute_result"
    }
   ],
   "source": [
    "precision([0, 1, 0, 0, 1, 0, 1, 1], [1, 0, 1, 1, 0, 0, 0, 0])"
   ]
  },
  {
   "cell_type": "markdown",
   "id": "84a6e3c6-c7ec-416e-9759-91b4e7f8c74d",
   "metadata": {},
   "source": [
    "## This object was updated upon consecutive calls, so contains an accumulated state value"
   ]
  },
  {
   "cell_type": "code",
   "execution_count": 141,
   "id": "1d3dc856",
   "metadata": {},
   "outputs": [
    {
     "data": {
      "text/plain": [
       "<tf.Tensor: shape=(), dtype=float32, numpy=0.5>"
      ]
     },
     "execution_count": 141,
     "metadata": {},
     "output_type": "execute_result"
    }
   ],
   "source": [
    "precision.result()"
   ]
  },
  {
   "cell_type": "code",
   "execution_count": 143,
   "id": "6ede78c5",
   "metadata": {},
   "outputs": [
    {
     "data": {
      "text/plain": [
       "[<tf.Variable 'true_positives:0' shape=(1,) dtype=float32, numpy=array([4.], dtype=float32)>,\n",
       " <tf.Variable 'false_positives:0' shape=(1,) dtype=float32, numpy=array([4.], dtype=float32)>]"
      ]
     },
     "execution_count": 143,
     "metadata": {},
     "output_type": "execute_result"
    }
   ],
   "source": [
    "precision.variables"
   ]
  },
  {
   "cell_type": "code",
   "execution_count": 144,
   "id": "208483b1",
   "metadata": {},
   "outputs": [],
   "source": [
    "class HuberMetric(tf.keras.metrics.Metric):\n",
    "    def __init__(self, threshold=1.0, **kwargs):\n",
    "        super().__init__(**kwargs)\n",
    "        self.threshold = threshold\n",
    "        self.huber_fn = create_huber(threshold)\n",
    "        self.total = self.add_weight(name='total', initializer='zeros')\n",
    "        self.count = self.add_weight(name='count', initializer='zeros')\n",
    "        \n",
    "    def update_state(self, y_true, y_pred, sample_weight=None):\n",
    "        sample_metrics = self.huber_fn(y_true, y_pred)\n",
    "        self.total.assign_add(tf.reduce_sum(sample_metrics))\n",
    "        self.count.assign_add(tf.cast(tf.size(sample_metrics), tf.float32))\n",
    "        \n",
    "    def result(self):\n",
    "        return self.total / self.count\n",
    "        \n",
    "    def get_config(self):\n",
    "        base_config = super().get_config()\n",
    "        return {**base_config, \"threshold\": self.threshold}"
   ]
  },
  {
   "cell_type": "markdown",
   "id": "b65f49de",
   "metadata": {},
   "source": [
    "## Custom layers"
   ]
  },
  {
   "cell_type": "markdown",
   "id": "addc0cb6-1211-4df0-9818-6ba69f297a14",
   "metadata": {},
   "source": [
    "### Weightless layer:"
   ]
  },
  {
   "cell_type": "code",
   "execution_count": 146,
   "id": "9093756f",
   "metadata": {},
   "outputs": [],
   "source": [
    "exp_layer = tf.keras.layers.Lambda(lambda x: tf.exp(x))"
   ]
  },
  {
   "cell_type": "code",
   "execution_count": 155,
   "id": "c8a2c332",
   "metadata": {},
   "outputs": [],
   "source": [
    "xx = tf.constant([1.,2])"
   ]
  },
  {
   "cell_type": "code",
   "execution_count": 156,
   "id": "e1564a65",
   "metadata": {},
   "outputs": [
    {
     "data": {
      "text/plain": [
       "<tf.Tensor: shape=(2,), dtype=float32, numpy=array([2.7182817, 7.389056 ], dtype=float32)>"
      ]
     },
     "execution_count": 156,
     "metadata": {},
     "output_type": "execute_result"
    }
   ],
   "source": [
    "exp_layer(xx)"
   ]
  },
  {
   "cell_type": "code",
   "execution_count": 160,
   "id": "3dfd5658",
   "metadata": {},
   "outputs": [
    {
     "data": {
      "text/plain": [
       "<function keras.activations.relu(x, alpha=0.0, max_value=None, threshold=0.0)>"
      ]
     },
     "execution_count": 160,
     "metadata": {},
     "output_type": "execute_result"
    }
   ],
   "source": [
    "tf.keras.activations.get(\"relu\")"
   ]
  },
  {
   "cell_type": "code",
   "execution_count": 164,
   "id": "6759cfc8",
   "metadata": {},
   "outputs": [],
   "source": [
    "class MyDense(tf.keras.layers.Layer):\n",
    "    def __init__(self, units, activation=None, **kwargs):\n",
    "        super().__init__(**kwargs)\n",
    "        self.units = units\n",
    "        self.activation = tf.keras.activations.get(activation)\n",
    "        \n",
    "    def build(self, batch_input_shape):\n",
    "        self.kernel = self.add_weight(name=\"kernel\",\n",
    "                                     shape=[batch_input_shape[-1], self.units],\n",
    "                                     initializer=\"glorot_normal\")\n",
    "        \n",
    "        self.bias = self.add_weight(name=\"bias\",\n",
    "                                    shape=[self.units],\n",
    "                                    initializer=\"zeros\")\n",
    "        \n",
    "        super().build()\n",
    "        \n",
    "    def call(self, X):\n",
    "        return self.activation(X @ self.kernel + self.bias)\n",
    "    \n",
    "    def get_config(self):\n",
    "        base_config = super().get_config()\n",
    "        return {**base_config, \n",
    "               \"units\": self.units,\n",
    "               \"activation\": tf.keras.activations.serialize(self.activation)}"
   ]
  },
  {
   "cell_type": "code",
   "execution_count": 171,
   "id": "ce1ec944",
   "metadata": {},
   "outputs": [],
   "source": [
    "mydense = MyDense(10, activation='relu')"
   ]
  },
  {
   "cell_type": "code",
   "execution_count": 172,
   "id": "c73575c2",
   "metadata": {},
   "outputs": [
    {
     "data": {
      "text/plain": [
       "{'name': 'my_dense_1',\n",
       " 'trainable': True,\n",
       " 'dtype': 'float32',\n",
       " 'units': 10,\n",
       " 'activation': 'relu'}"
      ]
     },
     "execution_count": 172,
     "metadata": {},
     "output_type": "execute_result"
    }
   ],
   "source": [
    "mydense.get_config()"
   ]
  },
  {
   "cell_type": "markdown",
   "id": "b20d43f0-cd30-4e38-8b36-892d77aea3cb",
   "metadata": {},
   "source": [
    "### Multiple input - multiple output layers\n",
    "### Only usable in functional and sunclassing API"
   ]
  },
  {
   "cell_type": "code",
   "execution_count": null,
   "id": "1e15f089",
   "metadata": {},
   "outputs": [],
   "source": [
    "class MultiIOLayer(tf.keras.layers.Layer):\n",
    "    ...\n",
    "    def call(self, X):\n",
    "        X1, X2 = X\n",
    "        ...\n",
    "        return X1 + X2, X1 * X2, X1 / X3"
   ]
  },
  {
   "cell_type": "markdown",
   "id": "9e48fd75-9941-4ef8-8eb3-046d334f0266",
   "metadata": {},
   "source": [
    "### Layer with different bhv during training and inference"
   ]
  },
  {
   "cell_type": "code",
   "execution_count": 173,
   "id": "44885096",
   "metadata": {},
   "outputs": [],
   "source": [
    "class MyGaussianNoise(tf.keras.layers.Layer):\n",
    "    def __init__(self, stddev, **kwargs):\n",
    "        super.__init__(**kwargs)\n",
    "        self.stddev = stddev\n",
    "        \n",
    "    def call(self, X, training=False):\n",
    "        if training:\n",
    "            noise = tf.random.normal(tf.shape(X),\n",
    "                                    stddev=self.stddev)\n",
    "            return X + noise\n",
    "        \n",
    "        else:\n",
    "            return X"
   ]
  },
  {
   "cell_type": "markdown",
   "id": "ca67722d",
   "metadata": {},
   "source": [
    "## Custom models"
   ]
  },
  {
   "cell_type": "code",
   "execution_count": 245,
   "id": "e3d2d08e",
   "metadata": {},
   "outputs": [],
   "source": [
    "class ResidualBlock(tf.keras.layers.Layer):\n",
    "    def __init__(self, n_layers, n_neurons, **kwargs):\n",
    "        super().__init__(**kwargs)\n",
    "        self.hidden = [tf.keras.layers.Dense(n_neurons,\n",
    "                                            activation='relu',\n",
    "                                            kernel_initializer=\"he_normal\")\n",
    "                       for _ in range(n_layers)]\n",
    "\n",
    "    def call(self, inputs):\n",
    "        Z = inputs\n",
    "        for layer in self.hidden:\n",
    "            Z = layer(Z)\n",
    "        return inputs +Z"
   ]
  },
  {
   "cell_type": "code",
   "execution_count": 250,
   "id": "cb2a7f0c",
   "metadata": {},
   "outputs": [],
   "source": [
    "blk = ResidualBlock(2, 10)"
   ]
  },
  {
   "cell_type": "code",
   "execution_count": 251,
   "id": "6c24ead9",
   "metadata": {},
   "outputs": [],
   "source": [
    "blk.build(input_shape=[10,10])"
   ]
  },
  {
   "cell_type": "code",
   "execution_count": 252,
   "id": "95f1b30d",
   "metadata": {},
   "outputs": [
    {
     "data": {
      "text/plain": [
       "[]"
      ]
     },
     "execution_count": 252,
     "metadata": {},
     "output_type": "execute_result"
    }
   ],
   "source": [
    "blk.trainable_variables"
   ]
  },
  {
   "cell_type": "code",
   "execution_count": 253,
   "id": "82f7eb9b",
   "metadata": {},
   "outputs": [
    {
     "data": {
      "text/plain": [
       "[]"
      ]
     },
     "execution_count": 253,
     "metadata": {},
     "output_type": "execute_result"
    }
   ],
   "source": [
    "blk.weights"
   ]
  },
  {
   "cell_type": "code",
   "execution_count": 254,
   "id": "01b2eb5e",
   "metadata": {},
   "outputs": [],
   "source": [
    "xx=tf.constant([1.,2,3,4,5,6,7,8,9,0])"
   ]
  },
  {
   "cell_type": "code",
   "execution_count": 255,
   "id": "4051d3e5",
   "metadata": {},
   "outputs": [],
   "source": [
    "xx=xx[tf.newaxis]"
   ]
  },
  {
   "cell_type": "code",
   "execution_count": 256,
   "id": "304e01b5",
   "metadata": {},
   "outputs": [
    {
     "data": {
      "text/plain": [
       "<tf.Tensor: shape=(1, 10), dtype=float32, numpy=\n",
       "array([[17.312511 ,  2.       ,  3.       ,  5.0260854,  7.0659685,\n",
       "         6.7375607,  7.       ,  8.       , 12.91092  ,  4.8243475]],\n",
       "      dtype=float32)>"
      ]
     },
     "execution_count": 256,
     "metadata": {},
     "output_type": "execute_result"
    }
   ],
   "source": [
    "blk(xx)"
   ]
  },
  {
   "cell_type": "markdown",
   "id": "d7405171-1de2-4a8b-b40f-3a9a16ccfbc7",
   "metadata": {},
   "source": [
    "### Had to use the layer to get weights initialized"
   ]
  },
  {
   "cell_type": "code",
   "execution_count": 257,
   "id": "7d46d5e5",
   "metadata": {},
   "outputs": [
    {
     "data": {
      "text/plain": [
       "[array([[-0.43571636, -0.31297022,  0.3924466 ,  0.8052514 ,  0.04544719,\n",
       "         -0.17202644, -0.37882566,  0.08245353,  0.38932934,  0.10699701],\n",
       "        [ 0.00975093, -0.02376715,  0.32439965, -0.6139281 ,  0.24642757,\n",
       "         -0.02140461,  0.28661647,  0.1720161 ,  0.76532114, -0.66626304],\n",
       "        [-0.9289929 ,  0.47729078,  0.5850858 ,  0.6317652 ,  0.03407048,\n",
       "          0.8678941 ,  0.4151808 ,  0.4391615 , -0.07137261,  0.97668976],\n",
       "        [-0.9040229 , -0.58185077, -0.8239951 , -0.6761341 ,  0.49670568,\n",
       "         -0.03538411,  0.16086958,  0.33090144, -0.2993837 ,  0.5395365 ],\n",
       "        [-0.02917822,  1.0160731 ,  0.61371374,  0.24175017, -0.45135313,\n",
       "         -0.5880755 ,  0.61995596,  0.54211175,  0.05185533, -0.49571   ],\n",
       "        [-0.6349367 , -0.01597433,  0.70319617, -0.25709078, -0.7373688 ,\n",
       "         -0.99810874, -0.01479304, -0.13184628,  0.00514823, -0.25737554],\n",
       "        [-0.6612635 , -0.3731469 ,  0.14900492, -0.56469065, -0.8029324 ,\n",
       "          0.715193  ,  0.55799645, -0.3306671 , -0.99342877, -0.14077361],\n",
       "        [-0.9515045 ,  0.17038615,  0.14459537, -0.4213703 ,  0.31158236,\n",
       "         -0.28005514,  0.18149365, -0.13027395,  0.71927077,  0.37814617],\n",
       "        [-0.15555675, -0.4883428 ,  0.32529852, -0.26329732,  0.6204978 ,\n",
       "         -0.35855478, -0.4531114 , -0.08613474, -0.43843308,  0.22493301],\n",
       "        [-0.48732576,  0.08143023,  0.19007903, -0.25975338,  0.66567534,\n",
       "         -0.04272023,  0.19990067, -0.71602654, -0.27023795, -0.06631171]],\n",
       "       dtype=float32),\n",
       " array([0., 0., 0., 0., 0., 0., 0., 0., 0., 0.], dtype=float32),\n",
       " array([[-0.26159164, -0.05314343, -0.14473838, -0.2572334 ,  0.7817643 ,\n",
       "          0.24461566,  0.68399686, -0.26355723,  0.9607194 ,  0.7195092 ],\n",
       "        [-0.5108074 , -0.2886299 , -1.0038955 , -0.44780365, -0.2572211 ,\n",
       "         -0.2808265 , -0.02853687, -0.2362756 ,  0.5729608 ,  0.03729466],\n",
       "        [ 1.0121918 ,  0.15527138, -0.71229863,  0.19862314,  0.17857672,\n",
       "         -0.07463938, -0.2717029 , -0.01295888,  0.11723344,  0.3798246 ],\n",
       "        [ 0.49224722,  0.33962464,  0.09062845, -0.13603146,  0.3224875 ,\n",
       "          0.8771626 ,  0.13629723, -0.43899667, -0.62754023, -0.02612687],\n",
       "        [-0.2900311 ,  0.29428005, -0.39320028,  0.0869093 , -0.78372693,\n",
       "          0.40695667,  0.22797959, -0.37006247, -1.0068585 , -0.19327997],\n",
       "        [-0.37237644,  0.16267477,  0.53230464,  0.78851587,  0.31348118,\n",
       "         -0.08937699,  0.10076883,  0.35937935, -1.011047  ,  0.20327084],\n",
       "        [ 0.4177678 , -0.2927555 , -0.07191765,  0.20346107,  0.01341107,\n",
       "          0.02548796, -0.220657  , -0.35887972,  0.4905116 , -0.01425509],\n",
       "        [-0.42337552,  0.20775796,  0.41136262, -0.53608674, -0.10434718,\n",
       "          0.15195265, -0.9627964 , -0.07938441,  0.17943418,  0.41196695],\n",
       "        [ 0.5489004 , -0.6444678 , -0.03244633,  0.6453463 , -0.777888  ,\n",
       "          0.30910385,  1.0136522 ,  0.12953436,  0.7768961 , -0.11293814],\n",
       "        [ 0.49960053, -0.53042275,  0.41881216, -0.5582046 , -0.01490242,\n",
       "          0.34184092, -0.292939  ,  0.01233036, -0.1962381 ,  0.0095013 ]],\n",
       "       dtype=float32),\n",
       " array([0., 0., 0., 0., 0., 0., 0., 0., 0., 0.], dtype=float32)]"
      ]
     },
     "execution_count": 257,
     "metadata": {},
     "output_type": "execute_result"
    }
   ],
   "source": [
    "blk.get_weights()"
   ]
  },
  {
   "cell_type": "code",
   "execution_count": 258,
   "id": "c98f2f13",
   "metadata": {},
   "outputs": [
    {
     "data": {
      "text/plain": [
       "[<tf.Variable 'residual_block_8/dense_26/kernel:0' shape=(10, 10) dtype=float32, numpy=\n",
       " array([[-0.43571636, -0.31297022,  0.3924466 ,  0.8052514 ,  0.04544719,\n",
       "         -0.17202644, -0.37882566,  0.08245353,  0.38932934,  0.10699701],\n",
       "        [ 0.00975093, -0.02376715,  0.32439965, -0.6139281 ,  0.24642757,\n",
       "         -0.02140461,  0.28661647,  0.1720161 ,  0.76532114, -0.66626304],\n",
       "        [-0.9289929 ,  0.47729078,  0.5850858 ,  0.6317652 ,  0.03407048,\n",
       "          0.8678941 ,  0.4151808 ,  0.4391615 , -0.07137261,  0.97668976],\n",
       "        [-0.9040229 , -0.58185077, -0.8239951 , -0.6761341 ,  0.49670568,\n",
       "         -0.03538411,  0.16086958,  0.33090144, -0.2993837 ,  0.5395365 ],\n",
       "        [-0.02917822,  1.0160731 ,  0.61371374,  0.24175017, -0.45135313,\n",
       "         -0.5880755 ,  0.61995596,  0.54211175,  0.05185533, -0.49571   ],\n",
       "        [-0.6349367 , -0.01597433,  0.70319617, -0.25709078, -0.7373688 ,\n",
       "         -0.99810874, -0.01479304, -0.13184628,  0.00514823, -0.25737554],\n",
       "        [-0.6612635 , -0.3731469 ,  0.14900492, -0.56469065, -0.8029324 ,\n",
       "          0.715193  ,  0.55799645, -0.3306671 , -0.99342877, -0.14077361],\n",
       "        [-0.9515045 ,  0.17038615,  0.14459537, -0.4213703 ,  0.31158236,\n",
       "         -0.28005514,  0.18149365, -0.13027395,  0.71927077,  0.37814617],\n",
       "        [-0.15555675, -0.4883428 ,  0.32529852, -0.26329732,  0.6204978 ,\n",
       "         -0.35855478, -0.4531114 , -0.08613474, -0.43843308,  0.22493301],\n",
       "        [-0.48732576,  0.08143023,  0.19007903, -0.25975338,  0.66567534,\n",
       "         -0.04272023,  0.19990067, -0.71602654, -0.27023795, -0.06631171]],\n",
       "       dtype=float32)>,\n",
       " <tf.Variable 'residual_block_8/dense_26/bias:0' shape=(10,) dtype=float32, numpy=array([0., 0., 0., 0., 0., 0., 0., 0., 0., 0.], dtype=float32)>,\n",
       " <tf.Variable 'residual_block_8/dense_27/kernel:0' shape=(10, 10) dtype=float32, numpy=\n",
       " array([[-0.26159164, -0.05314343, -0.14473838, -0.2572334 ,  0.7817643 ,\n",
       "          0.24461566,  0.68399686, -0.26355723,  0.9607194 ,  0.7195092 ],\n",
       "        [-0.5108074 , -0.2886299 , -1.0038955 , -0.44780365, -0.2572211 ,\n",
       "         -0.2808265 , -0.02853687, -0.2362756 ,  0.5729608 ,  0.03729466],\n",
       "        [ 1.0121918 ,  0.15527138, -0.71229863,  0.19862314,  0.17857672,\n",
       "         -0.07463938, -0.2717029 , -0.01295888,  0.11723344,  0.3798246 ],\n",
       "        [ 0.49224722,  0.33962464,  0.09062845, -0.13603146,  0.3224875 ,\n",
       "          0.8771626 ,  0.13629723, -0.43899667, -0.62754023, -0.02612687],\n",
       "        [-0.2900311 ,  0.29428005, -0.39320028,  0.0869093 , -0.78372693,\n",
       "          0.40695667,  0.22797959, -0.37006247, -1.0068585 , -0.19327997],\n",
       "        [-0.37237644,  0.16267477,  0.53230464,  0.78851587,  0.31348118,\n",
       "         -0.08937699,  0.10076883,  0.35937935, -1.011047  ,  0.20327084],\n",
       "        [ 0.4177678 , -0.2927555 , -0.07191765,  0.20346107,  0.01341107,\n",
       "          0.02548796, -0.220657  , -0.35887972,  0.4905116 , -0.01425509],\n",
       "        [-0.42337552,  0.20775796,  0.41136262, -0.53608674, -0.10434718,\n",
       "          0.15195265, -0.9627964 , -0.07938441,  0.17943418,  0.41196695],\n",
       "        [ 0.5489004 , -0.6444678 , -0.03244633,  0.6453463 , -0.777888  ,\n",
       "          0.30910385,  1.0136522 ,  0.12953436,  0.7768961 , -0.11293814],\n",
       "        [ 0.49960053, -0.53042275,  0.41881216, -0.5582046 , -0.01490242,\n",
       "          0.34184092, -0.292939  ,  0.01233036, -0.1962381 ,  0.0095013 ]],\n",
       "       dtype=float32)>,\n",
       " <tf.Variable 'residual_block_8/dense_27/bias:0' shape=(10,) dtype=float32, numpy=array([0., 0., 0., 0., 0., 0., 0., 0., 0., 0.], dtype=float32)>]"
      ]
     },
     "execution_count": 258,
     "metadata": {},
     "output_type": "execute_result"
    }
   ],
   "source": [
    "blk.trainable_variables"
   ]
  },
  {
   "cell_type": "code",
   "execution_count": 259,
   "id": "24b6fdcf",
   "metadata": {},
   "outputs": [
    {
     "data": {
      "text/plain": [
       "(<keras.layers.core.dense.Dense at 0x7f8d20dd5190>,\n",
       " <keras.layers.core.dense.Dense at 0x7f8d20dd5070>)"
      ]
     },
     "execution_count": 259,
     "metadata": {},
     "output_type": "execute_result"
    }
   ],
   "source": [
    "blk.submodules"
   ]
  },
  {
   "cell_type": "code",
   "execution_count": 260,
   "id": "549a41d8",
   "metadata": {},
   "outputs": [],
   "source": [
    "class ResidualRegressor(tf.keras.Model):\n",
    "    def __init__(self, output_dim, **kwargs):\n",
    "        super().__init__(**kwargs)\n",
    "        self.hidden1 = tf.keras.layers.Dense(1,\n",
    "                                            activation='relu',\n",
    "                                            kernel_initializer='he_normal')\n",
    "        self.block1 = ResidualBlock(2, 30)\n",
    "        self.block2 = ResidualBlock(2, 30)\n",
    "        self.out = tf.keras.layers.Dense(output_dim)\n",
    "        \n",
    "    def call(self, inputs):\n",
    "        Z = self.hidden1(inputs)\n",
    "        \n",
    "        for _ in range(1 + 3):\n",
    "            Z = self.block1(Z)\n",
    "        Z = self.block2(Z)\n",
    "        return self.out(Z)"
   ]
  },
  {
   "cell_type": "code",
   "execution_count": 261,
   "id": "1c0700e0",
   "metadata": {},
   "outputs": [],
   "source": [
    "resnet = ResidualRegressor(1)"
   ]
  },
  {
   "cell_type": "markdown",
   "id": "91e71c83-dbf9-47af-94b6-62ed24445de9",
   "metadata": {},
   "source": [
    "## Model extends Layer with additional methods, including:\n",
    "* ### compile(), fit(), evaluate(), predict()\n",
    "* ### get_layer(), save() (for load_model() and clone_model())\n",
    "* ### and save_weights(), load_weights()\n",
    "* ### Additional losses and metrics can be added with \n",
    "* ### add_loss(), add_metric()"
   ]
  },
  {
   "cell_type": "markdown",
   "id": "fef0cf59",
   "metadata": {},
   "source": [
    "# Losses and metrics based on model internals"
   ]
  },
  {
   "cell_type": "markdown",
   "id": "e77f9d0e-7868-43ed-ab92-20864abe8536",
   "metadata": {},
   "source": [
    "### Reconstruction loss is a form of regularization forcing the model to retain as much information on the input data as possible"
   ]
  },
  {
   "cell_type": "code",
   "execution_count": 264,
   "id": "c16ad6e2",
   "metadata": {},
   "outputs": [],
   "source": [
    "class ReconstructingRgressor(tf.keras.Model):\n",
    "    def __init__(self, output_dim, **kwargs):\n",
    "        super().__init__(**kwargs)\n",
    "        self.hidden = [tf.keras.layers.Dense(30,\n",
    "                                            activation='relu',\n",
    "                                            kernel_initializer='he_normal')\n",
    "                      for _ in range(5)]\n",
    "        \n",
    "        self.out = tf.keras.layers.Dense(output_dim)\n",
    "        # This will be a streaming metric updated on the go\n",
    "        self.reconstruction_mean = tf.keras.metrics.Mean(\n",
    "            name='reconstruction_error')\n",
    "\n",
    "    # Reconstruction layer is build only when the shape\n",
    "    # of the input data is known\n",
    "    def build(self, batch_input_shape):\n",
    "        n_inputs = batch_input_shape[-1]\n",
    "        self.reconstruct = tf.keras.layers.Dense(n_inputs)\n",
    "            \n",
    "    def call(self, inputs, training=False):\n",
    "        Z = inputs\n",
    "        for layer in self.hidden:\n",
    "            Z = layer(Z)\n",
    "        reconstruction = self.reconstruct(Z)\n",
    "        recon_loss = tf.reduce_mean(tf.square(inputs - reconstruction))\n",
    "        self.add_loss(0.05 * recon_loss)\n",
    "        if training:\n",
    "            result = self.reconstruction_mean(recon_loss)\n",
    "            seld.add_metric(result)\n",
    "        return self.out(Z)"
   ]
  },
  {
   "cell_type": "code",
   "execution_count": null,
   "id": "9d9dec95",
   "metadata": {},
   "outputs": [],
   "source": []
  }
 ],
 "metadata": {
  "kernelspec": {
   "display_name": "tf39",
   "language": "python",
   "name": "tf39"
  },
  "language_info": {
   "codemirror_mode": {
    "name": "ipython",
    "version": 3
   },
   "file_extension": ".py",
   "mimetype": "text/x-python",
   "name": "python",
   "nbconvert_exporter": "python",
   "pygments_lexer": "ipython3",
   "version": "3.9.18"
  }
 },
 "nbformat": 4,
 "nbformat_minor": 5
}
