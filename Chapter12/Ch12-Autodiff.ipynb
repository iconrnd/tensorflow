{
 "cells": [
  {
   "cell_type": "markdown",
   "id": "b30c14ac-5bff-45a5-b9c4-323510e0fce2",
   "metadata": {},
   "source": [
    "## TensorFlow AutoDiff"
   ]
  },
  {
   "cell_type": "code",
   "execution_count": null,
   "id": "2e832be7",
   "metadata": {},
   "outputs": [],
   "source": [
    "import tensorflow as tf\n",
    "import numpy as np\n",
    "import tensorflow.keras as K\n",
    "import pandas as pd\n",
    "import matplotlib.pyplot as plt"
   ]
  },
  {
   "cell_type": "code",
   "execution_count": 2,
   "id": "8eada652",
   "metadata": {},
   "outputs": [],
   "source": [
    "def f(w1, w2):\n",
    "    return 3 * w1 ** 2 + 2 * w1 * w2"
   ]
  },
  {
   "cell_type": "code",
   "execution_count": null,
   "id": "9f5f51d4",
   "metadata": {},
   "outputs": [],
   "source": [
    "w1, w2 = tf.Variable(5.), tf.Variable(3.)\n",
    "\n",
    "with tf.GradientTape() as tape:\n",
    "    z = f(w1, w2)\n",
    "    \n",
    "    # To save memory one can add stuff inside\n",
    "    # with tape.stop_recording()"
   ]
  },
  {
   "cell_type": "code",
   "execution_count": 4,
   "id": "37c4d4f9",
   "metadata": {},
   "outputs": [],
   "source": [
    "gradiets = tape.gradient(z, [w1, w2])"
   ]
  },
  {
   "cell_type": "code",
   "execution_count": 5,
   "id": "be4d86d9",
   "metadata": {},
   "outputs": [
    {
     "data": {
      "text/plain": [
       "[<tf.Tensor: shape=(), dtype=float32, numpy=36.0>,\n",
       " <tf.Tensor: shape=(), dtype=float32, numpy=10.0>]"
      ]
     },
     "execution_count": 5,
     "metadata": {},
     "output_type": "execute_result"
    }
   ],
   "source": [
    "gradiets"
   ]
  },
  {
   "cell_type": "markdown",
   "id": "057b2aac-a3e2-4d2f-b737-264cf09e63ec",
   "metadata": {},
   "source": [
    "## Calling volatile gradient (persistent=False) again leads to an error"
   ]
  },
  {
   "cell_type": "code",
   "execution_count": 6,
   "id": "b2a08ef7",
   "metadata": {},
   "outputs": [
    {
     "ename": "RuntimeError",
     "evalue": "A non-persistent GradientTape can only be used to compute one set of gradients (or jacobians)",
     "output_type": "error",
     "traceback": [
      "\u001b[0;31m---------------------------------------------------------------------------\u001b[0m",
      "\u001b[0;31mRuntimeError\u001b[0m                              Traceback (most recent call last)",
      "Cell \u001b[0;32mIn[6], line 1\u001b[0m\n\u001b[0;32m----> 1\u001b[0m \u001b[43mtape\u001b[49m\u001b[38;5;241;43m.\u001b[39;49m\u001b[43mgradient\u001b[49m\u001b[43m(\u001b[49m\u001b[43mz\u001b[49m\u001b[43m,\u001b[49m\u001b[43m \u001b[49m\u001b[43mw1\u001b[49m\u001b[43m)\u001b[49m\n",
      "File \u001b[0;32m~/anaconda3/envs/tf39/lib/python3.9/site-packages/tensorflow/python/eager/backprop.py:1055\u001b[0m, in \u001b[0;36mGradientTape.gradient\u001b[0;34m(self, target, sources, output_gradients, unconnected_gradients)\u001b[0m\n\u001b[1;32m   1015\u001b[0m \u001b[38;5;250m\u001b[39m\u001b[38;5;124;03m\"\"\"Computes the gradient using operations recorded in context of this tape.\u001b[39;00m\n\u001b[1;32m   1016\u001b[0m \n\u001b[1;32m   1017\u001b[0m \u001b[38;5;124;03mNote: Unless you set `persistent=True` a GradientTape can only be used to\u001b[39;00m\n\u001b[0;32m   (...)\u001b[0m\n\u001b[1;32m   1052\u001b[0m \u001b[38;5;124;03m   called with an unknown value.\u001b[39;00m\n\u001b[1;32m   1053\u001b[0m \u001b[38;5;124;03m\"\"\"\u001b[39;00m\n\u001b[1;32m   1054\u001b[0m \u001b[38;5;28;01mif\u001b[39;00m \u001b[38;5;28mself\u001b[39m\u001b[38;5;241m.\u001b[39m_tape \u001b[38;5;129;01mis\u001b[39;00m \u001b[38;5;28;01mNone\u001b[39;00m:\n\u001b[0;32m-> 1055\u001b[0m   \u001b[38;5;28;01mraise\u001b[39;00m \u001b[38;5;167;01mRuntimeError\u001b[39;00m(\u001b[38;5;124m\"\u001b[39m\u001b[38;5;124mA non-persistent GradientTape can only be used to \u001b[39m\u001b[38;5;124m\"\u001b[39m\n\u001b[1;32m   1056\u001b[0m                      \u001b[38;5;124m\"\u001b[39m\u001b[38;5;124mcompute one set of gradients (or jacobians)\u001b[39m\u001b[38;5;124m\"\u001b[39m)\n\u001b[1;32m   1057\u001b[0m \u001b[38;5;28;01mif\u001b[39;00m \u001b[38;5;28mself\u001b[39m\u001b[38;5;241m.\u001b[39m_recording:\n\u001b[1;32m   1058\u001b[0m   \u001b[38;5;28;01mif\u001b[39;00m \u001b[38;5;129;01mnot\u001b[39;00m \u001b[38;5;28mself\u001b[39m\u001b[38;5;241m.\u001b[39m_persistent:\n",
      "\u001b[0;31mRuntimeError\u001b[0m: A non-persistent GradientTape can only be used to compute one set of gradients (or jacobians)"
     ]
    }
   ],
   "source": [
    " tape.gradient(z, w1)"
   ]
  },
  {
   "cell_type": "markdown",
   "id": "460bdecf-d631-4cd3-8d13-40856b9b931e",
   "metadata": {},
   "source": [
    "## Persistent tape can be called multiple times but needs to be manually released"
   ]
  },
  {
   "cell_type": "code",
   "execution_count": null,
   "id": "93d2ce22",
   "metadata": {},
   "outputs": [],
   "source": [
    "with tf.GradientTape(persistent=True) as tape:\n",
    "    z = f(w1, w2)"
   ]
  },
  {
   "cell_type": "code",
   "execution_count": null,
   "id": "8cf823f8",
   "metadata": {},
   "outputs": [],
   "source": [
    "tape.gradient(z, w1)"
   ]
  },
  {
   "cell_type": "code",
   "execution_count": null,
   "id": "db45d3f8",
   "metadata": {},
   "outputs": [],
   "source": [
    "tape.gradient(z, w2)"
   ]
  },
  {
   "cell_type": "code",
   "execution_count": 22,
   "id": "6b2293c8",
   "metadata": {},
   "outputs": [],
   "source": [
    "del tape"
   ]
  },
  {
   "cell_type": "markdown",
   "id": "cdb707ac-ba54-4d14-9356-9de2aee918e4",
   "metadata": {},
   "source": [
    "## GradientTape by default tracks only tf.Variable and ignores tf.constant tensors, but it can be forced to watch any tensor and allows to compute gradients w/ respect to them"
   ]
  },
  {
   "cell_type": "code",
   "execution_count": null,
   "id": "17aae076",
   "metadata": {},
   "outputs": [],
   "source": [
    "c1, c2 = tf.constant(5.), tf.constant(3.)\n",
    "\n",
    "with tf.GradientTape() as tape:\n",
    "    tape.watch(c1)\n",
    "    tape.watch(c2)\n",
    "    z = f(c1, c2)\n",
    "    "
   ]
  },
  {
   "cell_type": "code",
   "execution_count": null,
   "id": "cfda94ad",
   "metadata": {},
   "outputs": [],
   "source": [
    "tape.gradient(z, [c1, c2])"
   ]
  },
  {
   "cell_type": "markdown",
   "id": "750d6bf2-363c-491d-8a59-3968915b64c4",
   "metadata": {},
   "source": [
    "## For vector containing losses as individual elements one has to call the jacobian() method of the tape. \n",
    "## Otherwise the tape will compute the scalar gradient of the summed vector elements"
   ]
  },
  {
   "cell_type": "markdown",
   "id": "72e04e07-3d2f-49b9-a916-1178278b3d3b",
   "metadata": {},
   "source": [
    "## It is also possible to exclude parts of the funciton from contributing to gradients: tf.stop_gradient(...) enclosing part of the expression renders it effectively constant\n",
    "\n",
    "## It has to be done at the level of the function"
   ]
  },
  {
   "cell_type": "code",
   "execution_count": null,
   "id": "9f0b5438",
   "metadata": {},
   "outputs": [],
   "source": [
    "def f(w1, w2):\n",
    "    return 3 * w1 ** 2 + tf.stop_gradient(2 * w1 *w2)"
   ]
  },
  {
   "cell_type": "code",
   "execution_count": 14,
   "id": "74f6f219",
   "metadata": {},
   "outputs": [],
   "source": [
    "w1, w2 = tf.Variable(5.), tf.Variable(3.)\n",
    "\n",
    "with tf.GradientTape(persistent=True) as tape:\n",
    "    z = f(w1, w2)"
   ]
  },
  {
   "cell_type": "code",
   "execution_count": 15,
   "id": "cd743856",
   "metadata": {},
   "outputs": [
    {
     "data": {
      "text/plain": [
       "[<tf.Tensor: shape=(), dtype=float32, numpy=36.0>,\n",
       " <tf.Tensor: shape=(), dtype=float32, numpy=10.0>]"
      ]
     },
     "execution_count": 15,
     "metadata": {},
     "output_type": "execute_result"
    }
   ],
   "source": [
    "tape.gradient(z, [w1, w2])\n",
    "del tape"
   ]
  },
  {
   "cell_type": "markdown",
   "id": "f29fa19f-19f5-4d32-8002-2848f19439ff",
   "metadata": {},
   "source": [
    "## For a known gradient expression one can form a custom gradient function associated with the given TF function"
   ]
  },
  {
   "cell_type": "code",
   "execution_count": 16,
   "id": "14e5b343",
   "metadata": {},
   "outputs": [],
   "source": [
    "@tf.custom_gradient\n",
    "def my_softplus(z):\n",
    "    def my_softplus_gradients(grads):\n",
    "        return grads * (1 - 1 / (1 + tf.exp(z)))\n",
    "    \n",
    "    result = tf.math.log(1 + tf.exp(-tf.abs(z))) + tf.maximum(0, z)\n",
    "    \n",
    "    return result, my_softplus_gradients"
   ]
  },
  {
   "cell_type": "code",
   "execution_count": 23,
   "id": "ad100821",
   "metadata": {},
   "outputs": [],
   "source": [
    "w1, w2 = tf.Variable(5.), tf.Variable(3.)\n",
    "\n",
    "with tf.GradientTape(persistent=True) as tape:\n",
    "    z = my_softplus(w1)"
   ]
  },
  {
   "cell_type": "code",
   "execution_count": 25,
   "id": "f07a39fc",
   "metadata": {},
   "outputs": [
    {
     "data": {
      "text/plain": [
       "[<tf.Tensor: shape=(), dtype=float32, numpy=0.9933072>, None]"
      ]
     },
     "execution_count": 25,
     "metadata": {},
     "output_type": "execute_result"
    }
   ],
   "source": [
    "tape.gradient(z, [w1, w2])"
   ]
  },
  {
   "cell_type": "code",
   "execution_count": null,
   "id": "32eab98a",
   "metadata": {},
   "outputs": [],
   "source": []
  }
 ],
 "metadata": {
  "kernelspec": {
   "display_name": "tf39",
   "language": "python",
   "name": "tf39"
  },
  "language_info": {
   "codemirror_mode": {
    "name": "ipython",
    "version": 3
   },
   "file_extension": ".py",
   "mimetype": "text/x-python",
   "name": "python",
   "nbconvert_exporter": "python",
   "pygments_lexer": "ipython3",
   "version": "3.9.18"
  }
 },
 "nbformat": 4,
 "nbformat_minor": 5
}
