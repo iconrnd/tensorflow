{
 "cells": [
  {
   "cell_type": "markdown",
   "id": "b194090b-6692-4d53-b90e-cba24e83ec6f",
   "metadata": {},
   "source": [
    "## Sentiment analysis with TextVectorization, GRU and masking"
   ]
  },
  {
   "cell_type": "code",
   "execution_count": null,
   "id": "8830a660",
   "metadata": {},
   "outputs": [],
   "source": [
    "import tensorflow as tf\n",
    "import tensorflow_datasets as tfds\n",
    "import numpy as np\n",
    "import os\n",
    "\n",
    "%load_ext tensorboard"
   ]
  },
  {
   "cell_type": "code",
   "execution_count": null,
   "id": "ae71198c",
   "metadata": {},
   "outputs": [],
   "source": [
    "(raw_train_set, raw_valid_set, raw_test_set), info = tfds.load(\n",
    "    name='imdb_reviews',\n",
    "    split=[\"train[:90%]\", \"train[90%:]\", \"test\"],\n",
    "    as_supervised=True,\n",
    "    with_info=True\n",
    ")"
   ]
  },
  {
   "cell_type": "code",
   "execution_count": 3,
   "id": "3492a46d",
   "metadata": {},
   "outputs": [],
   "source": [
    "train_set = raw_train_set.shuffle(5000, seed=42).batch(32).prefetch(1)\n",
    "valid_set = raw_valid_set.batch(32).prefetch(1)\n",
    "test_set = raw_test_set.batch(32).prefetch(1)"
   ]
  },
  {
   "cell_type": "code",
   "execution_count": 4,
   "id": "ea25747d",
   "metadata": {},
   "outputs": [
    {
     "name": "stdout",
     "output_type": "stream",
     "text": [
      "This was an absolutely terrible movie. Don't be lured in by Christopher Walken or Michael Ironside. Both are great actors, but this must simply be their worst role in history. Even their great acting could not redeem this movie's ridiculous storyline. This movie is an early nineties US propaganda piece. The most pathetic scenes were those when the Columbian rebels were making their cases for revolutions. Maria Conchita Alonso appeared phony, and her pseudo-love affair with Walken was nothing but a pathetic emotional plug in a movie that was devoid of any real meaning. I am disappointed that there are movies like this, ruining actor's like Christopher Walken's good name. I could barely sit through it.\n",
      "Label: 0\n",
      "I have been known to fall asleep during films, but this is usually due to a combination of things including, really tired, being warm and comfortable on the sette and having just eaten a lot. However on this occasion I fell asleep because the film was rubbish. The plot development was constant. Constantly slow and boring. Things seemed to happen, but with no explanation of what was causing them or why. I admit, I may have missed part of the film, but i watched the majority of it and everything just seemed to happen of its own accord without any real concern for anything else. I cant recommend this film at all.\n",
      "Label: 0\n",
      "Mann photographs the Alberta Rocky Mountains in a superb fashion, and Jimmy Stewart and Walter Brennan give enjoyable performances as they always seem to do. <br /><br />But come on Hollywood - a Mountie telling the people of Dawson City, Yukon to elect themselves a marshal (yes a marshal!) and to enforce the law themselves, then gunfighters battling it out on the streets for control of the town? <br /><br />Nothing even remotely resembling that happened on the Canadian side of the border during the Klondike gold rush. Mr. Mann and company appear to have mistaken Dawson City for Deadwood, the Canadian North for the American Wild West.<br /><br />Canadian viewers be prepared for a Reefer Madness type of enjoyable howl with this ludicrous plot, or, to shake your head in disgust.\n",
      "Label: 0\n",
      "This is the kind of film for a snowy Sunday afternoon when the rest of the world can go ahead with its own business as you descend into a big arm-chair and mellow for a couple of hours. Wonderful performances from Cher and Nicolas Cage (as always) gently row the plot along. There are no rapids to cross, no dangerous waters, just a warm and witty paddle through New York life at its best. A family film in every sense and one that deserves the praise it received.\n",
      "Label: 1\n"
     ]
    },
    {
     "name": "stderr",
     "output_type": "stream",
     "text": [
      "2023-10-21 12:56:14.938174: W tensorflow/core/kernels/data/cache_dataset_ops.cc:854] The calling iterator did not fully read the dataset being cached. In order to avoid unexpected truncation of the dataset, the partially cached contents of the dataset  will be discarded. This can happen if you have an input pipeline similar to `dataset.cache().take(k).repeat()`. You should use `dataset.take(k).cache().repeat()` instead.\n"
     ]
    }
   ],
   "source": [
    "for review, label in raw_train_set.take(4):\n",
    "    print(review.numpy().decode('utf-8'))\n",
    "    print('Label:', label.numpy())"
   ]
  },
  {
   "cell_type": "markdown",
   "id": "695fcbf8",
   "metadata": {},
   "source": [
    "## Tokenizing and vectorizing text at words level"
   ]
  },
  {
   "cell_type": "code",
   "execution_count": 5,
   "id": "c49725e1",
   "metadata": {},
   "outputs": [],
   "source": [
    "vocab_size = 1000\n",
    "embed_size = 128\n",
    "text_vec_layer = tf.keras.layers.TextVectorization(max_tokens=vocab_size)\n",
    "text_vec_layer.adapt(train_set.map(lambda reviews, labels: reviews))"
   ]
  },
  {
   "cell_type": "code",
   "execution_count": 6,
   "id": "d464a91f",
   "metadata": {},
   "outputs": [],
   "source": [
    "raw_txt = tf.constant([\n",
    "    'Mann photographs the Alberta Rocky Mountains \\\n",
    "in a superb fashion, and Jimmy Stewart and Walter Brennan give enjoyable\\\n",
    "performances as they always seem to do. ',\n",
    "    'Mann photographs the Alberta Rocky'\n",
    "])"
   ]
  },
  {
   "cell_type": "code",
   "execution_count": 7,
   "id": "cfec7827",
   "metadata": {},
   "outputs": [],
   "source": [
    "embed = text_vec_layer.call(raw_txt).numpy()\n",
    "txt = tf.Variable(embed, dtype=tf.int64)"
   ]
  },
  {
   "cell_type": "code",
   "execution_count": 8,
   "id": "b5bcf32c",
   "metadata": {},
   "outputs": [
    {
     "data": {
      "text/plain": [
       "<tf.Variable 'Variable:0' shape=(2, 24) dtype=int64, numpy=\n",
       "array([[  1,   1,   2,   1,   1,   1,   8,   4, 892,   1,   3,   1,   1,\n",
       "          3,   1,   1, 193,   1,  15,  35, 204, 288,   6,  80],\n",
       "       [  1,   1,   2,   1,   1,   0,   0,   0,   0,   0,   0,   0,   0,\n",
       "          0,   0,   0,   0,   0,   0,   0,   0,   0,   0,   0]])>"
      ]
     },
     "execution_count": 8,
     "metadata": {},
     "output_type": "execute_result"
    }
   ],
   "source": [
    "txt"
   ]
  },
  {
   "cell_type": "code",
   "execution_count": 9,
   "id": "efb48344",
   "metadata": {},
   "outputs": [],
   "source": [
    "out = tf.keras.layers.Embedding(vocab_size, embed_size, mask_zero=True)(txt)"
   ]
  },
  {
   "cell_type": "code",
   "execution_count": 10,
   "id": "f25cc221",
   "metadata": {},
   "outputs": [
    {
     "data": {
      "text/plain": [
       "<tf.Tensor: shape=(2, 24, 128), dtype=float32, numpy=\n",
       "array([[[ 0.03722339, -0.04976665, -0.00990369, ..., -0.025424  ,\n",
       "         -0.03561782,  0.0061574 ],\n",
       "        [ 0.03722339, -0.04976665, -0.00990369, ..., -0.025424  ,\n",
       "         -0.03561782,  0.0061574 ],\n",
       "        [ 0.03500311,  0.03601236, -0.03146477, ...,  0.00944851,\n",
       "          0.03138024,  0.01298708],\n",
       "        ...,\n",
       "        [-0.03836131, -0.04680197,  0.01024247, ..., -0.02890631,\n",
       "          0.03405721, -0.04705429],\n",
       "        [-0.03527834,  0.03068871,  0.01395898, ..., -0.0067153 ,\n",
       "         -0.03649485,  0.03601872],\n",
       "        [ 0.03476927,  0.01939769, -0.0440035 , ..., -0.0431875 ,\n",
       "         -0.0413559 ,  0.002615  ]],\n",
       "\n",
       "       [[ 0.03722339, -0.04976665, -0.00990369, ..., -0.025424  ,\n",
       "         -0.03561782,  0.0061574 ],\n",
       "        [ 0.03722339, -0.04976665, -0.00990369, ..., -0.025424  ,\n",
       "         -0.03561782,  0.0061574 ],\n",
       "        [ 0.03500311,  0.03601236, -0.03146477, ...,  0.00944851,\n",
       "          0.03138024,  0.01298708],\n",
       "        ...,\n",
       "        [ 0.00610907, -0.00699742,  0.00764582, ..., -0.01016446,\n",
       "         -0.00399815,  0.04795222],\n",
       "        [ 0.00610907, -0.00699742,  0.00764582, ..., -0.01016446,\n",
       "         -0.00399815,  0.04795222],\n",
       "        [ 0.00610907, -0.00699742,  0.00764582, ..., -0.01016446,\n",
       "         -0.00399815,  0.04795222]]], dtype=float32)>"
      ]
     },
     "execution_count": 10,
     "metadata": {},
     "output_type": "execute_result"
    }
   ],
   "source": [
    "out"
   ]
  },
  {
   "cell_type": "markdown",
   "id": "23bef11a-6d35-48d6-b84a-6a042d9a0464",
   "metadata": {},
   "source": [
    "## This yields the whole sequence, keeping the 24 long sentence with embedding dimension (here 128) transformed to the GRU layer size dimensionality, e.g. 64 here\n",
    "## The returned sequence dimension is the middle one here, 24"
   ]
  },
  {
   "cell_type": "code",
   "execution_count": 11,
   "id": "b84e9744",
   "metadata": {},
   "outputs": [
    {
     "name": "stderr",
     "output_type": "stream",
     "text": [
      "2023-10-21 12:56:30.593490: I tensorflow/compiler/xla/stream_executor/cuda/cuda_dnn.cc:432] Loaded cuDNN version 8600\n"
     ]
    },
    {
     "data": {
      "text/plain": [
       "<tf.Tensor: shape=(2, 24, 64), dtype=float32, numpy=\n",
       "array([[[-2.31193732e-02, -6.00226456e-03, -1.25218844e-02, ...,\n",
       "         -1.88639499e-02,  5.60823688e-03,  1.02528976e-02],\n",
       "        [-3.42716873e-02, -1.01342322e-02, -1.98849048e-02, ...,\n",
       "         -2.65447143e-02,  6.25704229e-03,  1.21794287e-02],\n",
       "        [-6.13229256e-03, -2.51790862e-05, -1.57100204e-02, ...,\n",
       "         -7.11231586e-03, -1.67892314e-02, -3.92597355e-03],\n",
       "        ...,\n",
       "        [-7.57235277e-04, -1.07401498e-02,  1.17213195e-02, ...,\n",
       "          1.99803594e-03, -2.06704997e-03,  1.36174494e-02],\n",
       "        [-1.94050826e-03, -1.36491684e-02, -8.55845213e-03, ...,\n",
       "          7.65117723e-03,  1.69179551e-02,  8.02480709e-03],\n",
       "        [ 3.29882652e-03, -6.46380475e-03, -2.21510250e-02, ...,\n",
       "          6.24734955e-03,  2.06992067e-02, -5.07170800e-03]],\n",
       "\n",
       "       [[-2.31193732e-02, -6.00226456e-03, -1.25218844e-02, ...,\n",
       "         -1.88639499e-02,  5.60823688e-03,  1.02528976e-02],\n",
       "        [-3.42716873e-02, -1.01342322e-02, -1.98849048e-02, ...,\n",
       "         -2.65447143e-02,  6.25704229e-03,  1.21794287e-02],\n",
       "        [-6.13229256e-03, -2.51790862e-05, -1.57100204e-02, ...,\n",
       "         -7.11231586e-03, -1.67892314e-02, -3.92597355e-03],\n",
       "        ...,\n",
       "        [ 0.00000000e+00,  0.00000000e+00,  0.00000000e+00, ...,\n",
       "          0.00000000e+00,  0.00000000e+00,  0.00000000e+00],\n",
       "        [ 0.00000000e+00,  0.00000000e+00,  0.00000000e+00, ...,\n",
       "          0.00000000e+00,  0.00000000e+00,  0.00000000e+00],\n",
       "        [ 0.00000000e+00,  0.00000000e+00,  0.00000000e+00, ...,\n",
       "          0.00000000e+00,  0.00000000e+00,  0.00000000e+00]]],\n",
       "      dtype=float32)>"
      ]
     },
     "execution_count": 11,
     "metadata": {},
     "output_type": "execute_result"
    }
   ],
   "source": [
    "tf.keras.layers.GRU(64, return_sequences=True)(out)"
   ]
  },
  {
   "cell_type": "code",
   "execution_count": 14,
   "id": "2cad1783",
   "metadata": {},
   "outputs": [],
   "source": [
    "#out = tf.keras.layers.GRU(128)(out[tf.newaxis, ...])\n",
    "out = tf.keras.layers.GRU(128)(out)"
   ]
  },
  {
   "cell_type": "markdown",
   "id": "f825ed7d",
   "metadata": {},
   "source": [
    "## Here the only remaining dimentions are batch and GRU size, the text length dimention is collapsed by the GRU, which is not returning sequences.\n",
    "\n",
    "## If there were several GRUs then we'd need to return sequence (along with a mask) and only at the last GRU collapse the text."
   ]
  },
  {
   "cell_type": "code",
   "execution_count": 15,
   "id": "d6e749d1",
   "metadata": {},
   "outputs": [
    {
     "data": {
      "text/plain": [
       "<tf.Tensor: shape=(2, 128), dtype=float32, numpy=\n",
       "array([[ 8.63684062e-03,  1.90944560e-02, -1.15395281e-02,\n",
       "        -1.56724826e-02, -4.33316128e-03,  7.85726868e-03,\n",
       "        -5.20819146e-03,  7.30504282e-03, -5.35266800e-03,\n",
       "        -2.22881958e-02,  1.82193480e-02,  8.86726100e-03,\n",
       "         1.17614493e-02, -2.75767059e-04, -1.84563652e-03,\n",
       "        -1.27304569e-02,  1.07006393e-02,  1.07654342e-02,\n",
       "         1.26036917e-04,  2.14793291e-02,  1.64245330e-02,\n",
       "        -3.40776262e-03, -3.24496962e-02,  2.43742345e-03,\n",
       "         7.30309775e-03, -1.82676669e-02, -3.01983841e-02,\n",
       "        -7.01783644e-03, -1.35894131e-03, -9.84857790e-03,\n",
       "        -1.68229137e-02, -1.41781550e-02,  8.87791254e-03,\n",
       "        -6.22299453e-03, -1.04935337e-02, -2.86249891e-02,\n",
       "         5.69162518e-03, -3.00332578e-03,  3.54943518e-03,\n",
       "        -3.76814022e-03, -1.41054792e-02, -1.25163514e-02,\n",
       "        -5.45388181e-03,  1.35139013e-02,  1.97317377e-02,\n",
       "        -4.06170171e-03, -7.91178644e-03,  8.20245408e-03,\n",
       "         3.40378424e-03, -3.19176586e-03,  5.69606060e-03,\n",
       "         1.47557519e-02,  9.24285129e-03,  6.98301289e-03,\n",
       "         2.08914522e-02,  4.07403568e-03, -2.07356829e-02,\n",
       "         3.00901989e-03, -1.32612139e-02, -2.05610562e-02,\n",
       "        -7.68945273e-03, -1.79106276e-02, -2.52602473e-02,\n",
       "         1.23598753e-02, -2.26847152e-03,  1.51622975e-02,\n",
       "        -4.20300104e-03, -9.67415888e-03, -4.82450181e-04,\n",
       "         1.51161207e-02, -1.51270796e-02,  7.53920712e-03,\n",
       "         1.16629880e-02,  1.05810007e-02, -2.05280818e-02,\n",
       "        -1.55165661e-02, -4.76173125e-03,  2.86965538e-03,\n",
       "         5.25562000e-03, -1.73357539e-02,  3.81781114e-03,\n",
       "         2.68813148e-02,  1.20275328e-02, -1.00939767e-02,\n",
       "         2.21148762e-03,  5.56026306e-03,  7.46293040e-03,\n",
       "        -5.18523448e-04,  1.93442143e-02,  1.90025792e-02,\n",
       "        -1.73558984e-02, -1.39431944e-02, -1.36849412e-03,\n",
       "        -2.26694881e-03, -7.66214076e-03, -6.83716033e-03,\n",
       "        -1.01129692e-02, -2.72660609e-03, -1.90218501e-02,\n",
       "        -1.76153220e-02,  3.67624313e-03, -7.68410391e-04,\n",
       "        -1.34624774e-02, -2.97954539e-03, -2.62533762e-02,\n",
       "        -1.52259385e-02,  9.02500283e-03,  8.56269337e-03,\n",
       "        -2.18976792e-02, -6.28302153e-03,  3.07510719e-02,\n",
       "        -2.44202820e-04,  3.01700737e-03,  3.19923796e-02,\n",
       "        -6.78433105e-03, -1.49678113e-02, -1.42129008e-02,\n",
       "        -1.88448057e-02,  6.57349359e-03, -2.46367953e-03,\n",
       "        -1.86052751e-02,  1.58993267e-02, -1.04674650e-03,\n",
       "        -1.17222453e-03, -1.82113424e-02,  5.07494435e-03,\n",
       "         5.87975373e-03, -7.78583437e-03],\n",
       "       [-2.67658494e-02,  1.22424252e-02, -5.80123393e-03,\n",
       "         8.47333795e-05, -3.96010242e-02,  7.68940430e-03,\n",
       "        -5.79910912e-03,  4.70041335e-02, -8.77049845e-03,\n",
       "        -2.46716738e-02,  1.01872459e-02,  1.53511781e-02,\n",
       "         2.28603296e-02, -2.36671627e-03,  1.07839238e-02,\n",
       "        -1.52668124e-02, -2.47516949e-02,  2.31338348e-02,\n",
       "         2.34017726e-02,  1.80014540e-02, -3.60685401e-02,\n",
       "        -1.41906808e-03,  1.83247793e-02, -1.50867850e-02,\n",
       "        -2.08651624e-03, -8.01333413e-03,  2.40663867e-02,\n",
       "        -1.09568397e-02, -1.06570460e-02, -3.71853374e-02,\n",
       "         5.90196392e-03,  6.08609850e-03,  1.71965279e-03,\n",
       "         1.07687793e-03,  1.55157279e-02, -6.47618249e-03,\n",
       "        -2.39714179e-02, -8.36233050e-03,  2.41968222e-02,\n",
       "         3.93816680e-02, -1.19545795e-02, -4.26118523e-02,\n",
       "         1.86792519e-02, -9.02198907e-03,  1.88215077e-02,\n",
       "        -1.07931476e-02, -1.41582629e-02, -2.01782110e-04,\n",
       "         2.83303149e-02, -1.95199419e-02, -2.93034110e-02,\n",
       "         2.78234459e-03,  2.73764487e-02, -1.07286712e-02,\n",
       "        -4.79220040e-03,  3.63664888e-02, -1.25610251e-02,\n",
       "         1.85026731e-02, -1.90128814e-02,  1.59730967e-02,\n",
       "        -1.83298346e-02,  1.07621625e-02, -6.74781762e-03,\n",
       "        -1.07115321e-02,  9.17309336e-03, -4.58962610e-03,\n",
       "         3.55336890e-02, -1.05239567e-03, -1.85750816e-02,\n",
       "        -9.89405904e-04, -6.16996177e-03, -1.03580849e-02,\n",
       "         2.79686395e-02, -8.66854005e-03, -1.45348860e-03,\n",
       "        -2.82587390e-03, -1.04570668e-02,  1.09691434e-02,\n",
       "         1.71288811e-02,  1.20903021e-02, -1.14142541e-02,\n",
       "        -1.27615212e-02,  1.04326224e-02,  1.13266078e-03,\n",
       "        -1.90555807e-02, -9.14157648e-03, -1.57957952e-02,\n",
       "        -2.89988033e-02, -1.31133180e-02,  2.20055170e-02,\n",
       "         7.45668355e-03, -1.17529277e-02,  2.27466747e-02,\n",
       "        -4.87955706e-03,  2.17909403e-02,  1.81372780e-02,\n",
       "         2.93219835e-02,  5.72902150e-03,  1.16770025e-02,\n",
       "        -1.06159085e-02,  6.22941600e-03,  8.30363575e-03,\n",
       "         2.46126093e-02,  2.68540122e-02,  6.71357149e-03,\n",
       "        -2.20995420e-03,  3.38420719e-02, -1.18187359e-02,\n",
       "         2.05595680e-02,  3.97892715e-03,  6.76283101e-03,\n",
       "         2.79793013e-02,  3.26294196e-03,  4.71476233e-04,\n",
       "         2.95807216e-02,  9.28553008e-03, -7.61308707e-03,\n",
       "         1.88807882e-02, -3.14449072e-02, -3.09740230e-02,\n",
       "        -3.26274112e-02,  5.36303874e-03,  1.80968679e-02,\n",
       "         2.37110220e-02,  3.30812745e-02, -2.35887654e-02,\n",
       "        -4.83229104e-03, -3.00067589e-02]], dtype=float32)>"
      ]
     },
     "execution_count": 15,
     "metadata": {},
     "output_type": "execute_result"
    }
   ],
   "source": [
    "out"
   ]
  },
  {
   "cell_type": "code",
   "execution_count": 16,
   "id": "e196eb39",
   "metadata": {},
   "outputs": [
    {
     "data": {
      "text/plain": [
       "<tf.Tensor: shape=(2, 1), dtype=float32, numpy=\n",
       "array([[0.5019576 ],\n",
       "       [0.50356525]], dtype=float32)>"
      ]
     },
     "execution_count": 16,
     "metadata": {},
     "output_type": "execute_result"
    }
   ],
   "source": [
    "tf.keras.layers.Dense(1, activation='sigmoid')(out)"
   ]
  },
  {
   "cell_type": "markdown",
   "id": "d00f2e47",
   "metadata": {
    "jp-MarkdownHeadingCollapsed": true
   },
   "source": [
    "## Masking properties\n",
    "* To propagate mask further add supports_masking=True to layer\n",
    "* To update mask one has to implement compute_mask() method\n",
    "* For recurrent layers with return_sequence=True mask is propagated, with False it is not"
   ]
  },
  {
   "cell_type": "markdown",
   "id": "13b35bc8",
   "metadata": {},
   "source": [
    "## This model has poor performance due to 0-padding.\n",
    "\n",
    "## It can be enhanced by using masking"
   ]
  },
  {
   "cell_type": "code",
   "execution_count": 17,
   "id": "9b12ff26",
   "metadata": {},
   "outputs": [],
   "source": [
    "embed_size = 128\n",
    "tf.random.set_seed(42)\n",
    "model = tf.keras.Sequential([\n",
    "    text_vec_layer,\n",
    "    tf.keras.layers.Embedding(vocab_size, embed_size), # here by default return_sequence=False\n",
    "    tf.keras.layers.GRU(128),\n",
    "    tf.keras.layers.Dense(1, activation='sigmoid')\n",
    "])"
   ]
  },
  {
   "cell_type": "code",
   "execution_count": 18,
   "id": "3ebf20f5",
   "metadata": {},
   "outputs": [],
   "source": [
    "model.compile(loss='binary_crossentropy', optimizer='nadam', metrics=['accuracy'])"
   ]
  },
  {
   "cell_type": "code",
   "execution_count": null,
   "id": "11ddd618",
   "metadata": {},
   "outputs": [
    {
     "name": "stdout",
     "output_type": "stream",
     "text": [
      "Epoch 1/2\n"
     ]
    },
    {
     "name": "stderr",
     "output_type": "stream",
     "text": [
      "2023-10-05 22:54:29.962123: I tensorflow/compiler/xla/stream_executor/cuda/cuda_blas.cc:606] TensorFloat-32 will be used for the matrix multiplication. This will only be logged once.\n",
      "2023-10-05 22:54:30.017976: I tensorflow/compiler/xla/service/service.cc:168] XLA service 0x7fbceccb67a0 initialized for platform CUDA (this does not guarantee that XLA will be used). Devices:\n",
      "2023-10-05 22:54:30.017996: I tensorflow/compiler/xla/service/service.cc:176]   StreamExecutor device (0): NVIDIA GeForce RTX 3060 Laptop GPU, Compute Capability 8.6\n",
      "2023-10-05 22:54:30.024144: I tensorflow/compiler/mlir/tensorflow/utils/dump_mlir_util.cc:255] disabling MLIR crash reproducer, set env var `MLIR_CRASH_REPRODUCER_DIRECTORY` to enable.\n",
      "2023-10-05 22:54:30.142468: I ./tensorflow/compiler/jit/device_compiler.h:186] Compiled cluster using XLA!  This line is logged at most once for the lifetime of the process.\n"
     ]
    },
    {
     "name": "stdout",
     "output_type": "stream",
     "text": [
      "132/704 [====>.........................] - ETA: 54s - loss: 0.6942 - accuracy: 0.5062"
     ]
    }
   ],
   "source": [
    "history = model.fit(train_set, validation_data=valid_set, epochs=2)"
   ]
  },
  {
   "cell_type": "markdown",
   "id": "85c5a302",
   "metadata": {},
   "source": [
    "## Masking with a custom model\n",
    "\n",
    "### To make a custom masking layer:\n",
    "\n",
    "* Add mask argument to layer call() and use it in the layer\n",
    "* To propagate mask set self.supports_masking=True in the constructor\n",
    "* To update mask before propagating implement compute_mask() method\n"
   ]
  },
  {
   "cell_type": "markdown",
   "id": "8c1d10ec",
   "metadata": {},
   "source": [
    "## Embedding layer makes masks automatically\n",
    "## Otherwise one has to create masking with Masking layer or create it manually"
   ]
  },
  {
   "cell_type": "code",
   "execution_count": null,
   "id": "c1f94c26",
   "metadata": {},
   "outputs": [],
   "source": [
    "inputs = tf.keras.layers.Input([], dtype=tf.string)\n",
    "tokenized_input = text_vec_layer(inputs)\n",
    "mask = tf.math.not_equal(tokenized_input, 0)\n",
    "\n",
    "Z = tf.keras.layers.Embedding(vocab_size, embed_size)(tokenized_input)\n",
    "\n",
    "# Here we pass mask in the call argument, not layer constructor\n",
    "Z = tf.keras.layers.GRU(128, dropout=0.2)(Z, mask=mask)\n",
    "\n",
    "# Output gets no mask because GRU is not returning sequence here and skips masked input\n",
    "# In other cases we would need to pass the mask explicitly so it is used with loss\n",
    "outputs = tf.keras.layers.Dense(1, activation='sigmoid')(Z)\n",
    "\n",
    "model = tf.keras.Model(inputs=[inputs], outputs=[outputs])"
   ]
  },
  {
   "cell_type": "code",
   "execution_count": null,
   "id": "ef989f29",
   "metadata": {},
   "outputs": [],
   "source": [
    "model.compile(loss='binary_crossentropy', optimizer='nadam', metrics=['accuracy'])"
   ]
  },
  {
   "cell_type": "code",
   "execution_count": null,
   "id": "883d64df",
   "metadata": {},
   "outputs": [],
   "source": [
    "from tensorboard.plugins import projector\n",
    "tensorboard_callback = tf.keras.callbacks.TensorBoard(log_dir=\"./logs\")"
   ]
  },
  {
   "cell_type": "code",
   "execution_count": null,
   "id": "00f75f88",
   "metadata": {},
   "outputs": [],
   "source": [
    "log_dir = './logs'"
   ]
  },
  {
   "cell_type": "code",
   "execution_count": null,
   "id": "fd33e82f",
   "metadata": {},
   "outputs": [],
   "source": [
    "model.layers"
   ]
  },
  {
   "cell_type": "code",
   "execution_count": null,
   "id": "c4ac7f16",
   "metadata": {},
   "outputs": [],
   "source": [
    "# This is the mask function, suffix number is just \n",
    "# a part of layer name but'function': 'math.not_equal'\n",
    "model.layers[3].get_config()"
   ]
  },
  {
   "cell_type": "code",
   "execution_count": null,
   "id": "db5a31ab",
   "metadata": {},
   "outputs": [],
   "source": [
    "len(model.layers[2].get_weights())"
   ]
  },
  {
   "cell_type": "code",
   "execution_count": null,
   "id": "6d3fd697",
   "metadata": {},
   "outputs": [],
   "source": [
    "model.layers[2].get_weights()[0].shape"
   ]
  },
  {
   "cell_type": "code",
   "execution_count": null,
   "id": "af597e98",
   "metadata": {},
   "outputs": [],
   "source": [
    "model.layers[2].get_weights()[0]"
   ]
  },
  {
   "cell_type": "code",
   "execution_count": null,
   "id": "69398d51",
   "metadata": {},
   "outputs": [],
   "source": [
    "# Skipping weights attached to token 0\n",
    "weights = tf.Variable(model.layers[2].get_weights()[0][1:])"
   ]
  },
  {
   "cell_type": "code",
   "execution_count": null,
   "id": "717994c3",
   "metadata": {},
   "outputs": [],
   "source": [
    "checkpoint = tf.train.Checkpoint(embedding=weights)\n",
    "checkpoint.save(os.path.join(log_dir, 'embedding.ckpt'))"
   ]
  },
  {
   "cell_type": "code",
   "execution_count": null,
   "id": "98c08aba",
   "metadata": {},
   "outputs": [],
   "source": [
    "config = projector.ProjectorConfig()\n",
    "embedding = config.embeddings.add()"
   ]
  },
  {
   "cell_type": "code",
   "execution_count": null,
   "id": "ab877c56",
   "metadata": {},
   "outputs": [],
   "source": [
    "embedding.tensor_name = 'embedding/.ATTRIBUTES/VARIABLE_VALUE'"
   ]
  },
  {
   "cell_type": "code",
   "execution_count": null,
   "id": "9d165edb",
   "metadata": {},
   "outputs": [],
   "source": [
    "projector.visualize_embeddings(log_dir, config)"
   ]
  },
  {
   "cell_type": "code",
   "execution_count": null,
   "id": "d26ae30b",
   "metadata": {},
   "outputs": [],
   "source": [
    "text_vec_layer.get_vocabulary()[192]"
   ]
  },
  {
   "cell_type": "code",
   "execution_count": null,
   "id": "26742d18",
   "metadata": {},
   "outputs": [],
   "source": [
    "# %tensorboard --logdir ./logs"
   ]
  },
  {
   "cell_type": "code",
   "execution_count": null,
   "id": "0b5f4f55",
   "metadata": {},
   "outputs": [],
   "source": [
    "history = model.fit(train_set, validation_data=valid_set, epochs=20, callbacks=[tensorboard_callback])"
   ]
  },
  {
   "cell_type": "markdown",
   "id": "9a1b14bb",
   "metadata": {},
   "source": [
    "## Ragged tensor is another way of representing data of varied length, skipping on tail paddings\n",
    "\n",
    "## It is done in TextVectorization layer initialization\n",
    "\n",
    "## Such a layer is used without masking in a model\n",
    "\n",
    "## Note that this is different from sample weighting\n",
    "\n",
    "## It may still be that ragged tensors can't serve as model targets, but this may change"
   ]
  },
  {
   "cell_type": "code",
   "execution_count": null,
   "id": "bb29a5bb",
   "metadata": {},
   "outputs": [],
   "source": [
    "text_vec_layer_ragged = tf.keras.layers.TextVectorization(max_tokens=vocab_size, ragged=True)"
   ]
  },
  {
   "cell_type": "code",
   "execution_count": null,
   "id": "59a7a980",
   "metadata": {},
   "outputs": [],
   "source": [
    "text_vec_layer_ragged.adapt(train_set.map(lambda reviews, labels: reviews))"
   ]
  },
  {
   "cell_type": "code",
   "execution_count": null,
   "id": "8c231766",
   "metadata": {},
   "outputs": [],
   "source": [
    "text_vec_layer_ragged.call(raw_txt)"
   ]
  },
  {
   "cell_type": "code",
   "execution_count": null,
   "id": "8ddf3c49",
   "metadata": {},
   "outputs": [],
   "source": []
  }
 ],
 "metadata": {
  "kernelspec": {
   "display_name": "tf39",
   "language": "python",
   "name": "tf39"
  },
  "language_info": {
   "codemirror_mode": {
    "name": "ipython",
    "version": 3
   },
   "file_extension": ".py",
   "mimetype": "text/x-python",
   "name": "python",
   "nbconvert_exporter": "python",
   "pygments_lexer": "ipython3",
   "version": "3.9.18"
  }
 },
 "nbformat": 4,
 "nbformat_minor": 5
}
