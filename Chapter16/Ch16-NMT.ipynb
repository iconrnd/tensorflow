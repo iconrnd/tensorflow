{
 "cells": [
  {
   "cell_type": "markdown",
   "id": "b21dac23-8d08-418a-878b-b077bdb59bd4",
   "metadata": {},
   "source": [
    "## Neural Machine Translation with LSTM"
   ]
  },
  {
   "cell_type": "code",
   "execution_count": null,
   "id": "921a5a5b-7957-494b-ac5a-5406944a5c73",
   "metadata": {},
   "outputs": [],
   "source": [
    "import numpy as np\n",
    "import tensorflow as tf\n",
    "from pathlib import Path"
   ]
  },
  {
   "cell_type": "code",
   "execution_count": 2,
   "id": "7e082c42-012d-4616-8059-a9c1be115fb3",
   "metadata": {},
   "outputs": [],
   "source": [
    "url = \"https://storage.googleapis.com/download.tensorflow.org/data/spa-eng.zip\"\n",
    "path = tf.keras.utils.get_file(\"spa-eng.zip\", origin=url, cache_dir=\"datasets\", extract=True)"
   ]
  },
  {
   "cell_type": "code",
   "execution_count": 3,
   "id": "6591186b-3e5c-4d6f-9e33-a762eb576931",
   "metadata": {
    "scrolled": true
   },
   "outputs": [],
   "source": [
    "text = (Path(path).with_name(\"spa-eng\")/\"spa.txt\").read_text()"
   ]
  },
  {
   "cell_type": "code",
   "execution_count": 4,
   "id": "af13e978-6cf3-49ed-93f3-9386055d2f7d",
   "metadata": {},
   "outputs": [],
   "source": [
    "text = text.replace('¡','').replace('¿','')"
   ]
  },
  {
   "cell_type": "code",
   "execution_count": 5,
   "id": "eceb5cd6-a0c5-400b-a089-a07e04f9fc09",
   "metadata": {},
   "outputs": [
    {
     "data": {
      "text/plain": [
       "'Go.\\tVe.\\nGo'"
      ]
     },
     "execution_count": 5,
     "metadata": {},
     "output_type": "execute_result"
    }
   ],
   "source": [
    "text[:10]"
   ]
  },
  {
   "cell_type": "code",
   "execution_count": 6,
   "id": "402e4e5c-524d-46bd-95b1-ce7cff96f137",
   "metadata": {},
   "outputs": [
    {
     "data": {
      "text/plain": [
       "1580384.4"
      ]
     },
     "execution_count": 6,
     "metadata": {},
     "output_type": "execute_result"
    }
   ],
   "source": [
    "# Roughly 1.5M words\n",
    "len(text)/5"
   ]
  },
  {
   "cell_type": "code",
   "execution_count": 7,
   "id": "31d5e8be-fecb-482d-91f4-fd0e4c4575b1",
   "metadata": {},
   "outputs": [],
   "source": [
    "pairs = [line.split('\\t') for line in text.splitlines()]"
   ]
  },
  {
   "cell_type": "code",
   "execution_count": 8,
   "id": "b870b17d-4cff-47a5-b0fe-0a380ba99b24",
   "metadata": {},
   "outputs": [
    {
     "data": {
      "text/plain": [
       "[['Go.', 'Ve.'],\n",
       " ['Go.', 'Vete.'],\n",
       " ['Go.', 'Vaya.'],\n",
       " ['Go.', 'Váyase.'],\n",
       " ['Hi.', 'Hola.'],\n",
       " ['Run!', 'Corre!'],\n",
       " ['Run.', 'Corred.'],\n",
       " ['Who?', 'Quién?'],\n",
       " ['Fire!', 'Fuego!'],\n",
       " ['Fire!', 'Incendio!']]"
      ]
     },
     "execution_count": 8,
     "metadata": {},
     "output_type": "execute_result"
    }
   ],
   "source": [
    "pairs[:10]"
   ]
  },
  {
   "cell_type": "code",
   "execution_count": 9,
   "id": "8a94d0a0-9930-40f2-a716-a238bfd626aa",
   "metadata": {},
   "outputs": [],
   "source": [
    "np.random.shuffle(pairs)"
   ]
  },
  {
   "cell_type": "code",
   "execution_count": 10,
   "id": "fdc82be9-b78b-4dde-896e-92a5926206d9",
   "metadata": {},
   "outputs": [],
   "source": [
    "sentences_en, sentences_es = zip(*pairs)"
   ]
  },
  {
   "cell_type": "code",
   "execution_count": 11,
   "id": "416b396c-bb23-46ea-95eb-34f635c69005",
   "metadata": {},
   "outputs": [],
   "source": [
    "vocab_size = 1000\n",
    "max_length = 50"
   ]
  },
  {
   "cell_type": "code",
   "execution_count": null,
   "id": "f14a6d42-cdfe-46f1-9b68-45136269f271",
   "metadata": {},
   "outputs": [],
   "source": [
    "text_vec_layer_en = tf.keras.layers.TextVectorization(vocab_size, output_sequence_length=max_length)\n",
    "text_vec_layer_es = tf.keras.layers.TextVectorization(vocab_size, output_sequence_length=max_length)"
   ]
  },
  {
   "cell_type": "code",
   "execution_count": 13,
   "id": "43000f44-69ad-4b06-86fc-a6eb4bad6919",
   "metadata": {},
   "outputs": [],
   "source": [
    "text_vec_layer_en.adapt(sentences_en)\n",
    "text_vec_layer_es.adapt([f'startofseq {s} endofseq' for s in sentences_es])"
   ]
  },
  {
   "cell_type": "code",
   "execution_count": 14,
   "id": "48618fd9-2787-43aa-89bc-06c393e46524",
   "metadata": {},
   "outputs": [
    {
     "data": {
      "text/plain": [
       "['', '[UNK]', 'the', 'i', 'to', 'you', 'tom', 'a', 'is', 'he']"
      ]
     },
     "execution_count": 14,
     "metadata": {},
     "output_type": "execute_result"
    }
   ],
   "source": [
    "text_vec_layer_en.get_vocabulary()[:10]"
   ]
  },
  {
   "cell_type": "code",
   "execution_count": 15,
   "id": "bb105a02-abd9-440c-998b-6129f0204586",
   "metadata": {},
   "outputs": [
    {
     "data": {
      "text/plain": [
       "['', '[UNK]', 'startofseq', 'endofseq', 'de', 'que', 'a', 'no', 'tom', 'la']"
      ]
     },
     "execution_count": 15,
     "metadata": {},
     "output_type": "execute_result"
    }
   ],
   "source": [
    "text_vec_layer_es.get_vocabulary()[:10]"
   ]
  },
  {
   "cell_type": "code",
   "execution_count": 16,
   "id": "d2134c74-b86f-40a5-9484-a5327a5448f5",
   "metadata": {},
   "outputs": [],
   "source": [
    "X_train = tf.constant(sentences_en[:100_000])\n",
    "X_valid = tf.constant(sentences_en[100_000:])\n",
    "\n",
    "X_train_dec = tf.constant([f'startofseq {s}' for s in sentences_es[:100_000]])\n",
    "X_valid_dec = tf.constant([f'startofseq {s}' for s in sentences_es[100_000:]])\n",
    "\n",
    "Y_train = text_vec_layer_es([f'{s} endofseq' for s in sentences_es[:100_000]])\n",
    "Y_valid = text_vec_layer_es([f'{s} endofseq' for s in sentences_es[100_000:]])"
   ]
  },
  {
   "cell_type": "code",
   "execution_count": 17,
   "id": "47ba8234-e42f-4154-a208-841f516307bf",
   "metadata": {},
   "outputs": [],
   "source": [
    "Y_train = tf.cast(Y_train, tf.float32)\n",
    "Y_valid = tf.cast(Y_valid, tf.float32)"
   ]
  },
  {
   "cell_type": "code",
   "execution_count": 18,
   "id": "ac93ce58-975a-4bfc-8d9a-1841cfb92732",
   "metadata": {},
   "outputs": [
    {
     "data": {
      "text/plain": [
       "<tf.Tensor: shape=(100000, 50), dtype=float32, numpy=\n",
       "array([[549., 229., 206., ...,   0.,   0.,   0.],\n",
       "       [ 16.,  25.,   7., ...,   0.,   0.,   0.],\n",
       "       [  7., 617.,  52., ...,   0.,   0.,   0.],\n",
       "       ...,\n",
       "       [  7., 426.,   1., ...,   0.,   0.,   0.],\n",
       "       [  7.,   1.,   1., ...,   0.,   0.,   0.],\n",
       "       [ 37.,   1.,   6., ...,   0.,   0.,   0.]], dtype=float32)>"
      ]
     },
     "execution_count": 18,
     "metadata": {},
     "output_type": "execute_result"
    }
   ],
   "source": [
    "Y_train"
   ]
  },
  {
   "cell_type": "code",
   "execution_count": 19,
   "id": "94c8f839-dca7-490a-85cf-ffbf6a45c47f",
   "metadata": {},
   "outputs": [
    {
     "data": {
      "text/plain": [
       "<tf.Tensor: shape=(18964, 50), dtype=float32, numpy=\n",
       "array([[100.,  22., 714., ...,   0.,   0.,   0.],\n",
       "       [  1.,   6.,   1., ...,   0.,   0.,   0.],\n",
       "       [  8., 104.,   1., ...,   0.,   0.,   0.],\n",
       "       ...,\n",
       "       [ 20.,  15., 368., ...,   0.,   0.,   0.],\n",
       "       [ 20.,  60., 488., ...,   0.,   0.,   0.],\n",
       "       [ 80.,   1.,  19., ...,   0.,   0.,   0.]], dtype=float32)>"
      ]
     },
     "execution_count": 19,
     "metadata": {},
     "output_type": "execute_result"
    }
   ],
   "source": [
    "Y_valid"
   ]
  },
  {
   "cell_type": "markdown",
   "id": "9a1cdd4b-6059-46fa-9bcc-8991d9fb6d8f",
   "metadata": {},
   "source": [
    "# Defining the model with funtional API, because it is not sequential"
   ]
  },
  {
   "cell_type": "code",
   "execution_count": 20,
   "id": "618a2dfa-557a-4196-bce9-0bc5a3d79355",
   "metadata": {},
   "outputs": [],
   "source": [
    "embed_size = 128"
   ]
  },
  {
   "cell_type": "code",
   "execution_count": 21,
   "id": "03c7c4e4-7230-41d3-95a6-23b021d5aaf6",
   "metadata": {},
   "outputs": [],
   "source": [
    "encoder_inputs = tf.keras.layers.Input(shape=[], dtype=tf.string)\n",
    "decoder_inputs = tf.keras.layers.Input(shape=[], dtype=tf.string)"
   ]
  },
  {
   "cell_type": "code",
   "execution_count": 22,
   "id": "034fe839-08c2-46a8-a677-585d1dab1dab",
   "metadata": {},
   "outputs": [],
   "source": [
    "encoder_input_ids = text_vec_layer_en(encoder_inputs)\n",
    "decoder_input_ids = text_vec_layer_es(decoder_inputs)\n",
    "\n",
    "encoder_input_ids = tf.cast(encoder_input_ids, tf.float32)\n",
    "decoder_input_ids = tf.cast(decoder_input_ids, tf.float32)"
   ]
  },
  {
   "cell_type": "code",
   "execution_count": 23,
   "id": "e0fd2096-9982-43a1-bd53-0f9026913c13",
   "metadata": {},
   "outputs": [],
   "source": [
    "encoder_embedding_layer = tf.keras.layers.Embedding(vocab_size, embed_size, mask_zero=True)\n",
    "decoder_embedding_layer = tf.keras.layers.Embedding(vocab_size, embed_size, mask_zero=True)"
   ]
  },
  {
   "cell_type": "code",
   "execution_count": 24,
   "id": "e78fda7b-2fd1-4a45-b27c-36474c1254aa",
   "metadata": {},
   "outputs": [],
   "source": [
    "encoder_embeddings = encoder_embedding_layer(encoder_input_ids)\n",
    "decoder_embeddings = decoder_embedding_layer(decoder_input_ids)"
   ]
  },
  {
   "cell_type": "code",
   "execution_count": 25,
   "id": "e8ba1b7e-71a1-4047-be87-dd6fff6211f8",
   "metadata": {},
   "outputs": [],
   "source": [
    "encoder = tf.keras.layers.LSTM(512, return_state=True)\n",
    "\n",
    "# In Python a, *b = [1, 2, 3, 4] => a=1, b=[2, 3, 4]\n",
    "encoder_outputs, *encoder_state = encoder(encoder_embeddings)"
   ]
  },
  {
   "cell_type": "code",
   "execution_count": 26,
   "id": "7a7be823-da68-4949-b944-b76470592790",
   "metadata": {},
   "outputs": [
    {
     "data": {
      "text/plain": [
       "<KerasTensor: shape=(None, 512) dtype=float32 (created by layer 'lstm')>"
      ]
     },
     "execution_count": 26,
     "metadata": {},
     "output_type": "execute_result"
    }
   ],
   "source": [
    "encoder_outputs"
   ]
  },
  {
   "cell_type": "code",
   "execution_count": 27,
   "id": "58f22533-7710-477c-9f36-0d902656c064",
   "metadata": {},
   "outputs": [
    {
     "data": {
      "text/plain": [
       "[<KerasTensor: shape=(None, 512) dtype=float32 (created by layer 'lstm')>,\n",
       " <KerasTensor: shape=(None, 512) dtype=float32 (created by layer 'lstm')>]"
      ]
     },
     "execution_count": 27,
     "metadata": {},
     "output_type": "execute_result"
    }
   ],
   "source": [
    "encoder_state"
   ]
  },
  {
   "cell_type": "code",
   "execution_count": 28,
   "id": "9a245777-f043-43e8-94d4-acafb7259c5f",
   "metadata": {},
   "outputs": [],
   "source": [
    "decoder = tf.keras.layers.LSTM(512, return_sequences=True)\n",
    "decoder_outputs = decoder(decoder_embeddings, initial_state=encoder_state)"
   ]
  },
  {
   "cell_type": "code",
   "execution_count": 29,
   "id": "3fa2d4b0-97ed-48ce-b0bd-0f2f4efaa176",
   "metadata": {},
   "outputs": [
    {
     "data": {
      "text/plain": [
       "<KerasTensor: shape=(None, 50, 512) dtype=float32 (created by layer 'lstm_1')>"
      ]
     },
     "execution_count": 29,
     "metadata": {},
     "output_type": "execute_result"
    }
   ],
   "source": [
    "decoder_outputs"
   ]
  },
  {
   "cell_type": "code",
   "execution_count": 30,
   "id": "f3c45567-868c-4cd0-8423-873b98fa70c3",
   "metadata": {},
   "outputs": [],
   "source": [
    "output_layer = tf.keras.layers.Dense(vocab_size, activation='softmax', dtype=tf.float32)"
   ]
  },
  {
   "cell_type": "code",
   "execution_count": 31,
   "id": "7651b544-f036-4378-ba43-509436ce7af3",
   "metadata": {},
   "outputs": [
    {
     "data": {
      "text/plain": [
       "<keras.src.layers.core.dense.Dense at 0x7fd1ae572460>"
      ]
     },
     "execution_count": 31,
     "metadata": {},
     "output_type": "execute_result"
    }
   ],
   "source": [
    "output_layer"
   ]
  },
  {
   "cell_type": "code",
   "execution_count": 32,
   "id": "dbfff0b6-cff0-464d-bb75-d8dccb18a555",
   "metadata": {},
   "outputs": [],
   "source": [
    "Y_proba = output_layer(decoder_outputs)"
   ]
  },
  {
   "cell_type": "code",
   "execution_count": 33,
   "id": "8ac478aa-6cfc-4085-bbff-c44b2a1b472c",
   "metadata": {},
   "outputs": [],
   "source": [
    "#with tf.device(\"/GPU:0\"):\n",
    "model = tf.keras.models.Model(inputs=[encoder_inputs, decoder_inputs], outputs=[Y_proba])"
   ]
  },
  {
   "cell_type": "code",
   "execution_count": 36,
   "id": "10ff5730-2708-4cc1-a4a4-29e06f5cb09b",
   "metadata": {},
   "outputs": [],
   "source": [
    "model.compile(loss='sparse_categorical_crossentropy', optimizer='nadam', metrics=['accuracy'])#, jit_compile=True)"
   ]
  },
  {
   "cell_type": "code",
   "execution_count": null,
   "id": "aa38575f-2508-44b9-96ce-73d755dcae48",
   "metadata": {},
   "outputs": [],
   "source": [
    "model.fit((X_train, X_train_dec), Y_train, validation_data=((X_valid, X_valid_dec), Y_valid), epochs=10) "
   ]
  },
  {
   "cell_type": "code",
   "execution_count": null,
   "id": "d5f323ab-e806-4423-aa2b-0e265202433d",
   "metadata": {},
   "outputs": [],
   "source": [
    "def translate(sentence_en):\n",
    "    translation = \"\"\n",
    "    for word_idx in range(max_length):\n",
    "        X = np.array([sentence_en])\n",
    "        X_dec = np.array([\"startofseq \" + translation])\n",
    "        y_proba = model.predict((X, X_dec))[0, word_idx]\n",
    "        predicted_word_id = np.argmax(y_proba)\n",
    "        predicted_word = text_vec_layer_es.get_vocabulary()[predicted_word_id]\n",
    "        if predicted_word == 'endofseq':\n",
    "            break\n",
    "        translation += \" \" + predicted_word\n",
    "    return translation.strip()"
   ]
  },
  {
   "cell_type": "code",
   "execution_count": null,
   "id": "13dbbfb4-3a7b-4d35-9f48-a84875928a32",
   "metadata": {},
   "outputs": [],
   "source": [
    "translate(\"I like soccer\")"
   ]
  },
  {
   "cell_type": "code",
   "execution_count": null,
   "id": "05393320-1bb9-475a-9c1d-7619f432a653",
   "metadata": {},
   "outputs": [],
   "source": []
  }
 ],
 "metadata": {
  "kernelspec": {
   "display_name": "tf39",
   "language": "python",
   "name": "tf39"
  },
  "language_info": {
   "codemirror_mode": {
    "name": "ipython",
    "version": 3
   },
   "file_extension": ".py",
   "mimetype": "text/x-python",
   "name": "python",
   "nbconvert_exporter": "python",
   "pygments_lexer": "ipython3",
   "version": "3.9.18"
  }
 },
 "nbformat": 4,
 "nbformat_minor": 5
}
