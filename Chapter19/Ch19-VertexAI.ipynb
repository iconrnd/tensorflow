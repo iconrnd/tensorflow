{
 "cells": [
  {
   "cell_type": "markdown",
   "id": "f206b3de-5d9b-46a7-aa5a-706412aa8e44",
   "metadata": {},
   "source": [
    "## Using Vertex AI"
   ]
  },
  {
   "cell_type": "code",
   "execution_count": null,
   "id": "79dd0b51-ae39-472e-9110-6e48bd0c2370",
   "metadata": {},
   "outputs": [],
   "source": [
    "import os\n",
    "from pathlib import  Path\n",
    "import numpy as np\n",
    "import json\n",
    "import tensorflow as tf"
   ]
  },
  {
   "cell_type": "code",
   "execution_count": 2,
   "id": "c6446869-8a6f-4f74-8cd0-5c7050258876",
   "metadata": {},
   "outputs": [],
   "source": [
    "os.environ['GOOGLE_APPLICATION_CREDENTIALS']='./tf101.json'"
   ]
  },
  {
   "cell_type": "code",
   "execution_count": 3,
   "id": "6646989d-5eee-4083-aaa1-e2df9a9b8e2e",
   "metadata": {},
   "outputs": [
    {
     "name": "stdout",
     "output_type": "stream",
     "text": [
      "[core]\n",
      "account = iconresearch@protonmail.com\n",
      "disable_usage_reporting = True\n",
      "project = just-aloe-414315\n",
      "\n",
      "Your active configuration is: [default]\n"
     ]
    }
   ],
   "source": [
    "!gcloud config list"
   ]
  },
  {
   "cell_type": "markdown",
   "id": "dadf9e3d-5c30-4d38-a130-d27d28766036",
   "metadata": {},
   "source": [
    "## Initilizing SDK - done in shell"
   ]
  },
  {
   "cell_type": "code",
   "execution_count": 3,
   "id": "5399d32d-322d-4c99-9d40-19350b773e47",
   "metadata": {},
   "outputs": [
    {
     "name": "stdout",
     "output_type": "stream",
     "text": [
      "Welcome! This command will take you through the configuration of gcloud.\n",
      "\n",
      "Your current configuration has been set to: [default]\n",
      "\n",
      "You can skip diagnostics next time by using the following flag:\n",
      "  gcloud init --skip-diagnostics\n",
      "\n",
      "Network diagnostic detects and fixes local network connection issues.\n",
      "Checking network connection...done.                                            \n",
      "Reachability Check passed.\n",
      "Network diagnostic passed (1/1 checks passed).\n",
      "\n",
      "You must log in to continue. Would you like to log in (Y/n)?  ^C\n",
      "\n",
      "\n",
      "Command killed by keyboard interrupt\n",
      "\n"
     ]
    }
   ],
   "source": [
    "!gcloud init"
   ]
  },
  {
   "cell_type": "code",
   "execution_count": 4,
   "id": "fa94f183-20b3-4f77-94d6-44c02259da3d",
   "metadata": {},
   "outputs": [],
   "source": [
    "from google.cloud import storage"
   ]
  },
  {
   "cell_type": "markdown",
   "id": "c10b76ef-5f01-45c7-b9a5-3c925592e179",
   "metadata": {},
   "source": [
    "## Configuring GCS and creating bucket\n",
    "\n",
    "### Role *Storage Object Admin* added in AIM"
   ]
  },
  {
   "cell_type": "code",
   "execution_count": 5,
   "id": "f420b3f1-3b13-43b6-961d-dd0bc4447391",
   "metadata": {},
   "outputs": [],
   "source": [
    "project_id = 'just-aloe-414315'\n",
    "bucket_name = 'tf101_bucket'\n",
    "location = 'us-central1'"
   ]
  },
  {
   "cell_type": "code",
   "execution_count": 6,
   "id": "bb54dd9b-488c-400a-9f79-0ed11e043f1f",
   "metadata": {},
   "outputs": [],
   "source": [
    "storage_client = storage.Client(project=project_id)"
   ]
  },
  {
   "cell_type": "code",
   "execution_count": null,
   "id": "08a7f309-62ec-46ca-94e7-5c914e6dc777",
   "metadata": {},
   "outputs": [],
   "source": [
    "# Bucket creation, done only once\n",
    "#bucket = storage_client.create_bucket(bucket_name, location=location)"
   ]
  },
  {
   "cell_type": "code",
   "execution_count": 15,
   "id": "525703c5-b662-457f-8de6-a41948e437cd",
   "metadata": {},
   "outputs": [],
   "source": [
    "bucket = storage_client.get_bucket(bucket_name)"
   ]
  },
  {
   "cell_type": "code",
   "execution_count": 16,
   "id": "e574e5bf-8793-4acc-9cc4-12d5bb647c0f",
   "metadata": {},
   "outputs": [
    {
     "data": {
      "text/plain": [
       "<Bucket: tf101_bucket>"
      ]
     },
     "execution_count": 16,
     "metadata": {},
     "output_type": "execute_result"
    }
   ],
   "source": [
    "bucket"
   ]
  },
  {
   "cell_type": "markdown",
   "id": "f4f3c86e-1e62-442b-b29c-a5120f96528b",
   "metadata": {},
   "source": [
    "### Files in GCS are calld *blobs* and aren't organised in directories. "
   ]
  },
  {
   "cell_type": "markdown",
   "id": "fb18fe95-31b9-472e-96cc-717be448cd52",
   "metadata": {},
   "source": [
    "## GCS uploader, for model upload\n",
    "\n",
    "### For many files such single-threaded uploader would be slow, but it can be accelerated with multithreading"
   ]
  },
  {
   "cell_type": "code",
   "execution_count": 41,
   "id": "3db78422-fe33-4162-a72f-67c394fb1f9b",
   "metadata": {},
   "outputs": [],
   "source": [
    "def upload_directory(bucket, dirpath):\n",
    "    dirpath = Path(dirpath)\n",
    "    for filepath in dirpath.glob(\"**/*\"):\n",
    "        if filepath.is_file():\n",
    "            blob = bucket.blob(filepath.relative_to(dirpath.parent).as_posix())\n",
    "            blob.upload_from_filename(filepath)"
   ]
  },
  {
   "cell_type": "markdown",
   "id": "b454fb2b-a54b-431f-a29b-1f75462ac044",
   "metadata": {},
   "source": [
    "## Alternatively for large file sets one can use CLI:"
   ]
  },
  {
   "cell_type": "code",
   "execution_count": 13,
   "id": "def9644b-bd33-4c29-9abc-246a2d5f0107",
   "metadata": {},
   "outputs": [
    {
     "name": "stdout",
     "output_type": "stream",
     "text": [
      "Copying file://my_mnist_model/0001/fingerprint.pb [Content-Type=application/octet-stream]...\n",
      "Copying file://my_mnist_model/0001/keras_metadata.pb [Content-Type=application/octet-stream]...\n",
      "Copying file://my_mnist_model/0001/saved_model.pb [Content-Type=application/octet-stream]...\n",
      "Copying file://my_mnist_model/0001/variables/variables.data-00000-of-00001 [Content-Type=application/octet-stream]...\n",
      "Copying file://my_mnist_model/0001/variables/variables.index [Content-Type=application/octet-stream]...\n",
      "| [5/5 files][  2.1 MiB/  2.1 MiB] 100% Done                                    \n",
      "Operation completed over 5 objects/2.1 MiB.                                      \n"
     ]
    }
   ],
   "source": [
    "!gsutil -m cp -r my_mnist_model gs://{bucket_name}/"
   ]
  },
  {
   "cell_type": "markdown",
   "id": "ae1a0612-5e94-4dcd-a08c-1c0c8bb8e10e",
   "metadata": {},
   "source": [
    "## Communicating with Vertex AI"
   ]
  },
  {
   "cell_type": "markdown",
   "id": "b4ccc609-6fb1-4d52-b1cb-125eb8451133",
   "metadata": {},
   "source": [
    "### https://github.com/GoogleCloudPlatform/vertex-ai-samples/tree/main\n",
    "### https://github.com/GoogleCloudPlatform/vertex-ai-samples/blob/main/notebooks/official/migration/sdk-custom-xgboost-prebuilt-container.ipynb"
   ]
  },
  {
   "cell_type": "code",
   "execution_count": 17,
   "id": "78022375-5dfb-493e-91b0-fb6865125016",
   "metadata": {},
   "outputs": [],
   "source": [
    "from google.cloud import aiplatform"
   ]
  },
  {
   "cell_type": "markdown",
   "id": "af7211da-0232-4e2d-ae2d-afeecd68cbe8",
   "metadata": {},
   "source": [
    "## VM image to use for inference\n",
    "\n",
    "## Parent directory contains various ither containers, also for XGBoost and Scikit-Learn"
   ]
  },
  {
   "cell_type": "code",
   "execution_count": 25,
   "id": "f3630aa3-c9c6-4165-9e21-11aeb57dffbb",
   "metadata": {},
   "outputs": [],
   "source": [
    "server_image = \"gcr.io/cloud-aiplatform/prediction/tf2-gpu.2-8:latest\""
   ]
  },
  {
   "cell_type": "code",
   "execution_count": 26,
   "id": "08bb5e35-c6c7-41d1-9574-5d22b65109a2",
   "metadata": {},
   "outputs": [
    {
     "data": {
      "text/plain": [
       "'just-aloe-414315'"
      ]
     },
     "execution_count": 26,
     "metadata": {},
     "output_type": "execute_result"
    }
   ],
   "source": [
    "project_id"
   ]
  },
  {
   "cell_type": "code",
   "execution_count": 27,
   "id": "2318b5ed-4552-4c74-b0fa-03423b1bf762",
   "metadata": {},
   "outputs": [],
   "source": [
    "aiplatform.init(project=project_id, location=location)"
   ]
  },
  {
   "cell_type": "code",
   "execution_count": 22,
   "id": "b22e9a78-2dd9-49bb-b449-df2667dd58f4",
   "metadata": {},
   "outputs": [
    {
     "name": "stdout",
     "output_type": "stream",
     "text": [
      "Operation \"operations/acat.p2-372043913167-f2257f3f-9567-4abe-8cca-295a9aa0c8d2\" finished successfully.\n"
     ]
    }
   ],
   "source": [
    "! gcloud services enable artifactregistry.googleapis.com"
   ]
  },
  {
   "cell_type": "code",
   "execution_count": 28,
   "id": "05c0d3bc-897e-4c00-8167-00e31090b07e",
   "metadata": {},
   "outputs": [
    {
     "name": "stdout",
     "output_type": "stream",
     "text": [
      "Creating Model\n",
      "Create Model backing LRO: projects/372043913167/locations/us-central1/models/6398275865330843648/operations/385180844723011584\n",
      "Model created. Resource name: projects/372043913167/locations/us-central1/models/6398275865330843648@1\n",
      "To use this Model in another session:\n",
      "model = aiplatform.Model('projects/372043913167/locations/us-central1/models/6398275865330843648@1')\n"
     ]
    }
   ],
   "source": [
    "mnist_model = aiplatform.Model.upload(\n",
    "    display_name=\"fashion_mnist\",\n",
    "    artifact_uri=f\"gs://{bucket_name}/my_mnist_model/0001\",\n",
    "    serving_container_image_uri=server_image,\n",
    ")"
   ]
  },
  {
   "cell_type": "markdown",
   "id": "e0a6e93b-d20d-4cee-8d8e-c267a7103eb7",
   "metadata": {},
   "source": [
    "## Model deployment\n",
    "\n",
    "### Creating serving endpoint"
   ]
  },
  {
   "cell_type": "code",
   "execution_count": 29,
   "id": "b347e161-8d5a-427a-bb45-41cdb8c09e7b",
   "metadata": {},
   "outputs": [
    {
     "name": "stdout",
     "output_type": "stream",
     "text": [
      "Creating Endpoint\n",
      "Create Endpoint backing LRO: projects/372043913167/locations/us-central1/endpoints/138021694634721280/operations/2296958886541787136\n",
      "Endpoint created. Resource name: projects/372043913167/locations/us-central1/endpoints/138021694634721280\n",
      "To use this Endpoint in another session:\n",
      "endpoint = aiplatform.Endpoint('projects/372043913167/locations/us-central1/endpoints/138021694634721280')\n"
     ]
    }
   ],
   "source": [
    "endpoint = aiplatform.Endpoint.create(display_name='fashion_mnist-endpoint')"
   ]
  },
  {
   "cell_type": "markdown",
   "id": "a1922021-62ec-445a-af0f-c941e532a858",
   "metadata": {},
   "source": [
    "### Note: quotas can limit deployment possibilities\n",
    "\n",
    "### Quotas are controlled in IAM and admin -> Quotas"
   ]
  },
  {
   "cell_type": "markdown",
   "id": "0f19dad9-bf56-42f5-823e-cd99875a3299",
   "metadata": {},
   "source": [
    "## Creating VM"
   ]
  },
  {
   "cell_type": "code",
   "execution_count": 31,
   "id": "6cbe01b9-7c3d-4c91-b34d-83eb82cee7cd",
   "metadata": {},
   "outputs": [
    {
     "name": "stdout",
     "output_type": "stream",
     "text": [
      "Deploying Model projects/372043913167/locations/us-central1/models/6398275865330843648 to Endpoint : projects/372043913167/locations/us-central1/endpoints/138021694634721280\n",
      "Deploy Endpoint model backing LRO: projects/372043913167/locations/us-central1/endpoints/138021694634721280/operations/5034021560076206080\n",
      "Endpoint model deployed. Resource name: projects/372043913167/locations/us-central1/endpoints/138021694634721280\n"
     ]
    }
   ],
   "source": [
    "endpoint.deploy(\n",
    "    mnist_model,\n",
    "    min_replica_count=1,\n",
    "    # setting to 1 due to quota\n",
    "    # With more replicas available high QPS would spawn more replicas\n",
    "    max_replica_count=1, \n",
    "    machine_type=\"n1-standard-4\",\n",
    "    accelerator_type=\"NVIDIA_TESLA_K80\",\n",
    "    accelerator_count=1\n",
    ")\n",
    "    "
   ]
  },
  {
   "cell_type": "markdown",
   "id": "8e3e38f6-ac84-4f6a-9852-a2a6705cd4b3",
   "metadata": {},
   "source": [
    "## Inference"
   ]
  },
  {
   "cell_type": "markdown",
   "id": "52e6fe0b-680b-4772-b091-93aec0015e33",
   "metadata": {},
   "source": [
    "### Quick sample data preparation"
   ]
  },
  {
   "cell_type": "code",
   "execution_count": null,
   "id": "4fd72162-f2fc-4326-af76-45050a459cf8",
   "metadata": {},
   "outputs": [],
   "source": []
  },
  {
   "cell_type": "code",
   "execution_count": 34,
   "id": "8ecb21fc-e3ae-4da5-ba6a-e8cdbc251fb0",
   "metadata": {},
   "outputs": [],
   "source": [
    "fashion_mnist=tf.keras.datasets.fashion_mnist.load_data()\n",
    "(X_train_full, y_train_full), (X_test, y_test) = fashion_mnist\n",
    "X_train, y_train = X_train_full[:-5000], y_train_full[:-5000]\n",
    "X_valid, y_valid = X_train_full[-5000:], y_train_full[-5000:]\n",
    "# Data normalization\n",
    "X_train, X_valid, X_test = X_train/255., X_valid/255., X_test/255. \n",
    "X_new = X_test[:3]"
   ]
  },
  {
   "cell_type": "code",
   "execution_count": 35,
   "id": "198b2a94-fedf-4f0e-b285-4800383f9251",
   "metadata": {},
   "outputs": [],
   "source": [
    "response = endpoint.predict(instances=X_new.tolist())"
   ]
  },
  {
   "cell_type": "code",
   "execution_count": 36,
   "id": "ba9a4586-5ab2-4727-9a1e-e330d7e818fa",
   "metadata": {},
   "outputs": [
    {
     "data": {
      "text/plain": [
       "array([[0.  , 0.  , 0.  , 0.  , 0.  , 0.01, 0.  , 0.02, 0.  , 0.98],\n",
       "       [0.  , 0.  , 1.  , 0.  , 0.  , 0.  , 0.  , 0.  , 0.  , 0.  ],\n",
       "       [0.  , 1.  , 0.  , 0.  , 0.  , 0.  , 0.  , 0.  , 0.  , 0.  ]])"
      ]
     },
     "execution_count": 36,
     "metadata": {},
     "output_type": "execute_result"
    }
   ],
   "source": [
    "np.round(response.predictions, 2)"
   ]
  },
  {
   "cell_type": "markdown",
   "id": "c98fed3d-9845-4360-9b4a-576d369c63f1",
   "metadata": {},
   "source": [
    "## Removing enpoints to stop costs"
   ]
  },
  {
   "cell_type": "code",
   "execution_count": 38,
   "id": "ba2eb9e5-b338-4866-8bc0-dc3d84eca20f",
   "metadata": {},
   "outputs": [
    {
     "name": "stdout",
     "output_type": "stream",
     "text": [
      "Undeploying Endpoint model: projects/372043913167/locations/us-central1/endpoints/138021694634721280\n",
      "Undeploy Endpoint model backing LRO: projects/372043913167/locations/us-central1/endpoints/138021694634721280/operations/1046084090039631872\n",
      "Endpoint model undeployed. Resource name: projects/372043913167/locations/us-central1/endpoints/138021694634721280\n",
      "Deleting Endpoint : projects/372043913167/locations/us-central1/endpoints/138021694634721280\n",
      "Delete Endpoint  backing LRO: projects/372043913167/locations/us-central1/operations/255702355436109824\n",
      "Endpoint deleted. . Resource name: projects/372043913167/locations/us-central1/endpoints/138021694634721280\n"
     ]
    }
   ],
   "source": [
    "endpoint.undeploy_all()\n",
    "endpoint.delete()"
   ]
  },
  {
   "cell_type": "markdown",
   "id": "c70a8e09-35d4-4778-bd00-68c927e204d6",
   "metadata": {},
   "source": [
    "## Batch prediction\n",
    "\n",
    "### Batch prediction is done with a job and does not need an endpoint. Data is stored in GCS and used remotely."
   ]
  },
  {
   "cell_type": "code",
   "execution_count": 39,
   "id": "0c137875-cbff-48dc-a523-649683d07c5e",
   "metadata": {},
   "outputs": [],
   "source": [
    "batch_path = Path(\"my_mnist_batch\")\n",
    "batch_path.mkdir(exist_ok=True)"
   ]
  },
  {
   "cell_type": "code",
   "execution_count": 42,
   "id": "97001987-5c8d-4ec2-8124-ee12ad44ae9a",
   "metadata": {},
   "outputs": [],
   "source": [
    "with open(batch_path / \"my_mnist_batch.jsonl\", \"w\") as jsonl_file:\n",
    "    for image in X_test[:100].tolist():\n",
    "        jsonl_file.write(json.dumps(image))\n",
    "        jsonl_file.write(\"\\n\")"
   ]
  },
  {
   "cell_type": "code",
   "execution_count": 44,
   "id": "27bbb8c9-d727-4c3d-9ad8-b1885653efa4",
   "metadata": {},
   "outputs": [],
   "source": [
    "upload_directory(bucket, batch_path)"
   ]
  },
  {
   "cell_type": "markdown",
   "id": "0bdb572e-6368-4bfb-b94e-db30f19ff0b2",
   "metadata": {},
   "source": [
    "## Predicitons are stored in a specified bucket in GCS"
   ]
  },
  {
   "cell_type": "markdown",
   "id": "1cccc898-2aec-4f8d-b127-b3dd459e8fa8",
   "metadata": {},
   "source": [
    "### For large data instances *instances_format* can specify data types e.g. to tf-record, CSV or *files-list*\n",
    "### In the latter case gcs_source must point to a text file with one filepath per line\n",
    "### In such cases the model must have a preprocessing layer tf.io.decode.base64() bacuse Vertex AI will read files contents and encode it in Base64. \n",
    "### Images require additional parsing like tf.io.decode_image() or tf.io.decode_png()\n"
   ]
  },
  {
   "cell_type": "code",
   "execution_count": 45,
   "id": "de14d622-2345-4053-8e4a-6dafd10a193c",
   "metadata": {},
   "outputs": [
    {
     "name": "stdout",
     "output_type": "stream",
     "text": [
      "Creating BatchPredictionJob\n",
      "BatchPredictionJob created. Resource name: projects/372043913167/locations/us-central1/batchPredictionJobs/7541529845230993408\n",
      "To use this BatchPredictionJob in another session:\n",
      "bpj = aiplatform.BatchPredictionJob('projects/372043913167/locations/us-central1/batchPredictionJobs/7541529845230993408')\n",
      "View Batch Prediction Job:\n",
      "https://console.cloud.google.com/ai/platform/locations/us-central1/batch-predictions/7541529845230993408?project=372043913167\n",
      "BatchPredictionJob projects/372043913167/locations/us-central1/batchPredictionJobs/7541529845230993408 current state:\n",
      "JobState.JOB_STATE_PENDING\n",
      "BatchPredictionJob projects/372043913167/locations/us-central1/batchPredictionJobs/7541529845230993408 current state:\n",
      "JobState.JOB_STATE_PENDING\n",
      "BatchPredictionJob projects/372043913167/locations/us-central1/batchPredictionJobs/7541529845230993408 current state:\n",
      "JobState.JOB_STATE_PENDING\n",
      "BatchPredictionJob projects/372043913167/locations/us-central1/batchPredictionJobs/7541529845230993408 current state:\n",
      "JobState.JOB_STATE_PENDING\n",
      "BatchPredictionJob projects/372043913167/locations/us-central1/batchPredictionJobs/7541529845230993408 current state:\n",
      "JobState.JOB_STATE_RUNNING\n",
      "BatchPredictionJob projects/372043913167/locations/us-central1/batchPredictionJobs/7541529845230993408 current state:\n",
      "JobState.JOB_STATE_RUNNING\n",
      "BatchPredictionJob projects/372043913167/locations/us-central1/batchPredictionJobs/7541529845230993408 current state:\n",
      "JobState.JOB_STATE_RUNNING\n",
      "BatchPredictionJob projects/372043913167/locations/us-central1/batchPredictionJobs/7541529845230993408 current state:\n",
      "JobState.JOB_STATE_RUNNING\n",
      "BatchPredictionJob projects/372043913167/locations/us-central1/batchPredictionJobs/7541529845230993408 current state:\n",
      "JobState.JOB_STATE_RUNNING\n",
      "BatchPredictionJob projects/372043913167/locations/us-central1/batchPredictionJobs/7541529845230993408 current state:\n",
      "JobState.JOB_STATE_SUCCEEDED\n",
      "BatchPredictionJob run completed. Resource name: projects/372043913167/locations/us-central1/batchPredictionJobs/7541529845230993408\n"
     ]
    }
   ],
   "source": [
    "batch_prediction_job = mnist_model.batch_predict(\n",
    "    job_display_name=\"my_batch_prediction_job\",\n",
    "    machine_type=\"n1-standard-4\",\n",
    "    starting_replica_count=1,\n",
    "    max_replica_count=1,\n",
    "    accelerator_type=\"NVIDIA_TESLA_K80\",\n",
    "    accelerator_count=1,\n",
    "    gcs_source=[f\"gs://{bucket_name}/{batch_path.name}/my_mnist_batch.jsonl\"],\n",
    "    # Predictions storage point\n",
    "    gcs_destination_prefix=f\"gs://{bucket_name}/my_mnist_predictions/\",\n",
    "    sync=True # set to False if you don't want to wait for completion\n",
    ")"
   ]
  },
  {
   "cell_type": "markdown",
   "id": "a5b72e67-da2d-46f6-9fae-50bf83183292",
   "metadata": {},
   "source": [
    "## Fetching predictions"
   ]
  },
  {
   "cell_type": "code",
   "execution_count": 46,
   "id": "96680e48-2a29-488e-9d17-0606fccebf77",
   "metadata": {},
   "outputs": [],
   "source": [
    "y_probas = []\n",
    "\n",
    "for blob in batch_prediction_job.iter_outputs():\n",
    "    if \"prediction.results\" in blob.name:\n",
    "        for line in blob.download_as_text().splitlines():\n",
    "            y_proba = json.loads(line)[\"prediction\"]\n",
    "            y_probas.append(y_proba)"
   ]
  },
  {
   "cell_type": "code",
   "execution_count": 47,
   "id": "8d9005fc-5e2f-403f-add9-fb43dc552976",
   "metadata": {},
   "outputs": [],
   "source": [
    " y_pred = np.argmax(y_probas, axis=1)"
   ]
  },
  {
   "cell_type": "code",
   "execution_count": 48,
   "id": "a2d19147-75f6-474c-a06d-824b7177fb2a",
   "metadata": {},
   "outputs": [],
   "source": [
    "accuracy = np.sum(y_pred == y_test[:100]) / 100"
   ]
  },
  {
   "cell_type": "code",
   "execution_count": 49,
   "id": "74c82ec0-71d9-43f6-9f4b-9b21aebf8ed3",
   "metadata": {},
   "outputs": [
    {
     "data": {
      "text/plain": [
       "0.86"
      ]
     },
     "execution_count": 49,
     "metadata": {},
     "output_type": "execute_result"
    }
   ],
   "source": [
    "accuracy"
   ]
  },
  {
   "cell_type": "markdown",
   "id": "9af9f8ca-5dd6-4027-a7cc-85c3653c0c62",
   "metadata": {},
   "source": [
    "## Emptying GCS bucket"
   ]
  },
  {
   "cell_type": "code",
   "execution_count": 50,
   "id": "c5129740-c88f-42d7-ad3b-eaa06b611038",
   "metadata": {},
   "outputs": [],
   "source": [
    "for prefix in [\"my_mnist_model/\", \"my_mnist_batch/\", \"my_mnist_predictions/\"]:\n",
    "    blobs = bucket.list_blobs(prefix=prefix)\n",
    "    for blob in blobs:\n",
    "        blob.delete()"
   ]
  },
  {
   "cell_type": "markdown",
   "id": "b17c4189-f55a-4caa-9a19-b990c0182581",
   "metadata": {},
   "source": [
    "## Deleting bucket and job"
   ]
  },
  {
   "cell_type": "code",
   "execution_count": 51,
   "id": "45666a5f-e7a5-4c90-ab4d-b09b555165f8",
   "metadata": {},
   "outputs": [
    {
     "name": "stdout",
     "output_type": "stream",
     "text": [
      "Deleting BatchPredictionJob : projects/372043913167/locations/us-central1/batchPredictionJobs/7541529845230993408\n",
      "Delete BatchPredictionJob  backing LRO: projects/372043913167/locations/us-central1/operations/3988623496572829696\n",
      "BatchPredictionJob deleted. . Resource name: projects/372043913167/locations/us-central1/batchPredictionJobs/7541529845230993408\n"
     ]
    }
   ],
   "source": [
    "bucket.delete() # if the bucket is empty\n",
    "batch_prediction_job.delete()"
   ]
  },
  {
   "cell_type": "code",
   "execution_count": null,
   "id": "e82992c7-4da0-4d84-a98e-4a781e8613a5",
   "metadata": {},
   "outputs": [],
   "source": []
  }
 ],
 "metadata": {
  "kernelspec": {
   "display_name": "tf39",
   "language": "python",
   "name": "tf39"
  },
  "language_info": {
   "codemirror_mode": {
    "name": "ipython",
    "version": 3
   },
   "file_extension": ".py",
   "mimetype": "text/x-python",
   "name": "python",
   "nbconvert_exporter": "python",
   "pygments_lexer": "ipython3",
   "version": "3.9.18"
  }
 },
 "nbformat": 4,
 "nbformat_minor": 5
}
