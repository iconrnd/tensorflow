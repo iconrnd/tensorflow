{
 "cells": [
  {
   "cell_type": "markdown",
   "id": "e1761a19-2db7-4f4a-86c5-b1bf8b91b2ca",
   "metadata": {},
   "source": [
    "## Large Vertex AI jobs and HPT"
   ]
  },
  {
   "cell_type": "code",
   "execution_count": null,
   "id": "3b417e3c-b7e4-4365-89de-b75726ef9f36",
   "metadata": {},
   "outputs": [],
   "source": [
    "import os\n",
    "from pathlib import  Path\n",
    "import numpy as np\n",
    "import json\n",
    "import tensorflow as tf\n",
    "from google.cloud import aiplatform"
   ]
  },
  {
   "cell_type": "code",
   "execution_count": 2,
   "id": "592d9ae1-37d4-4b54-b4ec-be6e34f2728d",
   "metadata": {},
   "outputs": [],
   "source": [
    "os.environ['GOOGLE_APPLICATION_CREDENTIALS']='./tf101.json'"
   ]
  },
  {
   "cell_type": "code",
   "execution_count": 3,
   "id": "fade8771-422b-41ba-94bd-8cc80895e037",
   "metadata": {},
   "outputs": [],
   "source": [
    "from google.cloud import storage"
   ]
  },
  {
   "cell_type": "code",
   "execution_count": 4,
   "id": "11f75399-ee43-4d71-b6f9-741c3d386242",
   "metadata": {},
   "outputs": [],
   "source": [
    "def upload_directory(bucket, dirpath):\n",
    "    dirpath = Path(dirpath)\n",
    "    for filepath in dirpath.glob(\"**/*\"):\n",
    "        if filepath.is_file():\n",
    "            blob = bucket.blob(filepath.relative_to(dirpath.parent).as_posix())\n",
    "            blob.upload_from_filename(filepath)"
   ]
  },
  {
   "cell_type": "code",
   "execution_count": 5,
   "id": "59073897-0f91-4011-84fc-ad7a8b18c3f2",
   "metadata": {},
   "outputs": [],
   "source": [
    "project_id = 'just-aloe-414315'\n",
    "bucket_name = 'tf101_bucket'\n",
    "location = 'us-central1'"
   ]
  },
  {
   "cell_type": "code",
   "execution_count": 6,
   "id": "a4b6f458-e33d-4261-9237-9c41b745ed26",
   "metadata": {},
   "outputs": [],
   "source": [
    "storage_client = storage.Client(project=project_id)"
   ]
  },
  {
   "cell_type": "code",
   "execution_count": 7,
   "id": "cedf2c8d-6af7-4819-a616-2f1c79665732",
   "metadata": {},
   "outputs": [],
   "source": [
    "# Bucket creation, done only once\n",
    "bucket = storage_client.create_bucket(bucket_name, location=location)"
   ]
  },
  {
   "cell_type": "code",
   "execution_count": 8,
   "id": "c59c6a67-4d19-4163-9d6a-aa89c46555b4",
   "metadata": {},
   "outputs": [
    {
     "data": {
      "text/plain": [
       "<Bucket: tf101_bucket>"
      ]
     },
     "execution_count": 8,
     "metadata": {},
     "output_type": "execute_result"
    }
   ],
   "source": [
    "bucket"
   ]
  },
  {
   "cell_type": "code",
   "execution_count": null,
   "id": "ea4c66c1-4d91-4f48-850a-a738dc5557b5",
   "metadata": {},
   "outputs": [],
   "source": [
    "bucket = storage_client.get_bucket(bucket_name)"
   ]
  },
  {
   "cell_type": "code",
   "execution_count": 9,
   "id": "d76bfe09-eb3a-4917-9b41-091d5fd749c5",
   "metadata": {},
   "outputs": [],
   "source": [
    "aiplatform.init(project=project_id, location=location)"
   ]
  },
  {
   "cell_type": "code",
   "execution_count": 10,
   "id": "966fdb46-7c82-4e34-b2b9-329643236b4d",
   "metadata": {},
   "outputs": [],
   "source": [
    "server_image = \"gcr.io/cloud-aiplatform/prediction/tf2-gpu.2-8:latest\""
   ]
  },
  {
   "cell_type": "code",
   "execution_count": 11,
   "id": "e9c4595e-ae3b-4e37-8e8e-66a6f3e2eaa3",
   "metadata": {},
   "outputs": [],
   "source": [
    "#X_new = X_test[:3]"
   ]
  },
  {
   "cell_type": "markdown",
   "id": "b6eef31e-2d1b-42a5-aba8-4a2cc32edade",
   "metadata": {},
   "source": [
    "## Large Vertex AI jobs use similar MultiWorkerMirroredStrategy config with a few adjustments"
   ]
  },
  {
   "cell_type": "markdown",
   "id": "dd05e4b4-d0eb-43fd-b998-688203472c91",
   "metadata": {},
   "source": [
    "## The Vertex AI training script\n",
    "* To be saved in *my_vertex_ai_training_task.py*"
   ]
  },
  {
   "cell_type": "code",
   "execution_count": null,
   "id": "bb21df5c-baa2-4abc-8857-e5f04eb9bed4",
   "metadata": {},
   "outputs": [],
   "source": [
    "import os\n",
    "from pathlib import  Path\n",
    "import tempfile\n",
    "import tensorflow as tf\n",
    "\n",
    "strategy = tf.distribute.MultiWorkerMirroredStrategy()\n",
    "resolver = tf.distribute.cluster_resolver.TFConfigClusterResolver()\n",
    "\n",
    "print(f\"Starting task {resolver.task_type} #{resolver.task_id}\")\n",
    "\n",
    "if resolver.task_type == 'chief':\n",
    "    model_dir = os.getenv(\"AIP_MODEL_DIR\") # Provided by Vertex AI\n",
    "    tensorboard_log_dir = os.getenv(\"AIP_TENSORBOARD_LOG_DIR\")\n",
    "    checkpoint_dir = os.getenv(\"AIP_CHECKPOINT_DIR\")\n",
    "else:\n",
    "    tmp_dir = Path(tempfile.mkdtemp()) # tmpdirs for non-chief workers\n",
    "    model_dir = tmp_dir / \"model\"\n",
    "    tensorboard_log_dir = tmp_dir / \"logs\"\n",
    "    checkpoint_dir = tmp_dir / \"ckpt\"\n",
    "\n",
    "callbacks = [tf.keras.callbacks.TensorBoard(tensorboard_log_dir),\n",
    "            tf.keras.callbacks.ModelCheckpoint(checkpoint_dir)]\n",
    "\n",
    "with strategy.scope():\n",
    "\n",
    "    model = tf.keras.Sequential()\n",
    "    model.add(tf.keras.layers.Input(shape=[28, 28]))\n",
    "    model.add(tf.keras.layers.Flatten())\n",
    "    model.add(tf.keras.layers.Dense(300, activation='relu'))\n",
    "    model.add(tf.keras.layers.Dense(100, activation='relu'))\n",
    "    model.add(tf.keras.layers.Dense(10, activation='softmax'))\n",
    "\n",
    "    model.compile(loss=tf.keras.losses.sparse_categorical_crossentropy,\n",
    "             optimizer=tf.keras.optimizers.SGD(),\n",
    "             metrics=[tf.keras.metrics.sparse_categorical_accuracy])\n",
    "\n",
    "fashion_mnist=tf.keras.datasets.fashion_mnist.load_data()\n",
    "\n",
    "(X_train_full, y_train_full), (X_test, y_test) = fashion_mnist\n",
    "\n",
    "X_train, y_train = X_train_full[:-5000], y_train_full[:-5000]\n",
    "X_valid, y_valid = X_train_full[-5000:], y_train_full[-5000:]\n",
    "\n",
    "# Data normalization\n",
    "X_train, X_valid, X_test = X_train/255., X_valid/255., X_test/255. \n",
    "\n",
    "model.fit(X_train, y_train, validation_data=(X_valid, y_valid), epochs=10,\n",
    "          callbacks=callbacks)\n",
    "\n",
    "model.save(model_dir, save_format=\"tf\")"
   ]
  },
  {
   "cell_type": "markdown",
   "id": "db2ea915-ae89-4700-a0df-c71e7a92c84e",
   "metadata": {},
   "source": [
    "## Can store data in GCS and directly create tf.data.TextLineDataset and tf.data.TFRecordDataset from it\n",
    "## Need to pass GCS paths as filenames, e.g., gs://my_bucket/data/001.csv"
   ]
  },
  {
   "cell_type": "markdown",
   "id": "3ed45f2b-1fa9-4034-ba4a-5c38ebf61415",
   "metadata": {},
   "source": [
    "## The Vertex AI custom training job"
   ]
  },
  {
   "cell_type": "code",
   "execution_count": 34,
   "id": "1b00f417-9cc8-4c71-9870-8caa2bb13dad",
   "metadata": {},
   "outputs": [],
   "source": [
    "custom_training_job = aiplatform.CustomTrainingJob(\n",
    "    display_name=\"my_custom_training_job\",\n",
    "    script_path=\"my_vertex_ai_training_task.py\",\n",
    "    # Training image containter - for GPU training\n",
    "    #container_uri='gcr.io/cloud-aiplatform/training/tf-gpu.2-4:latest',\n",
    "    # No quota for GPU, changing to CPU\n",
    "    container_uri='gcr.io/cloud-aiplatform/training/tf-cpu.2-4:latest',\n",
    "    # Inference image container\n",
    "    model_serving_container_image_uri=server_image,\n",
    "    # Library dependences example\n",
    "    requirements=[\"gcsfs==2022.3.0\"],\n",
    "    # Training script storage and model saving bucket\n",
    "    staging_bucket=f'gs://{bucket_name}/staging'\n",
    ")"
   ]
  },
  {
   "cell_type": "code",
   "execution_count": 35,
   "id": "5d6abc83-42c9-433c-af48-7fc6baccb36a",
   "metadata": {},
   "outputs": [
    {
     "name": "stdout",
     "output_type": "stream",
     "text": [
      "Training script copied to:\n",
      "gs://tf101_bucket/staging/aiplatform-2024-02-17-18:18:50.954-aiplatform_custom_trainer_script-0.1.tar.gz.\n",
      "Training Output directory:\n",
      "gs://tf101_bucket/staging/aiplatform-custom-training-2024-02-17-18:18:51.684 \n",
      "View Training:\n",
      "https://console.cloud.google.com/ai/platform/locations/us-central1/training/4683688018408636416?project=372043913167\n",
      "View backing custom job:\n",
      "https://console.cloud.google.com/ai/platform/locations/us-central1/training/6114495693773078528?project=372043913167\n",
      "CustomTrainingJob projects/372043913167/locations/us-central1/trainingPipelines/4683688018408636416 current state:\n",
      "PipelineState.PIPELINE_STATE_RUNNING\n",
      "CustomTrainingJob projects/372043913167/locations/us-central1/trainingPipelines/4683688018408636416 current state:\n",
      "PipelineState.PIPELINE_STATE_RUNNING\n",
      "CustomTrainingJob projects/372043913167/locations/us-central1/trainingPipelines/4683688018408636416 current state:\n",
      "PipelineState.PIPELINE_STATE_RUNNING\n",
      "CustomTrainingJob projects/372043913167/locations/us-central1/trainingPipelines/4683688018408636416 current state:\n",
      "PipelineState.PIPELINE_STATE_RUNNING\n",
      "CustomTrainingJob projects/372043913167/locations/us-central1/trainingPipelines/4683688018408636416 current state:\n",
      "PipelineState.PIPELINE_STATE_RUNNING\n",
      "CustomTrainingJob projects/372043913167/locations/us-central1/trainingPipelines/4683688018408636416 current state:\n",
      "PipelineState.PIPELINE_STATE_RUNNING\n",
      "CustomTrainingJob projects/372043913167/locations/us-central1/trainingPipelines/4683688018408636416 current state:\n",
      "PipelineState.PIPELINE_STATE_RUNNING\n",
      "CustomTrainingJob projects/372043913167/locations/us-central1/trainingPipelines/4683688018408636416 current state:\n",
      "PipelineState.PIPELINE_STATE_RUNNING\n",
      "CustomTrainingJob run completed. Resource name: projects/372043913167/locations/us-central1/trainingPipelines/4683688018408636416\n",
      "Model available at projects/372043913167/locations/us-central1/models/7742459616612581376\n"
     ]
    }
   ],
   "source": [
    "mnist_model2 = custom_training_job.run(\n",
    "    machine_type=\"n1-standard-4\",\n",
    "    replica_count=4,\n",
    "    # No GPU quota available, changing to CPU\n",
    "    #accelerator_type=\"NVIDIA_TESLA_K80\",\n",
    "    #accelerator_count=0,\n",
    ")"
   ]
  },
  {
   "cell_type": "markdown",
   "id": "427da3ff-96b8-4e74-8c16-0137689decfd",
   "metadata": {},
   "source": [
    "## Logs are in GCP Console in Vertex AI Trainings"
   ]
  },
  {
   "cell_type": "code",
   "execution_count": null,
   "id": "31f5879d-a279-4080-9541-e348ea9ec27f",
   "metadata": {},
   "outputs": [],
   "source": [
    "%%tensorboard --logdir gs://projects/just-aloe-414315/logs/ml.googleapis.com%2F5106815277148930048"
   ]
  },
  {
   "cell_type": "markdown",
   "id": "a804bc84-b5e3-473b-b7a3-e7cf6cdf84a0",
   "metadata": {},
   "source": [
    "## Successful run will return a model, which can be deployed with an endpoint and used for inference"
   ]
  },
  {
   "cell_type": "markdown",
   "id": "cecbc232-939a-4361-9609-04e62706fcd7",
   "metadata": {},
   "source": [
    "## HPT on Vertex AI, based on Bayesian modeling"
   ]
  },
  {
   "cell_type": "markdown",
   "id": "30e3e5cd-9b0b-4259-b28e-7ffef69ceed8",
   "metadata": {},
   "source": [
    "## HPT script must accept parameters, which will set values in model setup\n",
    "* To be saved in *my_vertex_ai_trial.py*\n",
    "* Reporting model performance to Vertex AI for parameter selection"
   ]
  },
  {
   "cell_type": "code",
   "execution_count": null,
   "id": "253f55cd-34f8-41d8-aea2-56a6be618701",
   "metadata": {},
   "outputs": [],
   "source": [
    "import os\n",
    "from pathlib import  Path\n",
    "import tempfile\n",
    "import argparse\n",
    "import hypertune\n",
    "\n",
    "parser = argparse.ArgumentParser()\n",
    "parser.add_argument(\"--n_hidden\", type=int, default=2)\n",
    "parser.add_argument(\"--n_neurons\", type=int, default=256)\n",
    "parser.add_argument(\"--learning_rate\", type=float, default=1e-2)\n",
    "parser.add_argument(\"--optimizer\", default=\"adam\")\n",
    "\n",
    "args = parser.parse_args()\n",
    "\n",
    "import tensorflow as tf\n",
    "\n",
    "def build_model(args):\n",
    "\n",
    "    with tf.distribute.MirroredStrategy().scope():\n",
    "    \n",
    "        model = tf.keras.Sequential()\n",
    "        model.add(tf.keras.layers.Flatten(input_shape=[28, 28], dtype=tf.uint8))\n",
    "        for _ in range(args.n_hidden):\n",
    "            model.add(tf.keras.layers.Dense(args.n_neurons, activation='relu'))\n",
    "        model.add(tf.keras.layers.Dense(10, activation='softmax'))\n",
    "\n",
    "        opt = tf.keras.optimizers.get(args.optimizer)\n",
    "        opt.learning_rate = args.learning_rate\n",
    "    \n",
    "        model.compile(loss=tf.keras.losses.sparse_categorical_crossentropy,\n",
    "             optimizer=opt,\n",
    "             #metrics=[tf.keras.metrics.sparse_categorical_accuracy])\n",
    "             metrics=[\"accuracy\"])\n",
    "\n",
    "        return model\n",
    "    \n",
    "fashion_mnist=tf.keras.datasets.fashion_mnist.load_data()\n",
    "\n",
    "(X_train_full, y_train_full), (X_test, y_test) = fashion_mnist\n",
    "\n",
    "X_train, y_train = X_train_full[:-5000], y_train_full[:-5000]\n",
    "X_valid, y_valid = X_train_full[-5000:], y_train_full[-5000:]\n",
    "\n",
    "# Data normalization\n",
    "X_train, X_valid, X_test = X_train/255., X_valid/255., X_test/255. \n",
    "\n",
    "model = build_model(args)\n",
    "\n",
    "history = model.fit(X_train, y_train, validation_data=(X_valid, y_valid), epochs=10)\n",
    "\n",
    "model_dir = os.getenv(\"AIP_MODEL_DIR\")\n",
    "\n",
    "model.save(model_dir, save_format=\"tf\")\n",
    "\n",
    "hypertune = hypertune.HyperTune()\n",
    "hypertune.report_hyperparameter_tuning_metric(\n",
    "    hyperparameter_metric_tag=\"accuracy\",\n",
    "    metric_value=max(history.history[\"val_accuracy\"]),\n",
    "    global_step=model.optimizer.iterations.numpy(),\n",
    ")"
   ]
  },
  {
   "cell_type": "markdown",
   "id": "b9e87fe2-1385-4371-b248-c3f414190fea",
   "metadata": {},
   "source": [
    "## HPT job "
   ]
  },
  {
   "cell_type": "code",
   "execution_count": 51,
   "id": "290e5fbb-7d89-4f36-abb7-ae8b4d506618",
   "metadata": {},
   "outputs": [
    {
     "name": "stdout",
     "output_type": "stream",
     "text": [
      "Training script copied to:\n",
      "gs://tf101_bucket/staging/aiplatform-2024-02-17-19:25:20.727-aiplatform_custom_trainer_script-0.1.tar.gz.\n"
     ]
    }
   ],
   "source": [
    "trial_job = aiplatform.CustomJob.from_local_script(\n",
    "    display_name=\"my_search_trial_job\",\n",
    "    script_path='my_vertex_ai_trial.py',\n",
    "    #container_uri=\"gcr.io/cloud-aiplatform/training/tf-gpu.2-4:latest\",\n",
    "    # Using CPU due to quota\n",
    "    container_uri=\"gcr.io/cloud-aiplatform/training/tf-cpu.2-4:latest\",\n",
    "    staging_bucket=f\"gs://{bucket_name}/staging\",\n",
    "    #accelerator_type=\"NVIDIA_TESLA_K80\",\n",
    "    #accelerator_count=0, # If nonzero 'n' each trial would have n GPUs\n",
    ")\n",
    "    "
   ]
  },
  {
   "cell_type": "code",
   "execution_count": 52,
   "id": "44f2ec87-1610-4e1e-938e-e17bbdd1f234",
   "metadata": {},
   "outputs": [],
   "source": [
    "from google.cloud.aiplatform import hyperparameter_tuning as hpt\n",
    "\n",
    "hp_job = aiplatform.HyperparameterTuningJob(\n",
    "    display_name=\"my_hp_search_job\",\n",
    "    custom_job=trial_job,\n",
    "    metric_spec={\"accuracy\": \"maximize\"},\n",
    "    parameter_spec={\n",
    "        \"learning_rate\": hpt.DoubleParameterSpec(min=1e-3, max=10, scale='log'),\n",
    "        \"n_neurons\": hpt.IntegerParameterSpec(min=1, max=300, scale=\"linear\"),\n",
    "        \"n_hidden\": hpt.IntegerParameterSpec(min=1, max=10, scale=\"linear\"),\n",
    "        \"optimizer\": hpt.CategoricalParameterSpec([\"sgd\", \"adam\"]),\n",
    "    },\n",
    "    max_trial_count=2, # Limiting for fast task completion\n",
    "    parallel_trial_count=2, # Limiting to 2 due to quota\n",
    ")"
   ]
  },
  {
   "cell_type": "code",
   "execution_count": 53,
   "id": "8fa31f7f-3128-4f2f-84bb-e195c71ed04d",
   "metadata": {},
   "outputs": [
    {
     "name": "stdout",
     "output_type": "stream",
     "text": [
      "Creating HyperparameterTuningJob\n",
      "HyperparameterTuningJob created. Resource name: projects/372043913167/locations/us-central1/hyperparameterTuningJobs/7531757385883320320\n",
      "To use this HyperparameterTuningJob in another session:\n",
      "hpt_job = aiplatform.HyperparameterTuningJob.get('projects/372043913167/locations/us-central1/hyperparameterTuningJobs/7531757385883320320')\n",
      "View HyperparameterTuningJob:\n",
      "https://console.cloud.google.com/ai/platform/locations/us-central1/training/7531757385883320320?project=372043913167\n",
      "HyperparameterTuningJob projects/372043913167/locations/us-central1/hyperparameterTuningJobs/7531757385883320320 current state:\n",
      "JobState.JOB_STATE_PENDING\n",
      "HyperparameterTuningJob projects/372043913167/locations/us-central1/hyperparameterTuningJobs/7531757385883320320 current state:\n",
      "JobState.JOB_STATE_RUNNING\n",
      "HyperparameterTuningJob projects/372043913167/locations/us-central1/hyperparameterTuningJobs/7531757385883320320 current state:\n",
      "JobState.JOB_STATE_RUNNING\n",
      "HyperparameterTuningJob projects/372043913167/locations/us-central1/hyperparameterTuningJobs/7531757385883320320 current state:\n",
      "JobState.JOB_STATE_RUNNING\n",
      "HyperparameterTuningJob projects/372043913167/locations/us-central1/hyperparameterTuningJobs/7531757385883320320 current state:\n",
      "JobState.JOB_STATE_RUNNING\n",
      "HyperparameterTuningJob projects/372043913167/locations/us-central1/hyperparameterTuningJobs/7531757385883320320 current state:\n",
      "JobState.JOB_STATE_RUNNING\n",
      "HyperparameterTuningJob projects/372043913167/locations/us-central1/hyperparameterTuningJobs/7531757385883320320 current state:\n",
      "JobState.JOB_STATE_RUNNING\n",
      "HyperparameterTuningJob projects/372043913167/locations/us-central1/hyperparameterTuningJobs/7531757385883320320 current state:\n",
      "JobState.JOB_STATE_RUNNING\n",
      "HyperparameterTuningJob projects/372043913167/locations/us-central1/hyperparameterTuningJobs/7531757385883320320 current state:\n",
      "JobState.JOB_STATE_RUNNING\n",
      "HyperparameterTuningJob projects/372043913167/locations/us-central1/hyperparameterTuningJobs/7531757385883320320 current state:\n",
      "JobState.JOB_STATE_RUNNING\n",
      "HyperparameterTuningJob projects/372043913167/locations/us-central1/hyperparameterTuningJobs/7531757385883320320 current state:\n",
      "JobState.JOB_STATE_RUNNING\n",
      "HyperparameterTuningJob projects/372043913167/locations/us-central1/hyperparameterTuningJobs/7531757385883320320 current state:\n",
      "JobState.JOB_STATE_RUNNING\n",
      "HyperparameterTuningJob projects/372043913167/locations/us-central1/hyperparameterTuningJobs/7531757385883320320 current state:\n",
      "JobState.JOB_STATE_RUNNING\n",
      "HyperparameterTuningJob projects/372043913167/locations/us-central1/hyperparameterTuningJobs/7531757385883320320 current state:\n",
      "JobState.JOB_STATE_RUNNING\n",
      "HyperparameterTuningJob projects/372043913167/locations/us-central1/hyperparameterTuningJobs/7531757385883320320 current state:\n",
      "JobState.JOB_STATE_RUNNING\n",
      "HyperparameterTuningJob projects/372043913167/locations/us-central1/hyperparameterTuningJobs/7531757385883320320 current state:\n",
      "JobState.JOB_STATE_RUNNING\n",
      "HyperparameterTuningJob projects/372043913167/locations/us-central1/hyperparameterTuningJobs/7531757385883320320 current state:\n",
      "JobState.JOB_STATE_RUNNING\n",
      "HyperparameterTuningJob projects/372043913167/locations/us-central1/hyperparameterTuningJobs/7531757385883320320 current state:\n",
      "JobState.JOB_STATE_RUNNING\n",
      "HyperparameterTuningJob projects/372043913167/locations/us-central1/hyperparameterTuningJobs/7531757385883320320 current state:\n",
      "JobState.JOB_STATE_RUNNING\n",
      "HyperparameterTuningJob projects/372043913167/locations/us-central1/hyperparameterTuningJobs/7531757385883320320 current state:\n",
      "JobState.JOB_STATE_RUNNING\n",
      "HyperparameterTuningJob projects/372043913167/locations/us-central1/hyperparameterTuningJobs/7531757385883320320 current state:\n",
      "JobState.JOB_STATE_RUNNING\n",
      "HyperparameterTuningJob projects/372043913167/locations/us-central1/hyperparameterTuningJobs/7531757385883320320 current state:\n",
      "JobState.JOB_STATE_RUNNING\n",
      "HyperparameterTuningJob projects/372043913167/locations/us-central1/hyperparameterTuningJobs/7531757385883320320 current state:\n",
      "JobState.JOB_STATE_RUNNING\n",
      "HyperparameterTuningJob projects/372043913167/locations/us-central1/hyperparameterTuningJobs/7531757385883320320 current state:\n",
      "JobState.JOB_STATE_RUNNING\n",
      "HyperparameterTuningJob projects/372043913167/locations/us-central1/hyperparameterTuningJobs/7531757385883320320 current state:\n",
      "JobState.JOB_STATE_RUNNING\n",
      "HyperparameterTuningJob projects/372043913167/locations/us-central1/hyperparameterTuningJobs/7531757385883320320 current state:\n",
      "JobState.JOB_STATE_RUNNING\n",
      "HyperparameterTuningJob projects/372043913167/locations/us-central1/hyperparameterTuningJobs/7531757385883320320 current state:\n",
      "JobState.JOB_STATE_RUNNING\n",
      "HyperparameterTuningJob projects/372043913167/locations/us-central1/hyperparameterTuningJobs/7531757385883320320 current state:\n",
      "JobState.JOB_STATE_RUNNING\n",
      "HyperparameterTuningJob projects/372043913167/locations/us-central1/hyperparameterTuningJobs/7531757385883320320 current state:\n",
      "JobState.JOB_STATE_RUNNING\n",
      "HyperparameterTuningJob projects/372043913167/locations/us-central1/hyperparameterTuningJobs/7531757385883320320 current state:\n",
      "JobState.JOB_STATE_RUNNING\n",
      "HyperparameterTuningJob projects/372043913167/locations/us-central1/hyperparameterTuningJobs/7531757385883320320 current state:\n",
      "JobState.JOB_STATE_RUNNING\n",
      "HyperparameterTuningJob projects/372043913167/locations/us-central1/hyperparameterTuningJobs/7531757385883320320 current state:\n",
      "JobState.JOB_STATE_RUNNING\n",
      "HyperparameterTuningJob projects/372043913167/locations/us-central1/hyperparameterTuningJobs/7531757385883320320 current state:\n",
      "JobState.JOB_STATE_RUNNING\n",
      "HyperparameterTuningJob projects/372043913167/locations/us-central1/hyperparameterTuningJobs/7531757385883320320 current state:\n",
      "JobState.JOB_STATE_RUNNING\n",
      "HyperparameterTuningJob projects/372043913167/locations/us-central1/hyperparameterTuningJobs/7531757385883320320 current state:\n",
      "JobState.JOB_STATE_RUNNING\n",
      "HyperparameterTuningJob projects/372043913167/locations/us-central1/hyperparameterTuningJobs/7531757385883320320 current state:\n",
      "JobState.JOB_STATE_RUNNING\n",
      "HyperparameterTuningJob projects/372043913167/locations/us-central1/hyperparameterTuningJobs/7531757385883320320 current state:\n",
      "JobState.JOB_STATE_RUNNING\n",
      "HyperparameterTuningJob projects/372043913167/locations/us-central1/hyperparameterTuningJobs/7531757385883320320 current state:\n",
      "JobState.JOB_STATE_RUNNING\n",
      "HyperparameterTuningJob projects/372043913167/locations/us-central1/hyperparameterTuningJobs/7531757385883320320 current state:\n",
      "JobState.JOB_STATE_RUNNING\n",
      "HyperparameterTuningJob projects/372043913167/locations/us-central1/hyperparameterTuningJobs/7531757385883320320 current state:\n",
      "JobState.JOB_STATE_RUNNING\n",
      "HyperparameterTuningJob projects/372043913167/locations/us-central1/hyperparameterTuningJobs/7531757385883320320 current state:\n",
      "JobState.JOB_STATE_RUNNING\n",
      "HyperparameterTuningJob projects/372043913167/locations/us-central1/hyperparameterTuningJobs/7531757385883320320 current state:\n",
      "JobState.JOB_STATE_RUNNING\n",
      "HyperparameterTuningJob projects/372043913167/locations/us-central1/hyperparameterTuningJobs/7531757385883320320 current state:\n",
      "JobState.JOB_STATE_RUNNING\n",
      "HyperparameterTuningJob projects/372043913167/locations/us-central1/hyperparameterTuningJobs/7531757385883320320 current state:\n",
      "JobState.JOB_STATE_RUNNING\n",
      "HyperparameterTuningJob projects/372043913167/locations/us-central1/hyperparameterTuningJobs/7531757385883320320 current state:\n",
      "JobState.JOB_STATE_RUNNING\n",
      "HyperparameterTuningJob projects/372043913167/locations/us-central1/hyperparameterTuningJobs/7531757385883320320 current state:\n",
      "JobState.JOB_STATE_RUNNING\n",
      "HyperparameterTuningJob projects/372043913167/locations/us-central1/hyperparameterTuningJobs/7531757385883320320 current state:\n",
      "JobState.JOB_STATE_RUNNING\n",
      "HyperparameterTuningJob projects/372043913167/locations/us-central1/hyperparameterTuningJobs/7531757385883320320 current state:\n",
      "JobState.JOB_STATE_RUNNING\n",
      "HyperparameterTuningJob projects/372043913167/locations/us-central1/hyperparameterTuningJobs/7531757385883320320 current state:\n",
      "JobState.JOB_STATE_RUNNING\n",
      "HyperparameterTuningJob projects/372043913167/locations/us-central1/hyperparameterTuningJobs/7531757385883320320 current state:\n",
      "JobState.JOB_STATE_RUNNING\n",
      "HyperparameterTuningJob projects/372043913167/locations/us-central1/hyperparameterTuningJobs/7531757385883320320 current state:\n",
      "JobState.JOB_STATE_RUNNING\n",
      "HyperparameterTuningJob projects/372043913167/locations/us-central1/hyperparameterTuningJobs/7531757385883320320 current state:\n",
      "JobState.JOB_STATE_RUNNING\n",
      "HyperparameterTuningJob projects/372043913167/locations/us-central1/hyperparameterTuningJobs/7531757385883320320 current state:\n",
      "JobState.JOB_STATE_RUNNING\n",
      "HyperparameterTuningJob projects/372043913167/locations/us-central1/hyperparameterTuningJobs/7531757385883320320 current state:\n",
      "JobState.JOB_STATE_RUNNING\n",
      "HyperparameterTuningJob projects/372043913167/locations/us-central1/hyperparameterTuningJobs/7531757385883320320 current state:\n",
      "JobState.JOB_STATE_RUNNING\n",
      "HyperparameterTuningJob projects/372043913167/locations/us-central1/hyperparameterTuningJobs/7531757385883320320 current state:\n",
      "JobState.JOB_STATE_RUNNING\n",
      "HyperparameterTuningJob projects/372043913167/locations/us-central1/hyperparameterTuningJobs/7531757385883320320 current state:\n",
      "JobState.JOB_STATE_RUNNING\n",
      "HyperparameterTuningJob projects/372043913167/locations/us-central1/hyperparameterTuningJobs/7531757385883320320 current state:\n",
      "JobState.JOB_STATE_RUNNING\n",
      "HyperparameterTuningJob projects/372043913167/locations/us-central1/hyperparameterTuningJobs/7531757385883320320 current state:\n",
      "JobState.JOB_STATE_RUNNING\n",
      "HyperparameterTuningJob projects/372043913167/locations/us-central1/hyperparameterTuningJobs/7531757385883320320 current state:\n",
      "JobState.JOB_STATE_RUNNING\n",
      "HyperparameterTuningJob projects/372043913167/locations/us-central1/hyperparameterTuningJobs/7531757385883320320 current state:\n",
      "JobState.JOB_STATE_RUNNING\n",
      "HyperparameterTuningJob projects/372043913167/locations/us-central1/hyperparameterTuningJobs/7531757385883320320 current state:\n",
      "JobState.JOB_STATE_RUNNING\n",
      "HyperparameterTuningJob projects/372043913167/locations/us-central1/hyperparameterTuningJobs/7531757385883320320 current state:\n",
      "JobState.JOB_STATE_RUNNING\n",
      "HyperparameterTuningJob projects/372043913167/locations/us-central1/hyperparameterTuningJobs/7531757385883320320 current state:\n",
      "JobState.JOB_STATE_RUNNING\n",
      "HyperparameterTuningJob projects/372043913167/locations/us-central1/hyperparameterTuningJobs/7531757385883320320 current state:\n",
      "JobState.JOB_STATE_RUNNING\n",
      "HyperparameterTuningJob projects/372043913167/locations/us-central1/hyperparameterTuningJobs/7531757385883320320 current state:\n",
      "JobState.JOB_STATE_RUNNING\n",
      "HyperparameterTuningJob projects/372043913167/locations/us-central1/hyperparameterTuningJobs/7531757385883320320 current state:\n",
      "JobState.JOB_STATE_RUNNING\n",
      "HyperparameterTuningJob projects/372043913167/locations/us-central1/hyperparameterTuningJobs/7531757385883320320 current state:\n",
      "JobState.JOB_STATE_RUNNING\n",
      "HyperparameterTuningJob projects/372043913167/locations/us-central1/hyperparameterTuningJobs/7531757385883320320 current state:\n",
      "JobState.JOB_STATE_RUNNING\n",
      "HyperparameterTuningJob projects/372043913167/locations/us-central1/hyperparameterTuningJobs/7531757385883320320 current state:\n",
      "JobState.JOB_STATE_RUNNING\n",
      "HyperparameterTuningJob projects/372043913167/locations/us-central1/hyperparameterTuningJobs/7531757385883320320 current state:\n",
      "JobState.JOB_STATE_RUNNING\n",
      "HyperparameterTuningJob projects/372043913167/locations/us-central1/hyperparameterTuningJobs/7531757385883320320 current state:\n",
      "JobState.JOB_STATE_RUNNING\n",
      "HyperparameterTuningJob projects/372043913167/locations/us-central1/hyperparameterTuningJobs/7531757385883320320 current state:\n",
      "JobState.JOB_STATE_RUNNING\n",
      "HyperparameterTuningJob projects/372043913167/locations/us-central1/hyperparameterTuningJobs/7531757385883320320 current state:\n",
      "JobState.JOB_STATE_RUNNING\n",
      "HyperparameterTuningJob projects/372043913167/locations/us-central1/hyperparameterTuningJobs/7531757385883320320 current state:\n",
      "JobState.JOB_STATE_RUNNING\n",
      "HyperparameterTuningJob projects/372043913167/locations/us-central1/hyperparameterTuningJobs/7531757385883320320 current state:\n",
      "JobState.JOB_STATE_RUNNING\n",
      "HyperparameterTuningJob projects/372043913167/locations/us-central1/hyperparameterTuningJobs/7531757385883320320 current state:\n",
      "JobState.JOB_STATE_RUNNING\n",
      "HyperparameterTuningJob projects/372043913167/locations/us-central1/hyperparameterTuningJobs/7531757385883320320 current state:\n",
      "JobState.JOB_STATE_RUNNING\n",
      "HyperparameterTuningJob projects/372043913167/locations/us-central1/hyperparameterTuningJobs/7531757385883320320 current state:\n",
      "JobState.JOB_STATE_RUNNING\n",
      "HyperparameterTuningJob projects/372043913167/locations/us-central1/hyperparameterTuningJobs/7531757385883320320 current state:\n",
      "JobState.JOB_STATE_RUNNING\n",
      "HyperparameterTuningJob projects/372043913167/locations/us-central1/hyperparameterTuningJobs/7531757385883320320 current state:\n",
      "JobState.JOB_STATE_RUNNING\n",
      "HyperparameterTuningJob projects/372043913167/locations/us-central1/hyperparameterTuningJobs/7531757385883320320 current state:\n",
      "JobState.JOB_STATE_RUNNING\n",
      "HyperparameterTuningJob projects/372043913167/locations/us-central1/hyperparameterTuningJobs/7531757385883320320 current state:\n",
      "JobState.JOB_STATE_RUNNING\n",
      "HyperparameterTuningJob projects/372043913167/locations/us-central1/hyperparameterTuningJobs/7531757385883320320 current state:\n",
      "JobState.JOB_STATE_RUNNING\n",
      "HyperparameterTuningJob projects/372043913167/locations/us-central1/hyperparameterTuningJobs/7531757385883320320 current state:\n",
      "JobState.JOB_STATE_RUNNING\n",
      "HyperparameterTuningJob projects/372043913167/locations/us-central1/hyperparameterTuningJobs/7531757385883320320 current state:\n",
      "JobState.JOB_STATE_RUNNING\n",
      "HyperparameterTuningJob projects/372043913167/locations/us-central1/hyperparameterTuningJobs/7531757385883320320 current state:\n",
      "JobState.JOB_STATE_RUNNING\n",
      "HyperparameterTuningJob projects/372043913167/locations/us-central1/hyperparameterTuningJobs/7531757385883320320 current state:\n",
      "JobState.JOB_STATE_RUNNING\n",
      "HyperparameterTuningJob projects/372043913167/locations/us-central1/hyperparameterTuningJobs/7531757385883320320 current state:\n",
      "JobState.JOB_STATE_RUNNING\n",
      "HyperparameterTuningJob projects/372043913167/locations/us-central1/hyperparameterTuningJobs/7531757385883320320 current state:\n",
      "JobState.JOB_STATE_RUNNING\n",
      "HyperparameterTuningJob projects/372043913167/locations/us-central1/hyperparameterTuningJobs/7531757385883320320 current state:\n",
      "JobState.JOB_STATE_RUNNING\n",
      "HyperparameterTuningJob projects/372043913167/locations/us-central1/hyperparameterTuningJobs/7531757385883320320 current state:\n",
      "JobState.JOB_STATE_RUNNING\n",
      "HyperparameterTuningJob projects/372043913167/locations/us-central1/hyperparameterTuningJobs/7531757385883320320 current state:\n",
      "JobState.JOB_STATE_RUNNING\n",
      "HyperparameterTuningJob projects/372043913167/locations/us-central1/hyperparameterTuningJobs/7531757385883320320 current state:\n",
      "JobState.JOB_STATE_RUNNING\n",
      "HyperparameterTuningJob projects/372043913167/locations/us-central1/hyperparameterTuningJobs/7531757385883320320 current state:\n",
      "JobState.JOB_STATE_RUNNING\n",
      "HyperparameterTuningJob projects/372043913167/locations/us-central1/hyperparameterTuningJobs/7531757385883320320 current state:\n",
      "JobState.JOB_STATE_RUNNING\n",
      "HyperparameterTuningJob projects/372043913167/locations/us-central1/hyperparameterTuningJobs/7531757385883320320 current state:\n",
      "JobState.JOB_STATE_RUNNING\n",
      "HyperparameterTuningJob projects/372043913167/locations/us-central1/hyperparameterTuningJobs/7531757385883320320 current state:\n",
      "JobState.JOB_STATE_RUNNING\n",
      "HyperparameterTuningJob projects/372043913167/locations/us-central1/hyperparameterTuningJobs/7531757385883320320 current state:\n",
      "JobState.JOB_STATE_RUNNING\n",
      "HyperparameterTuningJob projects/372043913167/locations/us-central1/hyperparameterTuningJobs/7531757385883320320 current state:\n",
      "JobState.JOB_STATE_RUNNING\n",
      "HyperparameterTuningJob projects/372043913167/locations/us-central1/hyperparameterTuningJobs/7531757385883320320 current state:\n",
      "JobState.JOB_STATE_RUNNING\n",
      "HyperparameterTuningJob projects/372043913167/locations/us-central1/hyperparameterTuningJobs/7531757385883320320 current state:\n",
      "JobState.JOB_STATE_RUNNING\n",
      "HyperparameterTuningJob projects/372043913167/locations/us-central1/hyperparameterTuningJobs/7531757385883320320 current state:\n",
      "JobState.JOB_STATE_SUCCEEDED\n",
      "HyperparameterTuningJob run completed. Resource name: projects/372043913167/locations/us-central1/hyperparameterTuningJobs/7531757385883320320\n"
     ]
    }
   ],
   "source": [
    "hp_job.run()"
   ]
  },
  {
   "cell_type": "markdown",
   "id": "25d8dfaa-2351-441b-bb69-1fc4f80a01b6",
   "metadata": {},
   "source": [
    "## Fetching results"
   ]
  },
  {
   "cell_type": "code",
   "execution_count": 54,
   "id": "c0073c63-b7d8-491d-ba2c-5b8f90c9583a",
   "metadata": {},
   "outputs": [],
   "source": [
    "def get_final_metric(trial, metric_id):\n",
    "    for metric in trial.final_measurement.metrics:\n",
    "        if metric.metric_id == metric_id:\n",
    "            return metric.value"
   ]
  },
  {
   "cell_type": "code",
   "execution_count": 55,
   "id": "69aa84b4-bb49-49d1-8ffc-512606bfd60c",
   "metadata": {},
   "outputs": [],
   "source": [
    "trials = hp_job.trials\n",
    "trial_accuracies = [get_final_metric(trial, 'accuracy') for trial in trials]\n",
    "best_trial = trials[np.argmax(trial_accuracies)]"
   ]
  },
  {
   "cell_type": "code",
   "execution_count": 56,
   "id": "5afeb79d-a560-45b8-a772-5019da8f988a",
   "metadata": {},
   "outputs": [
    {
     "data": {
      "text/plain": [
       "0.44839999079704285"
      ]
     },
     "execution_count": 56,
     "metadata": {},
     "output_type": "execute_result"
    }
   ],
   "source": [
    "max(trial_accuracies)"
   ]
  },
  {
   "cell_type": "code",
   "execution_count": 57,
   "id": "a3ae389d-aa84-4d91-90a6-e7f8c6a7ea0f",
   "metadata": {},
   "outputs": [
    {
     "data": {
      "text/plain": [
       "'1'"
      ]
     },
     "execution_count": 57,
     "metadata": {},
     "output_type": "execute_result"
    }
   ],
   "source": [
    "best_trial.id"
   ]
  },
  {
   "cell_type": "code",
   "execution_count": 58,
   "id": "c5c55f3c-06a5-4682-bcdc-0dcb27eadaba",
   "metadata": {},
   "outputs": [
    {
     "data": {
      "text/plain": [
       "[parameter_id: \"learning_rate\"\n",
       "value {\n",
       "  number_value: 0.10000000000000005\n",
       "}\n",
       ", parameter_id: \"n_hidden\"\n",
       "value {\n",
       "  number_value: 6\n",
       "}\n",
       ", parameter_id: \"n_neurons\"\n",
       "value {\n",
       "  number_value: 151\n",
       "}\n",
       ", parameter_id: \"optimizer\"\n",
       "value {\n",
       "  string_value: \"sgd\"\n",
       "}\n",
       "]"
      ]
     },
     "execution_count": 58,
     "metadata": {},
     "output_type": "execute_result"
    }
   ],
   "source": [
    "best_trial.parameters"
   ]
  },
  {
   "cell_type": "code",
   "execution_count": null,
   "id": "9cd48373-4491-459d-a8ee-0f9f3503af01",
   "metadata": {},
   "outputs": [],
   "source": []
  }
 ],
 "metadata": {
  "kernelspec": {
   "display_name": "Python 3 (ipykernel)",
   "language": "python",
   "name": "python3"
  },
  "language_info": {
   "codemirror_mode": {
    "name": "ipython",
    "version": 3
   },
   "file_extension": ".py",
   "mimetype": "text/x-python",
   "name": "python",
   "nbconvert_exporter": "python",
   "pygments_lexer": "ipython3",
   "version": "3.9.18"
  }
 },
 "nbformat": 4,
 "nbformat_minor": 5
}
